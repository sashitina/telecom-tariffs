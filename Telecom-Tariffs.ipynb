{
 "cells": [
  {
   "cell_type": "markdown",
   "metadata": {},
   "source": [
    "# Определение перспективного тарифа для телеком-компании\n",
    "\n",
    "Клиентам компании «Мегалайн» предлагают два тарифных плана: «Смарт» и «Ультра». Чтобы скорректировать рекламный бюджет, коммерческий департамент хочет понять, какой тариф приносит больше денег.\n",
    "Необходимо проанализировать тарифы на небольшой выборке клиентов, а именно 500 пользователей, и сделать вывод — какой тариф лучше.\n",
    "\n",
    "# Описание тарифов\n",
    "\n",
    "**Тариф «Смарт»**\n",
    "* Ежемесячная плата: 550 рублей\n",
    "* Включено 500 минут разговора, 50 сообщений и 15 Гб интернет-трафика\n",
    "* Стоимость услуг сверх тарифного пакета: 1. минута разговора: 3 рубля («Мегалайн» всегда округляет вверх значения минут и мегабайтов. Если пользователь проговорил всего 1 секунду, в тарифе засчитывается целая минута); 2. сообщение: 3 рубля; 3. 1 Гб интернет-трафика: 200 рублей.\n",
    "\n",
    "**Тариф «Ультра»**\n",
    "* Ежемесячная плата: 1950 рублей\n",
    "* Включено 3000 минут разговора, 1000 сообщений и 30 Гб интернет-трафика\n",
    "* Стоимость услуг сверх тарифного пакета: 1. минута разговора: 1 рубль; 2. сообщение: 1 рубль; 3. 1 Гб интернет-трафика: 150 рублей."
   ]
  },
  {
   "cell_type": "markdown",
   "metadata": {},
   "source": [
    "## Изучение данных"
   ]
  },
  {
   "cell_type": "code",
   "execution_count": 1,
   "metadata": {},
   "outputs": [],
   "source": [
    "import pandas as pd\n",
    "import numpy as np\n",
    "import matplotlib.pyplot as plt \n",
    "import seaborn as sns\n",
    "from scipy import stats as st"
   ]
  },
  {
   "cell_type": "markdown",
   "metadata": {},
   "source": [
    "Откроем файлы с данными и изучим общую информацию:"
   ]
  },
  {
   "cell_type": "code",
   "execution_count": 2,
   "metadata": {},
   "outputs": [],
   "source": [
    "calls = pd.read_csv('/datasets/calls.csv')\n",
    "internet = pd.read_csv('/datasets/internet.csv', index_col=0)\n",
    "messages = pd.read_csv('/datasets/messages.csv')\n",
    "tariffs = pd.read_csv('/datasets/tariffs.csv')\n",
    "users = pd.read_csv('/datasets/users.csv')"
   ]
  },
  {
   "cell_type": "code",
   "execution_count": 3,
   "metadata": {},
   "outputs": [
    {
     "name": "stdout",
     "output_type": "stream",
     "text": [
      "<class 'pandas.core.frame.DataFrame'>\n",
      "RangeIndex: 202607 entries, 0 to 202606\n",
      "Data columns (total 4 columns):\n",
      "id           202607 non-null object\n",
      "call_date    202607 non-null object\n",
      "duration     202607 non-null float64\n",
      "user_id      202607 non-null int64\n",
      "dtypes: float64(1), int64(1), object(2)\n",
      "memory usage: 6.2+ MB\n",
      "None\n",
      "\n",
      "<class 'pandas.core.frame.DataFrame'>\n",
      "Int64Index: 149396 entries, 0 to 149395\n",
      "Data columns (total 4 columns):\n",
      "id              149396 non-null object\n",
      "mb_used         149396 non-null float64\n",
      "session_date    149396 non-null object\n",
      "user_id         149396 non-null int64\n",
      "dtypes: float64(1), int64(1), object(2)\n",
      "memory usage: 5.7+ MB\n",
      "None\n",
      "\n",
      "<class 'pandas.core.frame.DataFrame'>\n",
      "RangeIndex: 123036 entries, 0 to 123035\n",
      "Data columns (total 3 columns):\n",
      "id              123036 non-null object\n",
      "message_date    123036 non-null object\n",
      "user_id         123036 non-null int64\n",
      "dtypes: int64(1), object(2)\n",
      "memory usage: 2.8+ MB\n",
      "None\n",
      "\n",
      "<class 'pandas.core.frame.DataFrame'>\n",
      "RangeIndex: 2 entries, 0 to 1\n",
      "Data columns (total 8 columns):\n",
      "messages_included        2 non-null int64\n",
      "mb_per_month_included    2 non-null int64\n",
      "minutes_included         2 non-null int64\n",
      "rub_monthly_fee          2 non-null int64\n",
      "rub_per_gb               2 non-null int64\n",
      "rub_per_message          2 non-null int64\n",
      "rub_per_minute           2 non-null int64\n",
      "tariff_name              2 non-null object\n",
      "dtypes: int64(7), object(1)\n",
      "memory usage: 256.0+ bytes\n",
      "None\n",
      "\n",
      "<class 'pandas.core.frame.DataFrame'>\n",
      "RangeIndex: 500 entries, 0 to 499\n",
      "Data columns (total 8 columns):\n",
      "user_id       500 non-null int64\n",
      "age           500 non-null int64\n",
      "churn_date    38 non-null object\n",
      "city          500 non-null object\n",
      "first_name    500 non-null object\n",
      "last_name     500 non-null object\n",
      "reg_date      500 non-null object\n",
      "tariff        500 non-null object\n",
      "dtypes: int64(2), object(6)\n",
      "memory usage: 31.4+ KB\n",
      "None\n",
      "\n"
     ]
    }
   ],
   "source": [
    "for data in [calls, internet, messages, tariffs, users]: print(data.info(), end='\\n\\n')"
   ]
  },
  {
   "cell_type": "code",
   "execution_count": 4,
   "metadata": {},
   "outputs": [
    {
     "data": {
      "text/html": [
       "<div>\n",
       "<style scoped>\n",
       "    .dataframe tbody tr th:only-of-type {\n",
       "        vertical-align: middle;\n",
       "    }\n",
       "\n",
       "    .dataframe tbody tr th {\n",
       "        vertical-align: top;\n",
       "    }\n",
       "\n",
       "    .dataframe thead th {\n",
       "        text-align: right;\n",
       "    }\n",
       "</style>\n",
       "<table border=\"1\" class=\"dataframe\">\n",
       "  <thead>\n",
       "    <tr style=\"text-align: right;\">\n",
       "      <th></th>\n",
       "      <th>id</th>\n",
       "      <th>call_date</th>\n",
       "      <th>duration</th>\n",
       "      <th>user_id</th>\n",
       "    </tr>\n",
       "  </thead>\n",
       "  <tbody>\n",
       "    <tr>\n",
       "      <td>0</td>\n",
       "      <td>1000_0</td>\n",
       "      <td>2018-07-25</td>\n",
       "      <td>0.00</td>\n",
       "      <td>1000</td>\n",
       "    </tr>\n",
       "    <tr>\n",
       "      <td>1</td>\n",
       "      <td>1000_1</td>\n",
       "      <td>2018-08-17</td>\n",
       "      <td>0.00</td>\n",
       "      <td>1000</td>\n",
       "    </tr>\n",
       "    <tr>\n",
       "      <td>2</td>\n",
       "      <td>1000_2</td>\n",
       "      <td>2018-06-11</td>\n",
       "      <td>2.85</td>\n",
       "      <td>1000</td>\n",
       "    </tr>\n",
       "    <tr>\n",
       "      <td>3</td>\n",
       "      <td>1000_3</td>\n",
       "      <td>2018-09-21</td>\n",
       "      <td>13.80</td>\n",
       "      <td>1000</td>\n",
       "    </tr>\n",
       "    <tr>\n",
       "      <td>4</td>\n",
       "      <td>1000_4</td>\n",
       "      <td>2018-12-15</td>\n",
       "      <td>5.18</td>\n",
       "      <td>1000</td>\n",
       "    </tr>\n",
       "    <tr>\n",
       "      <td>...</td>\n",
       "      <td>...</td>\n",
       "      <td>...</td>\n",
       "      <td>...</td>\n",
       "      <td>...</td>\n",
       "    </tr>\n",
       "    <tr>\n",
       "      <td>202602</td>\n",
       "      <td>1499_215</td>\n",
       "      <td>2018-12-26</td>\n",
       "      <td>0.76</td>\n",
       "      <td>1499</td>\n",
       "    </tr>\n",
       "    <tr>\n",
       "      <td>202603</td>\n",
       "      <td>1499_216</td>\n",
       "      <td>2018-10-18</td>\n",
       "      <td>18.83</td>\n",
       "      <td>1499</td>\n",
       "    </tr>\n",
       "    <tr>\n",
       "      <td>202604</td>\n",
       "      <td>1499_217</td>\n",
       "      <td>2018-11-10</td>\n",
       "      <td>10.81</td>\n",
       "      <td>1499</td>\n",
       "    </tr>\n",
       "    <tr>\n",
       "      <td>202605</td>\n",
       "      <td>1499_218</td>\n",
       "      <td>2018-10-06</td>\n",
       "      <td>4.27</td>\n",
       "      <td>1499</td>\n",
       "    </tr>\n",
       "    <tr>\n",
       "      <td>202606</td>\n",
       "      <td>1499_219</td>\n",
       "      <td>2018-12-14</td>\n",
       "      <td>19.62</td>\n",
       "      <td>1499</td>\n",
       "    </tr>\n",
       "  </tbody>\n",
       "</table>\n",
       "<p>202607 rows × 4 columns</p>\n",
       "</div>"
      ],
      "text/plain": [
       "              id   call_date  duration  user_id\n",
       "0         1000_0  2018-07-25      0.00     1000\n",
       "1         1000_1  2018-08-17      0.00     1000\n",
       "2         1000_2  2018-06-11      2.85     1000\n",
       "3         1000_3  2018-09-21     13.80     1000\n",
       "4         1000_4  2018-12-15      5.18     1000\n",
       "...          ...         ...       ...      ...\n",
       "202602  1499_215  2018-12-26      0.76     1499\n",
       "202603  1499_216  2018-10-18     18.83     1499\n",
       "202604  1499_217  2018-11-10     10.81     1499\n",
       "202605  1499_218  2018-10-06      4.27     1499\n",
       "202606  1499_219  2018-12-14     19.62     1499\n",
       "\n",
       "[202607 rows x 4 columns]"
      ]
     },
     "execution_count": 4,
     "metadata": {},
     "output_type": "execute_result"
    }
   ],
   "source": [
    "calls"
   ]
  },
  {
   "cell_type": "code",
   "execution_count": 5,
   "metadata": {},
   "outputs": [
    {
     "data": {
      "text/html": [
       "<div>\n",
       "<style scoped>\n",
       "    .dataframe tbody tr th:only-of-type {\n",
       "        vertical-align: middle;\n",
       "    }\n",
       "\n",
       "    .dataframe tbody tr th {\n",
       "        vertical-align: top;\n",
       "    }\n",
       "\n",
       "    .dataframe thead th {\n",
       "        text-align: right;\n",
       "    }\n",
       "</style>\n",
       "<table border=\"1\" class=\"dataframe\">\n",
       "  <thead>\n",
       "    <tr style=\"text-align: right;\">\n",
       "      <th></th>\n",
       "      <th>id</th>\n",
       "      <th>mb_used</th>\n",
       "      <th>session_date</th>\n",
       "      <th>user_id</th>\n",
       "    </tr>\n",
       "  </thead>\n",
       "  <tbody>\n",
       "    <tr>\n",
       "      <td>0</td>\n",
       "      <td>1000_0</td>\n",
       "      <td>112.95</td>\n",
       "      <td>2018-11-25</td>\n",
       "      <td>1000</td>\n",
       "    </tr>\n",
       "    <tr>\n",
       "      <td>1</td>\n",
       "      <td>1000_1</td>\n",
       "      <td>1052.81</td>\n",
       "      <td>2018-09-07</td>\n",
       "      <td>1000</td>\n",
       "    </tr>\n",
       "    <tr>\n",
       "      <td>2</td>\n",
       "      <td>1000_2</td>\n",
       "      <td>1197.26</td>\n",
       "      <td>2018-06-25</td>\n",
       "      <td>1000</td>\n",
       "    </tr>\n",
       "    <tr>\n",
       "      <td>3</td>\n",
       "      <td>1000_3</td>\n",
       "      <td>550.27</td>\n",
       "      <td>2018-08-22</td>\n",
       "      <td>1000</td>\n",
       "    </tr>\n",
       "    <tr>\n",
       "      <td>4</td>\n",
       "      <td>1000_4</td>\n",
       "      <td>302.56</td>\n",
       "      <td>2018-09-24</td>\n",
       "      <td>1000</td>\n",
       "    </tr>\n",
       "    <tr>\n",
       "      <td>...</td>\n",
       "      <td>...</td>\n",
       "      <td>...</td>\n",
       "      <td>...</td>\n",
       "      <td>...</td>\n",
       "    </tr>\n",
       "    <tr>\n",
       "      <td>149391</td>\n",
       "      <td>1499_152</td>\n",
       "      <td>318.90</td>\n",
       "      <td>2018-10-03</td>\n",
       "      <td>1499</td>\n",
       "    </tr>\n",
       "    <tr>\n",
       "      <td>149392</td>\n",
       "      <td>1499_153</td>\n",
       "      <td>490.13</td>\n",
       "      <td>2018-12-14</td>\n",
       "      <td>1499</td>\n",
       "    </tr>\n",
       "    <tr>\n",
       "      <td>149393</td>\n",
       "      <td>1499_154</td>\n",
       "      <td>0.00</td>\n",
       "      <td>2018-10-27</td>\n",
       "      <td>1499</td>\n",
       "    </tr>\n",
       "    <tr>\n",
       "      <td>149394</td>\n",
       "      <td>1499_155</td>\n",
       "      <td>1246.32</td>\n",
       "      <td>2018-11-26</td>\n",
       "      <td>1499</td>\n",
       "    </tr>\n",
       "    <tr>\n",
       "      <td>149395</td>\n",
       "      <td>1499_156</td>\n",
       "      <td>544.37</td>\n",
       "      <td>2018-10-26</td>\n",
       "      <td>1499</td>\n",
       "    </tr>\n",
       "  </tbody>\n",
       "</table>\n",
       "<p>149396 rows × 4 columns</p>\n",
       "</div>"
      ],
      "text/plain": [
       "              id  mb_used session_date  user_id\n",
       "0         1000_0   112.95   2018-11-25     1000\n",
       "1         1000_1  1052.81   2018-09-07     1000\n",
       "2         1000_2  1197.26   2018-06-25     1000\n",
       "3         1000_3   550.27   2018-08-22     1000\n",
       "4         1000_4   302.56   2018-09-24     1000\n",
       "...          ...      ...          ...      ...\n",
       "149391  1499_152   318.90   2018-10-03     1499\n",
       "149392  1499_153   490.13   2018-12-14     1499\n",
       "149393  1499_154     0.00   2018-10-27     1499\n",
       "149394  1499_155  1246.32   2018-11-26     1499\n",
       "149395  1499_156   544.37   2018-10-26     1499\n",
       "\n",
       "[149396 rows x 4 columns]"
      ]
     },
     "execution_count": 5,
     "metadata": {},
     "output_type": "execute_result"
    }
   ],
   "source": [
    "internet"
   ]
  },
  {
   "cell_type": "code",
   "execution_count": 6,
   "metadata": {},
   "outputs": [
    {
     "data": {
      "text/html": [
       "<div>\n",
       "<style scoped>\n",
       "    .dataframe tbody tr th:only-of-type {\n",
       "        vertical-align: middle;\n",
       "    }\n",
       "\n",
       "    .dataframe tbody tr th {\n",
       "        vertical-align: top;\n",
       "    }\n",
       "\n",
       "    .dataframe thead th {\n",
       "        text-align: right;\n",
       "    }\n",
       "</style>\n",
       "<table border=\"1\" class=\"dataframe\">\n",
       "  <thead>\n",
       "    <tr style=\"text-align: right;\">\n",
       "      <th></th>\n",
       "      <th>messages_included</th>\n",
       "      <th>mb_per_month_included</th>\n",
       "      <th>minutes_included</th>\n",
       "      <th>rub_monthly_fee</th>\n",
       "      <th>rub_per_gb</th>\n",
       "      <th>rub_per_message</th>\n",
       "      <th>rub_per_minute</th>\n",
       "      <th>tariff_name</th>\n",
       "    </tr>\n",
       "  </thead>\n",
       "  <tbody>\n",
       "    <tr>\n",
       "      <td>0</td>\n",
       "      <td>50</td>\n",
       "      <td>15360</td>\n",
       "      <td>500</td>\n",
       "      <td>550</td>\n",
       "      <td>200</td>\n",
       "      <td>3</td>\n",
       "      <td>3</td>\n",
       "      <td>smart</td>\n",
       "    </tr>\n",
       "    <tr>\n",
       "      <td>1</td>\n",
       "      <td>1000</td>\n",
       "      <td>30720</td>\n",
       "      <td>3000</td>\n",
       "      <td>1950</td>\n",
       "      <td>150</td>\n",
       "      <td>1</td>\n",
       "      <td>1</td>\n",
       "      <td>ultra</td>\n",
       "    </tr>\n",
       "  </tbody>\n",
       "</table>\n",
       "</div>"
      ],
      "text/plain": [
       "   messages_included  mb_per_month_included  minutes_included  \\\n",
       "0                 50                  15360               500   \n",
       "1               1000                  30720              3000   \n",
       "\n",
       "   rub_monthly_fee  rub_per_gb  rub_per_message  rub_per_minute tariff_name  \n",
       "0              550         200                3               3       smart  \n",
       "1             1950         150                1               1       ultra  "
      ]
     },
     "execution_count": 6,
     "metadata": {},
     "output_type": "execute_result"
    }
   ],
   "source": [
    "tariffs"
   ]
  },
  {
   "cell_type": "markdown",
   "metadata": {},
   "source": [
    "Необходимо заменить тип данных в столбцах с датой. Значения минут разговора округлить в большую сторону, а значения в колонках `mb_used` и `mb_per_month_included` перевести в гигабайты, поскольку тарифы считаются по минутам и гигабайтам."
   ]
  },
  {
   "cell_type": "markdown",
   "metadata": {},
   "source": [
    "## Подготовка данных"
   ]
  },
  {
   "cell_type": "markdown",
   "metadata": {},
   "source": [
    "Заменим тип данных в столбцах с датой на `datetime`."
   ]
  },
  {
   "cell_type": "code",
   "execution_count": 7,
   "metadata": {},
   "outputs": [],
   "source": [
    "calls['call_date'] = pd.to_datetime(calls['call_date'], format='%Y-%m-%d')\n",
    "internet['session_date'] = pd.to_datetime(internet['session_date'], format='%Y-%m-%d')\n",
    "messages['message_date'] = pd.to_datetime(messages['message_date'], format='%Y-%m-%d')\n",
    "users['churn_date'] = pd.to_datetime(users['churn_date'], format='%Y-%m-%d')\n",
    "users['reg_date'] = pd.to_datetime(users['reg_date'], format='%Y-%m-%d')"
   ]
  },
  {
   "cell_type": "markdown",
   "metadata": {},
   "source": [
    "Округлим значения минут разговора в большую сторону."
   ]
  },
  {
   "cell_type": "code",
   "execution_count": 8,
   "metadata": {},
   "outputs": [
    {
     "data": {
      "text/html": [
       "<div>\n",
       "<style scoped>\n",
       "    .dataframe tbody tr th:only-of-type {\n",
       "        vertical-align: middle;\n",
       "    }\n",
       "\n",
       "    .dataframe tbody tr th {\n",
       "        vertical-align: top;\n",
       "    }\n",
       "\n",
       "    .dataframe thead th {\n",
       "        text-align: right;\n",
       "    }\n",
       "</style>\n",
       "<table border=\"1\" class=\"dataframe\">\n",
       "  <thead>\n",
       "    <tr style=\"text-align: right;\">\n",
       "      <th></th>\n",
       "      <th>id</th>\n",
       "      <th>mb_used</th>\n",
       "      <th>session_date</th>\n",
       "      <th>user_id</th>\n",
       "    </tr>\n",
       "  </thead>\n",
       "  <tbody>\n",
       "    <tr>\n",
       "      <td>0</td>\n",
       "      <td>1000_0</td>\n",
       "      <td>113.0</td>\n",
       "      <td>2018-11-25</td>\n",
       "      <td>1000</td>\n",
       "    </tr>\n",
       "    <tr>\n",
       "      <td>1</td>\n",
       "      <td>1000_1</td>\n",
       "      <td>1053.0</td>\n",
       "      <td>2018-09-07</td>\n",
       "      <td>1000</td>\n",
       "    </tr>\n",
       "    <tr>\n",
       "      <td>2</td>\n",
       "      <td>1000_2</td>\n",
       "      <td>1198.0</td>\n",
       "      <td>2018-06-25</td>\n",
       "      <td>1000</td>\n",
       "    </tr>\n",
       "    <tr>\n",
       "      <td>3</td>\n",
       "      <td>1000_3</td>\n",
       "      <td>551.0</td>\n",
       "      <td>2018-08-22</td>\n",
       "      <td>1000</td>\n",
       "    </tr>\n",
       "    <tr>\n",
       "      <td>4</td>\n",
       "      <td>1000_4</td>\n",
       "      <td>303.0</td>\n",
       "      <td>2018-09-24</td>\n",
       "      <td>1000</td>\n",
       "    </tr>\n",
       "    <tr>\n",
       "      <td>...</td>\n",
       "      <td>...</td>\n",
       "      <td>...</td>\n",
       "      <td>...</td>\n",
       "      <td>...</td>\n",
       "    </tr>\n",
       "    <tr>\n",
       "      <td>149391</td>\n",
       "      <td>1499_152</td>\n",
       "      <td>319.0</td>\n",
       "      <td>2018-10-03</td>\n",
       "      <td>1499</td>\n",
       "    </tr>\n",
       "    <tr>\n",
       "      <td>149392</td>\n",
       "      <td>1499_153</td>\n",
       "      <td>491.0</td>\n",
       "      <td>2018-12-14</td>\n",
       "      <td>1499</td>\n",
       "    </tr>\n",
       "    <tr>\n",
       "      <td>149393</td>\n",
       "      <td>1499_154</td>\n",
       "      <td>0.0</td>\n",
       "      <td>2018-10-27</td>\n",
       "      <td>1499</td>\n",
       "    </tr>\n",
       "    <tr>\n",
       "      <td>149394</td>\n",
       "      <td>1499_155</td>\n",
       "      <td>1247.0</td>\n",
       "      <td>2018-11-26</td>\n",
       "      <td>1499</td>\n",
       "    </tr>\n",
       "    <tr>\n",
       "      <td>149395</td>\n",
       "      <td>1499_156</td>\n",
       "      <td>545.0</td>\n",
       "      <td>2018-10-26</td>\n",
       "      <td>1499</td>\n",
       "    </tr>\n",
       "  </tbody>\n",
       "</table>\n",
       "<p>149396 rows × 4 columns</p>\n",
       "</div>"
      ],
      "text/plain": [
       "              id  mb_used session_date  user_id\n",
       "0         1000_0    113.0   2018-11-25     1000\n",
       "1         1000_1   1053.0   2018-09-07     1000\n",
       "2         1000_2   1198.0   2018-06-25     1000\n",
       "3         1000_3    551.0   2018-08-22     1000\n",
       "4         1000_4    303.0   2018-09-24     1000\n",
       "...          ...      ...          ...      ...\n",
       "149391  1499_152    319.0   2018-10-03     1499\n",
       "149392  1499_153    491.0   2018-12-14     1499\n",
       "149393  1499_154      0.0   2018-10-27     1499\n",
       "149394  1499_155   1247.0   2018-11-26     1499\n",
       "149395  1499_156    545.0   2018-10-26     1499\n",
       "\n",
       "[149396 rows x 4 columns]"
      ]
     },
     "execution_count": 8,
     "metadata": {},
     "output_type": "execute_result"
    }
   ],
   "source": [
    "calls['duration'] = calls['duration'].apply(np.ceil)\n",
    "internet['mb_used'] = internet['mb_used'].apply(np.ceil)\n",
    "\n",
    "internet"
   ]
  },
  {
   "cell_type": "markdown",
   "metadata": {},
   "source": [
    "Найдем для каждого пользователя:\n",
    "\n",
    "* количество сделанных звонков и израсходованных минут разговора по месяцам;\n",
    "* количество отправленных сообщений по месяцам;\n",
    "* объем израсходованного интернет-трафика по месяцам;\n",
    "* помесячную выручку с каждого пользователя (вычтем бесплатный лимит из суммарного количества звонков, сообщений и интернет-трафика; остаток умножим на значение из тарифного плана; прибавим абонентскую плату, соответствующую тарифному плану)."
   ]
  },
  {
   "cell_type": "markdown",
   "metadata": {},
   "source": [
    "Для начала добавим столбцы со значением месяца в таблицу со звонками, сообщениями и интернетом:"
   ]
  },
  {
   "cell_type": "code",
   "execution_count": 9,
   "metadata": {},
   "outputs": [
    {
     "data": {
      "text/plain": [
       "min   2018-01-01\n",
       "max   2018-12-31\n",
       "Name: call_date, dtype: datetime64[ns]"
      ]
     },
     "execution_count": 9,
     "metadata": {},
     "output_type": "execute_result"
    }
   ],
   "source": [
    "calls['call_date'].agg(['min', 'max'])"
   ]
  },
  {
   "cell_type": "code",
   "execution_count": 10,
   "metadata": {},
   "outputs": [],
   "source": [
    "month = pd.DataFrame(pd.date_range('2018-01-01', '2018-12-31', freq='MS'))"
   ]
  },
  {
   "cell_type": "code",
   "execution_count": 11,
   "metadata": {},
   "outputs": [],
   "source": [
    "month.columns = ['month']"
   ]
  },
  {
   "cell_type": "code",
   "execution_count": 12,
   "metadata": {},
   "outputs": [],
   "source": [
    "users['key'] = 1\n",
    "month['key'] = 1"
   ]
  },
  {
   "cell_type": "code",
   "execution_count": 13,
   "metadata": {},
   "outputs": [],
   "source": [
    "template = users.merge(month,on='key')"
   ]
  },
  {
   "cell_type": "code",
   "execution_count": 14,
   "metadata": {},
   "outputs": [
    {
     "data": {
      "text/html": [
       "<div>\n",
       "<style scoped>\n",
       "    .dataframe tbody tr th:only-of-type {\n",
       "        vertical-align: middle;\n",
       "    }\n",
       "\n",
       "    .dataframe tbody tr th {\n",
       "        vertical-align: top;\n",
       "    }\n",
       "\n",
       "    .dataframe thead th {\n",
       "        text-align: right;\n",
       "    }\n",
       "</style>\n",
       "<table border=\"1\" class=\"dataframe\">\n",
       "  <thead>\n",
       "    <tr style=\"text-align: right;\">\n",
       "      <th></th>\n",
       "      <th>user_id</th>\n",
       "      <th>age</th>\n",
       "      <th>churn_date</th>\n",
       "      <th>city</th>\n",
       "      <th>first_name</th>\n",
       "      <th>last_name</th>\n",
       "      <th>reg_date</th>\n",
       "      <th>tariff</th>\n",
       "      <th>key</th>\n",
       "      <th>month</th>\n",
       "    </tr>\n",
       "  </thead>\n",
       "  <tbody>\n",
       "    <tr>\n",
       "      <td>0</td>\n",
       "      <td>1000</td>\n",
       "      <td>52</td>\n",
       "      <td>NaT</td>\n",
       "      <td>Краснодар</td>\n",
       "      <td>Рафаил</td>\n",
       "      <td>Верещагин</td>\n",
       "      <td>2018-05-25</td>\n",
       "      <td>ultra</td>\n",
       "      <td>1</td>\n",
       "      <td>2018-01-01</td>\n",
       "    </tr>\n",
       "    <tr>\n",
       "      <td>1</td>\n",
       "      <td>1000</td>\n",
       "      <td>52</td>\n",
       "      <td>NaT</td>\n",
       "      <td>Краснодар</td>\n",
       "      <td>Рафаил</td>\n",
       "      <td>Верещагин</td>\n",
       "      <td>2018-05-25</td>\n",
       "      <td>ultra</td>\n",
       "      <td>1</td>\n",
       "      <td>2018-02-01</td>\n",
       "    </tr>\n",
       "    <tr>\n",
       "      <td>2</td>\n",
       "      <td>1000</td>\n",
       "      <td>52</td>\n",
       "      <td>NaT</td>\n",
       "      <td>Краснодар</td>\n",
       "      <td>Рафаил</td>\n",
       "      <td>Верещагин</td>\n",
       "      <td>2018-05-25</td>\n",
       "      <td>ultra</td>\n",
       "      <td>1</td>\n",
       "      <td>2018-03-01</td>\n",
       "    </tr>\n",
       "    <tr>\n",
       "      <td>3</td>\n",
       "      <td>1000</td>\n",
       "      <td>52</td>\n",
       "      <td>NaT</td>\n",
       "      <td>Краснодар</td>\n",
       "      <td>Рафаил</td>\n",
       "      <td>Верещагин</td>\n",
       "      <td>2018-05-25</td>\n",
       "      <td>ultra</td>\n",
       "      <td>1</td>\n",
       "      <td>2018-04-01</td>\n",
       "    </tr>\n",
       "    <tr>\n",
       "      <td>4</td>\n",
       "      <td>1000</td>\n",
       "      <td>52</td>\n",
       "      <td>NaT</td>\n",
       "      <td>Краснодар</td>\n",
       "      <td>Рафаил</td>\n",
       "      <td>Верещагин</td>\n",
       "      <td>2018-05-25</td>\n",
       "      <td>ultra</td>\n",
       "      <td>1</td>\n",
       "      <td>2018-05-01</td>\n",
       "    </tr>\n",
       "    <tr>\n",
       "      <td>5</td>\n",
       "      <td>1000</td>\n",
       "      <td>52</td>\n",
       "      <td>NaT</td>\n",
       "      <td>Краснодар</td>\n",
       "      <td>Рафаил</td>\n",
       "      <td>Верещагин</td>\n",
       "      <td>2018-05-25</td>\n",
       "      <td>ultra</td>\n",
       "      <td>1</td>\n",
       "      <td>2018-06-01</td>\n",
       "    </tr>\n",
       "    <tr>\n",
       "      <td>6</td>\n",
       "      <td>1000</td>\n",
       "      <td>52</td>\n",
       "      <td>NaT</td>\n",
       "      <td>Краснодар</td>\n",
       "      <td>Рафаил</td>\n",
       "      <td>Верещагин</td>\n",
       "      <td>2018-05-25</td>\n",
       "      <td>ultra</td>\n",
       "      <td>1</td>\n",
       "      <td>2018-07-01</td>\n",
       "    </tr>\n",
       "    <tr>\n",
       "      <td>7</td>\n",
       "      <td>1000</td>\n",
       "      <td>52</td>\n",
       "      <td>NaT</td>\n",
       "      <td>Краснодар</td>\n",
       "      <td>Рафаил</td>\n",
       "      <td>Верещагин</td>\n",
       "      <td>2018-05-25</td>\n",
       "      <td>ultra</td>\n",
       "      <td>1</td>\n",
       "      <td>2018-08-01</td>\n",
       "    </tr>\n",
       "    <tr>\n",
       "      <td>8</td>\n",
       "      <td>1000</td>\n",
       "      <td>52</td>\n",
       "      <td>NaT</td>\n",
       "      <td>Краснодар</td>\n",
       "      <td>Рафаил</td>\n",
       "      <td>Верещагин</td>\n",
       "      <td>2018-05-25</td>\n",
       "      <td>ultra</td>\n",
       "      <td>1</td>\n",
       "      <td>2018-09-01</td>\n",
       "    </tr>\n",
       "    <tr>\n",
       "      <td>9</td>\n",
       "      <td>1000</td>\n",
       "      <td>52</td>\n",
       "      <td>NaT</td>\n",
       "      <td>Краснодар</td>\n",
       "      <td>Рафаил</td>\n",
       "      <td>Верещагин</td>\n",
       "      <td>2018-05-25</td>\n",
       "      <td>ultra</td>\n",
       "      <td>1</td>\n",
       "      <td>2018-10-01</td>\n",
       "    </tr>\n",
       "    <tr>\n",
       "      <td>10</td>\n",
       "      <td>1000</td>\n",
       "      <td>52</td>\n",
       "      <td>NaT</td>\n",
       "      <td>Краснодар</td>\n",
       "      <td>Рафаил</td>\n",
       "      <td>Верещагин</td>\n",
       "      <td>2018-05-25</td>\n",
       "      <td>ultra</td>\n",
       "      <td>1</td>\n",
       "      <td>2018-11-01</td>\n",
       "    </tr>\n",
       "    <tr>\n",
       "      <td>11</td>\n",
       "      <td>1000</td>\n",
       "      <td>52</td>\n",
       "      <td>NaT</td>\n",
       "      <td>Краснодар</td>\n",
       "      <td>Рафаил</td>\n",
       "      <td>Верещагин</td>\n",
       "      <td>2018-05-25</td>\n",
       "      <td>ultra</td>\n",
       "      <td>1</td>\n",
       "      <td>2018-12-01</td>\n",
       "    </tr>\n",
       "  </tbody>\n",
       "</table>\n",
       "</div>"
      ],
      "text/plain": [
       "    user_id  age churn_date       city first_name  last_name   reg_date  \\\n",
       "0      1000   52        NaT  Краснодар     Рафаил  Верещагин 2018-05-25   \n",
       "1      1000   52        NaT  Краснодар     Рафаил  Верещагин 2018-05-25   \n",
       "2      1000   52        NaT  Краснодар     Рафаил  Верещагин 2018-05-25   \n",
       "3      1000   52        NaT  Краснодар     Рафаил  Верещагин 2018-05-25   \n",
       "4      1000   52        NaT  Краснодар     Рафаил  Верещагин 2018-05-25   \n",
       "5      1000   52        NaT  Краснодар     Рафаил  Верещагин 2018-05-25   \n",
       "6      1000   52        NaT  Краснодар     Рафаил  Верещагин 2018-05-25   \n",
       "7      1000   52        NaT  Краснодар     Рафаил  Верещагин 2018-05-25   \n",
       "8      1000   52        NaT  Краснодар     Рафаил  Верещагин 2018-05-25   \n",
       "9      1000   52        NaT  Краснодар     Рафаил  Верещагин 2018-05-25   \n",
       "10     1000   52        NaT  Краснодар     Рафаил  Верещагин 2018-05-25   \n",
       "11     1000   52        NaT  Краснодар     Рафаил  Верещагин 2018-05-25   \n",
       "\n",
       "   tariff  key      month  \n",
       "0   ultra    1 2018-01-01  \n",
       "1   ultra    1 2018-02-01  \n",
       "2   ultra    1 2018-03-01  \n",
       "3   ultra    1 2018-04-01  \n",
       "4   ultra    1 2018-05-01  \n",
       "5   ultra    1 2018-06-01  \n",
       "6   ultra    1 2018-07-01  \n",
       "7   ultra    1 2018-08-01  \n",
       "8   ultra    1 2018-09-01  \n",
       "9   ultra    1 2018-10-01  \n",
       "10  ultra    1 2018-11-01  \n",
       "11  ultra    1 2018-12-01  "
      ]
     },
     "execution_count": 14,
     "metadata": {},
     "output_type": "execute_result"
    }
   ],
   "source": [
    "# посмотрим, что получилось на примере одного пользователя\n",
    "\n",
    "template[template['user_id'] == 1000]"
   ]
  },
  {
   "cell_type": "markdown",
   "metadata": {},
   "source": [
    "Абонент зарегистрировался лишь в мае, избавимся от ненужных строк."
   ]
  },
  {
   "cell_type": "code",
   "execution_count": 15,
   "metadata": {},
   "outputs": [],
   "source": [
    "template['reg_month'] = template['reg_date'].to_numpy().astype('datetime64[M]')"
   ]
  },
  {
   "cell_type": "code",
   "execution_count": 16,
   "metadata": {},
   "outputs": [],
   "source": [
    "template = template[template['month'] >= template['reg_month']]"
   ]
  },
  {
   "cell_type": "code",
   "execution_count": 17,
   "metadata": {},
   "outputs": [
    {
     "data": {
      "text/html": [
       "<div>\n",
       "<style scoped>\n",
       "    .dataframe tbody tr th:only-of-type {\n",
       "        vertical-align: middle;\n",
       "    }\n",
       "\n",
       "    .dataframe tbody tr th {\n",
       "        vertical-align: top;\n",
       "    }\n",
       "\n",
       "    .dataframe thead th {\n",
       "        text-align: right;\n",
       "    }\n",
       "</style>\n",
       "<table border=\"1\" class=\"dataframe\">\n",
       "  <thead>\n",
       "    <tr style=\"text-align: right;\">\n",
       "      <th></th>\n",
       "      <th>user_id</th>\n",
       "      <th>age</th>\n",
       "      <th>churn_date</th>\n",
       "      <th>city</th>\n",
       "      <th>first_name</th>\n",
       "      <th>last_name</th>\n",
       "      <th>reg_date</th>\n",
       "      <th>tariff</th>\n",
       "      <th>key</th>\n",
       "      <th>month</th>\n",
       "      <th>reg_month</th>\n",
       "    </tr>\n",
       "  </thead>\n",
       "  <tbody>\n",
       "    <tr>\n",
       "      <td>4</td>\n",
       "      <td>1000</td>\n",
       "      <td>52</td>\n",
       "      <td>NaT</td>\n",
       "      <td>Краснодар</td>\n",
       "      <td>Рафаил</td>\n",
       "      <td>Верещагин</td>\n",
       "      <td>2018-05-25</td>\n",
       "      <td>ultra</td>\n",
       "      <td>1</td>\n",
       "      <td>2018-05-01</td>\n",
       "      <td>2018-05-01</td>\n",
       "    </tr>\n",
       "    <tr>\n",
       "      <td>5</td>\n",
       "      <td>1000</td>\n",
       "      <td>52</td>\n",
       "      <td>NaT</td>\n",
       "      <td>Краснодар</td>\n",
       "      <td>Рафаил</td>\n",
       "      <td>Верещагин</td>\n",
       "      <td>2018-05-25</td>\n",
       "      <td>ultra</td>\n",
       "      <td>1</td>\n",
       "      <td>2018-06-01</td>\n",
       "      <td>2018-05-01</td>\n",
       "    </tr>\n",
       "    <tr>\n",
       "      <td>6</td>\n",
       "      <td>1000</td>\n",
       "      <td>52</td>\n",
       "      <td>NaT</td>\n",
       "      <td>Краснодар</td>\n",
       "      <td>Рафаил</td>\n",
       "      <td>Верещагин</td>\n",
       "      <td>2018-05-25</td>\n",
       "      <td>ultra</td>\n",
       "      <td>1</td>\n",
       "      <td>2018-07-01</td>\n",
       "      <td>2018-05-01</td>\n",
       "    </tr>\n",
       "    <tr>\n",
       "      <td>7</td>\n",
       "      <td>1000</td>\n",
       "      <td>52</td>\n",
       "      <td>NaT</td>\n",
       "      <td>Краснодар</td>\n",
       "      <td>Рафаил</td>\n",
       "      <td>Верещагин</td>\n",
       "      <td>2018-05-25</td>\n",
       "      <td>ultra</td>\n",
       "      <td>1</td>\n",
       "      <td>2018-08-01</td>\n",
       "      <td>2018-05-01</td>\n",
       "    </tr>\n",
       "    <tr>\n",
       "      <td>8</td>\n",
       "      <td>1000</td>\n",
       "      <td>52</td>\n",
       "      <td>NaT</td>\n",
       "      <td>Краснодар</td>\n",
       "      <td>Рафаил</td>\n",
       "      <td>Верещагин</td>\n",
       "      <td>2018-05-25</td>\n",
       "      <td>ultra</td>\n",
       "      <td>1</td>\n",
       "      <td>2018-09-01</td>\n",
       "      <td>2018-05-01</td>\n",
       "    </tr>\n",
       "    <tr>\n",
       "      <td>9</td>\n",
       "      <td>1000</td>\n",
       "      <td>52</td>\n",
       "      <td>NaT</td>\n",
       "      <td>Краснодар</td>\n",
       "      <td>Рафаил</td>\n",
       "      <td>Верещагин</td>\n",
       "      <td>2018-05-25</td>\n",
       "      <td>ultra</td>\n",
       "      <td>1</td>\n",
       "      <td>2018-10-01</td>\n",
       "      <td>2018-05-01</td>\n",
       "    </tr>\n",
       "    <tr>\n",
       "      <td>10</td>\n",
       "      <td>1000</td>\n",
       "      <td>52</td>\n",
       "      <td>NaT</td>\n",
       "      <td>Краснодар</td>\n",
       "      <td>Рафаил</td>\n",
       "      <td>Верещагин</td>\n",
       "      <td>2018-05-25</td>\n",
       "      <td>ultra</td>\n",
       "      <td>1</td>\n",
       "      <td>2018-11-01</td>\n",
       "      <td>2018-05-01</td>\n",
       "    </tr>\n",
       "    <tr>\n",
       "      <td>11</td>\n",
       "      <td>1000</td>\n",
       "      <td>52</td>\n",
       "      <td>NaT</td>\n",
       "      <td>Краснодар</td>\n",
       "      <td>Рафаил</td>\n",
       "      <td>Верещагин</td>\n",
       "      <td>2018-05-25</td>\n",
       "      <td>ultra</td>\n",
       "      <td>1</td>\n",
       "      <td>2018-12-01</td>\n",
       "      <td>2018-05-01</td>\n",
       "    </tr>\n",
       "  </tbody>\n",
       "</table>\n",
       "</div>"
      ],
      "text/plain": [
       "    user_id  age churn_date       city first_name  last_name   reg_date  \\\n",
       "4      1000   52        NaT  Краснодар     Рафаил  Верещагин 2018-05-25   \n",
       "5      1000   52        NaT  Краснодар     Рафаил  Верещагин 2018-05-25   \n",
       "6      1000   52        NaT  Краснодар     Рафаил  Верещагин 2018-05-25   \n",
       "7      1000   52        NaT  Краснодар     Рафаил  Верещагин 2018-05-25   \n",
       "8      1000   52        NaT  Краснодар     Рафаил  Верещагин 2018-05-25   \n",
       "9      1000   52        NaT  Краснодар     Рафаил  Верещагин 2018-05-25   \n",
       "10     1000   52        NaT  Краснодар     Рафаил  Верещагин 2018-05-25   \n",
       "11     1000   52        NaT  Краснодар     Рафаил  Верещагин 2018-05-25   \n",
       "\n",
       "   tariff  key      month  reg_month  \n",
       "4   ultra    1 2018-05-01 2018-05-01  \n",
       "5   ultra    1 2018-06-01 2018-05-01  \n",
       "6   ultra    1 2018-07-01 2018-05-01  \n",
       "7   ultra    1 2018-08-01 2018-05-01  \n",
       "8   ultra    1 2018-09-01 2018-05-01  \n",
       "9   ultra    1 2018-10-01 2018-05-01  \n",
       "10  ultra    1 2018-11-01 2018-05-01  \n",
       "11  ultra    1 2018-12-01 2018-05-01  "
      ]
     },
     "execution_count": 17,
     "metadata": {},
     "output_type": "execute_result"
    }
   ],
   "source": [
    "template[template['user_id'] == 1000]"
   ]
  },
  {
   "cell_type": "markdown",
   "metadata": {},
   "source": [
    "Добавим в таблицу информацию о длительности звонков."
   ]
  },
  {
   "cell_type": "code",
   "execution_count": 18,
   "metadata": {},
   "outputs": [
    {
     "data": {
      "text/html": [
       "<div>\n",
       "<style scoped>\n",
       "    .dataframe tbody tr th:only-of-type {\n",
       "        vertical-align: middle;\n",
       "    }\n",
       "\n",
       "    .dataframe tbody tr th {\n",
       "        vertical-align: top;\n",
       "    }\n",
       "\n",
       "    .dataframe thead th {\n",
       "        text-align: right;\n",
       "    }\n",
       "</style>\n",
       "<table border=\"1\" class=\"dataframe\">\n",
       "  <thead>\n",
       "    <tr style=\"text-align: right;\">\n",
       "      <th></th>\n",
       "      <th>id</th>\n",
       "      <th>call_date</th>\n",
       "      <th>duration</th>\n",
       "      <th>user_id</th>\n",
       "    </tr>\n",
       "  </thead>\n",
       "  <tbody>\n",
       "    <tr>\n",
       "      <td>0</td>\n",
       "      <td>1000_0</td>\n",
       "      <td>2018-07-25</td>\n",
       "      <td>0.0</td>\n",
       "      <td>1000</td>\n",
       "    </tr>\n",
       "    <tr>\n",
       "      <td>1</td>\n",
       "      <td>1000_1</td>\n",
       "      <td>2018-08-17</td>\n",
       "      <td>0.0</td>\n",
       "      <td>1000</td>\n",
       "    </tr>\n",
       "    <tr>\n",
       "      <td>2</td>\n",
       "      <td>1000_2</td>\n",
       "      <td>2018-06-11</td>\n",
       "      <td>3.0</td>\n",
       "      <td>1000</td>\n",
       "    </tr>\n",
       "    <tr>\n",
       "      <td>3</td>\n",
       "      <td>1000_3</td>\n",
       "      <td>2018-09-21</td>\n",
       "      <td>14.0</td>\n",
       "      <td>1000</td>\n",
       "    </tr>\n",
       "    <tr>\n",
       "      <td>4</td>\n",
       "      <td>1000_4</td>\n",
       "      <td>2018-12-15</td>\n",
       "      <td>6.0</td>\n",
       "      <td>1000</td>\n",
       "    </tr>\n",
       "    <tr>\n",
       "      <td>...</td>\n",
       "      <td>...</td>\n",
       "      <td>...</td>\n",
       "      <td>...</td>\n",
       "      <td>...</td>\n",
       "    </tr>\n",
       "    <tr>\n",
       "      <td>202602</td>\n",
       "      <td>1499_215</td>\n",
       "      <td>2018-12-26</td>\n",
       "      <td>1.0</td>\n",
       "      <td>1499</td>\n",
       "    </tr>\n",
       "    <tr>\n",
       "      <td>202603</td>\n",
       "      <td>1499_216</td>\n",
       "      <td>2018-10-18</td>\n",
       "      <td>19.0</td>\n",
       "      <td>1499</td>\n",
       "    </tr>\n",
       "    <tr>\n",
       "      <td>202604</td>\n",
       "      <td>1499_217</td>\n",
       "      <td>2018-11-10</td>\n",
       "      <td>11.0</td>\n",
       "      <td>1499</td>\n",
       "    </tr>\n",
       "    <tr>\n",
       "      <td>202605</td>\n",
       "      <td>1499_218</td>\n",
       "      <td>2018-10-06</td>\n",
       "      <td>5.0</td>\n",
       "      <td>1499</td>\n",
       "    </tr>\n",
       "    <tr>\n",
       "      <td>202606</td>\n",
       "      <td>1499_219</td>\n",
       "      <td>2018-12-14</td>\n",
       "      <td>20.0</td>\n",
       "      <td>1499</td>\n",
       "    </tr>\n",
       "  </tbody>\n",
       "</table>\n",
       "<p>202607 rows × 4 columns</p>\n",
       "</div>"
      ],
      "text/plain": [
       "              id  call_date  duration  user_id\n",
       "0         1000_0 2018-07-25       0.0     1000\n",
       "1         1000_1 2018-08-17       0.0     1000\n",
       "2         1000_2 2018-06-11       3.0     1000\n",
       "3         1000_3 2018-09-21      14.0     1000\n",
       "4         1000_4 2018-12-15       6.0     1000\n",
       "...          ...        ...       ...      ...\n",
       "202602  1499_215 2018-12-26       1.0     1499\n",
       "202603  1499_216 2018-10-18      19.0     1499\n",
       "202604  1499_217 2018-11-10      11.0     1499\n",
       "202605  1499_218 2018-10-06       5.0     1499\n",
       "202606  1499_219 2018-12-14      20.0     1499\n",
       "\n",
       "[202607 rows x 4 columns]"
      ]
     },
     "execution_count": 18,
     "metadata": {},
     "output_type": "execute_result"
    }
   ],
   "source": [
    "calls"
   ]
  },
  {
   "cell_type": "code",
   "execution_count": 19,
   "metadata": {},
   "outputs": [],
   "source": [
    "calls['month'] = calls['call_date'].to_numpy().astype('datetime64[M]')"
   ]
  },
  {
   "cell_type": "code",
   "execution_count": 20,
   "metadata": {},
   "outputs": [
    {
     "data": {
      "text/html": [
       "<div>\n",
       "<style scoped>\n",
       "    .dataframe tbody tr th:only-of-type {\n",
       "        vertical-align: middle;\n",
       "    }\n",
       "\n",
       "    .dataframe tbody tr th {\n",
       "        vertical-align: top;\n",
       "    }\n",
       "\n",
       "    .dataframe thead th {\n",
       "        text-align: right;\n",
       "    }\n",
       "</style>\n",
       "<table border=\"1\" class=\"dataframe\">\n",
       "  <thead>\n",
       "    <tr style=\"text-align: right;\">\n",
       "      <th></th>\n",
       "      <th>month</th>\n",
       "      <th>user_id</th>\n",
       "      <th>duration</th>\n",
       "    </tr>\n",
       "  </thead>\n",
       "  <tbody>\n",
       "    <tr>\n",
       "      <td>0</td>\n",
       "      <td>2018-01-01</td>\n",
       "      <td>1005</td>\n",
       "      <td>95.0</td>\n",
       "    </tr>\n",
       "    <tr>\n",
       "      <td>1</td>\n",
       "      <td>2018-01-01</td>\n",
       "      <td>1032</td>\n",
       "      <td>380.0</td>\n",
       "    </tr>\n",
       "    <tr>\n",
       "      <td>2</td>\n",
       "      <td>2018-01-01</td>\n",
       "      <td>1045</td>\n",
       "      <td>9.0</td>\n",
       "    </tr>\n",
       "    <tr>\n",
       "      <td>3</td>\n",
       "      <td>2018-01-01</td>\n",
       "      <td>1055</td>\n",
       "      <td>551.0</td>\n",
       "    </tr>\n",
       "    <tr>\n",
       "      <td>4</td>\n",
       "      <td>2018-01-01</td>\n",
       "      <td>1071</td>\n",
       "      <td>194.0</td>\n",
       "    </tr>\n",
       "    <tr>\n",
       "      <td>...</td>\n",
       "      <td>...</td>\n",
       "      <td>...</td>\n",
       "      <td>...</td>\n",
       "    </tr>\n",
       "    <tr>\n",
       "      <td>3169</td>\n",
       "      <td>2018-12-01</td>\n",
       "      <td>1494</td>\n",
       "      <td>418.0</td>\n",
       "    </tr>\n",
       "    <tr>\n",
       "      <td>3170</td>\n",
       "      <td>2018-12-01</td>\n",
       "      <td>1495</td>\n",
       "      <td>1031.0</td>\n",
       "    </tr>\n",
       "    <tr>\n",
       "      <td>3171</td>\n",
       "      <td>2018-12-01</td>\n",
       "      <td>1496</td>\n",
       "      <td>518.0</td>\n",
       "    </tr>\n",
       "    <tr>\n",
       "      <td>3172</td>\n",
       "      <td>2018-12-01</td>\n",
       "      <td>1497</td>\n",
       "      <td>545.0</td>\n",
       "    </tr>\n",
       "    <tr>\n",
       "      <td>3173</td>\n",
       "      <td>2018-12-01</td>\n",
       "      <td>1499</td>\n",
       "      <td>492.0</td>\n",
       "    </tr>\n",
       "  </tbody>\n",
       "</table>\n",
       "<p>3174 rows × 3 columns</p>\n",
       "</div>"
      ],
      "text/plain": [
       "          month  user_id  duration\n",
       "0    2018-01-01     1005      95.0\n",
       "1    2018-01-01     1032     380.0\n",
       "2    2018-01-01     1045       9.0\n",
       "3    2018-01-01     1055     551.0\n",
       "4    2018-01-01     1071     194.0\n",
       "...         ...      ...       ...\n",
       "3169 2018-12-01     1494     418.0\n",
       "3170 2018-12-01     1495    1031.0\n",
       "3171 2018-12-01     1496     518.0\n",
       "3172 2018-12-01     1497     545.0\n",
       "3173 2018-12-01     1499     492.0\n",
       "\n",
       "[3174 rows x 3 columns]"
      ]
     },
     "execution_count": 20,
     "metadata": {},
     "output_type": "execute_result"
    }
   ],
   "source": [
    "calls_agg = calls.groupby(['month', 'user_id'])['duration'].sum().to_frame().reset_index()\n",
    "\n",
    "calls_agg"
   ]
  },
  {
   "cell_type": "markdown",
   "metadata": {},
   "source": [
    "Добавим информацию о количестве звонков."
   ]
  },
  {
   "cell_type": "code",
   "execution_count": 21,
   "metadata": {},
   "outputs": [
    {
     "data": {
      "text/html": [
       "<div>\n",
       "<style scoped>\n",
       "    .dataframe tbody tr th:only-of-type {\n",
       "        vertical-align: middle;\n",
       "    }\n",
       "\n",
       "    .dataframe tbody tr th {\n",
       "        vertical-align: top;\n",
       "    }\n",
       "\n",
       "    .dataframe thead th {\n",
       "        text-align: right;\n",
       "    }\n",
       "</style>\n",
       "<table border=\"1\" class=\"dataframe\">\n",
       "  <thead>\n",
       "    <tr style=\"text-align: right;\">\n",
       "      <th></th>\n",
       "      <th>month</th>\n",
       "      <th>user_id</th>\n",
       "      <th>id</th>\n",
       "    </tr>\n",
       "  </thead>\n",
       "  <tbody>\n",
       "    <tr>\n",
       "      <td>0</td>\n",
       "      <td>2018-01-01</td>\n",
       "      <td>1005</td>\n",
       "      <td>15</td>\n",
       "    </tr>\n",
       "    <tr>\n",
       "      <td>1</td>\n",
       "      <td>2018-01-01</td>\n",
       "      <td>1032</td>\n",
       "      <td>61</td>\n",
       "    </tr>\n",
       "    <tr>\n",
       "      <td>2</td>\n",
       "      <td>2018-01-01</td>\n",
       "      <td>1045</td>\n",
       "      <td>1</td>\n",
       "    </tr>\n",
       "    <tr>\n",
       "      <td>3</td>\n",
       "      <td>2018-01-01</td>\n",
       "      <td>1055</td>\n",
       "      <td>64</td>\n",
       "    </tr>\n",
       "    <tr>\n",
       "      <td>4</td>\n",
       "      <td>2018-01-01</td>\n",
       "      <td>1071</td>\n",
       "      <td>24</td>\n",
       "    </tr>\n",
       "    <tr>\n",
       "      <td>...</td>\n",
       "      <td>...</td>\n",
       "      <td>...</td>\n",
       "      <td>...</td>\n",
       "    </tr>\n",
       "    <tr>\n",
       "      <td>3169</td>\n",
       "      <td>2018-12-01</td>\n",
       "      <td>1494</td>\n",
       "      <td>62</td>\n",
       "    </tr>\n",
       "    <tr>\n",
       "      <td>3170</td>\n",
       "      <td>2018-12-01</td>\n",
       "      <td>1495</td>\n",
       "      <td>155</td>\n",
       "    </tr>\n",
       "    <tr>\n",
       "      <td>3171</td>\n",
       "      <td>2018-12-01</td>\n",
       "      <td>1496</td>\n",
       "      <td>80</td>\n",
       "    </tr>\n",
       "    <tr>\n",
       "      <td>3172</td>\n",
       "      <td>2018-12-01</td>\n",
       "      <td>1497</td>\n",
       "      <td>71</td>\n",
       "    </tr>\n",
       "    <tr>\n",
       "      <td>3173</td>\n",
       "      <td>2018-12-01</td>\n",
       "      <td>1499</td>\n",
       "      <td>69</td>\n",
       "    </tr>\n",
       "  </tbody>\n",
       "</table>\n",
       "<p>3174 rows × 3 columns</p>\n",
       "</div>"
      ],
      "text/plain": [
       "          month  user_id   id\n",
       "0    2018-01-01     1005   15\n",
       "1    2018-01-01     1032   61\n",
       "2    2018-01-01     1045    1\n",
       "3    2018-01-01     1055   64\n",
       "4    2018-01-01     1071   24\n",
       "...         ...      ...  ...\n",
       "3169 2018-12-01     1494   62\n",
       "3170 2018-12-01     1495  155\n",
       "3171 2018-12-01     1496   80\n",
       "3172 2018-12-01     1497   71\n",
       "3173 2018-12-01     1499   69\n",
       "\n",
       "[3174 rows x 3 columns]"
      ]
     },
     "execution_count": 21,
     "metadata": {},
     "output_type": "execute_result"
    }
   ],
   "source": [
    "sum_calls_agg = calls.groupby(['month', 'user_id'])['id'].count().to_frame().reset_index()\n",
    "\n",
    "sum_calls_agg"
   ]
  },
  {
   "cell_type": "code",
   "execution_count": 22,
   "metadata": {},
   "outputs": [
    {
     "data": {
      "text/html": [
       "<div>\n",
       "<style scoped>\n",
       "    .dataframe tbody tr th:only-of-type {\n",
       "        vertical-align: middle;\n",
       "    }\n",
       "\n",
       "    .dataframe tbody tr th {\n",
       "        vertical-align: top;\n",
       "    }\n",
       "\n",
       "    .dataframe thead th {\n",
       "        text-align: right;\n",
       "    }\n",
       "</style>\n",
       "<table border=\"1\" class=\"dataframe\">\n",
       "  <thead>\n",
       "    <tr style=\"text-align: right;\">\n",
       "      <th></th>\n",
       "      <th>month</th>\n",
       "      <th>user_id</th>\n",
       "      <th>duration</th>\n",
       "      <th>calls</th>\n",
       "    </tr>\n",
       "  </thead>\n",
       "  <tbody>\n",
       "    <tr>\n",
       "      <td>1141</td>\n",
       "      <td>2018-07-01</td>\n",
       "      <td>1498</td>\n",
       "      <td>175.0</td>\n",
       "      <td>23</td>\n",
       "    </tr>\n",
       "    <tr>\n",
       "      <td>1478</td>\n",
       "      <td>2018-08-01</td>\n",
       "      <td>1498</td>\n",
       "      <td>400.0</td>\n",
       "      <td>57</td>\n",
       "    </tr>\n",
       "    <tr>\n",
       "      <td>1847</td>\n",
       "      <td>2018-09-01</td>\n",
       "      <td>1498</td>\n",
       "      <td>471.0</td>\n",
       "      <td>59</td>\n",
       "    </tr>\n",
       "    <tr>\n",
       "      <td>2258</td>\n",
       "      <td>2018-10-01</td>\n",
       "      <td>1498</td>\n",
       "      <td>247.0</td>\n",
       "      <td>41</td>\n",
       "    </tr>\n",
       "  </tbody>\n",
       "</table>\n",
       "</div>"
      ],
      "text/plain": [
       "          month  user_id  duration  calls\n",
       "1141 2018-07-01     1498     175.0     23\n",
       "1478 2018-08-01     1498     400.0     57\n",
       "1847 2018-09-01     1498     471.0     59\n",
       "2258 2018-10-01     1498     247.0     41"
      ]
     },
     "execution_count": 22,
     "metadata": {},
     "output_type": "execute_result"
    }
   ],
   "source": [
    "user_info = calls_agg.merge(sum_calls_agg, how='outer', on=['month', 'user_id'])\n",
    "user_info = user_info.rename(columns={'id': 'calls'})\n",
    "\n",
    "user_info[user_info['user_id'] == 1498]"
   ]
  },
  {
   "cell_type": "markdown",
   "metadata": {},
   "source": [
    "Добавим в таблицу столбец с количеством сообщений."
   ]
  },
  {
   "cell_type": "code",
   "execution_count": 23,
   "metadata": {},
   "outputs": [],
   "source": [
    "messages['month'] = messages['message_date'].to_numpy().astype('datetime64[M]')"
   ]
  },
  {
   "cell_type": "code",
   "execution_count": 24,
   "metadata": {},
   "outputs": [
    {
     "data": {
      "text/html": [
       "<div>\n",
       "<style scoped>\n",
       "    .dataframe tbody tr th:only-of-type {\n",
       "        vertical-align: middle;\n",
       "    }\n",
       "\n",
       "    .dataframe tbody tr th {\n",
       "        vertical-align: top;\n",
       "    }\n",
       "\n",
       "    .dataframe thead th {\n",
       "        text-align: right;\n",
       "    }\n",
       "</style>\n",
       "<table border=\"1\" class=\"dataframe\">\n",
       "  <thead>\n",
       "    <tr style=\"text-align: right;\">\n",
       "      <th></th>\n",
       "      <th>month</th>\n",
       "      <th>user_id</th>\n",
       "      <th>id</th>\n",
       "    </tr>\n",
       "  </thead>\n",
       "  <tbody>\n",
       "    <tr>\n",
       "      <td>0</td>\n",
       "      <td>2018-01-01</td>\n",
       "      <td>1005</td>\n",
       "      <td>7</td>\n",
       "    </tr>\n",
       "    <tr>\n",
       "      <td>1</td>\n",
       "      <td>2018-01-01</td>\n",
       "      <td>1032</td>\n",
       "      <td>38</td>\n",
       "    </tr>\n",
       "    <tr>\n",
       "      <td>2</td>\n",
       "      <td>2018-01-01</td>\n",
       "      <td>1045</td>\n",
       "      <td>5</td>\n",
       "    </tr>\n",
       "    <tr>\n",
       "      <td>3</td>\n",
       "      <td>2018-01-01</td>\n",
       "      <td>1055</td>\n",
       "      <td>30</td>\n",
       "    </tr>\n",
       "    <tr>\n",
       "      <td>4</td>\n",
       "      <td>2018-01-01</td>\n",
       "      <td>1071</td>\n",
       "      <td>16</td>\n",
       "    </tr>\n",
       "    <tr>\n",
       "      <td>...</td>\n",
       "      <td>...</td>\n",
       "      <td>...</td>\n",
       "      <td>...</td>\n",
       "    </tr>\n",
       "    <tr>\n",
       "      <td>2712</td>\n",
       "      <td>2018-12-01</td>\n",
       "      <td>1493</td>\n",
       "      <td>78</td>\n",
       "    </tr>\n",
       "    <tr>\n",
       "      <td>2713</td>\n",
       "      <td>2018-12-01</td>\n",
       "      <td>1495</td>\n",
       "      <td>84</td>\n",
       "    </tr>\n",
       "    <tr>\n",
       "      <td>2714</td>\n",
       "      <td>2018-12-01</td>\n",
       "      <td>1496</td>\n",
       "      <td>51</td>\n",
       "    </tr>\n",
       "    <tr>\n",
       "      <td>2715</td>\n",
       "      <td>2018-12-01</td>\n",
       "      <td>1497</td>\n",
       "      <td>17</td>\n",
       "    </tr>\n",
       "    <tr>\n",
       "      <td>2716</td>\n",
       "      <td>2018-12-01</td>\n",
       "      <td>1499</td>\n",
       "      <td>66</td>\n",
       "    </tr>\n",
       "  </tbody>\n",
       "</table>\n",
       "<p>2717 rows × 3 columns</p>\n",
       "</div>"
      ],
      "text/plain": [
       "          month  user_id  id\n",
       "0    2018-01-01     1005   7\n",
       "1    2018-01-01     1032  38\n",
       "2    2018-01-01     1045   5\n",
       "3    2018-01-01     1055  30\n",
       "4    2018-01-01     1071  16\n",
       "...         ...      ...  ..\n",
       "2712 2018-12-01     1493  78\n",
       "2713 2018-12-01     1495  84\n",
       "2714 2018-12-01     1496  51\n",
       "2715 2018-12-01     1497  17\n",
       "2716 2018-12-01     1499  66\n",
       "\n",
       "[2717 rows x 3 columns]"
      ]
     },
     "execution_count": 24,
     "metadata": {},
     "output_type": "execute_result"
    }
   ],
   "source": [
    "messages_agg = messages.groupby(['month', 'user_id'])['id'].count().to_frame().reset_index()\n",
    "\n",
    "messages_agg"
   ]
  },
  {
   "cell_type": "code",
   "execution_count": 25,
   "metadata": {},
   "outputs": [
    {
     "data": {
      "text/html": [
       "<div>\n",
       "<style scoped>\n",
       "    .dataframe tbody tr th:only-of-type {\n",
       "        vertical-align: middle;\n",
       "    }\n",
       "\n",
       "    .dataframe tbody tr th {\n",
       "        vertical-align: top;\n",
       "    }\n",
       "\n",
       "    .dataframe thead th {\n",
       "        text-align: right;\n",
       "    }\n",
       "</style>\n",
       "<table border=\"1\" class=\"dataframe\">\n",
       "  <thead>\n",
       "    <tr style=\"text-align: right;\">\n",
       "      <th></th>\n",
       "      <th>month</th>\n",
       "      <th>user_id</th>\n",
       "      <th>duration</th>\n",
       "      <th>calls</th>\n",
       "      <th>messages</th>\n",
       "    </tr>\n",
       "  </thead>\n",
       "  <tbody>\n",
       "    <tr>\n",
       "      <td>0</td>\n",
       "      <td>2018-01-01</td>\n",
       "      <td>1005</td>\n",
       "      <td>95.0</td>\n",
       "      <td>15.0</td>\n",
       "      <td>7.0</td>\n",
       "    </tr>\n",
       "    <tr>\n",
       "      <td>1</td>\n",
       "      <td>2018-01-01</td>\n",
       "      <td>1032</td>\n",
       "      <td>380.0</td>\n",
       "      <td>61.0</td>\n",
       "      <td>38.0</td>\n",
       "    </tr>\n",
       "    <tr>\n",
       "      <td>2</td>\n",
       "      <td>2018-01-01</td>\n",
       "      <td>1045</td>\n",
       "      <td>9.0</td>\n",
       "      <td>1.0</td>\n",
       "      <td>5.0</td>\n",
       "    </tr>\n",
       "    <tr>\n",
       "      <td>3</td>\n",
       "      <td>2018-01-01</td>\n",
       "      <td>1055</td>\n",
       "      <td>551.0</td>\n",
       "      <td>64.0</td>\n",
       "      <td>30.0</td>\n",
       "    </tr>\n",
       "    <tr>\n",
       "      <td>4</td>\n",
       "      <td>2018-01-01</td>\n",
       "      <td>1071</td>\n",
       "      <td>194.0</td>\n",
       "      <td>24.0</td>\n",
       "      <td>16.0</td>\n",
       "    </tr>\n",
       "    <tr>\n",
       "      <td>...</td>\n",
       "      <td>...</td>\n",
       "      <td>...</td>\n",
       "      <td>...</td>\n",
       "      <td>...</td>\n",
       "      <td>...</td>\n",
       "    </tr>\n",
       "    <tr>\n",
       "      <td>3208</td>\n",
       "      <td>2018-12-01</td>\n",
       "      <td>1106</td>\n",
       "      <td>NaN</td>\n",
       "      <td>NaN</td>\n",
       "      <td>24.0</td>\n",
       "    </tr>\n",
       "    <tr>\n",
       "      <td>3209</td>\n",
       "      <td>2018-12-01</td>\n",
       "      <td>1231</td>\n",
       "      <td>NaN</td>\n",
       "      <td>NaN</td>\n",
       "      <td>191.0</td>\n",
       "    </tr>\n",
       "    <tr>\n",
       "      <td>3210</td>\n",
       "      <td>2018-12-01</td>\n",
       "      <td>1328</td>\n",
       "      <td>NaN</td>\n",
       "      <td>NaN</td>\n",
       "      <td>7.0</td>\n",
       "    </tr>\n",
       "    <tr>\n",
       "      <td>3211</td>\n",
       "      <td>2018-12-01</td>\n",
       "      <td>1473</td>\n",
       "      <td>NaN</td>\n",
       "      <td>NaN</td>\n",
       "      <td>20.0</td>\n",
       "    </tr>\n",
       "    <tr>\n",
       "      <td>3212</td>\n",
       "      <td>2018-12-01</td>\n",
       "      <td>1489</td>\n",
       "      <td>NaN</td>\n",
       "      <td>NaN</td>\n",
       "      <td>35.0</td>\n",
       "    </tr>\n",
       "  </tbody>\n",
       "</table>\n",
       "<p>3213 rows × 5 columns</p>\n",
       "</div>"
      ],
      "text/plain": [
       "          month  user_id  duration  calls  messages\n",
       "0    2018-01-01     1005      95.0   15.0       7.0\n",
       "1    2018-01-01     1032     380.0   61.0      38.0\n",
       "2    2018-01-01     1045       9.0    1.0       5.0\n",
       "3    2018-01-01     1055     551.0   64.0      30.0\n",
       "4    2018-01-01     1071     194.0   24.0      16.0\n",
       "...         ...      ...       ...    ...       ...\n",
       "3208 2018-12-01     1106       NaN    NaN      24.0\n",
       "3209 2018-12-01     1231       NaN    NaN     191.0\n",
       "3210 2018-12-01     1328       NaN    NaN       7.0\n",
       "3211 2018-12-01     1473       NaN    NaN      20.0\n",
       "3212 2018-12-01     1489       NaN    NaN      35.0\n",
       "\n",
       "[3213 rows x 5 columns]"
      ]
     },
     "execution_count": 25,
     "metadata": {},
     "output_type": "execute_result"
    }
   ],
   "source": [
    "user_info = user_info.merge(messages_agg, how='outer', on=['month', 'user_id'])\n",
    "user_info = user_info.rename(columns={'id': 'messages'})\n",
    "\n",
    "user_info"
   ]
  },
  {
   "cell_type": "markdown",
   "metadata": {},
   "source": [
    "И, наконец, столбец с использованным интернет-трафиком."
   ]
  },
  {
   "cell_type": "code",
   "execution_count": 26,
   "metadata": {},
   "outputs": [],
   "source": [
    "internet['month'] = internet['session_date'].to_numpy().astype('datetime64[M]')"
   ]
  },
  {
   "cell_type": "code",
   "execution_count": 27,
   "metadata": {},
   "outputs": [
    {
     "data": {
      "text/html": [
       "<div>\n",
       "<style scoped>\n",
       "    .dataframe tbody tr th:only-of-type {\n",
       "        vertical-align: middle;\n",
       "    }\n",
       "\n",
       "    .dataframe tbody tr th {\n",
       "        vertical-align: top;\n",
       "    }\n",
       "\n",
       "    .dataframe thead th {\n",
       "        text-align: right;\n",
       "    }\n",
       "</style>\n",
       "<table border=\"1\" class=\"dataframe\">\n",
       "  <thead>\n",
       "    <tr style=\"text-align: right;\">\n",
       "      <th></th>\n",
       "      <th>month</th>\n",
       "      <th>user_id</th>\n",
       "      <th>mb_used</th>\n",
       "    </tr>\n",
       "  </thead>\n",
       "  <tbody>\n",
       "    <tr>\n",
       "      <td>0</td>\n",
       "      <td>2018-01-01</td>\n",
       "      <td>1005</td>\n",
       "      <td>2730.0</td>\n",
       "    </tr>\n",
       "    <tr>\n",
       "      <td>1</td>\n",
       "      <td>2018-01-01</td>\n",
       "      <td>1032</td>\n",
       "      <td>24147.0</td>\n",
       "    </tr>\n",
       "    <tr>\n",
       "      <td>2</td>\n",
       "      <td>2018-01-01</td>\n",
       "      <td>1045</td>\n",
       "      <td>2348.0</td>\n",
       "    </tr>\n",
       "    <tr>\n",
       "      <td>3</td>\n",
       "      <td>2018-01-01</td>\n",
       "      <td>1055</td>\n",
       "      <td>17111.0</td>\n",
       "    </tr>\n",
       "    <tr>\n",
       "      <td>4</td>\n",
       "      <td>2018-01-01</td>\n",
       "      <td>1071</td>\n",
       "      <td>15622.0</td>\n",
       "    </tr>\n",
       "    <tr>\n",
       "      <td>...</td>\n",
       "      <td>...</td>\n",
       "      <td>...</td>\n",
       "      <td>...</td>\n",
       "    </tr>\n",
       "    <tr>\n",
       "      <td>3198</td>\n",
       "      <td>2018-12-01</td>\n",
       "      <td>1494</td>\n",
       "      <td>17645.0</td>\n",
       "    </tr>\n",
       "    <tr>\n",
       "      <td>3199</td>\n",
       "      <td>2018-12-01</td>\n",
       "      <td>1495</td>\n",
       "      <td>23450.0</td>\n",
       "    </tr>\n",
       "    <tr>\n",
       "      <td>3200</td>\n",
       "      <td>2018-12-01</td>\n",
       "      <td>1496</td>\n",
       "      <td>20757.0</td>\n",
       "    </tr>\n",
       "    <tr>\n",
       "      <td>3201</td>\n",
       "      <td>2018-12-01</td>\n",
       "      <td>1497</td>\n",
       "      <td>19940.0</td>\n",
       "    </tr>\n",
       "    <tr>\n",
       "      <td>3202</td>\n",
       "      <td>2018-12-01</td>\n",
       "      <td>1499</td>\n",
       "      <td>13077.0</td>\n",
       "    </tr>\n",
       "  </tbody>\n",
       "</table>\n",
       "<p>3203 rows × 3 columns</p>\n",
       "</div>"
      ],
      "text/plain": [
       "          month  user_id  mb_used\n",
       "0    2018-01-01     1005   2730.0\n",
       "1    2018-01-01     1032  24147.0\n",
       "2    2018-01-01     1045   2348.0\n",
       "3    2018-01-01     1055  17111.0\n",
       "4    2018-01-01     1071  15622.0\n",
       "...         ...      ...      ...\n",
       "3198 2018-12-01     1494  17645.0\n",
       "3199 2018-12-01     1495  23450.0\n",
       "3200 2018-12-01     1496  20757.0\n",
       "3201 2018-12-01     1497  19940.0\n",
       "3202 2018-12-01     1499  13077.0\n",
       "\n",
       "[3203 rows x 3 columns]"
      ]
     },
     "execution_count": 27,
     "metadata": {},
     "output_type": "execute_result"
    }
   ],
   "source": [
    "internet_agg = internet.groupby(['month', 'user_id'])['mb_used'].sum().to_frame().reset_index()\n",
    "\n",
    "internet_agg"
   ]
  },
  {
   "cell_type": "code",
   "execution_count": 28,
   "metadata": {},
   "outputs": [
    {
     "data": {
      "text/html": [
       "<div>\n",
       "<style scoped>\n",
       "    .dataframe tbody tr th:only-of-type {\n",
       "        vertical-align: middle;\n",
       "    }\n",
       "\n",
       "    .dataframe tbody tr th {\n",
       "        vertical-align: top;\n",
       "    }\n",
       "\n",
       "    .dataframe thead th {\n",
       "        text-align: right;\n",
       "    }\n",
       "</style>\n",
       "<table border=\"1\" class=\"dataframe\">\n",
       "  <thead>\n",
       "    <tr style=\"text-align: right;\">\n",
       "      <th></th>\n",
       "      <th>month</th>\n",
       "      <th>user_id</th>\n",
       "      <th>duration</th>\n",
       "      <th>calls</th>\n",
       "      <th>messages</th>\n",
       "      <th>mb_used</th>\n",
       "    </tr>\n",
       "  </thead>\n",
       "  <tbody>\n",
       "    <tr>\n",
       "      <td>0</td>\n",
       "      <td>2018-01-01</td>\n",
       "      <td>1005</td>\n",
       "      <td>95.0</td>\n",
       "      <td>15.0</td>\n",
       "      <td>7.0</td>\n",
       "      <td>2730.0</td>\n",
       "    </tr>\n",
       "    <tr>\n",
       "      <td>1</td>\n",
       "      <td>2018-01-01</td>\n",
       "      <td>1032</td>\n",
       "      <td>380.0</td>\n",
       "      <td>61.0</td>\n",
       "      <td>38.0</td>\n",
       "      <td>24147.0</td>\n",
       "    </tr>\n",
       "    <tr>\n",
       "      <td>2</td>\n",
       "      <td>2018-01-01</td>\n",
       "      <td>1045</td>\n",
       "      <td>9.0</td>\n",
       "      <td>1.0</td>\n",
       "      <td>5.0</td>\n",
       "      <td>2348.0</td>\n",
       "    </tr>\n",
       "    <tr>\n",
       "      <td>3</td>\n",
       "      <td>2018-01-01</td>\n",
       "      <td>1055</td>\n",
       "      <td>551.0</td>\n",
       "      <td>64.0</td>\n",
       "      <td>30.0</td>\n",
       "      <td>17111.0</td>\n",
       "    </tr>\n",
       "    <tr>\n",
       "      <td>4</td>\n",
       "      <td>2018-01-01</td>\n",
       "      <td>1071</td>\n",
       "      <td>194.0</td>\n",
       "      <td>24.0</td>\n",
       "      <td>16.0</td>\n",
       "      <td>15622.0</td>\n",
       "    </tr>\n",
       "    <tr>\n",
       "      <td>...</td>\n",
       "      <td>...</td>\n",
       "      <td>...</td>\n",
       "      <td>...</td>\n",
       "      <td>...</td>\n",
       "      <td>...</td>\n",
       "      <td>...</td>\n",
       "    </tr>\n",
       "    <tr>\n",
       "      <td>3209</td>\n",
       "      <td>2018-12-01</td>\n",
       "      <td>1231</td>\n",
       "      <td>NaN</td>\n",
       "      <td>NaN</td>\n",
       "      <td>191.0</td>\n",
       "      <td>32481.0</td>\n",
       "    </tr>\n",
       "    <tr>\n",
       "      <td>3210</td>\n",
       "      <td>2018-12-01</td>\n",
       "      <td>1328</td>\n",
       "      <td>NaN</td>\n",
       "      <td>NaN</td>\n",
       "      <td>7.0</td>\n",
       "      <td>39461.0</td>\n",
       "    </tr>\n",
       "    <tr>\n",
       "      <td>3211</td>\n",
       "      <td>2018-12-01</td>\n",
       "      <td>1473</td>\n",
       "      <td>NaN</td>\n",
       "      <td>NaN</td>\n",
       "      <td>20.0</td>\n",
       "      <td>18432.0</td>\n",
       "    </tr>\n",
       "    <tr>\n",
       "      <td>3212</td>\n",
       "      <td>2018-12-01</td>\n",
       "      <td>1489</td>\n",
       "      <td>NaN</td>\n",
       "      <td>NaN</td>\n",
       "      <td>35.0</td>\n",
       "      <td>17341.0</td>\n",
       "    </tr>\n",
       "    <tr>\n",
       "      <td>3213</td>\n",
       "      <td>2018-04-01</td>\n",
       "      <td>1476</td>\n",
       "      <td>NaN</td>\n",
       "      <td>NaN</td>\n",
       "      <td>NaN</td>\n",
       "      <td>531.0</td>\n",
       "    </tr>\n",
       "  </tbody>\n",
       "</table>\n",
       "<p>3214 rows × 6 columns</p>\n",
       "</div>"
      ],
      "text/plain": [
       "          month  user_id  duration  calls  messages  mb_used\n",
       "0    2018-01-01     1005      95.0   15.0       7.0   2730.0\n",
       "1    2018-01-01     1032     380.0   61.0      38.0  24147.0\n",
       "2    2018-01-01     1045       9.0    1.0       5.0   2348.0\n",
       "3    2018-01-01     1055     551.0   64.0      30.0  17111.0\n",
       "4    2018-01-01     1071     194.0   24.0      16.0  15622.0\n",
       "...         ...      ...       ...    ...       ...      ...\n",
       "3209 2018-12-01     1231       NaN    NaN     191.0  32481.0\n",
       "3210 2018-12-01     1328       NaN    NaN       7.0  39461.0\n",
       "3211 2018-12-01     1473       NaN    NaN      20.0  18432.0\n",
       "3212 2018-12-01     1489       NaN    NaN      35.0  17341.0\n",
       "3213 2018-04-01     1476       NaN    NaN       NaN    531.0\n",
       "\n",
       "[3214 rows x 6 columns]"
      ]
     },
     "execution_count": 28,
     "metadata": {},
     "output_type": "execute_result"
    }
   ],
   "source": [
    "user_info = user_info.merge(internet_agg, how='outer', on=['month', 'user_id'])\n",
    "\n",
    "user_info"
   ]
  },
  {
   "cell_type": "code",
   "execution_count": 29,
   "metadata": {},
   "outputs": [
    {
     "data": {
      "text/html": [
       "<div>\n",
       "<style scoped>\n",
       "    .dataframe tbody tr th:only-of-type {\n",
       "        vertical-align: middle;\n",
       "    }\n",
       "\n",
       "    .dataframe tbody tr th {\n",
       "        vertical-align: top;\n",
       "    }\n",
       "\n",
       "    .dataframe thead th {\n",
       "        text-align: right;\n",
       "    }\n",
       "</style>\n",
       "<table border=\"1\" class=\"dataframe\">\n",
       "  <thead>\n",
       "    <tr style=\"text-align: right;\">\n",
       "      <th></th>\n",
       "      <th>month</th>\n",
       "      <th>user_id</th>\n",
       "      <th>duration</th>\n",
       "      <th>calls</th>\n",
       "      <th>messages</th>\n",
       "      <th>mb_used</th>\n",
       "      <th>age</th>\n",
       "      <th>churn_date</th>\n",
       "      <th>city</th>\n",
       "      <th>first_name</th>\n",
       "      <th>last_name</th>\n",
       "      <th>reg_date</th>\n",
       "      <th>tariff</th>\n",
       "      <th>key</th>\n",
       "      <th>reg_month</th>\n",
       "    </tr>\n",
       "  </thead>\n",
       "  <tbody>\n",
       "    <tr>\n",
       "      <td>0</td>\n",
       "      <td>2018-01-01</td>\n",
       "      <td>1005</td>\n",
       "      <td>95.0</td>\n",
       "      <td>15.0</td>\n",
       "      <td>7.0</td>\n",
       "      <td>2730.0</td>\n",
       "      <td>67</td>\n",
       "      <td>NaT</td>\n",
       "      <td>Набережные Челны</td>\n",
       "      <td>Афанасий</td>\n",
       "      <td>Горлов</td>\n",
       "      <td>2018-01-25</td>\n",
       "      <td>smart</td>\n",
       "      <td>1</td>\n",
       "      <td>2018-01-01</td>\n",
       "    </tr>\n",
       "    <tr>\n",
       "      <td>1</td>\n",
       "      <td>2018-01-01</td>\n",
       "      <td>1032</td>\n",
       "      <td>380.0</td>\n",
       "      <td>61.0</td>\n",
       "      <td>38.0</td>\n",
       "      <td>24147.0</td>\n",
       "      <td>31</td>\n",
       "      <td>NaT</td>\n",
       "      <td>Ульяновск</td>\n",
       "      <td>Инна</td>\n",
       "      <td>Игнатьева</td>\n",
       "      <td>2018-01-04</td>\n",
       "      <td>smart</td>\n",
       "      <td>1</td>\n",
       "      <td>2018-01-01</td>\n",
       "    </tr>\n",
       "    <tr>\n",
       "      <td>2</td>\n",
       "      <td>2018-01-01</td>\n",
       "      <td>1045</td>\n",
       "      <td>9.0</td>\n",
       "      <td>1.0</td>\n",
       "      <td>5.0</td>\n",
       "      <td>2348.0</td>\n",
       "      <td>48</td>\n",
       "      <td>NaT</td>\n",
       "      <td>Улан-Удэ</td>\n",
       "      <td>Джемма</td>\n",
       "      <td>Карасева</td>\n",
       "      <td>2018-01-30</td>\n",
       "      <td>smart</td>\n",
       "      <td>1</td>\n",
       "      <td>2018-01-01</td>\n",
       "    </tr>\n",
       "    <tr>\n",
       "      <td>3</td>\n",
       "      <td>2018-01-01</td>\n",
       "      <td>1055</td>\n",
       "      <td>551.0</td>\n",
       "      <td>64.0</td>\n",
       "      <td>30.0</td>\n",
       "      <td>17111.0</td>\n",
       "      <td>39</td>\n",
       "      <td>NaT</td>\n",
       "      <td>Казань</td>\n",
       "      <td>Луиза</td>\n",
       "      <td>Березина</td>\n",
       "      <td>2018-01-02</td>\n",
       "      <td>smart</td>\n",
       "      <td>1</td>\n",
       "      <td>2018-01-01</td>\n",
       "    </tr>\n",
       "    <tr>\n",
       "      <td>4</td>\n",
       "      <td>2018-01-01</td>\n",
       "      <td>1071</td>\n",
       "      <td>194.0</td>\n",
       "      <td>24.0</td>\n",
       "      <td>16.0</td>\n",
       "      <td>15622.0</td>\n",
       "      <td>20</td>\n",
       "      <td>2018-08-31</td>\n",
       "      <td>Омск</td>\n",
       "      <td>Гектор</td>\n",
       "      <td>Чумаков</td>\n",
       "      <td>2018-01-09</td>\n",
       "      <td>smart</td>\n",
       "      <td>1</td>\n",
       "      <td>2018-01-01</td>\n",
       "    </tr>\n",
       "    <tr>\n",
       "      <td>...</td>\n",
       "      <td>...</td>\n",
       "      <td>...</td>\n",
       "      <td>...</td>\n",
       "      <td>...</td>\n",
       "      <td>...</td>\n",
       "      <td>...</td>\n",
       "      <td>...</td>\n",
       "      <td>...</td>\n",
       "      <td>...</td>\n",
       "      <td>...</td>\n",
       "      <td>...</td>\n",
       "      <td>...</td>\n",
       "      <td>...</td>\n",
       "      <td>...</td>\n",
       "      <td>...</td>\n",
       "    </tr>\n",
       "    <tr>\n",
       "      <td>3209</td>\n",
       "      <td>2018-12-01</td>\n",
       "      <td>1231</td>\n",
       "      <td>NaN</td>\n",
       "      <td>NaN</td>\n",
       "      <td>191.0</td>\n",
       "      <td>32481.0</td>\n",
       "      <td>63</td>\n",
       "      <td>NaT</td>\n",
       "      <td>Чебоксары</td>\n",
       "      <td>Касьян</td>\n",
       "      <td>Авдюков</td>\n",
       "      <td>2018-05-23</td>\n",
       "      <td>ultra</td>\n",
       "      <td>1</td>\n",
       "      <td>2018-05-01</td>\n",
       "    </tr>\n",
       "    <tr>\n",
       "      <td>3210</td>\n",
       "      <td>2018-12-01</td>\n",
       "      <td>1328</td>\n",
       "      <td>NaN</td>\n",
       "      <td>NaN</td>\n",
       "      <td>7.0</td>\n",
       "      <td>39461.0</td>\n",
       "      <td>44</td>\n",
       "      <td>NaT</td>\n",
       "      <td>Мурманск</td>\n",
       "      <td>Рауль</td>\n",
       "      <td>Аркадьев</td>\n",
       "      <td>2018-10-16</td>\n",
       "      <td>ultra</td>\n",
       "      <td>1</td>\n",
       "      <td>2018-10-01</td>\n",
       "    </tr>\n",
       "    <tr>\n",
       "      <td>3211</td>\n",
       "      <td>2018-12-01</td>\n",
       "      <td>1473</td>\n",
       "      <td>NaN</td>\n",
       "      <td>NaN</td>\n",
       "      <td>20.0</td>\n",
       "      <td>18432.0</td>\n",
       "      <td>18</td>\n",
       "      <td>NaT</td>\n",
       "      <td>Красноярск</td>\n",
       "      <td>Николай</td>\n",
       "      <td>Лебедев</td>\n",
       "      <td>2018-08-05</td>\n",
       "      <td>ultra</td>\n",
       "      <td>1</td>\n",
       "      <td>2018-08-01</td>\n",
       "    </tr>\n",
       "    <tr>\n",
       "      <td>3212</td>\n",
       "      <td>2018-12-01</td>\n",
       "      <td>1489</td>\n",
       "      <td>NaN</td>\n",
       "      <td>NaN</td>\n",
       "      <td>35.0</td>\n",
       "      <td>17341.0</td>\n",
       "      <td>35</td>\n",
       "      <td>NaT</td>\n",
       "      <td>Санкт-Петербург</td>\n",
       "      <td>Павел</td>\n",
       "      <td>Гончаров</td>\n",
       "      <td>2018-08-15</td>\n",
       "      <td>smart</td>\n",
       "      <td>1</td>\n",
       "      <td>2018-08-01</td>\n",
       "    </tr>\n",
       "    <tr>\n",
       "      <td>3213</td>\n",
       "      <td>2018-04-01</td>\n",
       "      <td>1476</td>\n",
       "      <td>NaN</td>\n",
       "      <td>NaN</td>\n",
       "      <td>NaN</td>\n",
       "      <td>531.0</td>\n",
       "      <td>50</td>\n",
       "      <td>NaT</td>\n",
       "      <td>Москва</td>\n",
       "      <td>Валентина</td>\n",
       "      <td>Семенова</td>\n",
       "      <td>2018-04-30</td>\n",
       "      <td>ultra</td>\n",
       "      <td>1</td>\n",
       "      <td>2018-04-01</td>\n",
       "    </tr>\n",
       "  </tbody>\n",
       "</table>\n",
       "<p>3214 rows × 15 columns</p>\n",
       "</div>"
      ],
      "text/plain": [
       "          month  user_id  duration  calls  messages  mb_used  age churn_date  \\\n",
       "0    2018-01-01     1005      95.0   15.0       7.0   2730.0   67        NaT   \n",
       "1    2018-01-01     1032     380.0   61.0      38.0  24147.0   31        NaT   \n",
       "2    2018-01-01     1045       9.0    1.0       5.0   2348.0   48        NaT   \n",
       "3    2018-01-01     1055     551.0   64.0      30.0  17111.0   39        NaT   \n",
       "4    2018-01-01     1071     194.0   24.0      16.0  15622.0   20 2018-08-31   \n",
       "...         ...      ...       ...    ...       ...      ...  ...        ...   \n",
       "3209 2018-12-01     1231       NaN    NaN     191.0  32481.0   63        NaT   \n",
       "3210 2018-12-01     1328       NaN    NaN       7.0  39461.0   44        NaT   \n",
       "3211 2018-12-01     1473       NaN    NaN      20.0  18432.0   18        NaT   \n",
       "3212 2018-12-01     1489       NaN    NaN      35.0  17341.0   35        NaT   \n",
       "3213 2018-04-01     1476       NaN    NaN       NaN    531.0   50        NaT   \n",
       "\n",
       "                  city first_name  last_name   reg_date tariff  key  reg_month  \n",
       "0     Набережные Челны   Афанасий     Горлов 2018-01-25  smart    1 2018-01-01  \n",
       "1            Ульяновск       Инна  Игнатьева 2018-01-04  smart    1 2018-01-01  \n",
       "2             Улан-Удэ     Джемма   Карасева 2018-01-30  smart    1 2018-01-01  \n",
       "3               Казань      Луиза   Березина 2018-01-02  smart    1 2018-01-01  \n",
       "4                 Омск     Гектор    Чумаков 2018-01-09  smart    1 2018-01-01  \n",
       "...                ...        ...        ...        ...    ...  ...        ...  \n",
       "3209         Чебоксары     Касьян    Авдюков 2018-05-23  ultra    1 2018-05-01  \n",
       "3210          Мурманск      Рауль   Аркадьев 2018-10-16  ultra    1 2018-10-01  \n",
       "3211        Красноярск    Николай    Лебедев 2018-08-05  ultra    1 2018-08-01  \n",
       "3212   Санкт-Петербург      Павел   Гончаров 2018-08-15  smart    1 2018-08-01  \n",
       "3213            Москва  Валентина   Семенова 2018-04-30  ultra    1 2018-04-01  \n",
       "\n",
       "[3214 rows x 15 columns]"
      ]
     },
     "execution_count": 29,
     "metadata": {},
     "output_type": "execute_result"
    }
   ],
   "source": [
    "user_info = user_info.merge(template, how='left', on=['month', 'user_id'])\n",
    "\n",
    "user_info"
   ]
  },
  {
   "cell_type": "code",
   "execution_count": 30,
   "metadata": {},
   "outputs": [
    {
     "data": {
      "text/html": [
       "<div>\n",
       "<style scoped>\n",
       "    .dataframe tbody tr th:only-of-type {\n",
       "        vertical-align: middle;\n",
       "    }\n",
       "\n",
       "    .dataframe tbody tr th {\n",
       "        vertical-align: top;\n",
       "    }\n",
       "\n",
       "    .dataframe thead th {\n",
       "        text-align: right;\n",
       "    }\n",
       "</style>\n",
       "<table border=\"1\" class=\"dataframe\">\n",
       "  <thead>\n",
       "    <tr style=\"text-align: right;\">\n",
       "      <th></th>\n",
       "      <th>messages_included</th>\n",
       "      <th>mb_per_month_included</th>\n",
       "      <th>minutes_included</th>\n",
       "      <th>rub_monthly_fee</th>\n",
       "      <th>rub_per_gb</th>\n",
       "      <th>rub_per_message</th>\n",
       "      <th>rub_per_minute</th>\n",
       "      <th>tariff_name</th>\n",
       "    </tr>\n",
       "  </thead>\n",
       "  <tbody>\n",
       "    <tr>\n",
       "      <td>0</td>\n",
       "      <td>50</td>\n",
       "      <td>15360</td>\n",
       "      <td>500</td>\n",
       "      <td>550</td>\n",
       "      <td>200</td>\n",
       "      <td>3</td>\n",
       "      <td>3</td>\n",
       "      <td>smart</td>\n",
       "    </tr>\n",
       "    <tr>\n",
       "      <td>1</td>\n",
       "      <td>1000</td>\n",
       "      <td>30720</td>\n",
       "      <td>3000</td>\n",
       "      <td>1950</td>\n",
       "      <td>150</td>\n",
       "      <td>1</td>\n",
       "      <td>1</td>\n",
       "      <td>ultra</td>\n",
       "    </tr>\n",
       "  </tbody>\n",
       "</table>\n",
       "</div>"
      ],
      "text/plain": [
       "   messages_included  mb_per_month_included  minutes_included  \\\n",
       "0                 50                  15360               500   \n",
       "1               1000                  30720              3000   \n",
       "\n",
       "   rub_monthly_fee  rub_per_gb  rub_per_message  rub_per_minute tariff_name  \n",
       "0              550         200                3               3       smart  \n",
       "1             1950         150                1               1       ultra  "
      ]
     },
     "execution_count": 30,
     "metadata": {},
     "output_type": "execute_result"
    }
   ],
   "source": [
    "tariffs"
   ]
  },
  {
   "cell_type": "markdown",
   "metadata": {},
   "source": [
    "Переходим к помесячной выручке"
   ]
  },
  {
   "cell_type": "code",
   "execution_count": 31,
   "metadata": {},
   "outputs": [],
   "source": [
    "# пропущенные значения заменяем на нули\n",
    "\n",
    "user_info.loc[user_info['duration'].isna(), 'duration'] = 0\n",
    "user_info.loc[user_info['messages'].isna(), 'messages'] = 0\n",
    "user_info.loc[user_info['mb_used'].isna(), 'mb_used'] = 0"
   ]
  },
  {
   "cell_type": "code",
   "execution_count": 32,
   "metadata": {
    "scrolled": false
   },
   "outputs": [
    {
     "data": {
      "text/html": [
       "<div>\n",
       "<style scoped>\n",
       "    .dataframe tbody tr th:only-of-type {\n",
       "        vertical-align: middle;\n",
       "    }\n",
       "\n",
       "    .dataframe tbody tr th {\n",
       "        vertical-align: top;\n",
       "    }\n",
       "\n",
       "    .dataframe thead th {\n",
       "        text-align: right;\n",
       "    }\n",
       "</style>\n",
       "<table border=\"1\" class=\"dataframe\">\n",
       "  <thead>\n",
       "    <tr style=\"text-align: right;\">\n",
       "      <th></th>\n",
       "      <th>month</th>\n",
       "      <th>user_id</th>\n",
       "      <th>duration</th>\n",
       "      <th>calls</th>\n",
       "      <th>messages</th>\n",
       "      <th>mb_used</th>\n",
       "      <th>age</th>\n",
       "      <th>churn_date</th>\n",
       "      <th>city</th>\n",
       "      <th>first_name</th>\n",
       "      <th>last_name</th>\n",
       "      <th>reg_date</th>\n",
       "      <th>tariff</th>\n",
       "      <th>key</th>\n",
       "      <th>reg_month</th>\n",
       "      <th>revenue</th>\n",
       "    </tr>\n",
       "  </thead>\n",
       "  <tbody>\n",
       "    <tr>\n",
       "      <td>0</td>\n",
       "      <td>2018-01-01</td>\n",
       "      <td>1005</td>\n",
       "      <td>95.0</td>\n",
       "      <td>15.0</td>\n",
       "      <td>7.0</td>\n",
       "      <td>2730.0</td>\n",
       "      <td>67</td>\n",
       "      <td>NaT</td>\n",
       "      <td>Набережные Челны</td>\n",
       "      <td>Афанасий</td>\n",
       "      <td>Горлов</td>\n",
       "      <td>2018-01-25</td>\n",
       "      <td>smart</td>\n",
       "      <td>1</td>\n",
       "      <td>2018-01-01</td>\n",
       "      <td>550.0</td>\n",
       "    </tr>\n",
       "    <tr>\n",
       "      <td>1</td>\n",
       "      <td>2018-01-01</td>\n",
       "      <td>1032</td>\n",
       "      <td>380.0</td>\n",
       "      <td>61.0</td>\n",
       "      <td>38.0</td>\n",
       "      <td>24147.0</td>\n",
       "      <td>31</td>\n",
       "      <td>NaT</td>\n",
       "      <td>Ульяновск</td>\n",
       "      <td>Инна</td>\n",
       "      <td>Игнатьева</td>\n",
       "      <td>2018-01-04</td>\n",
       "      <td>smart</td>\n",
       "      <td>1</td>\n",
       "      <td>2018-01-01</td>\n",
       "      <td>2350.0</td>\n",
       "    </tr>\n",
       "    <tr>\n",
       "      <td>2</td>\n",
       "      <td>2018-01-01</td>\n",
       "      <td>1045</td>\n",
       "      <td>9.0</td>\n",
       "      <td>1.0</td>\n",
       "      <td>5.0</td>\n",
       "      <td>2348.0</td>\n",
       "      <td>48</td>\n",
       "      <td>NaT</td>\n",
       "      <td>Улан-Удэ</td>\n",
       "      <td>Джемма</td>\n",
       "      <td>Карасева</td>\n",
       "      <td>2018-01-30</td>\n",
       "      <td>smart</td>\n",
       "      <td>1</td>\n",
       "      <td>2018-01-01</td>\n",
       "      <td>550.0</td>\n",
       "    </tr>\n",
       "    <tr>\n",
       "      <td>3</td>\n",
       "      <td>2018-01-01</td>\n",
       "      <td>1055</td>\n",
       "      <td>551.0</td>\n",
       "      <td>64.0</td>\n",
       "      <td>30.0</td>\n",
       "      <td>17111.0</td>\n",
       "      <td>39</td>\n",
       "      <td>NaT</td>\n",
       "      <td>Казань</td>\n",
       "      <td>Луиза</td>\n",
       "      <td>Березина</td>\n",
       "      <td>2018-01-02</td>\n",
       "      <td>smart</td>\n",
       "      <td>1</td>\n",
       "      <td>2018-01-01</td>\n",
       "      <td>1103.0</td>\n",
       "    </tr>\n",
       "    <tr>\n",
       "      <td>4</td>\n",
       "      <td>2018-01-01</td>\n",
       "      <td>1071</td>\n",
       "      <td>194.0</td>\n",
       "      <td>24.0</td>\n",
       "      <td>16.0</td>\n",
       "      <td>15622.0</td>\n",
       "      <td>20</td>\n",
       "      <td>2018-08-31</td>\n",
       "      <td>Омск</td>\n",
       "      <td>Гектор</td>\n",
       "      <td>Чумаков</td>\n",
       "      <td>2018-01-09</td>\n",
       "      <td>smart</td>\n",
       "      <td>1</td>\n",
       "      <td>2018-01-01</td>\n",
       "      <td>750.0</td>\n",
       "    </tr>\n",
       "    <tr>\n",
       "      <td>5</td>\n",
       "      <td>2018-01-01</td>\n",
       "      <td>1113</td>\n",
       "      <td>110.0</td>\n",
       "      <td>18.0</td>\n",
       "      <td>14.0</td>\n",
       "      <td>767.0</td>\n",
       "      <td>52</td>\n",
       "      <td>NaT</td>\n",
       "      <td>Чита</td>\n",
       "      <td>Харитон</td>\n",
       "      <td>Булгаков</td>\n",
       "      <td>2018-01-24</td>\n",
       "      <td>smart</td>\n",
       "      <td>1</td>\n",
       "      <td>2018-01-01</td>\n",
       "      <td>550.0</td>\n",
       "    </tr>\n",
       "    <tr>\n",
       "      <td>6</td>\n",
       "      <td>2018-01-01</td>\n",
       "      <td>1120</td>\n",
       "      <td>55.0</td>\n",
       "      <td>5.0</td>\n",
       "      <td>0.0</td>\n",
       "      <td>657.0</td>\n",
       "      <td>25</td>\n",
       "      <td>NaT</td>\n",
       "      <td>Краснодар</td>\n",
       "      <td>Агнесса</td>\n",
       "      <td>Абдулина</td>\n",
       "      <td>2018-01-24</td>\n",
       "      <td>ultra</td>\n",
       "      <td>1</td>\n",
       "      <td>2018-01-01</td>\n",
       "      <td>1950.0</td>\n",
       "    </tr>\n",
       "    <tr>\n",
       "      <td>7</td>\n",
       "      <td>2018-01-01</td>\n",
       "      <td>1126</td>\n",
       "      <td>272.0</td>\n",
       "      <td>35.0</td>\n",
       "      <td>4.0</td>\n",
       "      <td>16377.0</td>\n",
       "      <td>71</td>\n",
       "      <td>NaT</td>\n",
       "      <td>Санкт-Петербург</td>\n",
       "      <td>Яна</td>\n",
       "      <td>Арсенкова</td>\n",
       "      <td>2018-01-19</td>\n",
       "      <td>ultra</td>\n",
       "      <td>1</td>\n",
       "      <td>2018-01-01</td>\n",
       "      <td>1950.0</td>\n",
       "    </tr>\n",
       "    <tr>\n",
       "      <td>8</td>\n",
       "      <td>2018-01-01</td>\n",
       "      <td>1134</td>\n",
       "      <td>332.0</td>\n",
       "      <td>42.0</td>\n",
       "      <td>32.0</td>\n",
       "      <td>10215.0</td>\n",
       "      <td>65</td>\n",
       "      <td>NaT</td>\n",
       "      <td>Красноярск</td>\n",
       "      <td>Марьяна</td>\n",
       "      <td>Авросимова</td>\n",
       "      <td>2018-01-16</td>\n",
       "      <td>smart</td>\n",
       "      <td>1</td>\n",
       "      <td>2018-01-01</td>\n",
       "      <td>550.0</td>\n",
       "    </tr>\n",
       "    <tr>\n",
       "      <td>9</td>\n",
       "      <td>2018-01-01</td>\n",
       "      <td>1135</td>\n",
       "      <td>90.0</td>\n",
       "      <td>9.0</td>\n",
       "      <td>1.0</td>\n",
       "      <td>1601.0</td>\n",
       "      <td>64</td>\n",
       "      <td>NaT</td>\n",
       "      <td>Архангельск</td>\n",
       "      <td>Милена</td>\n",
       "      <td>Воронина</td>\n",
       "      <td>2018-01-29</td>\n",
       "      <td>smart</td>\n",
       "      <td>1</td>\n",
       "      <td>2018-01-01</td>\n",
       "      <td>550.0</td>\n",
       "    </tr>\n",
       "  </tbody>\n",
       "</table>\n",
       "</div>"
      ],
      "text/plain": [
       "       month  user_id  duration  calls  messages  mb_used  age churn_date  \\\n",
       "0 2018-01-01     1005      95.0   15.0       7.0   2730.0   67        NaT   \n",
       "1 2018-01-01     1032     380.0   61.0      38.0  24147.0   31        NaT   \n",
       "2 2018-01-01     1045       9.0    1.0       5.0   2348.0   48        NaT   \n",
       "3 2018-01-01     1055     551.0   64.0      30.0  17111.0   39        NaT   \n",
       "4 2018-01-01     1071     194.0   24.0      16.0  15622.0   20 2018-08-31   \n",
       "5 2018-01-01     1113     110.0   18.0      14.0    767.0   52        NaT   \n",
       "6 2018-01-01     1120      55.0    5.0       0.0    657.0   25        NaT   \n",
       "7 2018-01-01     1126     272.0   35.0       4.0  16377.0   71        NaT   \n",
       "8 2018-01-01     1134     332.0   42.0      32.0  10215.0   65        NaT   \n",
       "9 2018-01-01     1135      90.0    9.0       1.0   1601.0   64        NaT   \n",
       "\n",
       "               city first_name   last_name   reg_date tariff  key  reg_month  \\\n",
       "0  Набережные Челны   Афанасий      Горлов 2018-01-25  smart    1 2018-01-01   \n",
       "1         Ульяновск       Инна   Игнатьева 2018-01-04  smart    1 2018-01-01   \n",
       "2          Улан-Удэ     Джемма    Карасева 2018-01-30  smart    1 2018-01-01   \n",
       "3            Казань      Луиза    Березина 2018-01-02  smart    1 2018-01-01   \n",
       "4              Омск     Гектор     Чумаков 2018-01-09  smart    1 2018-01-01   \n",
       "5              Чита    Харитон    Булгаков 2018-01-24  smart    1 2018-01-01   \n",
       "6         Краснодар    Агнесса    Абдулина 2018-01-24  ultra    1 2018-01-01   \n",
       "7   Санкт-Петербург        Яна   Арсенкова 2018-01-19  ultra    1 2018-01-01   \n",
       "8        Красноярск    Марьяна  Авросимова 2018-01-16  smart    1 2018-01-01   \n",
       "9       Архангельск     Милена    Воронина 2018-01-29  smart    1 2018-01-01   \n",
       "\n",
       "   revenue  \n",
       "0    550.0  \n",
       "1   2350.0  \n",
       "2    550.0  \n",
       "3   1103.0  \n",
       "4    750.0  \n",
       "5    550.0  \n",
       "6   1950.0  \n",
       "7   1950.0  \n",
       "8    550.0  \n",
       "9    550.0  "
      ]
     },
     "execution_count": 32,
     "metadata": {},
     "output_type": "execute_result"
    }
   ],
   "source": [
    "# функция подсчета выручки с каждого пользователя в месяц\n",
    "\n",
    "def det_revenue(row):\n",
    "    messages = row['messages']\n",
    "    mb_used = row['mb_used']\n",
    "    tariff = row['tariff']\n",
    "    duration = row['duration']\n",
    "    \n",
    "    if tariff == 'smart':\n",
    "        extra_duration = duration - tariffs.loc[0, 'minutes_included']\n",
    "        extra_mb = mb_used - tariffs.loc[0, 'mb_per_month_included']\n",
    "        extra_messages = messages - tariffs.loc[0, 'messages_included']\n",
    "        \n",
    "        if extra_duration < 0: extra_duration = 0\n",
    "        if extra_mb < 0: extra_mb = 0\n",
    "        if extra_messages < 0: extra_messages = 0\n",
    "        \n",
    "        return (tariffs.loc[0, 'rub_per_message'] * extra_messages + \n",
    "                   tariffs.loc[0, 'rub_per_gb'] * np.ceil(extra_mb / 1024) + \n",
    "                   tariffs.loc[0, 'rub_per_minute'] * extra_duration + \n",
    "                   tariffs.loc[0, 'rub_monthly_fee']\n",
    "                  ) \n",
    "    else:\n",
    "        extra_duration = duration - tariffs.loc[1, 'minutes_included']\n",
    "        extra_mb = mb_used - tariffs.loc[1, 'mb_per_month_included']\n",
    "        extra_messages = messages - tariffs.loc[1, 'messages_included']\n",
    "        \n",
    "        if extra_duration < 0: extra_duration = 0\n",
    "        if extra_mb < 0: extra_mb = 0\n",
    "        if extra_messages < 0: extra_messages = 0\n",
    "        \n",
    "        return (tariffs.loc[1, 'rub_per_message'] * extra_messages + \n",
    "                   tariffs.loc[1, 'rub_per_gb'] * np.ceil(extra_mb / 1024) + \n",
    "                   tariffs.loc[1, 'rub_per_minute'] * extra_duration + \n",
    "                   tariffs.loc[1, 'rub_monthly_fee']\n",
    "                  )\n",
    "\n",
    "user_info['revenue'] = user_info.apply(det_revenue, axis=1)\n",
    "user_info.head(10)"
   ]
  },
  {
   "cell_type": "markdown",
   "metadata": {},
   "source": [
    "Получили таблицу с помесячной информацией о поведении пользователей: количестве и длительности совершенных звонков, отправленных сообщениях и потраченном интернет-трафике. Вычислили и добавили в таблицу помесячную выручку с каждого пользователя."
   ]
  },
  {
   "cell_type": "markdown",
   "metadata": {},
   "source": [
    "## Анализ данных"
   ]
  },
  {
   "cell_type": "markdown",
   "metadata": {},
   "source": [
    "По каждому тарифу посчитаем медианное значение, дисперсию и стандартное отклонение. "
   ]
  },
  {
   "cell_type": "code",
   "execution_count": 34,
   "metadata": {},
   "outputs": [
    {
     "data": {
      "text/html": [
       "<div>\n",
       "<style scoped>\n",
       "    .dataframe tbody tr th:only-of-type {\n",
       "        vertical-align: middle;\n",
       "    }\n",
       "\n",
       "    .dataframe tbody tr th {\n",
       "        vertical-align: top;\n",
       "    }\n",
       "\n",
       "    .dataframe thead tr th {\n",
       "        text-align: left;\n",
       "    }\n",
       "\n",
       "    .dataframe thead tr:last-of-type th {\n",
       "        text-align: right;\n",
       "    }\n",
       "</style>\n",
       "<table border=\"1\" class=\"dataframe\">\n",
       "  <thead>\n",
       "    <tr>\n",
       "      <th></th>\n",
       "      <th colspan=\"4\" halign=\"left\">duration</th>\n",
       "      <th colspan=\"4\" halign=\"left\">mb_used</th>\n",
       "      <th colspan=\"4\" halign=\"left\">messages</th>\n",
       "    </tr>\n",
       "    <tr>\n",
       "      <th></th>\n",
       "      <th>mean</th>\n",
       "      <th>median</th>\n",
       "      <th>std</th>\n",
       "      <th>var</th>\n",
       "      <th>mean</th>\n",
       "      <th>median</th>\n",
       "      <th>std</th>\n",
       "      <th>var</th>\n",
       "      <th>mean</th>\n",
       "      <th>median</th>\n",
       "      <th>std</th>\n",
       "      <th>var</th>\n",
       "    </tr>\n",
       "    <tr>\n",
       "      <th>tariff</th>\n",
       "      <th></th>\n",
       "      <th></th>\n",
       "      <th></th>\n",
       "      <th></th>\n",
       "      <th></th>\n",
       "      <th></th>\n",
       "      <th></th>\n",
       "      <th></th>\n",
       "      <th></th>\n",
       "      <th></th>\n",
       "      <th></th>\n",
       "      <th></th>\n",
       "    </tr>\n",
       "  </thead>\n",
       "  <tbody>\n",
       "    <tr>\n",
       "      <td>smart</td>\n",
       "      <td>417.934948</td>\n",
       "      <td>422.0</td>\n",
       "      <td>190.313730</td>\n",
       "      <td>36219.315784</td>\n",
       "      <td>16229.188425</td>\n",
       "      <td>16531.0</td>\n",
       "      <td>5877.576978</td>\n",
       "      <td>3.454591e+07</td>\n",
       "      <td>33.384029</td>\n",
       "      <td>28.0</td>\n",
       "      <td>28.227876</td>\n",
       "      <td>796.812958</td>\n",
       "    </tr>\n",
       "    <tr>\n",
       "      <td>ultra</td>\n",
       "      <td>526.623350</td>\n",
       "      <td>518.0</td>\n",
       "      <td>317.606098</td>\n",
       "      <td>100873.633397</td>\n",
       "      <td>19486.901523</td>\n",
       "      <td>19324.0</td>\n",
       "      <td>10096.317202</td>\n",
       "      <td>1.019356e+08</td>\n",
       "      <td>49.363452</td>\n",
       "      <td>38.0</td>\n",
       "      <td>47.804457</td>\n",
       "      <td>2285.266143</td>\n",
       "    </tr>\n",
       "  </tbody>\n",
       "</table>\n",
       "</div>"
      ],
      "text/plain": [
       "          duration                                         mb_used           \\\n",
       "              mean median         std            var          mean   median   \n",
       "tariff                                                                        \n",
       "smart   417.934948  422.0  190.313730   36219.315784  16229.188425  16531.0   \n",
       "ultra   526.623350  518.0  317.606098  100873.633397  19486.901523  19324.0   \n",
       "\n",
       "                                     messages                                 \n",
       "                 std           var       mean median        std          var  \n",
       "tariff                                                                        \n",
       "smart    5877.576978  3.454591e+07  33.384029   28.0  28.227876   796.812958  \n",
       "ultra   10096.317202  1.019356e+08  49.363452   38.0  47.804457  2285.266143  "
      ]
     },
     "execution_count": 34,
     "metadata": {},
     "output_type": "execute_result"
    }
   ],
   "source": [
    "user_info.dropna(subset=['duration'], inplace=True)\n",
    "tariffs_comparison = user_info.pivot_table(index=['tariff'], values=['duration', 'mb_used', 'messages'], \n",
    "                    aggfunc={'duration': [np.mean, np.median, np.var, np.std], \n",
    "                             'mb_used': [np.mean, np.median, np.var, np.std], \n",
    "                             'messages': [np.mean, np.median, np.var, np.std]})\n",
    "tariffs_comparison"
   ]
  },
  {
   "cell_type": "markdown",
   "metadata": {},
   "source": [
    "Как мы видим, дисперсия тарифа «Ультра» превышает дисперсию тарифа «Смарт» по всем параметрам, аналогичная ситуация наблюдается и в отношении стандартного отклонения. \n",
    "Что касается медианного значения - по длительности звонков и количеству отправленных сообщений на тарифе «Ультра» оно выше, однако средний объем использованного интернет-трафика больше на тарифе «Смарт»."
   ]
  },
  {
   "cell_type": "markdown",
   "metadata": {},
   "source": [
    "Построим гистограммы:"
   ]
  },
  {
   "cell_type": "code",
   "execution_count": 36,
   "metadata": {},
   "outputs": [
    {
     "data": {
      "image/png": "[encoded data removed]",
      "text/plain": [
       "<Figure size 432x288 with 1 Axes>"
      ]
     },
     "metadata": {
      "needs_background": "light"
     },
     "output_type": "display_data"
    }
   ],
   "source": [
    "for tariff in ['ultra', 'smart']:\n",
    "    sns.distplot(user_info.query('tariff == @tariff')['duration'], kde=False, label=tariff)\n",
    "    plt.legend(['ultra', 'smart'])"
   ]
  },
  {
   "cell_type": "code",
   "execution_count": 38,
   "metadata": {},
   "outputs": [
    {
     "data": {
      "image/png": "[encoded data removed]",
      "text/plain": [
       "<Figure size 432x288 with 1 Axes>"
      ]
     },
     "metadata": {},
     "output_type": "display_data"
    }
   ],
   "source": [
    "for tariff in ['ultra', 'smart']:\n",
    "    sns.distplot(user_info.query('tariff == @tariff')['mb_used'], kde=False)\n",
    "    plt.legend(['ultra', 'smart'])"
   ]
  },
  {
   "cell_type": "code",
   "execution_count": 39,
   "metadata": {},
   "outputs": [
    {
     "data": {
      "image/png": "[encoded data removed]",
      "text/plain": [
       "<Figure size 432x288 with 1 Axes>"
      ]
     },
     "metadata": {},
     "output_type": "display_data"
    }
   ],
   "source": [
    "for tariff in ['ultra', 'smart']:\n",
    "    sns.distplot(user_info.query('tariff == @tariff')['messages'], kde=False, label=tariff)\n",
    "    plt.legend(['ultra', 'smart'])"
   ]
  },
  {
   "cell_type": "markdown",
   "metadata": {},
   "source": [
    "На гистограммах хорошо видна разница в дисперсии - у пользователей тарифа «Ультра» она больше, чем у пользователей тарифа «Смарт». Интересно, что по всем параметрам мода тарифа «Смарт» явно выражена."
   ]
  },
  {
   "cell_type": "markdown",
   "metadata": {},
   "source": [
    "# Проверка гипотез"
   ]
  },
  {
   "cell_type": "markdown",
   "metadata": {},
   "source": [
    "H₀ - средняя выручка пользователей тарифа «Ультра» равна средней выручке пользователей тарифа «Смарт».\n",
    "\n",
    "H₁ - средняя выручка пользователей тарифов «Ультра» и «Смарт» различаются.\n",
    "\n",
    "α = 5%"
   ]
  },
  {
   "cell_type": "code",
   "execution_count": 40,
   "metadata": {},
   "outputs": [
    {
     "name": "stdout",
     "output_type": "stream",
     "text": [
      "p-значение: 2.7240946993530856e-246\n",
      "Отвергаем нулевую гипотезу\n"
     ]
    }
   ],
   "source": [
    "ultra = user_info.query('tariff == \"ultra\"')['revenue']\n",
    "smart = user_info.query('tariff == \"smart\"')['revenue']\n",
    "\n",
    "alpha = .05\n",
    "\n",
    "results = st.ttest_ind(\n",
    "    ultra, \n",
    "    smart, \n",
    "    equal_var=False)\n",
    "\n",
    "print('p-значение:', results.pvalue)\n",
    "\n",
    "if (results.pvalue < alpha):\n",
    "    print('Отвергаем нулевую гипотезу')\n",
    "else:\n",
    "    print('Не получилось отвергнуть нулевую гипотезу')"
   ]
  },
  {
   "cell_type": "code",
   "execution_count": 41,
   "metadata": {
    "scrolled": true
   },
   "outputs": [
    {
     "data": {
      "text/html": [
       "<div>\n",
       "<style scoped>\n",
       "    .dataframe tbody tr th:only-of-type {\n",
       "        vertical-align: middle;\n",
       "    }\n",
       "\n",
       "    .dataframe tbody tr th {\n",
       "        vertical-align: top;\n",
       "    }\n",
       "\n",
       "    .dataframe thead th {\n",
       "        text-align: right;\n",
       "    }\n",
       "</style>\n",
       "<table border=\"1\" class=\"dataframe\">\n",
       "  <thead>\n",
       "    <tr style=\"text-align: right;\">\n",
       "      <th></th>\n",
       "      <th>revenue</th>\n",
       "    </tr>\n",
       "    <tr>\n",
       "      <th>tariff</th>\n",
       "      <th></th>\n",
       "    </tr>\n",
       "  </thead>\n",
       "  <tbody>\n",
       "    <tr>\n",
       "      <td>smart</td>\n",
       "      <td>1038.0</td>\n",
       "    </tr>\n",
       "    <tr>\n",
       "      <td>ultra</td>\n",
       "      <td>1950.0</td>\n",
       "    </tr>\n",
       "  </tbody>\n",
       "</table>\n",
       "</div>"
      ],
      "text/plain": [
       "        revenue\n",
       "tariff         \n",
       "smart    1038.0\n",
       "ultra    1950.0"
      ]
     },
     "execution_count": 41,
     "metadata": {},
     "output_type": "execute_result"
    }
   ],
   "source": [
    "user_info.pivot_table(index='tariff', values='revenue', aggfunc='median')"
   ]
  },
  {
   "cell_type": "markdown",
   "metadata": {},
   "source": [
    "Выручка от пользователей тарифа «Ультра» в два раза превышает выручку от пользователей тарифа «Смарт».\n",
    "Пользователи тарифа «Смарт» в среднем переплачивают в два раза из-за нехватки объема услуг по тарифу.\n",
    "\n",
    "Проверим следующую гипотезу:"
   ]
  },
  {
   "cell_type": "markdown",
   "metadata": {},
   "source": [
    "H₀ - средняя выручка пользователей из Москвы равна средней выручке пользователей из других регионов.\n",
    "\n",
    "H₁ - средняя выручка пользователей из Москвы отличается от средней выручке пользователей из других регионов.\n",
    "\n",
    "α = 5%"
   ]
  },
  {
   "cell_type": "code",
   "execution_count": 44,
   "metadata": {},
   "outputs": [
    {
     "name": "stdout",
     "output_type": "stream",
     "text": [
      "p-значение: 0.5126564657748214\n",
      "Не получилось отвергнуть нулевую гипотезу\n"
     ]
    }
   ],
   "source": [
    "moscow = user_info.query('city == \"Москва\"')['revenue']\n",
    "regions = user_info.query('city != \"Москва\"')['revenue']\n",
    "\n",
    "alpha = .05\n",
    "\n",
    "results = st.ttest_ind(\n",
    "    moscow, \n",
    "    regions, \n",
    "    equal_var=False)\n",
    "\n",
    "print('p-значение:', results.pvalue)\n",
    "\n",
    "if (results.pvalue < alpha):\n",
    "    print(\"Отвергаем нулевую гипотезу\")\n",
    "else:\n",
    "    print(\"Не получилось отвергнуть нулевую гипотезу\")"
   ]
  },
  {
   "cell_type": "code",
   "execution_count": 45,
   "metadata": {},
   "outputs": [
    {
     "data": {
      "text/html": [
       "<div>\n",
       "<style scoped>\n",
       "    .dataframe tbody tr th:only-of-type {\n",
       "        vertical-align: middle;\n",
       "    }\n",
       "\n",
       "    .dataframe tbody tr th {\n",
       "        vertical-align: top;\n",
       "    }\n",
       "\n",
       "    .dataframe thead th {\n",
       "        text-align: right;\n",
       "    }\n",
       "</style>\n",
       "<table border=\"1\" class=\"dataframe\">\n",
       "  <thead>\n",
       "    <tr style=\"text-align: right;\">\n",
       "      <th></th>\n",
       "      <th>revenue</th>\n",
       "    </tr>\n",
       "    <tr>\n",
       "      <th>region</th>\n",
       "      <th></th>\n",
       "    </tr>\n",
       "  </thead>\n",
       "  <tbody>\n",
       "    <tr>\n",
       "      <td>Другой регион</td>\n",
       "      <td>1587.0</td>\n",
       "    </tr>\n",
       "    <tr>\n",
       "      <td>Москва</td>\n",
       "      <td>1750.0</td>\n",
       "    </tr>\n",
       "  </tbody>\n",
       "</table>\n",
       "</div>"
      ],
      "text/plain": [
       "               revenue\n",
       "region                \n",
       "Другой регион   1587.0\n",
       "Москва          1750.0"
      ]
     },
     "execution_count": 45,
     "metadata": {},
     "output_type": "execute_result"
    }
   ],
   "source": [
    "def det_region(city):\n",
    "    if city == 'Москва': return 'Москва'\n",
    "    else: return 'Другой регион'\n",
    "    \n",
    "user_info['region'] = user_info['city'].apply(det_region)\n",
    "user_info.pivot_table(index='region', values='revenue', aggfunc='median')"
   ]
  },
  {
   "cell_type": "markdown",
   "metadata": {},
   "source": [
    "Cредняя выручка от пользователей из Москвы и регионов примерно равна."
   ]
  },
  {
   "cell_type": "markdown",
   "metadata": {},
   "source": [
    "# Вывод"
   ]
  },
  {
   "cell_type": "markdown",
   "metadata": {},
   "source": [
    "По результатам статистического анализа можно сделать вывод, что выручка компании от тарифа «Смарт» в два раза меньше, чем от тарифа «Ультра» - 1038 рублей и 1950 рублей в среднем соответственно. \n",
    "\n",
    "Cредняя выручка от пользователей из Москвы и регионов примерно равна - 1587 рублей для пользователей из регионов и 1750 рублей для пользователей из Москвы.\n",
    "\n",
    "Приходим к выводу, что доходы компании от пользователей тарифа «Ультра» в два раза превышают доходы от пользователей тарифа «Смарт». Следовательно, для оператора лучше тариф «Ультра» - он приносит компании больше денег."
   ]
  }
 ],
 "metadata": {
  "ExecuteTimeLog": [
   {
    "duration": 615,
    "start_time": "2021-10-12T09:10:33.820Z"
   },
   {
    "duration": 175,
    "start_time": "2021-10-12T09:11:12.464Z"
   },
   {
    "duration": 157,
    "start_time": "2021-10-12T09:11:25.522Z"
   },
   {
    "duration": 148,
    "start_time": "2021-10-12T09:12:09.041Z"
   },
   {
    "duration": 146,
    "start_time": "2021-10-12T09:12:30.789Z"
   },
   {
    "duration": 97,
    "start_time": "2021-10-12T09:13:04.574Z"
   },
   {
    "duration": 21,
    "start_time": "2021-10-12T09:13:33.740Z"
   },
   {
    "duration": 42,
    "start_time": "2021-10-12T09:14:28.980Z"
   },
   {
    "duration": 391,
    "start_time": "2021-10-12T09:21:07.237Z"
   },
   {
    "duration": 591,
    "start_time": "2021-10-12T09:21:27.373Z"
   },
   {
    "duration": 413,
    "start_time": "2021-10-12T09:21:27.966Z"
   },
   {
    "duration": 49,
    "start_time": "2021-10-12T09:22:58.409Z"
   },
   {
    "duration": 60,
    "start_time": "2021-10-12T09:23:22.067Z"
   },
   {
    "duration": 55,
    "start_time": "2021-10-12T09:23:27.580Z"
   },
   {
    "duration": 48,
    "start_time": "2021-10-12T09:23:43.345Z"
   },
   {
    "duration": 70,
    "start_time": "2021-10-12T09:34:40.923Z"
   },
   {
    "duration": 600,
    "start_time": "2021-10-12T09:45:50.231Z"
   },
   {
    "duration": 410,
    "start_time": "2021-10-12T09:45:50.833Z"
   },
   {
    "duration": 50,
    "start_time": "2021-10-12T09:45:51.245Z"
   },
   {
    "duration": 78,
    "start_time": "2021-10-12T09:45:51.296Z"
   },
   {
    "duration": 265,
    "start_time": "2021-10-12T09:45:51.376Z"
   },
   {
    "duration": 135,
    "start_time": "2021-10-12T09:47:26.555Z"
   },
   {
    "duration": 696,
    "start_time": "2021-10-12T09:48:15.979Z"
   },
   {
    "duration": 429,
    "start_time": "2021-10-12T09:48:16.677Z"
   },
   {
    "duration": 56,
    "start_time": "2021-10-12T09:48:17.109Z"
   },
   {
    "duration": 92,
    "start_time": "2021-10-12T09:48:17.167Z"
   },
   {
    "duration": 6,
    "start_time": "2021-10-12T09:48:17.261Z"
   },
   {
    "duration": 14,
    "start_time": "2021-10-12T09:48:32.054Z"
   },
   {
    "duration": 569,
    "start_time": "2021-10-12T09:50:27.959Z"
   },
   {
    "duration": 412,
    "start_time": "2021-10-12T09:50:28.530Z"
   },
   {
    "duration": 46,
    "start_time": "2021-10-12T09:50:28.944Z"
   },
   {
    "duration": 13,
    "start_time": "2021-10-12T09:50:28.992Z"
   },
   {
    "duration": 77,
    "start_time": "2021-10-12T09:50:29.007Z"
   },
   {
    "duration": 19,
    "start_time": "2021-10-12T09:50:29.085Z"
   },
   {
    "duration": 607,
    "start_time": "2021-10-12T09:51:00.024Z"
   },
   {
    "duration": 414,
    "start_time": "2021-10-12T09:51:00.633Z"
   },
   {
    "duration": 51,
    "start_time": "2021-10-12T09:51:01.049Z"
   },
   {
    "duration": 17,
    "start_time": "2021-10-12T09:51:01.102Z"
   },
   {
    "duration": 14,
    "start_time": "2021-10-12T09:51:01.121Z"
   },
   {
    "duration": 87,
    "start_time": "2021-10-12T09:51:01.137Z"
   },
   {
    "duration": 6,
    "start_time": "2021-10-12T09:51:01.225Z"
   },
   {
    "duration": 586,
    "start_time": "2021-10-12T09:51:51.766Z"
   },
   {
    "duration": 409,
    "start_time": "2021-10-12T09:51:52.354Z"
   },
   {
    "duration": 56,
    "start_time": "2021-10-12T09:51:52.765Z"
   },
   {
    "duration": 12,
    "start_time": "2021-10-12T09:51:52.824Z"
   },
   {
    "duration": 16,
    "start_time": "2021-10-12T09:51:52.838Z"
   },
   {
    "duration": 94,
    "start_time": "2021-10-12T09:51:52.856Z"
   },
   {
    "duration": 6,
    "start_time": "2021-10-12T09:51:52.951Z"
   },
   {
    "duration": 13,
    "start_time": "2021-10-12T09:51:52.958Z"
   },
   {
    "duration": 9,
    "start_time": "2021-10-12T09:51:52.973Z"
   },
   {
    "duration": 556,
    "start_time": "2021-10-12T09:56:41.338Z"
   },
   {
    "duration": 386,
    "start_time": "2021-10-12T09:56:41.896Z"
   },
   {
    "duration": 49,
    "start_time": "2021-10-12T09:56:42.283Z"
   },
   {
    "duration": 76,
    "start_time": "2021-10-12T09:56:42.334Z"
   },
   {
    "duration": 5,
    "start_time": "2021-10-12T09:56:42.411Z"
   },
   {
    "duration": 47,
    "start_time": "2021-10-12T10:03:55.965Z"
   },
   {
    "duration": 12,
    "start_time": "2021-10-12T10:55:02.044Z"
   },
   {
    "duration": 243,
    "start_time": "2021-10-12T11:05:36.209Z"
   },
   {
    "duration": 44,
    "start_time": "2021-10-12T11:05:52.300Z"
   },
   {
    "duration": 7,
    "start_time": "2021-10-12T11:06:00.765Z"
   },
   {
    "duration": 6,
    "start_time": "2021-10-12T11:07:38.167Z"
   },
   {
    "duration": 559,
    "start_time": "2021-10-12T11:07:52.638Z"
   },
   {
    "duration": 392,
    "start_time": "2021-10-12T11:07:53.200Z"
   },
   {
    "duration": 50,
    "start_time": "2021-10-12T11:07:53.594Z"
   },
   {
    "duration": 90,
    "start_time": "2021-10-12T11:07:53.646Z"
   },
   {
    "duration": 6,
    "start_time": "2021-10-12T11:07:53.738Z"
   },
   {
    "duration": 11,
    "start_time": "2021-10-12T11:07:53.746Z"
   },
   {
    "duration": 6,
    "start_time": "2021-10-12T11:07:53.758Z"
   },
   {
    "duration": 187,
    "start_time": "2021-10-12T11:09:06.100Z"
   },
   {
    "duration": 3,
    "start_time": "2021-10-12T11:09:16.771Z"
   },
   {
    "duration": 8,
    "start_time": "2021-10-12T11:09:31.560Z"
   },
   {
    "duration": 3,
    "start_time": "2021-10-12T11:10:11.319Z"
   },
   {
    "duration": 125,
    "start_time": "2021-10-12T11:11:08.981Z"
   },
   {
    "duration": 444,
    "start_time": "2021-10-12T11:11:54.161Z"
   },
   {
    "duration": 602,
    "start_time": "2021-10-12T11:12:04.928Z"
   },
   {
    "duration": 432,
    "start_time": "2021-10-12T11:12:05.534Z"
   },
   {
    "duration": 54,
    "start_time": "2021-10-12T11:12:05.968Z"
   },
   {
    "duration": 263,
    "start_time": "2021-10-12T11:12:06.024Z"
   },
   {
    "duration": -90,
    "start_time": "2021-10-12T11:12:06.378Z"
   },
   {
    "duration": -111,
    "start_time": "2021-10-12T11:12:06.400Z"
   },
   {
    "duration": -112,
    "start_time": "2021-10-12T11:12:06.402Z"
   },
   {
    "duration": -112,
    "start_time": "2021-10-12T11:12:06.403Z"
   },
   {
    "duration": -111,
    "start_time": "2021-10-12T11:12:06.404Z"
   },
   {
    "duration": 557,
    "start_time": "2021-10-12T11:13:02.260Z"
   },
   {
    "duration": 391,
    "start_time": "2021-10-12T11:13:02.819Z"
   },
   {
    "duration": 50,
    "start_time": "2021-10-12T11:13:03.212Z"
   },
   {
    "duration": 83,
    "start_time": "2021-10-12T11:13:03.264Z"
   },
   {
    "duration": 6,
    "start_time": "2021-10-12T11:13:03.349Z"
   },
   {
    "duration": 28,
    "start_time": "2021-10-12T11:13:03.357Z"
   },
   {
    "duration": 16,
    "start_time": "2021-10-12T11:13:03.387Z"
   },
   {
    "duration": 26,
    "start_time": "2021-10-12T11:13:03.405Z"
   },
   {
    "duration": 27,
    "start_time": "2021-10-12T11:13:03.432Z"
   },
   {
    "duration": 9,
    "start_time": "2021-10-12T11:14:27.156Z"
   },
   {
    "duration": 16,
    "start_time": "2021-10-12T11:15:42.045Z"
   },
   {
    "duration": 4,
    "start_time": "2021-10-12T11:23:01.851Z"
   },
   {
    "duration": 20,
    "start_time": "2021-10-12T11:24:01.181Z"
   },
   {
    "duration": 6,
    "start_time": "2021-10-12T11:24:58.657Z"
   },
   {
    "duration": 15,
    "start_time": "2021-10-12T11:25:08.332Z"
   },
   {
    "duration": 21,
    "start_time": "2021-10-12T11:26:47.201Z"
   },
   {
    "duration": 18,
    "start_time": "2021-10-12T11:27:53.609Z"
   },
   {
    "duration": 27,
    "start_time": "2021-10-12T11:28:39.006Z"
   },
   {
    "duration": 263,
    "start_time": "2021-10-12T11:29:32.503Z"
   },
   {
    "duration": 459,
    "start_time": "2021-10-12T11:30:57.882Z"
   },
   {
    "duration": 568,
    "start_time": "2021-10-12T11:31:29.740Z"
   },
   {
    "duration": 393,
    "start_time": "2021-10-12T11:31:30.310Z"
   },
   {
    "duration": 49,
    "start_time": "2021-10-12T11:31:30.705Z"
   },
   {
    "duration": 85,
    "start_time": "2021-10-12T11:31:30.756Z"
   },
   {
    "duration": 5,
    "start_time": "2021-10-12T11:31:30.842Z"
   },
   {
    "duration": 12,
    "start_time": "2021-10-12T11:31:30.849Z"
   },
   {
    "duration": 11,
    "start_time": "2021-10-12T11:31:30.863Z"
   },
   {
    "duration": 12,
    "start_time": "2021-10-12T11:31:30.876Z"
   },
   {
    "duration": 10,
    "start_time": "2021-10-12T11:31:30.890Z"
   },
   {
    "duration": 12,
    "start_time": "2021-10-12T11:31:30.902Z"
   },
   {
    "duration": 19,
    "start_time": "2021-10-12T11:31:30.916Z"
   },
   {
    "duration": 5,
    "start_time": "2021-10-12T11:31:30.937Z"
   },
   {
    "duration": 15,
    "start_time": "2021-10-12T11:31:30.943Z"
   },
   {
    "duration": 15,
    "start_time": "2021-10-12T11:31:30.959Z"
   },
   {
    "duration": 33,
    "start_time": "2021-10-12T11:31:30.975Z"
   },
   {
    "duration": 216,
    "start_time": "2021-10-12T11:31:31.010Z"
   },
   {
    "duration": 16,
    "start_time": "2021-10-12T11:34:52.695Z"
   },
   {
    "duration": 13,
    "start_time": "2021-10-12T11:34:56.603Z"
   },
   {
    "duration": 16,
    "start_time": "2021-10-12T11:35:33.024Z"
   },
   {
    "duration": 14,
    "start_time": "2021-10-12T11:35:35.719Z"
   },
   {
    "duration": 19,
    "start_time": "2021-10-12T11:38:14.101Z"
   },
   {
    "duration": 12,
    "start_time": "2021-10-12T11:38:16.005Z"
   },
   {
    "duration": 565,
    "start_time": "2021-10-12T11:39:53.355Z"
   },
   {
    "duration": 375,
    "start_time": "2021-10-12T11:39:53.922Z"
   },
   {
    "duration": 46,
    "start_time": "2021-10-12T11:39:54.299Z"
   },
   {
    "duration": 84,
    "start_time": "2021-10-12T11:39:54.346Z"
   },
   {
    "duration": 5,
    "start_time": "2021-10-12T11:39:54.431Z"
   },
   {
    "duration": 12,
    "start_time": "2021-10-12T11:39:54.437Z"
   },
   {
    "duration": 3,
    "start_time": "2021-10-12T11:39:54.450Z"
   },
   {
    "duration": 4,
    "start_time": "2021-10-12T11:39:54.455Z"
   },
   {
    "duration": 7,
    "start_time": "2021-10-12T11:39:54.460Z"
   },
   {
    "duration": 33,
    "start_time": "2021-10-12T11:39:54.468Z"
   },
   {
    "duration": 17,
    "start_time": "2021-10-12T11:39:54.503Z"
   },
   {
    "duration": 3,
    "start_time": "2021-10-12T11:39:54.521Z"
   },
   {
    "duration": 8,
    "start_time": "2021-10-12T11:39:54.526Z"
   },
   {
    "duration": 13,
    "start_time": "2021-10-12T11:39:54.535Z"
   },
   {
    "duration": 55,
    "start_time": "2021-10-12T11:39:54.550Z"
   },
   {
    "duration": 29,
    "start_time": "2021-10-12T11:39:54.606Z"
   },
   {
    "duration": 13,
    "start_time": "2021-10-12T11:39:54.637Z"
   },
   {
    "duration": 188,
    "start_time": "2021-10-12T11:41:59.023Z"
   },
   {
    "duration": 609,
    "start_time": "2021-10-12T11:42:15.888Z"
   },
   {
    "duration": 402,
    "start_time": "2021-10-12T11:42:16.500Z"
   },
   {
    "duration": 48,
    "start_time": "2021-10-12T11:42:16.904Z"
   },
   {
    "duration": 85,
    "start_time": "2021-10-12T11:42:16.954Z"
   },
   {
    "duration": 5,
    "start_time": "2021-10-12T11:42:17.041Z"
   },
   {
    "duration": 8,
    "start_time": "2021-10-12T11:42:17.047Z"
   },
   {
    "duration": 3,
    "start_time": "2021-10-12T11:42:17.057Z"
   },
   {
    "duration": 6,
    "start_time": "2021-10-12T11:42:17.061Z"
   },
   {
    "duration": 31,
    "start_time": "2021-10-12T11:42:17.069Z"
   },
   {
    "duration": 18,
    "start_time": "2021-10-12T11:42:17.102Z"
   },
   {
    "duration": 22,
    "start_time": "2021-10-12T11:42:17.122Z"
   },
   {
    "duration": 15,
    "start_time": "2021-10-12T11:42:17.146Z"
   },
   {
    "duration": 20,
    "start_time": "2021-10-12T11:42:17.163Z"
   },
   {
    "duration": 23,
    "start_time": "2021-10-12T11:42:17.185Z"
   },
   {
    "duration": 25,
    "start_time": "2021-10-12T11:42:17.209Z"
   },
   {
    "duration": 25,
    "start_time": "2021-10-12T11:42:17.236Z"
   },
   {
    "duration": 9,
    "start_time": "2021-10-12T11:42:17.263Z"
   },
   {
    "duration": 46,
    "start_time": "2021-10-12T11:42:17.274Z"
   },
   {
    "duration": 9,
    "start_time": "2021-10-12T11:43:31.802Z"
   },
   {
    "duration": 20,
    "start_time": "2021-10-12T11:43:43.314Z"
   },
   {
    "duration": 17,
    "start_time": "2021-10-12T11:44:34.908Z"
   },
   {
    "duration": 11,
    "start_time": "2021-10-12T11:46:31.861Z"
   },
   {
    "duration": 3801,
    "start_time": "2021-10-12T11:46:57.399Z"
   },
   {
    "duration": 14,
    "start_time": "2021-10-12T11:47:37.448Z"
   },
   {
    "duration": 17,
    "start_time": "2021-10-12T11:47:58.603Z"
   },
   {
    "duration": 13,
    "start_time": "2021-10-12T11:48:33.685Z"
   },
   {
    "duration": 422,
    "start_time": "2021-10-12T11:51:13.923Z"
   },
   {
    "duration": 269,
    "start_time": "2021-10-12T11:53:52.680Z"
   },
   {
    "duration": 12,
    "start_time": "2021-10-12T11:53:55.849Z"
   },
   {
    "duration": 12,
    "start_time": "2021-10-12T11:54:27.910Z"
   },
   {
    "duration": 543,
    "start_time": "2021-10-12T11:58:05.361Z"
   },
   {
    "duration": 392,
    "start_time": "2021-10-12T11:58:05.906Z"
   },
   {
    "duration": 49,
    "start_time": "2021-10-12T11:58:06.300Z"
   },
   {
    "duration": 86,
    "start_time": "2021-10-12T11:58:06.350Z"
   },
   {
    "duration": 5,
    "start_time": "2021-10-12T11:58:06.438Z"
   },
   {
    "duration": 8,
    "start_time": "2021-10-12T11:58:06.444Z"
   },
   {
    "duration": 3,
    "start_time": "2021-10-12T11:58:06.454Z"
   },
   {
    "duration": 6,
    "start_time": "2021-10-12T11:58:06.459Z"
   },
   {
    "duration": 6,
    "start_time": "2021-10-12T11:58:06.466Z"
   },
   {
    "duration": 33,
    "start_time": "2021-10-12T11:58:06.473Z"
   },
   {
    "duration": 15,
    "start_time": "2021-10-12T11:58:06.507Z"
   },
   {
    "duration": 3,
    "start_time": "2021-10-12T11:58:06.523Z"
   },
   {
    "duration": 7,
    "start_time": "2021-10-12T11:58:06.527Z"
   },
   {
    "duration": 13,
    "start_time": "2021-10-12T11:58:06.535Z"
   },
   {
    "duration": 57,
    "start_time": "2021-10-12T11:58:06.550Z"
   },
   {
    "duration": 25,
    "start_time": "2021-10-12T11:58:06.608Z"
   },
   {
    "duration": 10,
    "start_time": "2021-10-12T11:58:06.634Z"
   },
   {
    "duration": 10,
    "start_time": "2021-10-12T11:58:06.646Z"
   },
   {
    "duration": 56,
    "start_time": "2021-10-12T11:58:06.658Z"
   },
   {
    "duration": 15,
    "start_time": "2021-10-12T11:58:06.715Z"
   },
   {
    "duration": 10,
    "start_time": "2021-10-12T11:58:06.732Z"
   },
   {
    "duration": 15,
    "start_time": "2021-10-12T11:58:06.744Z"
   },
   {
    "duration": 315,
    "start_time": "2021-10-12T11:58:06.762Z"
   },
   {
    "duration": 11,
    "start_time": "2021-10-12T11:58:07.079Z"
   },
   {
    "duration": 191,
    "start_time": "2021-10-12T12:03:39.452Z"
   },
   {
    "duration": 764,
    "start_time": "2021-10-12T12:03:56.930Z"
   },
   {
    "duration": 5926,
    "start_time": "2021-10-12T12:16:00.314Z"
   },
   {
    "duration": 617,
    "start_time": "2021-10-12T12:17:10.799Z"
   },
   {
    "duration": 421,
    "start_time": "2021-10-12T12:17:11.418Z"
   },
   {
    "duration": 49,
    "start_time": "2021-10-12T12:17:11.841Z"
   },
   {
    "duration": 71,
    "start_time": "2021-10-12T12:17:11.892Z"
   },
   {
    "duration": 5,
    "start_time": "2021-10-12T12:17:11.965Z"
   },
   {
    "duration": 23,
    "start_time": "2021-10-12T12:17:11.972Z"
   },
   {
    "duration": 3,
    "start_time": "2021-10-12T12:17:12.000Z"
   },
   {
    "duration": 6,
    "start_time": "2021-10-12T12:17:12.006Z"
   },
   {
    "duration": 8,
    "start_time": "2021-10-12T12:17:12.014Z"
   },
   {
    "duration": 14,
    "start_time": "2021-10-12T12:17:12.024Z"
   },
   {
    "duration": 14,
    "start_time": "2021-10-12T12:17:12.040Z"
   },
   {
    "duration": 3,
    "start_time": "2021-10-12T12:17:12.056Z"
   },
   {
    "duration": 6,
    "start_time": "2021-10-12T12:17:12.061Z"
   },
   {
    "duration": 39,
    "start_time": "2021-10-12T12:17:12.069Z"
   },
   {
    "duration": 21,
    "start_time": "2021-10-12T12:17:12.110Z"
   },
   {
    "duration": 25,
    "start_time": "2021-10-12T12:17:12.132Z"
   },
   {
    "duration": 9,
    "start_time": "2021-10-12T12:17:12.158Z"
   },
   {
    "duration": 35,
    "start_time": "2021-10-12T12:17:12.169Z"
   },
   {
    "duration": 19,
    "start_time": "2021-10-12T12:17:12.206Z"
   },
   {
    "duration": 13,
    "start_time": "2021-10-12T12:17:12.227Z"
   },
   {
    "duration": 9,
    "start_time": "2021-10-12T12:17:12.242Z"
   },
   {
    "duration": 52,
    "start_time": "2021-10-12T12:17:12.253Z"
   },
   {
    "duration": 3715,
    "start_time": "2021-10-12T12:17:12.308Z"
   },
   {
    "duration": 111,
    "start_time": "2021-10-12T12:17:15.914Z"
   },
   {
    "duration": 109,
    "start_time": "2021-10-12T12:17:15.917Z"
   },
   {
    "duration": 50,
    "start_time": "2021-10-12T12:18:26.015Z"
   },
   {
    "duration": 3232,
    "start_time": "2021-10-12T12:18:39.323Z"
   },
   {
    "duration": 368,
    "start_time": "2021-10-12T12:23:19.983Z"
   },
   {
    "duration": 155,
    "start_time": "2021-10-12T12:23:43.798Z"
   },
   {
    "duration": 136,
    "start_time": "2021-10-12T12:33:38.498Z"
   },
   {
    "duration": 3690,
    "start_time": "2021-10-12T12:34:03.763Z"
   },
   {
    "duration": 81,
    "start_time": "2021-10-12T12:34:38.159Z"
   },
   {
    "duration": 16,
    "start_time": "2021-10-12T12:34:46.105Z"
   },
   {
    "duration": 12,
    "start_time": "2021-10-12T12:34:49.744Z"
   },
   {
    "duration": 13,
    "start_time": "2021-10-12T12:35:42.231Z"
   },
   {
    "duration": 8,
    "start_time": "2021-10-12T12:35:45.144Z"
   },
   {
    "duration": 19,
    "start_time": "2021-10-12T12:35:53.311Z"
   },
   {
    "duration": 14,
    "start_time": "2021-10-12T12:36:24.311Z"
   },
   {
    "duration": 9,
    "start_time": "2021-10-12T12:36:28.078Z"
   },
   {
    "duration": 29,
    "start_time": "2021-10-12T12:44:36.261Z"
   },
   {
    "duration": 28,
    "start_time": "2021-10-12T12:44:56.950Z"
   },
   {
    "duration": 20,
    "start_time": "2021-10-12T12:52:03.496Z"
   },
   {
    "duration": 10,
    "start_time": "2021-10-12T12:52:05.731Z"
   },
   {
    "duration": 10,
    "start_time": "2021-10-12T12:53:46.427Z"
   },
   {
    "duration": 22,
    "start_time": "2021-10-12T12:53:50.663Z"
   },
   {
    "duration": 8,
    "start_time": "2021-10-12T12:56:47.846Z"
   },
   {
    "duration": 14,
    "start_time": "2021-10-12T12:57:55.455Z"
   },
   {
    "duration": 19,
    "start_time": "2021-10-12T12:58:47.173Z"
   },
   {
    "duration": 20,
    "start_time": "2021-10-12T12:59:51.070Z"
   },
   {
    "duration": 10,
    "start_time": "2021-10-12T12:59:59.658Z"
   },
   {
    "duration": 8,
    "start_time": "2021-10-12T13:01:06.232Z"
   },
   {
    "duration": 21,
    "start_time": "2021-10-12T13:01:10.622Z"
   },
   {
    "duration": 9,
    "start_time": "2021-10-12T13:01:53.366Z"
   },
   {
    "duration": 8,
    "start_time": "2021-10-12T13:02:04.798Z"
   },
   {
    "duration": 536,
    "start_time": "2021-10-12T13:02:41.559Z"
   },
   {
    "duration": 388,
    "start_time": "2021-10-12T13:02:42.100Z"
   },
   {
    "duration": 50,
    "start_time": "2021-10-12T13:02:42.490Z"
   },
   {
    "duration": 82,
    "start_time": "2021-10-12T13:02:42.543Z"
   },
   {
    "duration": 6,
    "start_time": "2021-10-12T13:02:42.626Z"
   },
   {
    "duration": 10,
    "start_time": "2021-10-12T13:02:42.634Z"
   },
   {
    "duration": 4,
    "start_time": "2021-10-12T13:02:42.646Z"
   },
   {
    "duration": 3,
    "start_time": "2021-10-12T13:02:42.653Z"
   },
   {
    "duration": 42,
    "start_time": "2021-10-12T13:02:42.658Z"
   },
   {
    "duration": 10,
    "start_time": "2021-10-12T13:02:42.701Z"
   },
   {
    "duration": 16,
    "start_time": "2021-10-12T13:02:42.713Z"
   },
   {
    "duration": 5,
    "start_time": "2021-10-12T13:02:42.732Z"
   },
   {
    "duration": 7,
    "start_time": "2021-10-12T13:02:42.739Z"
   },
   {
    "duration": 55,
    "start_time": "2021-10-12T13:02:42.748Z"
   },
   {
    "duration": 23,
    "start_time": "2021-10-12T13:02:42.805Z"
   },
   {
    "duration": 26,
    "start_time": "2021-10-12T13:02:42.830Z"
   },
   {
    "duration": 41,
    "start_time": "2021-10-12T13:02:42.858Z"
   },
   {
    "duration": 10,
    "start_time": "2021-10-12T13:02:42.901Z"
   },
   {
    "duration": 21,
    "start_time": "2021-10-12T13:02:42.912Z"
   },
   {
    "duration": 16,
    "start_time": "2021-10-12T13:02:42.935Z"
   },
   {
    "duration": 56,
    "start_time": "2021-10-12T13:02:42.952Z"
   },
   {
    "duration": 20,
    "start_time": "2021-10-12T13:02:43.009Z"
   },
   {
    "duration": 11,
    "start_time": "2021-10-12T13:02:43.032Z"
   },
   {
    "duration": 8,
    "start_time": "2021-10-12T13:02:43.044Z"
   },
   {
    "duration": 56,
    "start_time": "2021-10-12T13:02:43.054Z"
   },
   {
    "duration": 15,
    "start_time": "2021-10-12T13:02:43.111Z"
   },
   {
    "duration": 16,
    "start_time": "2021-10-12T13:02:43.127Z"
   },
   {
    "duration": 9,
    "start_time": "2021-10-12T13:02:43.145Z"
   },
   {
    "duration": 8,
    "start_time": "2021-10-12T13:02:43.156Z"
   },
   {
    "duration": 55,
    "start_time": "2021-10-12T13:02:43.166Z"
   },
   {
    "duration": 417,
    "start_time": "2021-10-12T18:47:43.859Z"
   },
   {
    "duration": 666,
    "start_time": "2021-10-12T18:47:52.835Z"
   },
   {
    "duration": 423,
    "start_time": "2021-10-12T18:47:53.503Z"
   },
   {
    "duration": 54,
    "start_time": "2021-10-12T18:47:53.928Z"
   },
   {
    "duration": 71,
    "start_time": "2021-10-12T18:47:53.984Z"
   },
   {
    "duration": 5,
    "start_time": "2021-10-12T18:47:54.057Z"
   },
   {
    "duration": 15,
    "start_time": "2021-10-12T18:47:54.064Z"
   },
   {
    "duration": 4,
    "start_time": "2021-10-12T18:47:54.081Z"
   },
   {
    "duration": 5,
    "start_time": "2021-10-12T18:47:54.087Z"
   },
   {
    "duration": 5,
    "start_time": "2021-10-12T18:47:54.095Z"
   },
   {
    "duration": 9,
    "start_time": "2021-10-12T18:47:54.102Z"
   },
   {
    "duration": 16,
    "start_time": "2021-10-12T18:47:54.112Z"
   },
   {
    "duration": 49,
    "start_time": "2021-10-12T18:47:54.131Z"
   },
   {
    "duration": 6,
    "start_time": "2021-10-12T18:47:54.182Z"
   },
   {
    "duration": 14,
    "start_time": "2021-10-12T18:47:54.190Z"
   },
   {
    "duration": 24,
    "start_time": "2021-10-12T18:47:54.206Z"
   },
   {
    "duration": 54,
    "start_time": "2021-10-12T18:47:54.232Z"
   },
   {
    "duration": 11,
    "start_time": "2021-10-12T18:47:54.288Z"
   },
   {
    "duration": 9,
    "start_time": "2021-10-12T18:47:54.301Z"
   },
   {
    "duration": 20,
    "start_time": "2021-10-12T18:47:54.312Z"
   },
   {
    "duration": 14,
    "start_time": "2021-10-12T18:47:54.333Z"
   },
   {
    "duration": 39,
    "start_time": "2021-10-12T18:47:54.349Z"
   },
   {
    "duration": 19,
    "start_time": "2021-10-12T18:47:54.390Z"
   },
   {
    "duration": 11,
    "start_time": "2021-10-12T18:47:54.410Z"
   },
   {
    "duration": 10,
    "start_time": "2021-10-12T18:47:54.423Z"
   },
   {
    "duration": 53,
    "start_time": "2021-10-12T18:47:54.434Z"
   },
   {
    "duration": 18,
    "start_time": "2021-10-12T18:47:54.489Z"
   },
   {
    "duration": 17,
    "start_time": "2021-10-12T18:47:54.511Z"
   },
   {
    "duration": 10,
    "start_time": "2021-10-12T18:47:54.531Z"
   },
   {
    "duration": 40,
    "start_time": "2021-10-12T18:47:54.542Z"
   },
   {
    "duration": 22,
    "start_time": "2021-10-12T18:47:54.584Z"
   },
   {
    "duration": 6,
    "start_time": "2021-10-12T18:47:54.608Z"
   },
   {
    "duration": 8,
    "start_time": "2021-10-12T18:49:01.141Z"
   },
   {
    "duration": 10,
    "start_time": "2021-10-12T18:59:34.098Z"
   },
   {
    "duration": 653,
    "start_time": "2021-10-12T19:00:34.434Z"
   },
   {
    "duration": 448,
    "start_time": "2021-10-12T19:00:35.089Z"
   },
   {
    "duration": 50,
    "start_time": "2021-10-12T19:00:35.539Z"
   },
   {
    "duration": 76,
    "start_time": "2021-10-12T19:00:35.590Z"
   },
   {
    "duration": 10,
    "start_time": "2021-10-12T19:00:35.667Z"
   },
   {
    "duration": 8,
    "start_time": "2021-10-12T19:00:35.679Z"
   },
   {
    "duration": 3,
    "start_time": "2021-10-12T19:00:35.689Z"
   },
   {
    "duration": 4,
    "start_time": "2021-10-12T19:00:35.694Z"
   },
   {
    "duration": 5,
    "start_time": "2021-10-12T19:00:35.700Z"
   },
   {
    "duration": 16,
    "start_time": "2021-10-12T19:00:35.707Z"
   },
   {
    "duration": 19,
    "start_time": "2021-10-12T19:00:35.725Z"
   },
   {
    "duration": 4,
    "start_time": "2021-10-12T19:00:35.746Z"
   },
   {
    "duration": 6,
    "start_time": "2021-10-12T19:00:35.776Z"
   },
   {
    "duration": 20,
    "start_time": "2021-10-12T19:00:35.783Z"
   },
   {
    "duration": 24,
    "start_time": "2021-10-12T19:00:35.805Z"
   },
   {
    "duration": 25,
    "start_time": "2021-10-12T19:00:35.830Z"
   },
   {
    "duration": 27,
    "start_time": "2021-10-12T19:00:35.857Z"
   },
   {
    "duration": 10,
    "start_time": "2021-10-12T19:00:35.886Z"
   },
   {
    "duration": 22,
    "start_time": "2021-10-12T19:00:35.897Z"
   },
   {
    "duration": 14,
    "start_time": "2021-10-12T19:00:35.920Z"
   },
   {
    "duration": 43,
    "start_time": "2021-10-12T19:00:35.936Z"
   },
   {
    "duration": 18,
    "start_time": "2021-10-12T19:00:35.981Z"
   },
   {
    "duration": 17,
    "start_time": "2021-10-12T19:00:36.001Z"
   },
   {
    "duration": 11,
    "start_time": "2021-10-12T19:00:36.020Z"
   },
   {
    "duration": 45,
    "start_time": "2021-10-12T19:00:36.033Z"
   },
   {
    "duration": 18,
    "start_time": "2021-10-12T19:00:36.080Z"
   },
   {
    "duration": 18,
    "start_time": "2021-10-12T19:00:36.101Z"
   },
   {
    "duration": 11,
    "start_time": "2021-10-12T19:00:36.121Z"
   },
   {
    "duration": 8,
    "start_time": "2021-10-12T19:00:36.134Z"
   },
   {
    "duration": 54,
    "start_time": "2021-10-12T19:00:36.144Z"
   },
   {
    "duration": 8,
    "start_time": "2021-10-12T19:00:36.199Z"
   },
   {
    "duration": 8,
    "start_time": "2021-10-12T19:00:36.209Z"
   },
   {
    "duration": 33,
    "start_time": "2021-10-12T19:00:36.219Z"
   },
   {
    "duration": 10,
    "start_time": "2021-10-12T19:00:36.277Z"
   },
   {
    "duration": 7431,
    "start_time": "2021-10-12T19:07:40.123Z"
   },
   {
    "duration": 6750,
    "start_time": "2021-10-12T19:09:06.935Z"
   },
   {
    "duration": 7737,
    "start_time": "2021-10-12T19:09:35.270Z"
   },
   {
    "duration": 698,
    "start_time": "2021-10-12T19:09:52.165Z"
   },
   {
    "duration": 440,
    "start_time": "2021-10-12T19:09:52.865Z"
   },
   {
    "duration": 50,
    "start_time": "2021-10-12T19:09:53.307Z"
   },
   {
    "duration": 73,
    "start_time": "2021-10-12T19:09:53.359Z"
   },
   {
    "duration": 5,
    "start_time": "2021-10-12T19:09:53.434Z"
   },
   {
    "duration": 8,
    "start_time": "2021-10-12T19:09:53.440Z"
   },
   {
    "duration": 3,
    "start_time": "2021-10-12T19:09:53.450Z"
   },
   {
    "duration": 4,
    "start_time": "2021-10-12T19:09:53.454Z"
   },
   {
    "duration": 17,
    "start_time": "2021-10-12T19:09:53.461Z"
   },
   {
    "duration": 12,
    "start_time": "2021-10-12T19:09:53.480Z"
   },
   {
    "duration": 16,
    "start_time": "2021-10-12T19:09:53.493Z"
   },
   {
    "duration": 4,
    "start_time": "2021-10-12T19:09:53.511Z"
   },
   {
    "duration": 8,
    "start_time": "2021-10-12T19:09:53.516Z"
   },
   {
    "duration": 14,
    "start_time": "2021-10-12T19:09:53.526Z"
   },
   {
    "duration": 51,
    "start_time": "2021-10-12T19:09:53.541Z"
   },
   {
    "duration": 24,
    "start_time": "2021-10-12T19:09:53.594Z"
   },
   {
    "duration": 9,
    "start_time": "2021-10-12T19:09:53.620Z"
   },
   {
    "duration": 9,
    "start_time": "2021-10-12T19:09:53.631Z"
   },
   {
    "duration": 39,
    "start_time": "2021-10-12T19:09:53.642Z"
   },
   {
    "duration": 15,
    "start_time": "2021-10-12T19:09:53.682Z"
   },
   {
    "duration": 15,
    "start_time": "2021-10-12T19:09:53.698Z"
   },
   {
    "duration": 20,
    "start_time": "2021-10-12T19:09:53.714Z"
   },
   {
    "duration": 9,
    "start_time": "2021-10-12T19:09:53.736Z"
   },
   {
    "duration": 34,
    "start_time": "2021-10-12T19:09:53.747Z"
   },
   {
    "duration": 21,
    "start_time": "2021-10-12T19:09:53.783Z"
   },
   {
    "duration": 17,
    "start_time": "2021-10-12T19:09:53.805Z"
   },
   {
    "duration": 18,
    "start_time": "2021-10-12T19:09:53.825Z"
   },
   {
    "duration": 35,
    "start_time": "2021-10-12T19:09:53.845Z"
   },
   {
    "duration": 8,
    "start_time": "2021-10-12T19:09:53.882Z"
   },
   {
    "duration": 23,
    "start_time": "2021-10-12T19:09:53.891Z"
   },
   {
    "duration": 7,
    "start_time": "2021-10-12T19:09:53.915Z"
   },
   {
    "duration": 8,
    "start_time": "2021-10-12T19:09:53.923Z"
   },
   {
    "duration": 9,
    "start_time": "2021-10-12T19:09:53.932Z"
   },
   {
    "duration": 8438,
    "start_time": "2021-10-12T19:09:53.943Z"
   },
   {
    "duration": 6550,
    "start_time": "2021-10-12T19:10:20.938Z"
   },
   {
    "duration": 661,
    "start_time": "2021-10-12T19:10:59.097Z"
   },
   {
    "duration": 415,
    "start_time": "2021-10-12T19:10:59.760Z"
   },
   {
    "duration": 55,
    "start_time": "2021-10-12T19:11:00.177Z"
   },
   {
    "duration": 85,
    "start_time": "2021-10-12T19:11:00.234Z"
   },
   {
    "duration": 5,
    "start_time": "2021-10-12T19:11:00.321Z"
   },
   {
    "duration": 10,
    "start_time": "2021-10-12T19:11:00.328Z"
   },
   {
    "duration": 5,
    "start_time": "2021-10-12T19:11:00.339Z"
   },
   {
    "duration": 9,
    "start_time": "2021-10-12T19:11:00.345Z"
   },
   {
    "duration": 21,
    "start_time": "2021-10-12T19:11:00.356Z"
   },
   {
    "duration": 14,
    "start_time": "2021-10-12T19:11:00.379Z"
   },
   {
    "duration": 17,
    "start_time": "2021-10-12T19:11:00.395Z"
   },
   {
    "duration": 4,
    "start_time": "2021-10-12T19:11:00.414Z"
   },
   {
    "duration": 7,
    "start_time": "2021-10-12T19:11:00.420Z"
   },
   {
    "duration": 21,
    "start_time": "2021-10-12T19:11:00.429Z"
   },
   {
    "duration": 46,
    "start_time": "2021-10-12T19:11:00.451Z"
   },
   {
    "duration": 27,
    "start_time": "2021-10-12T19:11:00.498Z"
   },
   {
    "duration": 11,
    "start_time": "2021-10-12T19:11:00.526Z"
   },
   {
    "duration": 10,
    "start_time": "2021-10-12T19:11:00.538Z"
   },
   {
    "duration": 44,
    "start_time": "2021-10-12T19:11:00.550Z"
   },
   {
    "duration": 15,
    "start_time": "2021-10-12T19:11:00.596Z"
   },
   {
    "duration": 15,
    "start_time": "2021-10-12T19:11:00.612Z"
   },
   {
    "duration": 48,
    "start_time": "2021-10-12T19:11:00.629Z"
   },
   {
    "duration": 11,
    "start_time": "2021-10-12T19:11:00.678Z"
   },
   {
    "duration": 8,
    "start_time": "2021-10-12T19:11:00.691Z"
   },
   {
    "duration": 23,
    "start_time": "2021-10-12T19:11:00.701Z"
   },
   {
    "duration": 17,
    "start_time": "2021-10-12T19:11:00.725Z"
   },
   {
    "duration": 47,
    "start_time": "2021-10-12T19:11:00.746Z"
   },
   {
    "duration": 10,
    "start_time": "2021-10-12T19:11:00.795Z"
   },
   {
    "duration": 17,
    "start_time": "2021-10-12T19:11:00.806Z"
   },
   {
    "duration": 33,
    "start_time": "2021-10-12T19:11:00.825Z"
   },
   {
    "duration": 8,
    "start_time": "2021-10-12T19:11:00.859Z"
   },
   {
    "duration": 20,
    "start_time": "2021-10-12T19:11:00.868Z"
   },
   {
    "duration": 26,
    "start_time": "2021-10-12T19:11:00.890Z"
   },
   {
    "duration": 7004,
    "start_time": "2021-10-12T19:11:00.918Z"
   },
   {
    "duration": 9258,
    "start_time": "2021-10-12T19:14:46.044Z"
   },
   {
    "duration": 678,
    "start_time": "2021-10-12T19:15:17.257Z"
   },
   {
    "duration": 414,
    "start_time": "2021-10-12T19:15:17.936Z"
   },
   {
    "duration": 50,
    "start_time": "2021-10-12T19:15:18.352Z"
   },
   {
    "duration": 92,
    "start_time": "2021-10-12T19:15:18.404Z"
   },
   {
    "duration": 5,
    "start_time": "2021-10-12T19:15:18.498Z"
   },
   {
    "duration": 9,
    "start_time": "2021-10-12T19:15:18.505Z"
   },
   {
    "duration": 6,
    "start_time": "2021-10-12T19:15:18.516Z"
   },
   {
    "duration": 5,
    "start_time": "2021-10-12T19:15:18.523Z"
   },
   {
    "duration": 6,
    "start_time": "2021-10-12T19:15:18.530Z"
   },
   {
    "duration": 8,
    "start_time": "2021-10-12T19:15:18.538Z"
   },
   {
    "duration": 41,
    "start_time": "2021-10-12T19:15:18.548Z"
   },
   {
    "duration": 3,
    "start_time": "2021-10-12T19:15:18.591Z"
   },
   {
    "duration": 7,
    "start_time": "2021-10-12T19:15:18.596Z"
   },
   {
    "duration": 19,
    "start_time": "2021-10-12T19:15:18.604Z"
   },
   {
    "duration": 27,
    "start_time": "2021-10-12T19:15:18.624Z"
   },
   {
    "duration": 41,
    "start_time": "2021-10-12T19:15:18.652Z"
   },
   {
    "duration": 10,
    "start_time": "2021-10-12T19:15:18.695Z"
   },
   {
    "duration": 8,
    "start_time": "2021-10-12T19:15:18.707Z"
   },
   {
    "duration": 21,
    "start_time": "2021-10-12T19:15:18.716Z"
   },
   {
    "duration": 39,
    "start_time": "2021-10-12T19:15:18.739Z"
   },
   {
    "duration": 14,
    "start_time": "2021-10-12T19:15:18.779Z"
   },
   {
    "duration": 18,
    "start_time": "2021-10-12T19:15:18.795Z"
   },
   {
    "duration": 10,
    "start_time": "2021-10-12T19:15:18.815Z"
   },
   {
    "duration": 10,
    "start_time": "2021-10-12T19:15:18.827Z"
   },
   {
    "duration": 50,
    "start_time": "2021-10-12T19:15:18.838Z"
   },
   {
    "duration": 17,
    "start_time": "2021-10-12T19:15:18.890Z"
   },
   {
    "duration": 17,
    "start_time": "2021-10-12T19:15:18.910Z"
   },
   {
    "duration": 11,
    "start_time": "2021-10-12T19:15:18.928Z"
   },
   {
    "duration": 7,
    "start_time": "2021-10-12T19:15:18.941Z"
   },
   {
    "duration": 47,
    "start_time": "2021-10-12T19:15:18.950Z"
   },
   {
    "duration": 7,
    "start_time": "2021-10-12T19:15:18.999Z"
   },
   {
    "duration": 8,
    "start_time": "2021-10-12T19:15:19.008Z"
   },
   {
    "duration": 10,
    "start_time": "2021-10-12T19:15:19.017Z"
   },
   {
    "duration": 9835,
    "start_time": "2021-10-12T19:15:19.029Z"
   },
   {
    "duration": 789,
    "start_time": "2021-10-12T19:18:46.960Z"
   },
   {
    "duration": 420,
    "start_time": "2021-10-12T19:18:47.751Z"
   },
   {
    "duration": 54,
    "start_time": "2021-10-12T19:18:48.174Z"
   },
   {
    "duration": 77,
    "start_time": "2021-10-12T19:18:48.230Z"
   },
   {
    "duration": 5,
    "start_time": "2021-10-12T19:18:48.309Z"
   },
   {
    "duration": 10,
    "start_time": "2021-10-12T19:18:48.315Z"
   },
   {
    "duration": 4,
    "start_time": "2021-10-12T19:18:48.327Z"
   },
   {
    "duration": 3,
    "start_time": "2021-10-12T19:18:48.333Z"
   },
   {
    "duration": 5,
    "start_time": "2021-10-12T19:18:48.338Z"
   },
   {
    "duration": 34,
    "start_time": "2021-10-12T19:18:48.344Z"
   },
   {
    "duration": 15,
    "start_time": "2021-10-12T19:18:48.380Z"
   },
   {
    "duration": 4,
    "start_time": "2021-10-12T19:18:48.397Z"
   },
   {
    "duration": 7,
    "start_time": "2021-10-12T19:18:48.402Z"
   },
   {
    "duration": 13,
    "start_time": "2021-10-12T19:18:48.411Z"
   },
   {
    "duration": 51,
    "start_time": "2021-10-12T19:18:48.426Z"
   },
   {
    "duration": 26,
    "start_time": "2021-10-12T19:18:48.479Z"
   },
   {
    "duration": 10,
    "start_time": "2021-10-12T19:18:48.506Z"
   },
   {
    "duration": 12,
    "start_time": "2021-10-12T19:18:48.518Z"
   },
   {
    "duration": 20,
    "start_time": "2021-10-12T19:18:48.532Z"
   },
   {
    "duration": 35,
    "start_time": "2021-10-12T19:18:48.554Z"
   },
   {
    "duration": 14,
    "start_time": "2021-10-12T19:18:48.591Z"
   },
   {
    "duration": 19,
    "start_time": "2021-10-12T19:18:48.607Z"
   },
   {
    "duration": 11,
    "start_time": "2021-10-12T19:18:48.629Z"
   },
   {
    "duration": 40,
    "start_time": "2021-10-12T19:18:48.642Z"
   },
   {
    "duration": 22,
    "start_time": "2021-10-12T19:18:48.684Z"
   },
   {
    "duration": 18,
    "start_time": "2021-10-12T19:18:48.708Z"
   },
   {
    "duration": 16,
    "start_time": "2021-10-12T19:18:48.727Z"
   },
   {
    "duration": 37,
    "start_time": "2021-10-12T19:18:48.745Z"
   },
   {
    "duration": 13,
    "start_time": "2021-10-12T19:18:48.784Z"
   },
   {
    "duration": 23,
    "start_time": "2021-10-12T19:18:48.799Z"
   },
   {
    "duration": 7,
    "start_time": "2021-10-12T19:18:48.823Z"
   },
   {
    "duration": 11,
    "start_time": "2021-10-12T19:18:48.832Z"
   },
   {
    "duration": 9320,
    "start_time": "2021-10-12T19:18:48.845Z"
   },
   {
    "duration": 9516,
    "start_time": "2021-10-12T19:27:20.341Z"
   },
   {
    "duration": 4276,
    "start_time": "2021-10-12T19:28:25.927Z"
   },
   {
    "duration": 5284,
    "start_time": "2021-10-12T19:29:13.263Z"
   },
   {
    "duration": 10,
    "start_time": "2021-10-12T19:40:02.708Z"
   },
   {
    "duration": 26,
    "start_time": "2021-10-12T19:40:05.042Z"
   },
   {
    "duration": 660,
    "start_time": "2021-10-12T19:40:45.893Z"
   },
   {
    "duration": 431,
    "start_time": "2021-10-12T19:40:46.555Z"
   },
   {
    "duration": 48,
    "start_time": "2021-10-12T19:40:46.988Z"
   },
   {
    "duration": 74,
    "start_time": "2021-10-12T19:40:47.037Z"
   },
   {
    "duration": 5,
    "start_time": "2021-10-12T19:40:47.112Z"
   },
   {
    "duration": 9,
    "start_time": "2021-10-12T19:40:47.118Z"
   },
   {
    "duration": 4,
    "start_time": "2021-10-12T19:40:47.128Z"
   },
   {
    "duration": 4,
    "start_time": "2021-10-12T19:40:47.134Z"
   },
   {
    "duration": 7,
    "start_time": "2021-10-12T19:40:47.140Z"
   },
   {
    "duration": 8,
    "start_time": "2021-10-12T19:40:47.149Z"
   },
   {
    "duration": 15,
    "start_time": "2021-10-12T19:40:47.177Z"
   },
   {
    "duration": 3,
    "start_time": "2021-10-12T19:40:47.193Z"
   },
   {
    "duration": 7,
    "start_time": "2021-10-12T19:40:47.198Z"
   },
   {
    "duration": 13,
    "start_time": "2021-10-12T19:40:47.206Z"
   },
   {
    "duration": 23,
    "start_time": "2021-10-12T19:40:47.221Z"
   },
   {
    "duration": 49,
    "start_time": "2021-10-12T19:40:47.246Z"
   },
   {
    "duration": 10,
    "start_time": "2021-10-12T19:40:47.296Z"
   },
   {
    "duration": 10,
    "start_time": "2021-10-12T19:40:47.307Z"
   },
   {
    "duration": 27,
    "start_time": "2021-10-12T19:40:47.318Z"
   },
   {
    "duration": 38,
    "start_time": "2021-10-12T19:40:47.347Z"
   },
   {
    "duration": 14,
    "start_time": "2021-10-12T19:40:47.387Z"
   },
   {
    "duration": 20,
    "start_time": "2021-10-12T19:40:47.403Z"
   },
   {
    "duration": 10,
    "start_time": "2021-10-12T19:40:47.426Z"
   },
   {
    "duration": 11,
    "start_time": "2021-10-12T19:40:47.437Z"
   },
   {
    "duration": 45,
    "start_time": "2021-10-12T19:40:47.450Z"
   },
   {
    "duration": 15,
    "start_time": "2021-10-12T19:40:47.497Z"
   },
   {
    "duration": 18,
    "start_time": "2021-10-12T19:40:47.514Z"
   },
   {
    "duration": 9,
    "start_time": "2021-10-12T19:40:47.534Z"
   },
   {
    "duration": 97,
    "start_time": "2021-10-12T19:40:47.545Z"
   },
   {
    "duration": 78,
    "start_time": "2021-10-12T19:40:47.566Z"
   },
   {
    "duration": 76,
    "start_time": "2021-10-12T19:40:47.568Z"
   },
   {
    "duration": 75,
    "start_time": "2021-10-12T19:40:47.570Z"
   },
   {
    "duration": 75,
    "start_time": "2021-10-12T19:40:47.571Z"
   },
   {
    "duration": 10,
    "start_time": "2021-10-12T19:41:14.050Z"
   },
   {
    "duration": 22,
    "start_time": "2021-10-12T19:41:17.108Z"
   },
   {
    "duration": 8,
    "start_time": "2021-10-12T19:41:23.432Z"
   },
   {
    "duration": 722,
    "start_time": "2021-10-12T19:41:55.671Z"
   },
   {
    "duration": 476,
    "start_time": "2021-10-12T19:41:56.395Z"
   },
   {
    "duration": 53,
    "start_time": "2021-10-12T19:41:56.873Z"
   },
   {
    "duration": 83,
    "start_time": "2021-10-12T19:41:56.928Z"
   },
   {
    "duration": 7,
    "start_time": "2021-10-12T19:41:57.012Z"
   },
   {
    "duration": 9,
    "start_time": "2021-10-12T19:41:57.021Z"
   },
   {
    "duration": 3,
    "start_time": "2021-10-12T19:41:57.032Z"
   },
   {
    "duration": 5,
    "start_time": "2021-10-12T19:41:57.038Z"
   },
   {
    "duration": 31,
    "start_time": "2021-10-12T19:41:57.046Z"
   },
   {
    "duration": 9,
    "start_time": "2021-10-12T19:41:57.079Z"
   },
   {
    "duration": 18,
    "start_time": "2021-10-12T19:41:57.090Z"
   },
   {
    "duration": 4,
    "start_time": "2021-10-12T19:41:57.109Z"
   },
   {
    "duration": 9,
    "start_time": "2021-10-12T19:41:57.114Z"
   },
   {
    "duration": 14,
    "start_time": "2021-10-12T19:41:57.125Z"
   },
   {
    "duration": 52,
    "start_time": "2021-10-12T19:41:57.141Z"
   },
   {
    "duration": 25,
    "start_time": "2021-10-12T19:41:57.195Z"
   },
   {
    "duration": 11,
    "start_time": "2021-10-12T19:41:57.222Z"
   },
   {
    "duration": 260,
    "start_time": "2021-10-12T19:41:57.235Z"
   },
   {
    "duration": 24,
    "start_time": "2021-10-12T19:41:57.497Z"
   },
   {
    "duration": 16,
    "start_time": "2021-10-12T19:41:57.522Z"
   },
   {
    "duration": 15,
    "start_time": "2021-10-12T19:41:57.539Z"
   },
   {
    "duration": 29,
    "start_time": "2021-10-12T19:41:57.556Z"
   },
   {
    "duration": 26,
    "start_time": "2021-10-12T19:41:57.588Z"
   },
   {
    "duration": 21,
    "start_time": "2021-10-12T19:41:57.617Z"
   },
   {
    "duration": 53,
    "start_time": "2021-10-12T19:41:57.640Z"
   },
   {
    "duration": 18,
    "start_time": "2021-10-12T19:41:57.694Z"
   },
   {
    "duration": 17,
    "start_time": "2021-10-12T19:41:57.714Z"
   },
   {
    "duration": 11,
    "start_time": "2021-10-12T19:41:57.733Z"
   },
   {
    "duration": 40,
    "start_time": "2021-10-12T19:41:57.745Z"
   },
   {
    "duration": 24,
    "start_time": "2021-10-12T19:41:57.787Z"
   },
   {
    "duration": 8,
    "start_time": "2021-10-12T19:41:57.813Z"
   },
   {
    "duration": 10,
    "start_time": "2021-10-12T19:41:57.822Z"
   },
   {
    "duration": 8827,
    "start_time": "2021-10-12T19:41:57.834Z"
   },
   {
    "duration": 11,
    "start_time": "2021-10-12T19:44:25.887Z"
   },
   {
    "duration": 4025,
    "start_time": "2021-10-12T19:44:27.507Z"
   },
   {
    "duration": 670,
    "start_time": "2021-10-12T19:51:07.585Z"
   },
   {
    "duration": 428,
    "start_time": "2021-10-12T19:51:08.256Z"
   },
   {
    "duration": 52,
    "start_time": "2021-10-12T19:51:08.686Z"
   },
   {
    "duration": 80,
    "start_time": "2021-10-12T19:51:08.739Z"
   },
   {
    "duration": 6,
    "start_time": "2021-10-12T19:51:08.820Z"
   },
   {
    "duration": 8,
    "start_time": "2021-10-12T19:51:08.828Z"
   },
   {
    "duration": 3,
    "start_time": "2021-10-12T19:51:08.837Z"
   },
   {
    "duration": 6,
    "start_time": "2021-10-12T19:51:08.842Z"
   },
   {
    "duration": 25,
    "start_time": "2021-10-12T19:51:08.851Z"
   },
   {
    "duration": 8,
    "start_time": "2021-10-12T19:51:08.879Z"
   },
   {
    "duration": 16,
    "start_time": "2021-10-12T19:51:08.888Z"
   },
   {
    "duration": 4,
    "start_time": "2021-10-12T19:51:08.905Z"
   },
   {
    "duration": 7,
    "start_time": "2021-10-12T19:51:08.910Z"
   },
   {
    "duration": 17,
    "start_time": "2021-10-12T19:51:08.919Z"
   },
   {
    "duration": 46,
    "start_time": "2021-10-12T19:51:08.938Z"
   },
   {
    "duration": 25,
    "start_time": "2021-10-12T19:51:08.986Z"
   },
   {
    "duration": 10,
    "start_time": "2021-10-12T19:51:09.013Z"
   },
   {
    "duration": 9,
    "start_time": "2021-10-12T19:51:09.025Z"
   },
   {
    "duration": 42,
    "start_time": "2021-10-12T19:51:09.036Z"
   },
   {
    "duration": 14,
    "start_time": "2021-10-12T19:51:09.080Z"
   },
   {
    "duration": 15,
    "start_time": "2021-10-12T19:51:09.096Z"
   },
   {
    "duration": 20,
    "start_time": "2021-10-12T19:51:09.113Z"
   },
   {
    "duration": 43,
    "start_time": "2021-10-12T19:51:09.135Z"
   },
   {
    "duration": 10,
    "start_time": "2021-10-12T19:51:09.180Z"
   },
   {
    "duration": 25,
    "start_time": "2021-10-12T19:51:09.192Z"
   },
   {
    "duration": 18,
    "start_time": "2021-10-12T19:51:09.219Z"
   },
   {
    "duration": 47,
    "start_time": "2021-10-12T19:51:09.241Z"
   },
   {
    "duration": 11,
    "start_time": "2021-10-12T19:51:09.290Z"
   },
   {
    "duration": 11,
    "start_time": "2021-10-12T19:51:09.303Z"
   },
   {
    "duration": 7,
    "start_time": "2021-10-12T19:51:09.316Z"
   },
   {
    "duration": 11,
    "start_time": "2021-10-12T19:51:09.325Z"
   },
   {
    "duration": 4555,
    "start_time": "2021-10-12T19:51:09.338Z"
   },
   {
    "duration": 700,
    "start_time": "2021-10-12T19:52:15.050Z"
   },
   {
    "duration": 423,
    "start_time": "2021-10-12T19:52:15.752Z"
   },
   {
    "duration": 52,
    "start_time": "2021-10-12T19:52:16.177Z"
   },
   {
    "duration": 85,
    "start_time": "2021-10-12T19:52:16.231Z"
   },
   {
    "duration": 5,
    "start_time": "2021-10-12T19:52:16.317Z"
   },
   {
    "duration": 8,
    "start_time": "2021-10-12T19:52:16.324Z"
   },
   {
    "duration": 3,
    "start_time": "2021-10-12T19:52:16.334Z"
   },
   {
    "duration": 4,
    "start_time": "2021-10-12T19:52:16.339Z"
   },
   {
    "duration": 5,
    "start_time": "2021-10-12T19:52:16.346Z"
   },
   {
    "duration": 29,
    "start_time": "2021-10-12T19:52:16.353Z"
   },
   {
    "duration": 15,
    "start_time": "2021-10-12T19:52:16.384Z"
   },
   {
    "duration": 3,
    "start_time": "2021-10-12T19:52:16.401Z"
   },
   {
    "duration": 6,
    "start_time": "2021-10-12T19:52:16.406Z"
   },
   {
    "duration": 20,
    "start_time": "2021-10-12T19:52:16.413Z"
   },
   {
    "duration": 55,
    "start_time": "2021-10-12T19:52:16.434Z"
   },
   {
    "duration": 27,
    "start_time": "2021-10-12T19:52:16.490Z"
   },
   {
    "duration": 11,
    "start_time": "2021-10-12T19:52:16.519Z"
   },
   {
    "duration": 10,
    "start_time": "2021-10-12T19:52:16.532Z"
   },
   {
    "duration": 44,
    "start_time": "2021-10-12T19:52:16.543Z"
   },
   {
    "duration": 14,
    "start_time": "2021-10-12T19:52:16.589Z"
   },
   {
    "duration": 14,
    "start_time": "2021-10-12T19:52:16.605Z"
   },
   {
    "duration": 19,
    "start_time": "2021-10-12T19:52:16.621Z"
   },
   {
    "duration": 36,
    "start_time": "2021-10-12T19:52:16.642Z"
   },
   {
    "duration": 9,
    "start_time": "2021-10-12T19:52:16.680Z"
   },
   {
    "duration": 22,
    "start_time": "2021-10-12T19:52:16.690Z"
   },
   {
    "duration": 17,
    "start_time": "2021-10-12T19:52:16.714Z"
   },
   {
    "duration": 48,
    "start_time": "2021-10-12T19:52:16.734Z"
   },
   {
    "duration": 10,
    "start_time": "2021-10-12T19:52:16.784Z"
   },
   {
    "duration": 16,
    "start_time": "2021-10-12T19:52:16.796Z"
   },
   {
    "duration": 8,
    "start_time": "2021-10-12T19:52:16.814Z"
   },
   {
    "duration": 10,
    "start_time": "2021-10-12T19:52:16.823Z"
   },
   {
    "duration": 4073,
    "start_time": "2021-10-12T19:52:16.835Z"
   },
   {
    "duration": 669,
    "start_time": "2021-10-12T19:54:07.782Z"
   },
   {
    "duration": 419,
    "start_time": "2021-10-12T19:54:08.453Z"
   },
   {
    "duration": 51,
    "start_time": "2021-10-12T19:54:08.874Z"
   },
   {
    "duration": 72,
    "start_time": "2021-10-12T19:54:08.927Z"
   },
   {
    "duration": 5,
    "start_time": "2021-10-12T19:54:09.000Z"
   },
   {
    "duration": 9,
    "start_time": "2021-10-12T19:54:09.007Z"
   },
   {
    "duration": 3,
    "start_time": "2021-10-12T19:54:09.018Z"
   },
   {
    "duration": 5,
    "start_time": "2021-10-12T19:54:09.022Z"
   },
   {
    "duration": 4,
    "start_time": "2021-10-12T19:54:09.029Z"
   },
   {
    "duration": 10,
    "start_time": "2021-10-12T19:54:09.035Z"
   },
   {
    "duration": 43,
    "start_time": "2021-10-12T19:54:09.047Z"
   },
   {
    "duration": 4,
    "start_time": "2021-10-12T19:54:09.091Z"
   },
   {
    "duration": 9,
    "start_time": "2021-10-12T19:54:09.096Z"
   },
   {
    "duration": 15,
    "start_time": "2021-10-12T19:54:09.107Z"
   },
   {
    "duration": 25,
    "start_time": "2021-10-12T19:54:09.123Z"
   },
   {
    "duration": 47,
    "start_time": "2021-10-12T19:54:09.149Z"
   },
   {
    "duration": 10,
    "start_time": "2021-10-12T19:54:09.198Z"
   },
   {
    "duration": 10,
    "start_time": "2021-10-12T19:54:09.209Z"
   },
   {
    "duration": 21,
    "start_time": "2021-10-12T19:54:09.220Z"
   },
   {
    "duration": 39,
    "start_time": "2021-10-12T19:54:09.243Z"
   },
   {
    "duration": 15,
    "start_time": "2021-10-12T19:54:09.284Z"
   },
   {
    "duration": 20,
    "start_time": "2021-10-12T19:54:09.300Z"
   },
   {
    "duration": 10,
    "start_time": "2021-10-12T19:54:09.322Z"
   },
   {
    "duration": 9,
    "start_time": "2021-10-12T19:54:09.333Z"
   },
   {
    "duration": 52,
    "start_time": "2021-10-12T19:54:09.344Z"
   },
   {
    "duration": 17,
    "start_time": "2021-10-12T19:54:09.398Z"
   },
   {
    "duration": 16,
    "start_time": "2021-10-12T19:54:09.418Z"
   },
   {
    "duration": 10,
    "start_time": "2021-10-12T19:54:09.436Z"
   },
   {
    "duration": 34,
    "start_time": "2021-10-12T19:54:09.448Z"
   },
   {
    "duration": 21,
    "start_time": "2021-10-12T19:54:09.484Z"
   },
   {
    "duration": 9,
    "start_time": "2021-10-12T19:54:09.506Z"
   },
   {
    "duration": 9,
    "start_time": "2021-10-12T19:54:09.517Z"
   },
   {
    "duration": 4108,
    "start_time": "2021-10-12T19:54:09.527Z"
   },
   {
    "duration": 672,
    "start_time": "2021-10-12T19:55:33.296Z"
   },
   {
    "duration": 418,
    "start_time": "2021-10-12T19:55:33.969Z"
   },
   {
    "duration": 53,
    "start_time": "2021-10-12T19:55:34.390Z"
   },
   {
    "duration": 80,
    "start_time": "2021-10-12T19:55:34.444Z"
   },
   {
    "duration": 6,
    "start_time": "2021-10-12T19:55:34.525Z"
   },
   {
    "duration": 10,
    "start_time": "2021-10-12T19:55:34.533Z"
   },
   {
    "duration": 3,
    "start_time": "2021-10-12T19:55:34.545Z"
   },
   {
    "duration": 7,
    "start_time": "2021-10-12T19:55:34.549Z"
   },
   {
    "duration": 21,
    "start_time": "2021-10-12T19:55:34.559Z"
   },
   {
    "duration": 8,
    "start_time": "2021-10-12T19:55:34.582Z"
   },
   {
    "duration": 18,
    "start_time": "2021-10-12T19:55:34.592Z"
   },
   {
    "duration": 4,
    "start_time": "2021-10-12T19:55:34.611Z"
   },
   {
    "duration": 6,
    "start_time": "2021-10-12T19:55:34.617Z"
   },
   {
    "duration": 13,
    "start_time": "2021-10-12T19:55:34.625Z"
   },
   {
    "duration": 57,
    "start_time": "2021-10-12T19:55:34.640Z"
   },
   {
    "duration": 26,
    "start_time": "2021-10-12T19:55:34.699Z"
   },
   {
    "duration": 11,
    "start_time": "2021-10-12T19:55:34.727Z"
   },
   {
    "duration": 9,
    "start_time": "2021-10-12T19:55:34.740Z"
   },
   {
    "duration": 41,
    "start_time": "2021-10-12T19:55:34.751Z"
   },
   {
    "duration": 14,
    "start_time": "2021-10-12T19:55:34.794Z"
   },
   {
    "duration": 15,
    "start_time": "2021-10-12T19:55:34.809Z"
   },
   {
    "duration": 18,
    "start_time": "2021-10-12T19:55:34.825Z"
   },
   {
    "duration": 37,
    "start_time": "2021-10-12T19:55:34.845Z"
   },
   {
    "duration": 9,
    "start_time": "2021-10-12T19:55:34.884Z"
   },
   {
    "duration": 21,
    "start_time": "2021-10-12T19:55:34.895Z"
   },
   {
    "duration": 17,
    "start_time": "2021-10-12T19:55:34.918Z"
   },
   {
    "duration": 45,
    "start_time": "2021-10-12T19:55:34.938Z"
   },
   {
    "duration": 10,
    "start_time": "2021-10-12T19:55:34.985Z"
   },
   {
    "duration": 372,
    "start_time": "2021-10-12T19:55:34.997Z"
   },
   {
    "duration": 13,
    "start_time": "2021-10-12T19:55:35.358Z"
   },
   {
    "duration": 12,
    "start_time": "2021-10-12T19:55:35.360Z"
   },
   {
    "duration": 12,
    "start_time": "2021-10-12T19:55:35.361Z"
   },
   {
    "duration": 12,
    "start_time": "2021-10-12T19:55:35.362Z"
   },
   {
    "duration": 664,
    "start_time": "2021-10-12T19:55:57.501Z"
   },
   {
    "duration": 424,
    "start_time": "2021-10-12T19:55:58.167Z"
   },
   {
    "duration": 55,
    "start_time": "2021-10-12T19:55:58.593Z"
   },
   {
    "duration": 72,
    "start_time": "2021-10-12T19:55:58.650Z"
   },
   {
    "duration": 5,
    "start_time": "2021-10-12T19:55:58.724Z"
   },
   {
    "duration": 12,
    "start_time": "2021-10-12T19:55:58.731Z"
   },
   {
    "duration": 13,
    "start_time": "2021-10-12T19:55:58.745Z"
   },
   {
    "duration": 15,
    "start_time": "2021-10-12T19:55:58.761Z"
   },
   {
    "duration": 5,
    "start_time": "2021-10-12T19:55:58.778Z"
   },
   {
    "duration": 8,
    "start_time": "2021-10-12T19:55:58.785Z"
   },
   {
    "duration": 30,
    "start_time": "2021-10-12T19:55:58.795Z"
   },
   {
    "duration": 4,
    "start_time": "2021-10-12T19:55:58.827Z"
   },
   {
    "duration": 18,
    "start_time": "2021-10-12T19:55:58.833Z"
   },
   {
    "duration": 16,
    "start_time": "2021-10-12T19:55:58.853Z"
   },
   {
    "duration": 48,
    "start_time": "2021-10-12T19:55:58.871Z"
   },
   {
    "duration": 27,
    "start_time": "2021-10-12T19:55:58.921Z"
   },
   {
    "duration": 11,
    "start_time": "2021-10-12T19:55:58.950Z"
   },
   {
    "duration": 16,
    "start_time": "2021-10-12T19:55:58.963Z"
   },
   {
    "duration": 27,
    "start_time": "2021-10-12T19:55:58.981Z"
   },
   {
    "duration": 14,
    "start_time": "2021-10-12T19:55:59.010Z"
   },
   {
    "duration": 15,
    "start_time": "2021-10-12T19:55:59.026Z"
   },
   {
    "duration": 39,
    "start_time": "2021-10-12T19:55:59.043Z"
   },
   {
    "duration": 10,
    "start_time": "2021-10-12T19:55:59.086Z"
   },
   {
    "duration": 19,
    "start_time": "2021-10-12T19:55:59.098Z"
   },
   {
    "duration": 34,
    "start_time": "2021-10-12T19:55:59.118Z"
   },
   {
    "duration": 22,
    "start_time": "2021-10-12T19:55:59.154Z"
   },
   {
    "duration": 19,
    "start_time": "2021-10-12T19:55:59.178Z"
   },
   {
    "duration": 11,
    "start_time": "2021-10-12T19:55:59.199Z"
   },
   {
    "duration": 18,
    "start_time": "2021-10-12T19:55:59.211Z"
   },
   {
    "duration": 25,
    "start_time": "2021-10-12T19:55:59.231Z"
   },
   {
    "duration": 21,
    "start_time": "2021-10-12T19:55:59.257Z"
   },
   {
    "duration": 17,
    "start_time": "2021-10-12T19:55:59.280Z"
   },
   {
    "duration": 4853,
    "start_time": "2021-10-12T19:55:59.299Z"
   },
   {
    "duration": 1716,
    "start_time": "2021-10-12T19:56:35.040Z"
   },
   {
    "duration": 878,
    "start_time": "2021-10-12T19:56:36.757Z"
   },
   {
    "duration": 50,
    "start_time": "2021-10-12T19:56:37.638Z"
   },
   {
    "duration": 71,
    "start_time": "2021-10-12T19:56:37.690Z"
   },
   {
    "duration": 19,
    "start_time": "2021-10-12T19:56:37.762Z"
   },
   {
    "duration": 9,
    "start_time": "2021-10-12T19:56:37.782Z"
   },
   {
    "duration": 4,
    "start_time": "2021-10-12T19:56:37.793Z"
   },
   {
    "duration": 17,
    "start_time": "2021-10-12T19:56:37.799Z"
   },
   {
    "duration": 29,
    "start_time": "2021-10-12T19:56:37.818Z"
   },
   {
    "duration": 26,
    "start_time": "2021-10-12T19:56:37.849Z"
   },
   {
    "duration": 17,
    "start_time": "2021-10-12T19:56:37.877Z"
   },
   {
    "duration": 3,
    "start_time": "2021-10-12T19:56:37.896Z"
   },
   {
    "duration": 7,
    "start_time": "2021-10-12T19:56:37.901Z"
   },
   {
    "duration": 14,
    "start_time": "2021-10-12T19:56:37.910Z"
   },
   {
    "duration": 23,
    "start_time": "2021-10-12T19:56:37.926Z"
   },
   {
    "duration": 46,
    "start_time": "2021-10-12T19:56:37.951Z"
   },
   {
    "duration": 12,
    "start_time": "2021-10-12T19:56:37.999Z"
   },
   {
    "duration": 8,
    "start_time": "2021-10-12T19:56:38.013Z"
   },
   {
    "duration": 20,
    "start_time": "2021-10-12T19:56:38.023Z"
   },
   {
    "duration": 39,
    "start_time": "2021-10-12T19:56:38.045Z"
   },
   {
    "duration": 16,
    "start_time": "2021-10-12T19:56:38.086Z"
   },
   {
    "duration": 19,
    "start_time": "2021-10-12T19:56:38.103Z"
   },
   {
    "duration": 10,
    "start_time": "2021-10-12T19:56:38.125Z"
   },
   {
    "duration": 9,
    "start_time": "2021-10-12T19:56:38.136Z"
   },
   {
    "duration": 50,
    "start_time": "2021-10-12T19:56:38.146Z"
   },
   {
    "duration": 17,
    "start_time": "2021-10-12T19:56:38.197Z"
   },
   {
    "duration": 16,
    "start_time": "2021-10-12T19:56:38.215Z"
   },
   {
    "duration": 10,
    "start_time": "2021-10-12T19:56:38.232Z"
   },
   {
    "duration": 36,
    "start_time": "2021-10-12T19:56:38.243Z"
   },
   {
    "duration": 23,
    "start_time": "2021-10-12T19:56:38.281Z"
   },
   {
    "duration": 7,
    "start_time": "2021-10-12T19:56:38.305Z"
   },
   {
    "duration": 556,
    "start_time": "2021-10-12T19:56:38.314Z"
   },
   {
    "duration": -104,
    "start_time": "2021-10-12T19:56:38.976Z"
   },
   {
    "duration": 10,
    "start_time": "2021-10-12T19:57:46.920Z"
   },
   {
    "duration": 735,
    "start_time": "2021-10-12T20:00:47.367Z"
   },
   {
    "duration": 424,
    "start_time": "2021-10-12T20:00:48.104Z"
   },
   {
    "duration": 52,
    "start_time": "2021-10-12T20:00:48.531Z"
   },
   {
    "duration": 73,
    "start_time": "2021-10-12T20:00:48.585Z"
   },
   {
    "duration": 16,
    "start_time": "2021-10-12T20:00:48.660Z"
   },
   {
    "duration": 8,
    "start_time": "2021-10-12T20:00:48.678Z"
   },
   {
    "duration": 4,
    "start_time": "2021-10-12T20:00:48.687Z"
   },
   {
    "duration": 5,
    "start_time": "2021-10-12T20:00:48.692Z"
   },
   {
    "duration": 8,
    "start_time": "2021-10-12T20:00:48.699Z"
   },
   {
    "duration": 9,
    "start_time": "2021-10-12T20:00:48.709Z"
   },
   {
    "duration": 16,
    "start_time": "2021-10-12T20:00:48.720Z"
   },
   {
    "duration": 3,
    "start_time": "2021-10-12T20:00:48.738Z"
   },
   {
    "duration": 34,
    "start_time": "2021-10-12T20:00:48.743Z"
   },
   {
    "duration": 14,
    "start_time": "2021-10-12T20:00:48.778Z"
   },
   {
    "duration": 24,
    "start_time": "2021-10-12T20:00:48.793Z"
   },
   {
    "duration": 25,
    "start_time": "2021-10-12T20:00:48.819Z"
   },
   {
    "duration": 9,
    "start_time": "2021-10-12T20:00:48.846Z"
   },
   {
    "duration": 8,
    "start_time": "2021-10-12T20:00:48.877Z"
   },
   {
    "duration": 20,
    "start_time": "2021-10-12T20:00:48.887Z"
   },
   {
    "duration": 14,
    "start_time": "2021-10-12T20:00:48.909Z"
   },
   {
    "duration": 15,
    "start_time": "2021-10-12T20:00:48.924Z"
   },
   {
    "duration": 52,
    "start_time": "2021-10-12T20:00:48.940Z"
   },
   {
    "duration": 11,
    "start_time": "2021-10-12T20:00:48.994Z"
   },
   {
    "duration": 8,
    "start_time": "2021-10-12T20:00:49.007Z"
   },
   {
    "duration": 21,
    "start_time": "2021-10-12T20:00:49.017Z"
   },
   {
    "duration": 41,
    "start_time": "2021-10-12T20:00:49.040Z"
   },
   {
    "duration": 16,
    "start_time": "2021-10-12T20:00:49.084Z"
   },
   {
    "duration": 10,
    "start_time": "2021-10-12T20:00:49.102Z"
   },
   {
    "duration": 11,
    "start_time": "2021-10-12T20:00:49.113Z"
   },
   {
    "duration": 23,
    "start_time": "2021-10-12T20:00:49.125Z"
   },
   {
    "duration": 8,
    "start_time": "2021-10-12T20:00:49.176Z"
   },
   {
    "duration": 9,
    "start_time": "2021-10-12T20:00:49.186Z"
   },
   {
    "duration": 4064,
    "start_time": "2021-10-12T20:00:49.197Z"
   },
   {
    "duration": 367,
    "start_time": "2021-10-12T20:02:11.823Z"
   },
   {
    "duration": 646,
    "start_time": "2021-10-12T20:03:14.315Z"
   },
   {
    "duration": 421,
    "start_time": "2021-10-12T20:03:14.963Z"
   },
   {
    "duration": 53,
    "start_time": "2021-10-12T20:03:15.386Z"
   },
   {
    "duration": 80,
    "start_time": "2021-10-12T20:03:15.441Z"
   },
   {
    "duration": 5,
    "start_time": "2021-10-12T20:03:15.523Z"
   },
   {
    "duration": 8,
    "start_time": "2021-10-12T20:03:15.529Z"
   },
   {
    "duration": 4,
    "start_time": "2021-10-12T20:03:15.538Z"
   },
   {
    "duration": 6,
    "start_time": "2021-10-12T20:03:15.544Z"
   },
   {
    "duration": 24,
    "start_time": "2021-10-12T20:03:15.553Z"
   },
   {
    "duration": 8,
    "start_time": "2021-10-12T20:03:15.580Z"
   },
   {
    "duration": 15,
    "start_time": "2021-10-12T20:03:15.590Z"
   },
   {
    "duration": 4,
    "start_time": "2021-10-12T20:03:15.607Z"
   },
   {
    "duration": 8,
    "start_time": "2021-10-12T20:03:15.613Z"
   },
   {
    "duration": 13,
    "start_time": "2021-10-12T20:03:15.623Z"
   },
   {
    "duration": 55,
    "start_time": "2021-10-12T20:03:15.638Z"
   },
   {
    "duration": 26,
    "start_time": "2021-10-12T20:03:15.695Z"
   },
   {
    "duration": 11,
    "start_time": "2021-10-12T20:03:15.723Z"
   },
   {
    "duration": 8,
    "start_time": "2021-10-12T20:03:15.736Z"
   },
   {
    "duration": 48,
    "start_time": "2021-10-12T20:03:15.746Z"
   },
   {
    "duration": 15,
    "start_time": "2021-10-12T20:03:15.795Z"
   },
   {
    "duration": 15,
    "start_time": "2021-10-12T20:03:15.811Z"
   },
   {
    "duration": 19,
    "start_time": "2021-10-12T20:03:15.828Z"
   },
   {
    "duration": 33,
    "start_time": "2021-10-12T20:03:15.849Z"
   },
   {
    "duration": 9,
    "start_time": "2021-10-12T20:03:15.884Z"
   },
   {
    "duration": 22,
    "start_time": "2021-10-12T20:03:15.895Z"
   },
   {
    "duration": 17,
    "start_time": "2021-10-12T20:03:15.919Z"
   },
   {
    "duration": 50,
    "start_time": "2021-10-12T20:03:15.939Z"
   },
   {
    "duration": 11,
    "start_time": "2021-10-12T20:03:15.991Z"
   },
   {
    "duration": 11,
    "start_time": "2021-10-12T20:03:16.003Z"
   },
   {
    "duration": 23,
    "start_time": "2021-10-12T20:03:16.016Z"
   },
   {
    "duration": 8,
    "start_time": "2021-10-12T20:03:16.040Z"
   },
   {
    "duration": 9,
    "start_time": "2021-10-12T20:03:16.077Z"
   },
   {
    "duration": 366,
    "start_time": "2021-10-12T20:03:16.088Z"
   },
   {
    "duration": 207,
    "start_time": "2021-10-12T20:06:26.503Z"
   },
   {
    "duration": 31,
    "start_time": "2021-10-12T20:10:26.911Z"
   },
   {
    "duration": 362,
    "start_time": "2021-10-12T20:10:55.577Z"
   },
   {
    "duration": 33,
    "start_time": "2021-10-12T20:11:01.379Z"
   },
   {
    "duration": 297,
    "start_time": "2021-10-12T20:13:39.581Z"
   },
   {
    "duration": 297,
    "start_time": "2021-10-12T20:14:23.065Z"
   },
   {
    "duration": 1198,
    "start_time": "2021-10-12T20:20:31.139Z"
   },
   {
    "duration": 430,
    "start_time": "2021-10-12T20:20:32.339Z"
   },
   {
    "duration": 53,
    "start_time": "2021-10-12T20:20:32.771Z"
   },
   {
    "duration": 82,
    "start_time": "2021-10-12T20:20:32.826Z"
   },
   {
    "duration": 6,
    "start_time": "2021-10-12T20:20:32.909Z"
   },
   {
    "duration": 9,
    "start_time": "2021-10-12T20:20:32.916Z"
   },
   {
    "duration": 3,
    "start_time": "2021-10-12T20:20:32.927Z"
   },
   {
    "duration": 5,
    "start_time": "2021-10-12T20:20:32.933Z"
   },
   {
    "duration": 6,
    "start_time": "2021-10-12T20:20:32.940Z"
   },
   {
    "duration": 36,
    "start_time": "2021-10-12T20:20:32.948Z"
   },
   {
    "duration": 19,
    "start_time": "2021-10-12T20:20:32.985Z"
   },
   {
    "duration": 4,
    "start_time": "2021-10-12T20:20:33.005Z"
   },
   {
    "duration": 7,
    "start_time": "2021-10-12T20:20:33.010Z"
   },
   {
    "duration": 13,
    "start_time": "2021-10-12T20:20:33.018Z"
   },
   {
    "duration": 56,
    "start_time": "2021-10-12T20:20:33.033Z"
   },
   {
    "duration": 25,
    "start_time": "2021-10-12T20:20:33.091Z"
   },
   {
    "duration": 10,
    "start_time": "2021-10-12T20:20:33.118Z"
   },
   {
    "duration": 9,
    "start_time": "2021-10-12T20:20:33.130Z"
   },
   {
    "duration": 53,
    "start_time": "2021-10-12T20:20:33.141Z"
   },
   {
    "duration": 14,
    "start_time": "2021-10-12T20:20:33.195Z"
   },
   {
    "duration": 14,
    "start_time": "2021-10-12T20:20:33.211Z"
   },
   {
    "duration": 18,
    "start_time": "2021-10-12T20:20:33.226Z"
   },
   {
    "duration": 35,
    "start_time": "2021-10-12T20:20:33.247Z"
   },
   {
    "duration": 8,
    "start_time": "2021-10-12T20:20:33.284Z"
   },
   {
    "duration": 21,
    "start_time": "2021-10-12T20:20:33.294Z"
   },
   {
    "duration": 16,
    "start_time": "2021-10-12T20:20:33.317Z"
   },
   {
    "duration": 53,
    "start_time": "2021-10-12T20:20:33.335Z"
   },
   {
    "duration": 10,
    "start_time": "2021-10-12T20:20:33.390Z"
   },
   {
    "duration": 14,
    "start_time": "2021-10-12T20:20:33.402Z"
   },
   {
    "duration": 20,
    "start_time": "2021-10-12T20:20:33.418Z"
   },
   {
    "duration": 37,
    "start_time": "2021-10-12T20:20:33.439Z"
   },
   {
    "duration": 8,
    "start_time": "2021-10-12T20:20:33.478Z"
   },
   {
    "duration": 355,
    "start_time": "2021-10-12T20:20:33.488Z"
   },
   {
    "duration": 200,
    "start_time": "2021-10-12T20:20:33.845Z"
   },
   {
    "duration": 43,
    "start_time": "2021-10-12T20:20:34.047Z"
   },
   {
    "duration": 10,
    "start_time": "2021-10-12T20:20:34.092Z"
   },
   {
    "duration": 999,
    "start_time": "2021-10-12T20:20:34.104Z"
   },
   {
    "duration": 911,
    "start_time": "2021-10-12T20:21:03.094Z"
   },
   {
    "duration": 527,
    "start_time": "2021-10-12T20:23:06.459Z"
   },
   {
    "duration": 274,
    "start_time": "2021-10-12T20:23:20.717Z"
   },
   {
    "duration": 972,
    "start_time": "2021-10-12T20:24:08.438Z"
   },
   {
    "duration": 213,
    "start_time": "2021-10-12T20:24:21.385Z"
   },
   {
    "duration": 224,
    "start_time": "2021-10-12T20:25:35.392Z"
   },
   {
    "duration": 231,
    "start_time": "2021-10-12T20:25:46.879Z"
   },
   {
    "duration": 335,
    "start_time": "2021-10-12T20:35:06.928Z"
   },
   {
    "duration": 1138,
    "start_time": "2021-10-12T20:35:48.914Z"
   },
   {
    "duration": 467,
    "start_time": "2021-10-12T20:35:50.054Z"
   },
   {
    "duration": 50,
    "start_time": "2021-10-12T20:35:50.523Z"
   },
   {
    "duration": 70,
    "start_time": "2021-10-12T20:35:50.575Z"
   },
   {
    "duration": 5,
    "start_time": "2021-10-12T20:35:50.647Z"
   },
   {
    "duration": 23,
    "start_time": "2021-10-12T20:35:50.654Z"
   },
   {
    "duration": 3,
    "start_time": "2021-10-12T20:35:50.679Z"
   },
   {
    "duration": 4,
    "start_time": "2021-10-12T20:35:50.685Z"
   },
   {
    "duration": 7,
    "start_time": "2021-10-12T20:35:50.692Z"
   },
   {
    "duration": 11,
    "start_time": "2021-10-12T20:35:50.700Z"
   },
   {
    "duration": 16,
    "start_time": "2021-10-12T20:35:50.712Z"
   },
   {
    "duration": 9,
    "start_time": "2021-10-12T20:35:50.730Z"
   },
   {
    "duration": 38,
    "start_time": "2021-10-12T20:35:50.741Z"
   },
   {
    "duration": 13,
    "start_time": "2021-10-12T20:35:50.780Z"
   },
   {
    "duration": 30,
    "start_time": "2021-10-12T20:35:50.795Z"
   },
   {
    "duration": 26,
    "start_time": "2021-10-12T20:35:50.827Z"
   },
   {
    "duration": 32,
    "start_time": "2021-10-12T20:35:50.854Z"
   },
   {
    "duration": 11,
    "start_time": "2021-10-12T20:35:50.888Z"
   },
   {
    "duration": 33,
    "start_time": "2021-10-12T20:35:50.901Z"
   },
   {
    "duration": 52,
    "start_time": "2021-10-12T20:35:50.936Z"
   },
   {
    "duration": 14,
    "start_time": "2021-10-12T20:35:50.990Z"
   },
   {
    "duration": 19,
    "start_time": "2021-10-12T20:35:51.006Z"
   },
   {
    "duration": 10,
    "start_time": "2021-10-12T20:35:51.028Z"
   },
   {
    "duration": 42,
    "start_time": "2021-10-12T20:35:51.040Z"
   },
   {
    "duration": 26,
    "start_time": "2021-10-12T20:35:51.084Z"
   },
   {
    "duration": 19,
    "start_time": "2021-10-12T20:35:51.112Z"
   },
   {
    "duration": 52,
    "start_time": "2021-10-12T20:35:51.133Z"
   },
   {
    "duration": 12,
    "start_time": "2021-10-12T20:35:51.187Z"
   },
   {
    "duration": 13,
    "start_time": "2021-10-12T20:35:51.201Z"
   },
   {
    "duration": 23,
    "start_time": "2021-10-12T20:35:51.216Z"
   },
   {
    "duration": 8,
    "start_time": "2021-10-12T20:35:51.276Z"
   },
   {
    "duration": 11,
    "start_time": "2021-10-12T20:35:51.286Z"
   },
   {
    "duration": 512,
    "start_time": "2021-10-12T20:35:51.299Z"
   },
   {
    "duration": 269,
    "start_time": "2021-10-12T20:35:51.814Z"
   },
   {
    "duration": 30,
    "start_time": "2021-10-12T20:35:52.085Z"
   },
   {
    "duration": 991,
    "start_time": "2021-10-12T20:35:52.118Z"
   },
   {
    "duration": 230,
    "start_time": "2021-10-12T20:35:53.111Z"
   },
   {
    "duration": 251,
    "start_time": "2021-10-12T20:35:53.343Z"
   },
   {
    "duration": 246,
    "start_time": "2021-10-12T20:35:53.596Z"
   },
   {
    "duration": 10,
    "start_time": "2021-10-12T20:35:53.843Z"
   },
   {
    "duration": 398,
    "start_time": "2021-10-12T20:38:28.409Z"
   },
   {
    "duration": 11,
    "start_time": "2021-10-12T20:38:39.389Z"
   },
   {
    "duration": 1162,
    "start_time": "2021-10-12T20:48:49.874Z"
   },
   {
    "duration": 446,
    "start_time": "2021-10-12T20:48:51.038Z"
   },
   {
    "duration": 50,
    "start_time": "2021-10-12T20:48:51.486Z"
   },
   {
    "duration": 83,
    "start_time": "2021-10-12T20:48:51.538Z"
   },
   {
    "duration": 5,
    "start_time": "2021-10-12T20:48:51.622Z"
   },
   {
    "duration": 11,
    "start_time": "2021-10-12T20:48:51.628Z"
   },
   {
    "duration": 4,
    "start_time": "2021-10-12T20:48:51.641Z"
   },
   {
    "duration": 5,
    "start_time": "2021-10-12T20:48:51.648Z"
   },
   {
    "duration": 22,
    "start_time": "2021-10-12T20:48:51.655Z"
   },
   {
    "duration": 14,
    "start_time": "2021-10-12T20:48:51.678Z"
   },
   {
    "duration": 22,
    "start_time": "2021-10-12T20:48:51.694Z"
   },
   {
    "duration": 5,
    "start_time": "2021-10-12T20:48:51.718Z"
   },
   {
    "duration": 7,
    "start_time": "2021-10-12T20:48:51.725Z"
   },
   {
    "duration": 16,
    "start_time": "2021-10-12T20:48:51.734Z"
   },
   {
    "duration": 45,
    "start_time": "2021-10-12T20:48:51.752Z"
   },
   {
    "duration": 25,
    "start_time": "2021-10-12T20:48:51.799Z"
   },
   {
    "duration": 10,
    "start_time": "2021-10-12T20:48:51.826Z"
   },
   {
    "duration": 40,
    "start_time": "2021-10-12T20:48:51.837Z"
   },
   {
    "duration": 21,
    "start_time": "2021-10-12T20:48:51.879Z"
   },
   {
    "duration": 14,
    "start_time": "2021-10-12T20:48:51.902Z"
   },
   {
    "duration": 14,
    "start_time": "2021-10-12T20:48:51.918Z"
   },
   {
    "duration": 54,
    "start_time": "2021-10-12T20:48:51.933Z"
   },
   {
    "duration": 11,
    "start_time": "2021-10-12T20:48:51.990Z"
   },
   {
    "duration": 8,
    "start_time": "2021-10-12T20:48:52.003Z"
   },
   {
    "duration": 21,
    "start_time": "2021-10-12T20:48:52.013Z"
   },
   {
    "duration": 49,
    "start_time": "2021-10-12T20:48:52.036Z"
   },
   {
    "duration": 16,
    "start_time": "2021-10-12T20:48:52.087Z"
   },
   {
    "duration": 10,
    "start_time": "2021-10-12T20:48:52.105Z"
   },
   {
    "duration": 10,
    "start_time": "2021-10-12T20:48:52.116Z"
   },
   {
    "duration": 54,
    "start_time": "2021-10-12T20:48:52.128Z"
   },
   {
    "duration": 7,
    "start_time": "2021-10-12T20:48:52.183Z"
   },
   {
    "duration": 10,
    "start_time": "2021-10-12T20:48:52.192Z"
   },
   {
    "duration": 363,
    "start_time": "2021-10-12T20:48:52.204Z"
   },
   {
    "duration": 210,
    "start_time": "2021-10-12T20:48:52.569Z"
   },
   {
    "duration": 27,
    "start_time": "2021-10-12T20:48:52.781Z"
   },
   {
    "duration": 989,
    "start_time": "2021-10-12T20:48:52.809Z"
   },
   {
    "duration": 223,
    "start_time": "2021-10-12T20:48:53.799Z"
   },
   {
    "duration": 254,
    "start_time": "2021-10-12T20:48:54.024Z"
   },
   {
    "duration": 241,
    "start_time": "2021-10-12T20:48:54.280Z"
   },
   {
    "duration": 10,
    "start_time": "2021-10-12T20:48:54.523Z"
   },
   {
    "duration": 15,
    "start_time": "2021-10-12T20:48:54.535Z"
   },
   {
    "duration": 432,
    "start_time": "2021-10-13T18:34:19.737Z"
   },
   {
    "duration": 1503,
    "start_time": "2021-10-13T18:34:32.282Z"
   },
   {
    "duration": 488,
    "start_time": "2021-10-13T18:34:33.788Z"
   },
   {
    "duration": 68,
    "start_time": "2021-10-13T18:34:34.279Z"
   },
   {
    "duration": 19,
    "start_time": "2021-10-13T18:34:34.350Z"
   },
   {
    "duration": 121,
    "start_time": "2021-10-13T18:34:34.372Z"
   },
   {
    "duration": 6,
    "start_time": "2021-10-13T18:34:34.496Z"
   },
   {
    "duration": 21,
    "start_time": "2021-10-13T18:34:34.505Z"
   },
   {
    "duration": 34,
    "start_time": "2021-10-13T18:34:34.530Z"
   },
   {
    "duration": 8,
    "start_time": "2021-10-13T18:34:34.567Z"
   },
   {
    "duration": 17,
    "start_time": "2021-10-13T18:34:34.577Z"
   },
   {
    "duration": 20,
    "start_time": "2021-10-13T18:34:34.596Z"
   },
   {
    "duration": 21,
    "start_time": "2021-10-13T18:34:34.618Z"
   },
   {
    "duration": 5,
    "start_time": "2021-10-13T18:34:34.642Z"
   },
   {
    "duration": 10,
    "start_time": "2021-10-13T18:34:34.649Z"
   },
   {
    "duration": 25,
    "start_time": "2021-10-13T18:34:34.661Z"
   },
   {
    "duration": 55,
    "start_time": "2021-10-13T18:34:34.689Z"
   },
   {
    "duration": 33,
    "start_time": "2021-10-13T18:34:34.747Z"
   },
   {
    "duration": 15,
    "start_time": "2021-10-13T18:34:34.782Z"
   },
   {
    "duration": 12,
    "start_time": "2021-10-13T18:34:34.822Z"
   },
   {
    "duration": 36,
    "start_time": "2021-10-13T18:34:34.837Z"
   },
   {
    "duration": 55,
    "start_time": "2021-10-13T18:34:34.876Z"
   },
   {
    "duration": 22,
    "start_time": "2021-10-13T18:34:34.934Z"
   },
   {
    "duration": 26,
    "start_time": "2021-10-13T18:34:34.964Z"
   },
   {
    "duration": 16,
    "start_time": "2021-10-13T18:34:35.021Z"
   },
   {
    "duration": 23,
    "start_time": "2021-10-13T18:34:35.039Z"
   },
   {
    "duration": 59,
    "start_time": "2021-10-13T18:34:35.064Z"
   },
   {
    "duration": 24,
    "start_time": "2021-10-13T18:34:35.127Z"
   },
   {
    "duration": 25,
    "start_time": "2021-10-13T18:34:35.154Z"
   },
   {
    "duration": 44,
    "start_time": "2021-10-13T18:34:35.181Z"
   },
   {
    "duration": 22,
    "start_time": "2021-10-13T18:34:35.227Z"
   },
   {
    "duration": 37,
    "start_time": "2021-10-13T18:34:35.251Z"
   },
   {
    "duration": 43,
    "start_time": "2021-10-13T18:34:35.291Z"
   },
   {
    "duration": 15,
    "start_time": "2021-10-13T18:34:35.337Z"
   },
   {
    "duration": 700,
    "start_time": "2021-10-13T18:34:35.355Z"
   },
   {
    "duration": 366,
    "start_time": "2021-10-13T18:34:36.058Z"
   },
   {
    "duration": 47,
    "start_time": "2021-10-13T18:34:36.426Z"
   },
   {
    "duration": 1300,
    "start_time": "2021-10-13T18:34:36.475Z"
   },
   {
    "duration": 353,
    "start_time": "2021-10-13T18:34:37.778Z"
   },
   {
    "duration": 406,
    "start_time": "2021-10-13T18:34:38.134Z"
   },
   {
    "duration": 485,
    "start_time": "2021-10-13T18:34:38.543Z"
   },
   {
    "duration": 15,
    "start_time": "2021-10-13T18:34:39.031Z"
   },
   {
    "duration": 14,
    "start_time": "2021-10-13T18:34:39.048Z"
   },
   {
    "duration": 24,
    "start_time": "2021-10-13T18:35:07.503Z"
   },
   {
    "duration": 11,
    "start_time": "2021-10-13T18:41:23.880Z"
   },
   {
    "duration": 85,
    "start_time": "2021-10-13T18:44:13.224Z"
   },
   {
    "duration": 93,
    "start_time": "2021-10-13T18:44:24.154Z"
   },
   {
    "duration": 87,
    "start_time": "2021-10-13T18:44:28.330Z"
   },
   {
    "duration": 7,
    "start_time": "2021-10-13T18:44:31.803Z"
   },
   {
    "duration": 21,
    "start_time": "2021-10-13T18:44:58.239Z"
   },
   {
    "duration": 8,
    "start_time": "2021-10-13T18:46:33.081Z"
   },
   {
    "duration": 22,
    "start_time": "2021-10-13T18:46:37.372Z"
   },
   {
    "duration": 6,
    "start_time": "2021-10-13T18:46:51.805Z"
   },
   {
    "duration": 23,
    "start_time": "2021-10-13T18:46:53.498Z"
   },
   {
    "duration": 7,
    "start_time": "2021-10-13T18:51:46.939Z"
   },
   {
    "duration": 98,
    "start_time": "2021-10-13T18:51:50.162Z"
   },
   {
    "duration": 9,
    "start_time": "2021-10-13T18:52:06.626Z"
   },
   {
    "duration": 22,
    "start_time": "2021-10-13T18:52:08.335Z"
   },
   {
    "duration": 8,
    "start_time": "2021-10-13T18:54:11.934Z"
   },
   {
    "duration": 25,
    "start_time": "2021-10-13T18:54:13.638Z"
   },
   {
    "duration": 1544,
    "start_time": "2021-10-13T18:54:26.502Z"
   },
   {
    "duration": 527,
    "start_time": "2021-10-13T18:54:28.050Z"
   },
   {
    "duration": 91,
    "start_time": "2021-10-13T18:54:28.580Z"
   },
   {
    "duration": 48,
    "start_time": "2021-10-13T18:54:28.674Z"
   },
   {
    "duration": 25,
    "start_time": "2021-10-13T18:54:28.725Z"
   },
   {
    "duration": 15,
    "start_time": "2021-10-13T18:54:28.753Z"
   },
   {
    "duration": 160,
    "start_time": "2021-10-13T18:54:28.771Z"
   },
   {
    "duration": 7,
    "start_time": "2021-10-13T18:54:28.934Z"
   },
   {
    "duration": 19,
    "start_time": "2021-10-13T18:54:28.944Z"
   },
   {
    "duration": 8,
    "start_time": "2021-10-13T18:54:28.966Z"
   },
   {
    "duration": 46,
    "start_time": "2021-10-13T18:54:28.976Z"
   },
   {
    "duration": 6,
    "start_time": "2021-10-13T18:54:29.025Z"
   },
   {
    "duration": 8,
    "start_time": "2021-10-13T18:54:29.033Z"
   },
   {
    "duration": 13,
    "start_time": "2021-10-13T18:54:29.043Z"
   },
   {
    "duration": 22,
    "start_time": "2021-10-13T18:54:29.058Z"
   },
   {
    "duration": 5,
    "start_time": "2021-10-13T18:54:29.123Z"
   },
   {
    "duration": 8,
    "start_time": "2021-10-13T18:54:29.131Z"
   },
   {
    "duration": 20,
    "start_time": "2021-10-13T18:54:29.142Z"
   },
   {
    "duration": 65,
    "start_time": "2021-10-13T18:54:29.165Z"
   },
   {
    "duration": 33,
    "start_time": "2021-10-13T18:54:29.232Z"
   },
   {
    "duration": 14,
    "start_time": "2021-10-13T18:54:29.268Z"
   },
   {
    "duration": 37,
    "start_time": "2021-10-13T18:54:29.285Z"
   },
   {
    "duration": 35,
    "start_time": "2021-10-13T18:54:29.325Z"
   },
   {
    "duration": 22,
    "start_time": "2021-10-13T18:54:29.362Z"
   },
   {
    "duration": 48,
    "start_time": "2021-10-13T18:54:29.386Z"
   },
   {
    "duration": 24,
    "start_time": "2021-10-13T18:54:29.436Z"
   },
   {
    "duration": 14,
    "start_time": "2021-10-13T18:54:29.465Z"
   },
   {
    "duration": 41,
    "start_time": "2021-10-13T18:54:29.481Z"
   },
   {
    "duration": 35,
    "start_time": "2021-10-13T18:54:29.525Z"
   },
   {
    "duration": 22,
    "start_time": "2021-10-13T18:54:29.563Z"
   },
   {
    "duration": 46,
    "start_time": "2021-10-13T18:54:29.587Z"
   },
   {
    "duration": 16,
    "start_time": "2021-10-13T18:54:29.635Z"
   },
   {
    "duration": 42,
    "start_time": "2021-10-13T18:54:29.653Z"
   },
   {
    "duration": 38,
    "start_time": "2021-10-13T18:54:29.698Z"
   },
   {
    "duration": 11,
    "start_time": "2021-10-13T18:54:29.738Z"
   },
   {
    "duration": 31,
    "start_time": "2021-10-13T18:54:29.752Z"
   },
   {
    "duration": 757,
    "start_time": "2021-10-13T18:54:29.786Z"
   },
   {
    "duration": 390,
    "start_time": "2021-10-13T18:54:30.546Z"
   },
   {
    "duration": 50,
    "start_time": "2021-10-13T18:54:30.939Z"
   },
   {
    "duration": 1337,
    "start_time": "2021-10-13T18:54:30.991Z"
   },
   {
    "duration": 387,
    "start_time": "2021-10-13T18:54:32.330Z"
   },
   {
    "duration": 480,
    "start_time": "2021-10-13T18:54:32.723Z"
   },
   {
    "duration": 385,
    "start_time": "2021-10-13T18:54:33.206Z"
   },
   {
    "duration": 28,
    "start_time": "2021-10-13T18:54:33.594Z"
   },
   {
    "duration": 14,
    "start_time": "2021-10-13T18:54:33.625Z"
   },
   {
    "duration": 1404,
    "start_time": "2021-10-13T18:55:47.658Z"
   },
   {
    "duration": 513,
    "start_time": "2021-10-13T18:55:49.065Z"
   },
   {
    "duration": 72,
    "start_time": "2021-10-13T18:55:49.581Z"
   },
   {
    "duration": 21,
    "start_time": "2021-10-13T18:55:49.655Z"
   },
   {
    "duration": 44,
    "start_time": "2021-10-13T18:55:49.679Z"
   },
   {
    "duration": 14,
    "start_time": "2021-10-13T18:55:49.726Z"
   },
   {
    "duration": 132,
    "start_time": "2021-10-13T18:55:49.743Z"
   },
   {
    "duration": 15,
    "start_time": "2021-10-13T18:55:49.877Z"
   },
   {
    "duration": 32,
    "start_time": "2021-10-13T18:55:49.897Z"
   },
   {
    "duration": 11,
    "start_time": "2021-10-13T18:55:49.934Z"
   },
   {
    "duration": 5,
    "start_time": "2021-10-13T18:55:49.947Z"
   },
   {
    "duration": 5,
    "start_time": "2021-10-13T18:55:49.955Z"
   },
   {
    "duration": 8,
    "start_time": "2021-10-13T18:55:49.963Z"
   },
   {
    "duration": 59,
    "start_time": "2021-10-13T18:55:49.974Z"
   },
   {
    "duration": 24,
    "start_time": "2021-10-13T18:55:50.036Z"
   },
   {
    "duration": 5,
    "start_time": "2021-10-13T18:55:50.062Z"
   },
   {
    "duration": 9,
    "start_time": "2021-10-13T18:55:50.069Z"
   },
   {
    "duration": 61,
    "start_time": "2021-10-13T18:55:50.080Z"
   },
   {
    "duration": 39,
    "start_time": "2021-10-13T18:55:50.143Z"
   },
   {
    "duration": 48,
    "start_time": "2021-10-13T18:55:50.184Z"
   },
   {
    "duration": 14,
    "start_time": "2021-10-13T18:55:50.235Z"
   },
   {
    "duration": 21,
    "start_time": "2021-10-13T18:55:50.251Z"
   },
   {
    "duration": 51,
    "start_time": "2021-10-13T18:55:50.275Z"
   },
   {
    "duration": 22,
    "start_time": "2021-10-13T18:55:50.328Z"
   },
   {
    "duration": 20,
    "start_time": "2021-10-13T18:55:50.352Z"
   },
   {
    "duration": 53,
    "start_time": "2021-10-13T18:55:50.374Z"
   },
   {
    "duration": 15,
    "start_time": "2021-10-13T18:55:50.432Z"
   },
   {
    "duration": 30,
    "start_time": "2021-10-13T18:55:50.450Z"
   },
   {
    "duration": 49,
    "start_time": "2021-10-13T18:55:50.482Z"
   },
   {
    "duration": 22,
    "start_time": "2021-10-13T18:55:50.534Z"
   },
   {
    "duration": 22,
    "start_time": "2021-10-13T18:55:50.559Z"
   },
   {
    "duration": 40,
    "start_time": "2021-10-13T18:55:50.584Z"
   },
   {
    "duration": 15,
    "start_time": "2021-10-13T18:55:50.627Z"
   },
   {
    "duration": 38,
    "start_time": "2021-10-13T18:55:50.645Z"
   },
   {
    "duration": 45,
    "start_time": "2021-10-13T18:55:50.685Z"
   },
   {
    "duration": 12,
    "start_time": "2021-10-13T18:55:50.733Z"
   },
   {
    "duration": 921,
    "start_time": "2021-10-13T18:55:50.748Z"
   },
   {
    "duration": 453,
    "start_time": "2021-10-13T18:55:51.672Z"
   },
   {
    "duration": 48,
    "start_time": "2021-10-13T18:55:52.127Z"
   },
   {
    "duration": 1405,
    "start_time": "2021-10-13T18:55:52.177Z"
   },
   {
    "duration": 372,
    "start_time": "2021-10-13T18:55:53.585Z"
   },
   {
    "duration": 402,
    "start_time": "2021-10-13T18:55:53.959Z"
   },
   {
    "duration": 381,
    "start_time": "2021-10-13T18:55:54.363Z"
   },
   {
    "duration": 15,
    "start_time": "2021-10-13T18:55:54.746Z"
   },
   {
    "duration": 13,
    "start_time": "2021-10-13T18:55:54.763Z"
   },
   {
    "duration": 1483,
    "start_time": "2021-10-13T18:57:26.198Z"
   },
   {
    "duration": 494,
    "start_time": "2021-10-13T18:57:27.684Z"
   },
   {
    "duration": 66,
    "start_time": "2021-10-13T18:57:28.181Z"
   },
   {
    "duration": 19,
    "start_time": "2021-10-13T18:57:28.250Z"
   },
   {
    "duration": 32,
    "start_time": "2021-10-13T18:57:28.271Z"
   },
   {
    "duration": 29,
    "start_time": "2021-10-13T18:57:28.305Z"
   },
   {
    "duration": 117,
    "start_time": "2021-10-13T18:57:28.336Z"
   },
   {
    "duration": 13,
    "start_time": "2021-10-13T18:57:28.455Z"
   },
   {
    "duration": 18,
    "start_time": "2021-10-13T18:57:28.472Z"
   },
   {
    "duration": 21,
    "start_time": "2021-10-13T18:57:28.493Z"
   },
   {
    "duration": 5,
    "start_time": "2021-10-13T18:57:28.523Z"
   },
   {
    "duration": 10,
    "start_time": "2021-10-13T18:57:28.530Z"
   },
   {
    "duration": 7,
    "start_time": "2021-10-13T18:57:28.542Z"
   },
   {
    "duration": 11,
    "start_time": "2021-10-13T18:57:28.551Z"
   },
   {
    "duration": 22,
    "start_time": "2021-10-13T18:57:28.565Z"
   },
   {
    "duration": 6,
    "start_time": "2021-10-13T18:57:28.622Z"
   },
   {
    "duration": 9,
    "start_time": "2021-10-13T18:57:28.630Z"
   },
   {
    "duration": 21,
    "start_time": "2021-10-13T18:57:28.641Z"
   },
   {
    "duration": 59,
    "start_time": "2021-10-13T18:57:28.664Z"
   },
   {
    "duration": 32,
    "start_time": "2021-10-13T18:57:28.726Z"
   },
   {
    "duration": 16,
    "start_time": "2021-10-13T18:57:28.761Z"
   },
   {
    "duration": 44,
    "start_time": "2021-10-13T18:57:28.780Z"
   },
   {
    "duration": 34,
    "start_time": "2021-10-13T18:57:28.826Z"
   },
   {
    "duration": 21,
    "start_time": "2021-10-13T18:57:28.862Z"
   },
   {
    "duration": 50,
    "start_time": "2021-10-13T18:57:28.885Z"
   },
   {
    "duration": 24,
    "start_time": "2021-10-13T18:57:28.938Z"
   },
   {
    "duration": 14,
    "start_time": "2021-10-13T18:57:28.968Z"
   },
   {
    "duration": 40,
    "start_time": "2021-10-13T18:57:28.985Z"
   },
   {
    "duration": 36,
    "start_time": "2021-10-13T18:57:29.027Z"
   },
   {
    "duration": 21,
    "start_time": "2021-10-13T18:57:29.065Z"
   },
   {
    "duration": 47,
    "start_time": "2021-10-13T18:57:29.088Z"
   },
   {
    "duration": 15,
    "start_time": "2021-10-13T18:57:29.137Z"
   },
   {
    "duration": 22,
    "start_time": "2021-10-13T18:57:29.154Z"
   },
   {
    "duration": 54,
    "start_time": "2021-10-13T18:57:29.178Z"
   },
   {
    "duration": 11,
    "start_time": "2021-10-13T18:57:29.234Z"
   },
   {
    "duration": 11,
    "start_time": "2021-10-13T18:57:29.248Z"
   },
   {
    "duration": 651,
    "start_time": "2021-10-13T18:57:29.261Z"
   },
   {
    "duration": 431,
    "start_time": "2021-10-13T18:57:29.914Z"
   },
   {
    "duration": 48,
    "start_time": "2021-10-13T18:57:30.347Z"
   },
   {
    "duration": 1392,
    "start_time": "2021-10-13T18:57:30.397Z"
   },
   {
    "duration": 364,
    "start_time": "2021-10-13T18:57:31.792Z"
   },
   {
    "duration": 395,
    "start_time": "2021-10-13T18:57:32.159Z"
   },
   {
    "duration": 403,
    "start_time": "2021-10-13T18:57:32.557Z"
   },
   {
    "duration": 16,
    "start_time": "2021-10-13T18:57:32.963Z"
   },
   {
    "duration": 15,
    "start_time": "2021-10-13T18:57:32.981Z"
   },
   {
    "duration": 12,
    "start_time": "2021-10-13T19:00:08.990Z"
   },
   {
    "duration": 1455,
    "start_time": "2021-10-13T19:01:05.730Z"
   },
   {
    "duration": 500,
    "start_time": "2021-10-13T19:01:07.188Z"
   },
   {
    "duration": 74,
    "start_time": "2021-10-13T19:01:07.691Z"
   },
   {
    "duration": 21,
    "start_time": "2021-10-13T19:01:07.767Z"
   },
   {
    "duration": 51,
    "start_time": "2021-10-13T19:01:07.791Z"
   },
   {
    "duration": 24,
    "start_time": "2021-10-13T19:01:07.845Z"
   },
   {
    "duration": 112,
    "start_time": "2021-10-13T19:01:07.871Z"
   },
   {
    "duration": 13,
    "start_time": "2021-10-13T19:01:07.986Z"
   },
   {
    "duration": 29,
    "start_time": "2021-10-13T19:01:08.005Z"
   },
   {
    "duration": 12,
    "start_time": "2021-10-13T19:01:08.037Z"
   },
   {
    "duration": 12,
    "start_time": "2021-10-13T19:01:08.052Z"
   },
   {
    "duration": 5,
    "start_time": "2021-10-13T19:01:08.066Z"
   },
   {
    "duration": 11,
    "start_time": "2021-10-13T19:01:08.073Z"
   },
   {
    "duration": 39,
    "start_time": "2021-10-13T19:01:08.086Z"
   },
   {
    "duration": 15,
    "start_time": "2021-10-13T19:01:08.128Z"
   },
   {
    "duration": 21,
    "start_time": "2021-10-13T19:01:08.146Z"
   },
   {
    "duration": 5,
    "start_time": "2021-10-13T19:01:08.169Z"
   },
   {
    "duration": 10,
    "start_time": "2021-10-13T19:01:08.177Z"
   },
   {
    "duration": 51,
    "start_time": "2021-10-13T19:01:08.190Z"
   },
   {
    "duration": 33,
    "start_time": "2021-10-13T19:01:08.244Z"
   },
   {
    "duration": 52,
    "start_time": "2021-10-13T19:01:08.279Z"
   },
   {
    "duration": 14,
    "start_time": "2021-10-13T19:01:08.334Z"
   },
   {
    "duration": 16,
    "start_time": "2021-10-13T19:01:08.350Z"
   },
   {
    "duration": 55,
    "start_time": "2021-10-13T19:01:08.369Z"
   },
   {
    "duration": 22,
    "start_time": "2021-10-13T19:01:08.426Z"
   },
   {
    "duration": 19,
    "start_time": "2021-10-13T19:01:08.450Z"
   },
   {
    "duration": 53,
    "start_time": "2021-10-13T19:01:08.473Z"
   },
   {
    "duration": 15,
    "start_time": "2021-10-13T19:01:08.528Z"
   },
   {
    "duration": 17,
    "start_time": "2021-10-13T19:01:08.545Z"
   },
   {
    "duration": 60,
    "start_time": "2021-10-13T19:01:08.564Z"
   },
   {
    "duration": 25,
    "start_time": "2021-10-13T19:01:08.626Z"
   },
   {
    "duration": 23,
    "start_time": "2021-10-13T19:01:08.653Z"
   },
   {
    "duration": 46,
    "start_time": "2021-10-13T19:01:08.678Z"
   },
   {
    "duration": 15,
    "start_time": "2021-10-13T19:01:08.726Z"
   },
   {
    "duration": 40,
    "start_time": "2021-10-13T19:01:08.743Z"
   },
   {
    "duration": 12,
    "start_time": "2021-10-13T19:01:08.786Z"
   },
   {
    "duration": 12,
    "start_time": "2021-10-13T19:01:08.823Z"
   },
   {
    "duration": 623,
    "start_time": "2021-10-13T19:01:08.837Z"
   },
   {
    "duration": 365,
    "start_time": "2021-10-13T19:01:09.463Z"
   },
   {
    "duration": 46,
    "start_time": "2021-10-13T19:01:09.831Z"
   },
   {
    "duration": 1428,
    "start_time": "2021-10-13T19:01:09.880Z"
   },
   {
    "duration": 373,
    "start_time": "2021-10-13T19:01:11.311Z"
   },
   {
    "duration": 392,
    "start_time": "2021-10-13T19:01:11.687Z"
   },
   {
    "duration": 381,
    "start_time": "2021-10-13T19:01:12.082Z"
   },
   {
    "duration": 16,
    "start_time": "2021-10-13T19:01:12.465Z"
   },
   {
    "duration": 18,
    "start_time": "2021-10-13T19:01:12.483Z"
   },
   {
    "duration": 9,
    "start_time": "2021-10-13T19:01:50.663Z"
   },
   {
    "duration": 13,
    "start_time": "2021-10-13T19:01:54.078Z"
   },
   {
    "duration": 1747,
    "start_time": "2021-10-13T19:02:12.040Z"
   },
   {
    "duration": 519,
    "start_time": "2021-10-13T19:02:13.789Z"
   },
   {
    "duration": 67,
    "start_time": "2021-10-13T19:02:14.311Z"
   },
   {
    "duration": 20,
    "start_time": "2021-10-13T19:02:14.381Z"
   },
   {
    "duration": 36,
    "start_time": "2021-10-13T19:02:14.404Z"
   },
   {
    "duration": 12,
    "start_time": "2021-10-13T19:02:14.442Z"
   },
   {
    "duration": 123,
    "start_time": "2021-10-13T19:02:14.456Z"
   },
   {
    "duration": 14,
    "start_time": "2021-10-13T19:02:14.581Z"
   },
   {
    "duration": 32,
    "start_time": "2021-10-13T19:02:14.599Z"
   },
   {
    "duration": 13,
    "start_time": "2021-10-13T19:02:14.634Z"
   },
   {
    "duration": 12,
    "start_time": "2021-10-13T19:02:14.649Z"
   },
   {
    "duration": 5,
    "start_time": "2021-10-13T19:02:14.664Z"
   },
   {
    "duration": 5,
    "start_time": "2021-10-13T19:02:14.672Z"
   },
   {
    "duration": 44,
    "start_time": "2021-10-13T19:02:14.680Z"
   },
   {
    "duration": 17,
    "start_time": "2021-10-13T19:02:14.726Z"
   },
   {
    "duration": 26,
    "start_time": "2021-10-13T19:02:14.745Z"
   },
   {
    "duration": 5,
    "start_time": "2021-10-13T19:02:14.773Z"
   },
   {
    "duration": 41,
    "start_time": "2021-10-13T19:02:14.781Z"
   },
   {
    "duration": 21,
    "start_time": "2021-10-13T19:02:14.825Z"
   },
   {
    "duration": 36,
    "start_time": "2021-10-13T19:02:14.849Z"
   },
   {
    "duration": 55,
    "start_time": "2021-10-13T19:02:14.887Z"
   },
   {
    "duration": 15,
    "start_time": "2021-10-13T19:02:14.944Z"
   },
   {
    "duration": 12,
    "start_time": "2021-10-13T19:02:14.962Z"
   },
   {
    "duration": 60,
    "start_time": "2021-10-13T19:02:14.977Z"
   },
   {
    "duration": 21,
    "start_time": "2021-10-13T19:02:15.040Z"
   },
   {
    "duration": 20,
    "start_time": "2021-10-13T19:02:15.063Z"
   },
   {
    "duration": 53,
    "start_time": "2021-10-13T19:02:15.088Z"
   },
   {
    "duration": 15,
    "start_time": "2021-10-13T19:02:15.144Z"
   },
   {
    "duration": 17,
    "start_time": "2021-10-13T19:02:15.161Z"
   },
   {
    "duration": 57,
    "start_time": "2021-10-13T19:02:15.181Z"
   },
   {
    "duration": 22,
    "start_time": "2021-10-13T19:02:15.240Z"
   },
   {
    "duration": 21,
    "start_time": "2021-10-13T19:02:15.265Z"
   },
   {
    "duration": 37,
    "start_time": "2021-10-13T19:02:15.288Z"
   },
   {
    "duration": 17,
    "start_time": "2021-10-13T19:02:15.328Z"
   },
   {
    "duration": 35,
    "start_time": "2021-10-13T19:02:15.348Z"
   },
   {
    "duration": 13,
    "start_time": "2021-10-13T19:02:15.422Z"
   },
   {
    "duration": 17,
    "start_time": "2021-10-13T19:02:15.438Z"
   },
   {
    "duration": 615,
    "start_time": "2021-10-13T19:02:15.458Z"
   },
   {
    "duration": 369,
    "start_time": "2021-10-13T19:02:16.076Z"
   },
   {
    "duration": 47,
    "start_time": "2021-10-13T19:02:16.448Z"
   },
   {
    "duration": 1499,
    "start_time": "2021-10-13T19:02:16.498Z"
   },
   {
    "duration": 369,
    "start_time": "2021-10-13T19:02:18.000Z"
   },
   {
    "duration": 406,
    "start_time": "2021-10-13T19:02:18.371Z"
   },
   {
    "duration": 402,
    "start_time": "2021-10-13T19:02:18.779Z"
   },
   {
    "duration": 15,
    "start_time": "2021-10-13T19:02:19.184Z"
   },
   {
    "duration": 34,
    "start_time": "2021-10-13T19:02:19.201Z"
   },
   {
    "duration": 1409,
    "start_time": "2021-10-13T19:06:12.071Z"
   },
   {
    "duration": 515,
    "start_time": "2021-10-13T19:06:13.483Z"
   },
   {
    "duration": 71,
    "start_time": "2021-10-13T19:06:14.002Z"
   },
   {
    "duration": 45,
    "start_time": "2021-10-13T19:06:14.076Z"
   },
   {
    "duration": 20,
    "start_time": "2021-10-13T19:06:14.124Z"
   },
   {
    "duration": 11,
    "start_time": "2021-10-13T19:06:14.146Z"
   },
   {
    "duration": 123,
    "start_time": "2021-10-13T19:06:14.159Z"
   },
   {
    "duration": 28,
    "start_time": "2021-10-13T19:06:14.284Z"
   },
   {
    "duration": 23,
    "start_time": "2021-10-13T19:06:14.316Z"
   },
   {
    "duration": 12,
    "start_time": "2021-10-13T19:06:14.342Z"
   },
   {
    "duration": 10,
    "start_time": "2021-10-13T19:06:14.356Z"
   },
   {
    "duration": 5,
    "start_time": "2021-10-13T19:06:14.368Z"
   },
   {
    "duration": 46,
    "start_time": "2021-10-13T19:06:14.376Z"
   },
   {
    "duration": 7,
    "start_time": "2021-10-13T19:06:14.425Z"
   },
   {
    "duration": 19,
    "start_time": "2021-10-13T19:06:14.434Z"
   },
   {
    "duration": 23,
    "start_time": "2021-10-13T19:06:14.456Z"
   },
   {
    "duration": 7,
    "start_time": "2021-10-13T19:06:14.482Z"
   },
   {
    "duration": 37,
    "start_time": "2021-10-13T19:06:14.491Z"
   },
   {
    "duration": 23,
    "start_time": "2021-10-13T19:06:14.530Z"
   },
   {
    "duration": 38,
    "start_time": "2021-10-13T19:06:14.555Z"
   },
   {
    "duration": 56,
    "start_time": "2021-10-13T19:06:14.595Z"
   },
   {
    "duration": 14,
    "start_time": "2021-10-13T19:06:14.653Z"
   },
   {
    "duration": 16,
    "start_time": "2021-10-13T19:06:14.669Z"
   },
   {
    "duration": 57,
    "start_time": "2021-10-13T19:06:14.687Z"
   },
   {
    "duration": 20,
    "start_time": "2021-10-13T19:06:14.747Z"
   },
   {
    "duration": 18,
    "start_time": "2021-10-13T19:06:14.769Z"
   },
   {
    "duration": 51,
    "start_time": "2021-10-13T19:06:14.792Z"
   },
   {
    "duration": 14,
    "start_time": "2021-10-13T19:06:14.846Z"
   },
   {
    "duration": 16,
    "start_time": "2021-10-13T19:06:14.862Z"
   },
   {
    "duration": 59,
    "start_time": "2021-10-13T19:06:14.880Z"
   },
   {
    "duration": 22,
    "start_time": "2021-10-13T19:06:14.941Z"
   },
   {
    "duration": 479,
    "start_time": "2021-10-13T19:06:14.965Z"
   },
   {
    "duration": -18,
    "start_time": "2021-10-13T19:06:15.465Z"
   },
   {
    "duration": -20,
    "start_time": "2021-10-13T19:06:15.468Z"
   },
   {
    "duration": -42,
    "start_time": "2021-10-13T19:06:15.491Z"
   },
   {
    "duration": -42,
    "start_time": "2021-10-13T19:06:15.493Z"
   },
   {
    "duration": -43,
    "start_time": "2021-10-13T19:06:15.495Z"
   },
   {
    "duration": -43,
    "start_time": "2021-10-13T19:06:15.497Z"
   },
   {
    "duration": -43,
    "start_time": "2021-10-13T19:06:15.498Z"
   },
   {
    "duration": -44,
    "start_time": "2021-10-13T19:06:15.500Z"
   },
   {
    "duration": -44,
    "start_time": "2021-10-13T19:06:15.502Z"
   },
   {
    "duration": -47,
    "start_time": "2021-10-13T19:06:15.507Z"
   },
   {
    "duration": -49,
    "start_time": "2021-10-13T19:06:15.510Z"
   },
   {
    "duration": -49,
    "start_time": "2021-10-13T19:06:15.511Z"
   },
   {
    "duration": -49,
    "start_time": "2021-10-13T19:06:15.513Z"
   },
   {
    "duration": -50,
    "start_time": "2021-10-13T19:06:15.515Z"
   },
   {
    "duration": 1433,
    "start_time": "2021-10-13T19:10:05.854Z"
   },
   {
    "duration": 511,
    "start_time": "2021-10-13T19:10:07.290Z"
   },
   {
    "duration": 69,
    "start_time": "2021-10-13T19:10:07.803Z"
   },
   {
    "duration": 21,
    "start_time": "2021-10-13T19:10:07.875Z"
   },
   {
    "duration": 47,
    "start_time": "2021-10-13T19:10:07.899Z"
   },
   {
    "duration": 14,
    "start_time": "2021-10-13T19:10:07.948Z"
   },
   {
    "duration": 119,
    "start_time": "2021-10-13T19:10:07.964Z"
   },
   {
    "duration": 39,
    "start_time": "2021-10-13T19:10:08.087Z"
   },
   {
    "duration": 18,
    "start_time": "2021-10-13T19:10:08.129Z"
   },
   {
    "duration": 12,
    "start_time": "2021-10-13T19:10:08.150Z"
   },
   {
    "duration": 12,
    "start_time": "2021-10-13T19:10:08.164Z"
   },
   {
    "duration": 5,
    "start_time": "2021-10-13T19:10:08.179Z"
   },
   {
    "duration": 47,
    "start_time": "2021-10-13T19:10:08.186Z"
   },
   {
    "duration": 9,
    "start_time": "2021-10-13T19:10:08.236Z"
   },
   {
    "duration": 16,
    "start_time": "2021-10-13T19:10:08.247Z"
   },
   {
    "duration": 24,
    "start_time": "2021-10-13T19:10:08.265Z"
   },
   {
    "duration": 33,
    "start_time": "2021-10-13T19:10:08.292Z"
   },
   {
    "duration": 20,
    "start_time": "2021-10-13T19:10:08.328Z"
   },
   {
    "duration": 23,
    "start_time": "2021-10-13T19:10:08.350Z"
   },
   {
    "duration": 55,
    "start_time": "2021-10-13T19:10:08.376Z"
   },
   {
    "duration": 33,
    "start_time": "2021-10-13T19:10:08.434Z"
   },
   {
    "duration": 14,
    "start_time": "2021-10-13T19:10:08.469Z"
   },
   {
    "duration": 37,
    "start_time": "2021-10-13T19:10:08.488Z"
   },
   {
    "duration": 35,
    "start_time": "2021-10-13T19:10:08.528Z"
   },
   {
    "duration": 22,
    "start_time": "2021-10-13T19:10:08.566Z"
   },
   {
    "duration": 48,
    "start_time": "2021-10-13T19:10:08.590Z"
   },
   {
    "duration": 31,
    "start_time": "2021-10-13T19:10:08.640Z"
   },
   {
    "duration": 48,
    "start_time": "2021-10-13T19:10:08.674Z"
   },
   {
    "duration": 16,
    "start_time": "2021-10-13T19:10:08.726Z"
   },
   {
    "duration": 34,
    "start_time": "2021-10-13T19:10:08.744Z"
   },
   {
    "duration": 58,
    "start_time": "2021-10-13T19:10:08.781Z"
   },
   {
    "duration": 21,
    "start_time": "2021-10-13T19:10:08.841Z"
   },
   {
    "duration": 14,
    "start_time": "2021-10-13T19:10:08.865Z"
   },
   {
    "duration": 43,
    "start_time": "2021-10-13T19:10:08.881Z"
   },
   {
    "duration": 33,
    "start_time": "2021-10-13T19:10:08.927Z"
   },
   {
    "duration": 12,
    "start_time": "2021-10-13T19:10:08.963Z"
   },
   {
    "duration": 49,
    "start_time": "2021-10-13T19:10:08.978Z"
   },
   {
    "duration": 594,
    "start_time": "2021-10-13T19:10:09.030Z"
   },
   {
    "duration": 399,
    "start_time": "2021-10-13T19:10:09.626Z"
   },
   {
    "duration": 47,
    "start_time": "2021-10-13T19:10:10.027Z"
   },
   {
    "duration": 1404,
    "start_time": "2021-10-13T19:10:10.077Z"
   },
   {
    "duration": 376,
    "start_time": "2021-10-13T19:10:11.483Z"
   },
   {
    "duration": 394,
    "start_time": "2021-10-13T19:10:11.861Z"
   },
   {
    "duration": 393,
    "start_time": "2021-10-13T19:10:12.257Z"
   },
   {
    "duration": 16,
    "start_time": "2021-10-13T19:10:12.652Z"
   },
   {
    "duration": 14,
    "start_time": "2021-10-13T19:10:12.670Z"
   },
   {
    "duration": 1453,
    "start_time": "2021-10-13T19:19:46.118Z"
   },
   {
    "duration": 572,
    "start_time": "2021-10-13T19:19:47.574Z"
   },
   {
    "duration": 69,
    "start_time": "2021-10-13T19:19:48.149Z"
   },
   {
    "duration": 20,
    "start_time": "2021-10-13T19:19:48.221Z"
   },
   {
    "duration": 23,
    "start_time": "2021-10-13T19:19:48.243Z"
   },
   {
    "duration": 20,
    "start_time": "2021-10-13T19:19:48.268Z"
   },
   {
    "duration": 115,
    "start_time": "2021-10-13T19:19:48.291Z"
   },
   {
    "duration": 28,
    "start_time": "2021-10-13T19:19:48.410Z"
   },
   {
    "duration": 18,
    "start_time": "2021-10-13T19:19:48.441Z"
   },
   {
    "duration": 14,
    "start_time": "2021-10-13T19:19:48.461Z"
   },
   {
    "duration": 10,
    "start_time": "2021-10-13T19:19:48.478Z"
   },
   {
    "duration": 5,
    "start_time": "2021-10-13T19:19:48.522Z"
   },
   {
    "duration": 9,
    "start_time": "2021-10-13T19:19:48.531Z"
   },
   {
    "duration": 9,
    "start_time": "2021-10-13T19:19:48.542Z"
   },
   {
    "duration": 16,
    "start_time": "2021-10-13T19:19:48.553Z"
   },
   {
    "duration": 21,
    "start_time": "2021-10-13T19:19:48.571Z"
   },
   {
    "duration": 6,
    "start_time": "2021-10-13T19:19:48.622Z"
   },
   {
    "duration": 11,
    "start_time": "2021-10-13T19:19:48.630Z"
   },
   {
    "duration": 22,
    "start_time": "2021-10-13T19:19:48.643Z"
   },
   {
    "duration": 58,
    "start_time": "2021-10-13T19:19:48.668Z"
   },
   {
    "duration": 33,
    "start_time": "2021-10-13T19:19:48.728Z"
   },
   {
    "duration": 15,
    "start_time": "2021-10-13T19:19:48.763Z"
   },
   {
    "duration": 12,
    "start_time": "2021-10-13T19:19:48.783Z"
   },
   {
    "duration": 34,
    "start_time": "2021-10-13T19:19:48.824Z"
   },
   {
    "duration": 396,
    "start_time": "2021-10-13T19:19:48.861Z"
   },
   {
    "duration": 49,
    "start_time": "2021-10-13T19:19:49.211Z"
   },
   {
    "duration": 31,
    "start_time": "2021-10-13T19:19:49.230Z"
   },
   {
    "duration": 30,
    "start_time": "2021-10-13T19:19:49.232Z"
   },
   {
    "duration": 30,
    "start_time": "2021-10-13T19:19:49.234Z"
   },
   {
    "duration": 30,
    "start_time": "2021-10-13T19:19:49.235Z"
   },
   {
    "duration": 30,
    "start_time": "2021-10-13T19:19:49.237Z"
   },
   {
    "duration": 30,
    "start_time": "2021-10-13T19:19:49.238Z"
   },
   {
    "duration": 29,
    "start_time": "2021-10-13T19:19:49.241Z"
   },
   {
    "duration": 26,
    "start_time": "2021-10-13T19:19:49.245Z"
   },
   {
    "duration": -22,
    "start_time": "2021-10-13T19:19:49.294Z"
   },
   {
    "duration": -34,
    "start_time": "2021-10-13T19:19:49.308Z"
   },
   {
    "duration": -36,
    "start_time": "2021-10-13T19:19:49.311Z"
   },
   {
    "duration": -36,
    "start_time": "2021-10-13T19:19:49.313Z"
   },
   {
    "duration": -37,
    "start_time": "2021-10-13T19:19:49.315Z"
   },
   {
    "duration": -37,
    "start_time": "2021-10-13T19:19:49.317Z"
   },
   {
    "duration": -38,
    "start_time": "2021-10-13T19:19:49.319Z"
   },
   {
    "duration": -39,
    "start_time": "2021-10-13T19:19:49.321Z"
   },
   {
    "duration": -38,
    "start_time": "2021-10-13T19:19:49.322Z"
   },
   {
    "duration": -39,
    "start_time": "2021-10-13T19:19:49.324Z"
   },
   {
    "duration": -40,
    "start_time": "2021-10-13T19:19:49.326Z"
   },
   {
    "duration": -39,
    "start_time": "2021-10-13T19:19:49.327Z"
   },
   {
    "duration": -40,
    "start_time": "2021-10-13T19:19:49.329Z"
   },
   {
    "duration": 1584,
    "start_time": "2021-10-13T19:20:50.396Z"
   },
   {
    "duration": 502,
    "start_time": "2021-10-13T19:20:51.983Z"
   },
   {
    "duration": 69,
    "start_time": "2021-10-13T19:20:52.489Z"
   },
   {
    "duration": 19,
    "start_time": "2021-10-13T19:20:52.561Z"
   },
   {
    "duration": 21,
    "start_time": "2021-10-13T19:20:52.583Z"
   },
   {
    "duration": 11,
    "start_time": "2021-10-13T19:20:52.623Z"
   },
   {
    "duration": 117,
    "start_time": "2021-10-13T19:20:52.636Z"
   },
   {
    "duration": 29,
    "start_time": "2021-10-13T19:20:52.756Z"
   },
   {
    "duration": 35,
    "start_time": "2021-10-13T19:20:52.789Z"
   },
   {
    "duration": 13,
    "start_time": "2021-10-13T19:20:52.828Z"
   },
   {
    "duration": 15,
    "start_time": "2021-10-13T19:20:52.843Z"
   },
   {
    "duration": 15,
    "start_time": "2021-10-13T19:20:52.860Z"
   },
   {
    "duration": 7,
    "start_time": "2021-10-13T19:20:52.878Z"
   },
   {
    "duration": 7,
    "start_time": "2021-10-13T19:20:52.888Z"
   },
   {
    "duration": 32,
    "start_time": "2021-10-13T19:20:52.898Z"
   },
   {
    "duration": 26,
    "start_time": "2021-10-13T19:20:52.934Z"
   },
   {
    "duration": 5,
    "start_time": "2021-10-13T19:20:52.963Z"
   },
   {
    "duration": 9,
    "start_time": "2021-10-13T19:20:52.971Z"
   },
   {
    "duration": 52,
    "start_time": "2021-10-13T19:20:52.982Z"
   },
   {
    "duration": 32,
    "start_time": "2021-10-13T19:20:53.037Z"
   },
   {
    "duration": 31,
    "start_time": "2021-10-13T19:20:53.071Z"
   },
   {
    "duration": 28,
    "start_time": "2021-10-13T19:20:53.104Z"
   },
   {
    "duration": 21,
    "start_time": "2021-10-13T19:20:53.134Z"
   },
   {
    "duration": 37,
    "start_time": "2021-10-13T19:20:53.157Z"
   },
   {
    "duration": 387,
    "start_time": "2021-10-13T19:20:53.222Z"
   },
   {
    "duration": -97,
    "start_time": "2021-10-13T19:20:53.710Z"
   },
   {
    "duration": -97,
    "start_time": "2021-10-13T19:20:53.712Z"
   },
   {
    "duration": -98,
    "start_time": "2021-10-13T19:20:53.714Z"
   },
   {
    "duration": -98,
    "start_time": "2021-10-13T19:20:53.716Z"
   },
   {
    "duration": -99,
    "start_time": "2021-10-13T19:20:53.718Z"
   },
   {
    "duration": -100,
    "start_time": "2021-10-13T19:20:53.720Z"
   },
   {
    "duration": -99,
    "start_time": "2021-10-13T19:20:53.721Z"
   },
   {
    "duration": -100,
    "start_time": "2021-10-13T19:20:53.723Z"
   },
   {
    "duration": -119,
    "start_time": "2021-10-13T19:20:53.744Z"
   },
   {
    "duration": -120,
    "start_time": "2021-10-13T19:20:53.746Z"
   },
   {
    "duration": -119,
    "start_time": "2021-10-13T19:20:53.747Z"
   },
   {
    "duration": -120,
    "start_time": "2021-10-13T19:20:53.749Z"
   },
   {
    "duration": -121,
    "start_time": "2021-10-13T19:20:53.751Z"
   },
   {
    "duration": -122,
    "start_time": "2021-10-13T19:20:53.754Z"
   },
   {
    "duration": -125,
    "start_time": "2021-10-13T19:20:53.758Z"
   },
   {
    "duration": -125,
    "start_time": "2021-10-13T19:20:53.760Z"
   },
   {
    "duration": -126,
    "start_time": "2021-10-13T19:20:53.762Z"
   },
   {
    "duration": -126,
    "start_time": "2021-10-13T19:20:53.764Z"
   },
   {
    "duration": -132,
    "start_time": "2021-10-13T19:20:53.771Z"
   },
   {
    "duration": -133,
    "start_time": "2021-10-13T19:20:53.773Z"
   },
   {
    "duration": -134,
    "start_time": "2021-10-13T19:20:53.775Z"
   },
   {
    "duration": -133,
    "start_time": "2021-10-13T19:20:53.776Z"
   },
   {
    "duration": 1531,
    "start_time": "2021-10-13T19:21:42.063Z"
   },
   {
    "duration": 513,
    "start_time": "2021-10-13T19:21:43.597Z"
   },
   {
    "duration": 67,
    "start_time": "2021-10-13T19:21:44.113Z"
   },
   {
    "duration": 19,
    "start_time": "2021-10-13T19:21:44.183Z"
   },
   {
    "duration": 37,
    "start_time": "2021-10-13T19:21:44.204Z"
   },
   {
    "duration": 31,
    "start_time": "2021-10-13T19:21:44.244Z"
   },
   {
    "duration": 112,
    "start_time": "2021-10-13T19:21:44.278Z"
   },
   {
    "duration": 31,
    "start_time": "2021-10-13T19:21:44.394Z"
   },
   {
    "duration": 20,
    "start_time": "2021-10-13T19:21:44.428Z"
   },
   {
    "duration": 19,
    "start_time": "2021-10-13T19:21:44.451Z"
   },
   {
    "duration": 19,
    "start_time": "2021-10-13T19:21:44.472Z"
   },
   {
    "duration": 29,
    "start_time": "2021-10-13T19:21:44.493Z"
   },
   {
    "duration": 22,
    "start_time": "2021-10-13T19:21:44.526Z"
   },
   {
    "duration": 20,
    "start_time": "2021-10-13T19:21:44.551Z"
   },
   {
    "duration": 21,
    "start_time": "2021-10-13T19:21:44.574Z"
   },
   {
    "duration": 33,
    "start_time": "2021-10-13T19:21:44.598Z"
   },
   {
    "duration": 5,
    "start_time": "2021-10-13T19:21:44.633Z"
   },
   {
    "duration": 25,
    "start_time": "2021-10-13T19:21:44.640Z"
   },
   {
    "duration": 32,
    "start_time": "2021-10-13T19:21:44.668Z"
   },
   {
    "duration": 37,
    "start_time": "2021-10-13T19:21:44.703Z"
   },
   {
    "duration": 31,
    "start_time": "2021-10-13T19:21:44.742Z"
   },
   {
    "duration": 14,
    "start_time": "2021-10-13T19:21:44.776Z"
   },
   {
    "duration": 35,
    "start_time": "2021-10-13T19:21:44.795Z"
   },
   {
    "duration": 39,
    "start_time": "2021-10-13T19:21:44.833Z"
   },
   {
    "duration": 32,
    "start_time": "2021-10-13T19:21:44.874Z"
   },
   {
    "duration": 34,
    "start_time": "2021-10-13T19:21:44.908Z"
   },
   {
    "duration": 21,
    "start_time": "2021-10-13T19:21:44.945Z"
   },
   {
    "duration": 34,
    "start_time": "2021-10-13T19:21:44.968Z"
   },
   {
    "duration": 29,
    "start_time": "2021-10-13T19:21:45.005Z"
   },
   {
    "duration": 23,
    "start_time": "2021-10-13T19:21:45.036Z"
   },
   {
    "duration": 42,
    "start_time": "2021-10-13T19:21:45.061Z"
   },
   {
    "duration": 33,
    "start_time": "2021-10-13T19:21:45.106Z"
   },
   {
    "duration": 22,
    "start_time": "2021-10-13T19:21:45.141Z"
   },
   {
    "duration": 15,
    "start_time": "2021-10-13T19:21:45.166Z"
   },
   {
    "duration": 52,
    "start_time": "2021-10-13T19:21:45.184Z"
   },
   {
    "duration": 37,
    "start_time": "2021-10-13T19:21:45.239Z"
   },
   {
    "duration": 44,
    "start_time": "2021-10-13T19:21:45.279Z"
   },
   {
    "duration": 18,
    "start_time": "2021-10-13T19:21:45.326Z"
   },
   {
    "duration": 611,
    "start_time": "2021-10-13T19:21:45.347Z"
   },
   {
    "duration": 382,
    "start_time": "2021-10-13T19:21:45.960Z"
   },
   {
    "duration": 47,
    "start_time": "2021-10-13T19:21:46.345Z"
   },
   {
    "duration": 1384,
    "start_time": "2021-10-13T19:21:46.394Z"
   },
   {
    "duration": 376,
    "start_time": "2021-10-13T19:21:47.780Z"
   },
   {
    "duration": 397,
    "start_time": "2021-10-13T19:21:48.158Z"
   },
   {
    "duration": 389,
    "start_time": "2021-10-13T19:21:48.557Z"
   },
   {
    "duration": 16,
    "start_time": "2021-10-13T19:21:48.948Z"
   },
   {
    "duration": 18,
    "start_time": "2021-10-13T19:21:48.967Z"
   },
   {
    "duration": 1415,
    "start_time": "2021-10-13T19:24:19.513Z"
   },
   {
    "duration": 503,
    "start_time": "2021-10-13T19:24:20.930Z"
   },
   {
    "duration": 79,
    "start_time": "2021-10-13T19:24:21.437Z"
   },
   {
    "duration": 22,
    "start_time": "2021-10-13T19:24:21.524Z"
   },
   {
    "duration": 20,
    "start_time": "2021-10-13T19:24:21.548Z"
   },
   {
    "duration": 54,
    "start_time": "2021-10-13T19:24:21.572Z"
   },
   {
    "duration": 112,
    "start_time": "2021-10-13T19:24:21.629Z"
   },
   {
    "duration": 29,
    "start_time": "2021-10-13T19:24:21.744Z"
   },
   {
    "duration": 19,
    "start_time": "2021-10-13T19:24:21.779Z"
   },
   {
    "duration": 12,
    "start_time": "2021-10-13T19:24:21.823Z"
   },
   {
    "duration": 9,
    "start_time": "2021-10-13T19:24:21.837Z"
   },
   {
    "duration": 4,
    "start_time": "2021-10-13T19:24:21.849Z"
   },
   {
    "duration": 11,
    "start_time": "2021-10-13T19:24:21.856Z"
   },
   {
    "duration": 12,
    "start_time": "2021-10-13T19:24:21.869Z"
   },
   {
    "duration": 46,
    "start_time": "2021-10-13T19:24:21.883Z"
   },
   {
    "duration": 22,
    "start_time": "2021-10-13T19:24:21.931Z"
   },
   {
    "duration": 5,
    "start_time": "2021-10-13T19:24:21.955Z"
   },
   {
    "duration": 13,
    "start_time": "2021-10-13T19:24:21.962Z"
   },
   {
    "duration": 50,
    "start_time": "2021-10-13T19:24:21.977Z"
   },
   {
    "duration": 34,
    "start_time": "2021-10-13T19:24:22.029Z"
   },
   {
    "duration": 33,
    "start_time": "2021-10-13T19:24:22.066Z"
   },
   {
    "duration": 32,
    "start_time": "2021-10-13T19:24:22.101Z"
   },
   {
    "duration": 13,
    "start_time": "2021-10-13T19:24:22.136Z"
   },
   {
    "duration": 32,
    "start_time": "2021-10-13T19:24:22.152Z"
   },
   {
    "duration": 62,
    "start_time": "2021-10-13T19:24:22.186Z"
   },
   {
    "duration": 15,
    "start_time": "2021-10-13T19:24:22.251Z"
   },
   {
    "duration": 12,
    "start_time": "2021-10-13T19:24:22.271Z"
   },
   {
    "duration": 50,
    "start_time": "2021-10-13T19:24:22.285Z"
   },
   {
    "duration": 20,
    "start_time": "2021-10-13T19:24:22.337Z"
   },
   {
    "duration": 25,
    "start_time": "2021-10-13T19:24:22.359Z"
   },
   {
    "duration": 39,
    "start_time": "2021-10-13T19:24:22.386Z"
   },
   {
    "duration": 13,
    "start_time": "2021-10-13T19:24:22.427Z"
   },
   {
    "duration": 39,
    "start_time": "2021-10-13T19:24:22.442Z"
   },
   {
    "duration": 50,
    "start_time": "2021-10-13T19:24:22.483Z"
   },
   {
    "duration": 21,
    "start_time": "2021-10-13T19:24:22.536Z"
   },
   {
    "duration": 14,
    "start_time": "2021-10-13T19:24:22.559Z"
   },
   {
    "duration": 46,
    "start_time": "2021-10-13T19:24:22.576Z"
   },
   {
    "duration": 45,
    "start_time": "2021-10-13T19:24:22.625Z"
   },
   {
    "duration": 16,
    "start_time": "2021-10-13T19:24:22.673Z"
   },
   {
    "duration": 8209,
    "start_time": "2021-10-13T19:24:22.692Z"
   },
   {
    "duration": -80,
    "start_time": "2021-10-13T19:24:30.985Z"
   },
   {
    "duration": -83,
    "start_time": "2021-10-13T19:24:30.990Z"
   },
   {
    "duration": -82,
    "start_time": "2021-10-13T19:24:30.992Z"
   },
   {
    "duration": -82,
    "start_time": "2021-10-13T19:24:30.994Z"
   },
   {
    "duration": -82,
    "start_time": "2021-10-13T19:24:30.997Z"
   },
   {
    "duration": -84,
    "start_time": "2021-10-13T19:24:31.001Z"
   },
   {
    "duration": -86,
    "start_time": "2021-10-13T19:24:31.005Z"
   },
   {
    "duration": -87,
    "start_time": "2021-10-13T19:24:31.008Z"
   },
   {
    "duration": -87,
    "start_time": "2021-10-13T19:24:31.010Z"
   },
   {
    "duration": 1402,
    "start_time": "2021-10-13T19:26:22.069Z"
   },
   {
    "duration": 500,
    "start_time": "2021-10-13T19:26:23.474Z"
   },
   {
    "duration": 68,
    "start_time": "2021-10-13T19:26:23.978Z"
   },
   {
    "duration": 19,
    "start_time": "2021-10-13T19:26:24.049Z"
   },
   {
    "duration": 18,
    "start_time": "2021-10-13T19:26:24.071Z"
   },
   {
    "duration": 42,
    "start_time": "2021-10-13T19:26:24.092Z"
   },
   {
    "duration": 118,
    "start_time": "2021-10-13T19:26:24.137Z"
   },
   {
    "duration": 31,
    "start_time": "2021-10-13T19:26:24.258Z"
   },
   {
    "duration": 31,
    "start_time": "2021-10-13T19:26:24.293Z"
   },
   {
    "duration": 15,
    "start_time": "2021-10-13T19:26:24.327Z"
   },
   {
    "duration": 11,
    "start_time": "2021-10-13T19:26:24.345Z"
   },
   {
    "duration": 6,
    "start_time": "2021-10-13T19:26:24.359Z"
   },
   {
    "duration": 7,
    "start_time": "2021-10-13T19:26:24.368Z"
   },
   {
    "duration": 47,
    "start_time": "2021-10-13T19:26:24.378Z"
   },
   {
    "duration": 15,
    "start_time": "2021-10-13T19:26:24.427Z"
   },
   {
    "duration": 21,
    "start_time": "2021-10-13T19:26:24.445Z"
   },
   {
    "duration": 5,
    "start_time": "2021-10-13T19:26:24.468Z"
   },
   {
    "duration": 9,
    "start_time": "2021-10-13T19:26:24.475Z"
   },
   {
    "duration": 53,
    "start_time": "2021-10-13T19:26:24.486Z"
   },
   {
    "duration": 35,
    "start_time": "2021-10-13T19:26:24.541Z"
   },
   {
    "duration": 54,
    "start_time": "2021-10-13T19:26:24.578Z"
   },
   {
    "duration": 15,
    "start_time": "2021-10-13T19:26:24.634Z"
   },
   {
    "duration": 13,
    "start_time": "2021-10-13T19:26:24.652Z"
   },
   {
    "duration": 66,
    "start_time": "2021-10-13T19:26:24.668Z"
   },
   {
    "duration": 32,
    "start_time": "2021-10-13T19:26:24.737Z"
   },
   {
    "duration": 15,
    "start_time": "2021-10-13T19:26:24.772Z"
   },
   {
    "duration": 16,
    "start_time": "2021-10-13T19:26:24.824Z"
   },
   {
    "duration": 22,
    "start_time": "2021-10-13T19:26:24.844Z"
   },
   {
    "duration": 54,
    "start_time": "2021-10-13T19:26:24.869Z"
   },
   {
    "duration": 27,
    "start_time": "2021-10-13T19:26:24.926Z"
   },
   {
    "duration": 16,
    "start_time": "2021-10-13T19:26:24.955Z"
   },
   {
    "duration": 17,
    "start_time": "2021-10-13T19:26:24.973Z"
   },
   {
    "duration": 66,
    "start_time": "2021-10-13T19:26:24.992Z"
   },
   {
    "duration": 23,
    "start_time": "2021-10-13T19:26:25.060Z"
   },
   {
    "duration": 47,
    "start_time": "2021-10-13T19:26:25.085Z"
   },
   {
    "duration": 15,
    "start_time": "2021-10-13T19:26:25.134Z"
   },
   {
    "duration": 21,
    "start_time": "2021-10-13T19:26:25.151Z"
   },
   {
    "duration": 55,
    "start_time": "2021-10-13T19:26:25.175Z"
   },
   {
    "duration": 12,
    "start_time": "2021-10-13T19:26:25.232Z"
   },
   {
    "duration": 15,
    "start_time": "2021-10-13T19:26:25.246Z"
   },
   {
    "duration": 935,
    "start_time": "2021-10-13T19:26:25.263Z"
   },
   {
    "duration": 547,
    "start_time": "2021-10-13T19:26:26.200Z"
   },
   {
    "duration": 83,
    "start_time": "2021-10-13T19:26:26.750Z"
   },
   {
    "duration": 1356,
    "start_time": "2021-10-13T19:26:26.836Z"
   },
   {
    "duration": 376,
    "start_time": "2021-10-13T19:26:28.194Z"
   },
   {
    "duration": 759,
    "start_time": "2021-10-13T19:26:28.572Z"
   },
   {
    "duration": 503,
    "start_time": "2021-10-13T19:26:29.333Z"
   },
   {
    "duration": 16,
    "start_time": "2021-10-13T19:26:29.838Z"
   },
   {
    "duration": 20,
    "start_time": "2021-10-13T19:26:29.857Z"
   },
   {
    "duration": 1476,
    "start_time": "2021-10-13T19:27:32.635Z"
   },
   {
    "duration": 501,
    "start_time": "2021-10-13T19:27:34.116Z"
   },
   {
    "duration": 71,
    "start_time": "2021-10-13T19:27:34.620Z"
   },
   {
    "duration": 36,
    "start_time": "2021-10-13T19:27:34.694Z"
   },
   {
    "duration": 25,
    "start_time": "2021-10-13T19:27:34.732Z"
   },
   {
    "duration": 13,
    "start_time": "2021-10-13T19:27:34.760Z"
   },
   {
    "duration": 153,
    "start_time": "2021-10-13T19:27:34.776Z"
   },
   {
    "duration": 37,
    "start_time": "2021-10-13T19:27:34.933Z"
   },
   {
    "duration": 19,
    "start_time": "2021-10-13T19:27:34.972Z"
   },
   {
    "duration": 30,
    "start_time": "2021-10-13T19:27:34.994Z"
   },
   {
    "duration": 15,
    "start_time": "2021-10-13T19:27:35.027Z"
   },
   {
    "duration": 7,
    "start_time": "2021-10-13T19:27:35.045Z"
   },
   {
    "duration": 6,
    "start_time": "2021-10-13T19:27:35.055Z"
   },
   {
    "duration": 11,
    "start_time": "2021-10-13T19:27:35.064Z"
   },
   {
    "duration": 15,
    "start_time": "2021-10-13T19:27:35.078Z"
   },
   {
    "duration": 49,
    "start_time": "2021-10-13T19:27:35.095Z"
   },
   {
    "duration": 6,
    "start_time": "2021-10-13T19:27:35.146Z"
   },
   {
    "duration": 12,
    "start_time": "2021-10-13T19:27:35.154Z"
   },
   {
    "duration": 58,
    "start_time": "2021-10-13T19:27:35.168Z"
   },
   {
    "duration": 34,
    "start_time": "2021-10-13T19:27:35.229Z"
   },
   {
    "duration": 37,
    "start_time": "2021-10-13T19:27:35.266Z"
   },
   {
    "duration": 15,
    "start_time": "2021-10-13T19:27:35.323Z"
   },
   {
    "duration": 14,
    "start_time": "2021-10-13T19:27:35.341Z"
   },
   {
    "duration": 68,
    "start_time": "2021-10-13T19:27:35.358Z"
   },
   {
    "duration": 40,
    "start_time": "2021-10-13T19:27:35.428Z"
   },
   {
    "duration": 19,
    "start_time": "2021-10-13T19:27:35.473Z"
   },
   {
    "duration": 41,
    "start_time": "2021-10-13T19:27:35.496Z"
   },
   {
    "duration": 23,
    "start_time": "2021-10-13T19:27:35.539Z"
   },
   {
    "duration": 24,
    "start_time": "2021-10-13T19:27:35.564Z"
   },
   {
    "duration": 54,
    "start_time": "2021-10-13T19:27:35.590Z"
   },
   {
    "duration": 16,
    "start_time": "2021-10-13T19:27:35.647Z"
   },
   {
    "duration": 16,
    "start_time": "2021-10-13T19:27:35.666Z"
   },
   {
    "duration": 68,
    "start_time": "2021-10-13T19:27:35.685Z"
   },
   {
    "duration": 25,
    "start_time": "2021-10-13T19:27:35.756Z"
   },
   {
    "duration": 50,
    "start_time": "2021-10-13T19:27:35.784Z"
   },
   {
    "duration": 14,
    "start_time": "2021-10-13T19:27:35.836Z"
   },
   {
    "duration": 15,
    "start_time": "2021-10-13T19:27:35.853Z"
   },
   {
    "duration": 78,
    "start_time": "2021-10-13T19:27:35.870Z"
   },
   {
    "duration": 11,
    "start_time": "2021-10-13T19:27:35.951Z"
   },
   {
    "duration": 17,
    "start_time": "2021-10-13T19:27:35.965Z"
   },
   {
    "duration": 647,
    "start_time": "2021-10-13T19:27:35.985Z"
   },
   {
    "duration": 367,
    "start_time": "2021-10-13T19:27:36.635Z"
   },
   {
    "duration": 59,
    "start_time": "2021-10-13T19:27:37.004Z"
   },
   {
    "duration": 1322,
    "start_time": "2021-10-13T19:27:37.065Z"
   },
   {
    "duration": 377,
    "start_time": "2021-10-13T19:27:38.389Z"
   },
   {
    "duration": 399,
    "start_time": "2021-10-13T19:27:38.769Z"
   },
   {
    "duration": 403,
    "start_time": "2021-10-13T19:27:39.171Z"
   },
   {
    "duration": 16,
    "start_time": "2021-10-13T19:27:39.577Z"
   },
   {
    "duration": 33,
    "start_time": "2021-10-13T19:27:39.596Z"
   },
   {
    "duration": 1427,
    "start_time": "2021-10-13T19:36:14.850Z"
   },
   {
    "duration": 508,
    "start_time": "2021-10-13T19:36:16.279Z"
   },
   {
    "duration": 69,
    "start_time": "2021-10-13T19:36:16.790Z"
   },
   {
    "duration": 19,
    "start_time": "2021-10-13T19:36:16.862Z"
   },
   {
    "duration": 43,
    "start_time": "2021-10-13T19:36:16.883Z"
   },
   {
    "duration": 12,
    "start_time": "2021-10-13T19:36:16.928Z"
   },
   {
    "duration": 121,
    "start_time": "2021-10-13T19:36:16.942Z"
   },
   {
    "duration": 30,
    "start_time": "2021-10-13T19:36:17.065Z"
   },
   {
    "duration": 27,
    "start_time": "2021-10-13T19:36:17.098Z"
   },
   {
    "duration": 13,
    "start_time": "2021-10-13T19:36:17.128Z"
   },
   {
    "duration": 10,
    "start_time": "2021-10-13T19:36:17.143Z"
   },
   {
    "duration": 6,
    "start_time": "2021-10-13T19:36:17.156Z"
   },
   {
    "duration": 11,
    "start_time": "2021-10-13T19:36:17.164Z"
   },
   {
    "duration": 44,
    "start_time": "2021-10-13T19:36:17.178Z"
   },
   {
    "duration": 11,
    "start_time": "2021-10-13T19:36:17.225Z"
   },
   {
    "duration": 22,
    "start_time": "2021-10-13T19:36:17.238Z"
   },
   {
    "duration": 7,
    "start_time": "2021-10-13T19:36:17.263Z"
   },
   {
    "duration": 12,
    "start_time": "2021-10-13T19:36:17.272Z"
   },
   {
    "duration": 53,
    "start_time": "2021-10-13T19:36:17.287Z"
   },
   {
    "duration": 32,
    "start_time": "2021-10-13T19:36:17.342Z"
   },
   {
    "duration": 63,
    "start_time": "2021-10-13T19:36:17.376Z"
   },
   {
    "duration": 14,
    "start_time": "2021-10-13T19:36:17.442Z"
   },
   {
    "duration": 12,
    "start_time": "2021-10-13T19:36:17.459Z"
   },
   {
    "duration": 57,
    "start_time": "2021-10-13T19:36:17.474Z"
   },
   {
    "duration": 30,
    "start_time": "2021-10-13T19:36:17.534Z"
   },
   {
    "duration": 15,
    "start_time": "2021-10-13T19:36:17.566Z"
   },
   {
    "duration": 43,
    "start_time": "2021-10-13T19:36:17.586Z"
   },
   {
    "duration": 22,
    "start_time": "2021-10-13T19:36:17.632Z"
   },
   {
    "duration": 22,
    "start_time": "2021-10-13T19:36:17.656Z"
   },
   {
    "duration": 55,
    "start_time": "2021-10-13T19:36:17.680Z"
   },
   {
    "duration": 15,
    "start_time": "2021-10-13T19:36:17.738Z"
   },
   {
    "duration": 20,
    "start_time": "2021-10-13T19:36:17.755Z"
   },
   {
    "duration": 61,
    "start_time": "2021-10-13T19:36:17.777Z"
   },
   {
    "duration": 25,
    "start_time": "2021-10-13T19:36:17.841Z"
   },
   {
    "duration": 26,
    "start_time": "2021-10-13T19:36:17.869Z"
   },
   {
    "duration": 17,
    "start_time": "2021-10-13T19:36:17.923Z"
   },
   {
    "duration": 17,
    "start_time": "2021-10-13T19:36:17.943Z"
   },
   {
    "duration": 61,
    "start_time": "2021-10-13T19:36:17.963Z"
   },
   {
    "duration": 13,
    "start_time": "2021-10-13T19:36:18.027Z"
   },
   {
    "duration": 16,
    "start_time": "2021-10-13T19:36:18.043Z"
   },
   {
    "duration": 701,
    "start_time": "2021-10-13T19:36:18.062Z"
   },
   {
    "duration": 406,
    "start_time": "2021-10-13T19:36:18.767Z"
   },
   {
    "duration": 56,
    "start_time": "2021-10-13T19:36:19.176Z"
   },
   {
    "duration": 1325,
    "start_time": "2021-10-13T19:36:19.235Z"
   },
   {
    "duration": 369,
    "start_time": "2021-10-13T19:36:20.563Z"
   },
   {
    "duration": 395,
    "start_time": "2021-10-13T19:36:20.935Z"
   },
   {
    "duration": 392,
    "start_time": "2021-10-13T19:36:21.333Z"
   },
   {
    "duration": 15,
    "start_time": "2021-10-13T19:36:21.728Z"
   },
   {
    "duration": 15,
    "start_time": "2021-10-13T19:36:21.745Z"
   },
   {
    "duration": 702,
    "start_time": "2021-10-13T19:37:01.329Z"
   },
   {
    "duration": 1452,
    "start_time": "2021-10-13T19:42:00.347Z"
   },
   {
    "duration": 527,
    "start_time": "2021-10-13T19:42:01.802Z"
   },
   {
    "duration": 70,
    "start_time": "2021-10-13T19:42:02.333Z"
   },
   {
    "duration": 31,
    "start_time": "2021-10-13T19:42:02.405Z"
   },
   {
    "duration": 25,
    "start_time": "2021-10-13T19:42:02.438Z"
   },
   {
    "duration": 23,
    "start_time": "2021-10-13T19:42:02.465Z"
   },
   {
    "duration": 119,
    "start_time": "2021-10-13T19:42:02.491Z"
   },
   {
    "duration": 28,
    "start_time": "2021-10-13T19:42:02.614Z"
   },
   {
    "duration": 19,
    "start_time": "2021-10-13T19:42:02.645Z"
   },
   {
    "duration": 16,
    "start_time": "2021-10-13T19:42:02.666Z"
   },
   {
    "duration": 39,
    "start_time": "2021-10-13T19:42:02.684Z"
   },
   {
    "duration": 6,
    "start_time": "2021-10-13T19:42:02.726Z"
   },
   {
    "duration": 11,
    "start_time": "2021-10-13T19:42:02.734Z"
   },
   {
    "duration": 16,
    "start_time": "2021-10-13T19:42:02.747Z"
   },
   {
    "duration": 29,
    "start_time": "2021-10-13T19:42:02.765Z"
   },
   {
    "duration": 35,
    "start_time": "2021-10-13T19:42:02.796Z"
   },
   {
    "duration": 5,
    "start_time": "2021-10-13T19:42:02.834Z"
   },
   {
    "duration": 10,
    "start_time": "2021-10-13T19:42:02.841Z"
   },
   {
    "duration": 25,
    "start_time": "2021-10-13T19:42:02.853Z"
   },
   {
    "duration": 60,
    "start_time": "2021-10-13T19:42:02.881Z"
   },
   {
    "duration": 35,
    "start_time": "2021-10-13T19:42:02.943Z"
   },
   {
    "duration": 15,
    "start_time": "2021-10-13T19:42:02.981Z"
   },
   {
    "duration": 15,
    "start_time": "2021-10-13T19:42:03.028Z"
   },
   {
    "duration": 36,
    "start_time": "2021-10-13T19:42:03.046Z"
   },
   {
    "duration": 66,
    "start_time": "2021-10-13T19:42:03.085Z"
   },
   {
    "duration": 17,
    "start_time": "2021-10-13T19:42:03.153Z"
   },
   {
    "duration": 51,
    "start_time": "2021-10-13T19:42:03.173Z"
   },
   {
    "duration": 26,
    "start_time": "2021-10-13T19:42:03.226Z"
   },
   {
    "duration": 21,
    "start_time": "2021-10-13T19:42:03.255Z"
   },
   {
    "duration": 63,
    "start_time": "2021-10-13T19:42:03.279Z"
   },
   {
    "duration": 16,
    "start_time": "2021-10-13T19:42:03.344Z"
   },
   {
    "duration": 29,
    "start_time": "2021-10-13T19:42:03.363Z"
   },
   {
    "duration": 56,
    "start_time": "2021-10-13T19:42:03.395Z"
   },
   {
    "duration": 24,
    "start_time": "2021-10-13T19:42:03.454Z"
   },
   {
    "duration": 52,
    "start_time": "2021-10-13T19:42:03.480Z"
   },
   {
    "duration": 16,
    "start_time": "2021-10-13T19:42:03.535Z"
   },
   {
    "duration": 16,
    "start_time": "2021-10-13T19:42:03.554Z"
   },
   {
    "duration": 71,
    "start_time": "2021-10-13T19:42:03.573Z"
   },
   {
    "duration": 14,
    "start_time": "2021-10-13T19:42:03.647Z"
   },
   {
    "duration": 23,
    "start_time": "2021-10-13T19:42:03.664Z"
   },
   {
    "duration": 621,
    "start_time": "2021-10-13T19:42:03.689Z"
   },
   {
    "duration": 994,
    "start_time": "2021-10-13T19:42:04.313Z"
   },
   {
    "duration": -130,
    "start_time": "2021-10-13T19:42:05.441Z"
   },
   {
    "duration": -131,
    "start_time": "2021-10-13T19:42:05.444Z"
   },
   {
    "duration": -133,
    "start_time": "2021-10-13T19:42:05.449Z"
   },
   {
    "duration": -134,
    "start_time": "2021-10-13T19:42:05.452Z"
   },
   {
    "duration": -135,
    "start_time": "2021-10-13T19:42:05.455Z"
   },
   {
    "duration": -145,
    "start_time": "2021-10-13T19:42:05.467Z"
   },
   {
    "duration": -146,
    "start_time": "2021-10-13T19:42:05.470Z"
   },
   {
    "duration": 1582,
    "start_time": "2021-10-13T19:42:37.211Z"
   },
   {
    "duration": 524,
    "start_time": "2021-10-13T19:42:38.795Z"
   },
   {
    "duration": 69,
    "start_time": "2021-10-13T19:42:39.323Z"
   },
   {
    "duration": 43,
    "start_time": "2021-10-13T19:42:39.396Z"
   },
   {
    "duration": 21,
    "start_time": "2021-10-13T19:42:39.441Z"
   },
   {
    "duration": 15,
    "start_time": "2021-10-13T19:42:39.464Z"
   },
   {
    "duration": 132,
    "start_time": "2021-10-13T19:42:39.481Z"
   },
   {
    "duration": 29,
    "start_time": "2021-10-13T19:42:39.616Z"
   },
   {
    "duration": 19,
    "start_time": "2021-10-13T19:42:39.648Z"
   },
   {
    "duration": 13,
    "start_time": "2021-10-13T19:42:39.670Z"
   },
   {
    "duration": 41,
    "start_time": "2021-10-13T19:42:39.685Z"
   },
   {
    "duration": 5,
    "start_time": "2021-10-13T19:42:39.728Z"
   },
   {
    "duration": 6,
    "start_time": "2021-10-13T19:42:39.736Z"
   },
   {
    "duration": 12,
    "start_time": "2021-10-13T19:42:39.744Z"
   },
   {
    "duration": 18,
    "start_time": "2021-10-13T19:42:39.758Z"
   },
   {
    "duration": 44,
    "start_time": "2021-10-13T19:42:39.778Z"
   },
   {
    "duration": 5,
    "start_time": "2021-10-13T19:42:39.824Z"
   },
   {
    "duration": 9,
    "start_time": "2021-10-13T19:42:39.832Z"
   },
   {
    "duration": 28,
    "start_time": "2021-10-13T19:42:39.843Z"
   },
   {
    "duration": 51,
    "start_time": "2021-10-13T19:42:39.873Z"
   },
   {
    "duration": 33,
    "start_time": "2021-10-13T19:42:39.927Z"
   },
   {
    "duration": 14,
    "start_time": "2021-10-13T19:42:39.962Z"
   },
   {
    "duration": 41,
    "start_time": "2021-10-13T19:42:39.981Z"
   },
   {
    "duration": 33,
    "start_time": "2021-10-13T19:42:40.026Z"
   },
   {
    "duration": 32,
    "start_time": "2021-10-13T19:42:40.062Z"
   },
   {
    "duration": 41,
    "start_time": "2021-10-13T19:42:40.096Z"
   },
   {
    "duration": 15,
    "start_time": "2021-10-13T19:42:40.140Z"
   },
   {
    "duration": 21,
    "start_time": "2021-10-13T19:42:40.157Z"
   },
   {
    "duration": 55,
    "start_time": "2021-10-13T19:42:40.180Z"
   },
   {
    "duration": 24,
    "start_time": "2021-10-13T19:42:40.237Z"
   },
   {
    "duration": 15,
    "start_time": "2021-10-13T19:42:40.263Z"
   },
   {
    "duration": 42,
    "start_time": "2021-10-13T19:42:40.280Z"
   },
   {
    "duration": 35,
    "start_time": "2021-10-13T19:42:40.325Z"
   },
   {
    "duration": 23,
    "start_time": "2021-10-13T19:42:40.362Z"
   },
   {
    "duration": 52,
    "start_time": "2021-10-13T19:42:40.388Z"
   },
   {
    "duration": 15,
    "start_time": "2021-10-13T19:42:40.442Z"
   },
   {
    "duration": 20,
    "start_time": "2021-10-13T19:42:40.460Z"
   },
   {
    "duration": 64,
    "start_time": "2021-10-13T19:42:40.483Z"
   },
   {
    "duration": 12,
    "start_time": "2021-10-13T19:42:40.550Z"
   },
   {
    "duration": 16,
    "start_time": "2021-10-13T19:42:40.565Z"
   },
   {
    "duration": 648,
    "start_time": "2021-10-13T19:42:40.583Z"
   },
   {
    "duration": 363,
    "start_time": "2021-10-13T19:42:41.233Z"
   },
   {
    "duration": 56,
    "start_time": "2021-10-13T19:42:41.598Z"
   },
   {
    "duration": 1444,
    "start_time": "2021-10-13T19:42:41.656Z"
   },
   {
    "duration": 374,
    "start_time": "2021-10-13T19:42:43.102Z"
   },
   {
    "duration": 413,
    "start_time": "2021-10-13T19:42:43.478Z"
   },
   {
    "duration": 390,
    "start_time": "2021-10-13T19:42:43.893Z"
   },
   {
    "duration": 14,
    "start_time": "2021-10-13T19:42:44.286Z"
   },
   {
    "duration": 14,
    "start_time": "2021-10-13T19:42:44.323Z"
   },
   {
    "duration": 1478,
    "start_time": "2021-10-13T19:59:33.200Z"
   },
   {
    "duration": 534,
    "start_time": "2021-10-13T19:59:34.681Z"
   },
   {
    "duration": 74,
    "start_time": "2021-10-13T19:59:35.218Z"
   },
   {
    "duration": 36,
    "start_time": "2021-10-13T19:59:35.295Z"
   },
   {
    "duration": 20,
    "start_time": "2021-10-13T19:59:35.334Z"
   },
   {
    "duration": 13,
    "start_time": "2021-10-13T19:59:35.357Z"
   },
   {
    "duration": 145,
    "start_time": "2021-10-13T19:59:35.373Z"
   },
   {
    "duration": 29,
    "start_time": "2021-10-13T19:59:35.523Z"
   },
   {
    "duration": 17,
    "start_time": "2021-10-13T19:59:35.556Z"
   },
   {
    "duration": 45,
    "start_time": "2021-10-13T19:59:35.577Z"
   },
   {
    "duration": 9,
    "start_time": "2021-10-13T19:59:35.624Z"
   },
   {
    "duration": 7,
    "start_time": "2021-10-13T19:59:35.635Z"
   },
   {
    "duration": 7,
    "start_time": "2021-10-13T19:59:35.645Z"
   },
   {
    "duration": 11,
    "start_time": "2021-10-13T19:59:35.654Z"
   },
   {
    "duration": 54,
    "start_time": "2021-10-13T19:59:35.668Z"
   },
   {
    "duration": 23,
    "start_time": "2021-10-13T19:59:35.725Z"
   },
   {
    "duration": 5,
    "start_time": "2021-10-13T19:59:35.750Z"
   },
   {
    "duration": 10,
    "start_time": "2021-10-13T19:59:35.757Z"
   },
   {
    "duration": 56,
    "start_time": "2021-10-13T19:59:35.769Z"
   },
   {
    "duration": 46,
    "start_time": "2021-10-13T19:59:35.829Z"
   },
   {
    "duration": 69,
    "start_time": "2021-10-13T19:59:35.878Z"
   },
   {
    "duration": 20,
    "start_time": "2021-10-13T19:59:35.950Z"
   },
   {
    "duration": 16,
    "start_time": "2021-10-13T19:59:35.973Z"
   },
   {
    "duration": 59,
    "start_time": "2021-10-13T19:59:35.991Z"
   },
   {
    "duration": 31,
    "start_time": "2021-10-13T19:59:36.053Z"
   },
   {
    "duration": 37,
    "start_time": "2021-10-13T19:59:36.086Z"
   },
   {
    "duration": 15,
    "start_time": "2021-10-13T19:59:36.129Z"
   },
   {
    "duration": 21,
    "start_time": "2021-10-13T19:59:36.147Z"
   },
   {
    "duration": 51,
    "start_time": "2021-10-13T19:59:36.171Z"
   },
   {
    "duration": 24,
    "start_time": "2021-10-13T19:59:36.225Z"
   },
   {
    "duration": 14,
    "start_time": "2021-10-13T19:59:36.252Z"
   },
   {
    "duration": 18,
    "start_time": "2021-10-13T19:59:36.269Z"
   },
   {
    "duration": 64,
    "start_time": "2021-10-13T19:59:36.290Z"
   },
   {
    "duration": 24,
    "start_time": "2021-10-13T19:59:36.357Z"
   },
   {
    "duration": 47,
    "start_time": "2021-10-13T19:59:36.384Z"
   },
   {
    "duration": 16,
    "start_time": "2021-10-13T19:59:36.433Z"
   },
   {
    "duration": 16,
    "start_time": "2021-10-13T19:59:36.452Z"
   },
   {
    "duration": 61,
    "start_time": "2021-10-13T19:59:36.471Z"
   },
   {
    "duration": 11,
    "start_time": "2021-10-13T19:59:36.535Z"
   },
   {
    "duration": 14,
    "start_time": "2021-10-13T19:59:36.548Z"
   },
   {
    "duration": 640,
    "start_time": "2021-10-13T19:59:36.564Z"
   },
   {
    "duration": 359,
    "start_time": "2021-10-13T19:59:37.206Z"
   },
   {
    "duration": 61,
    "start_time": "2021-10-13T19:59:37.568Z"
   },
   {
    "duration": 395,
    "start_time": "2021-10-13T19:59:37.631Z"
   },
   {
    "duration": 415,
    "start_time": "2021-10-13T19:59:38.028Z"
   },
   {
    "duration": 402,
    "start_time": "2021-10-13T19:59:38.445Z"
   },
   {
    "duration": 15,
    "start_time": "2021-10-13T19:59:38.849Z"
   },
   {
    "duration": 22,
    "start_time": "2021-10-13T19:59:38.867Z"
   },
   {
    "duration": 1438,
    "start_time": "2021-10-13T20:00:58.855Z"
   },
   {
    "duration": 525,
    "start_time": "2021-10-13T20:01:00.296Z"
   },
   {
    "duration": 126,
    "start_time": "2021-10-13T20:01:00.825Z"
   },
   {
    "duration": 31,
    "start_time": "2021-10-13T20:01:00.956Z"
   },
   {
    "duration": 63,
    "start_time": "2021-10-13T20:01:00.990Z"
   },
   {
    "duration": 28,
    "start_time": "2021-10-13T20:01:01.056Z"
   },
   {
    "duration": 143,
    "start_time": "2021-10-13T20:01:01.087Z"
   },
   {
    "duration": 29,
    "start_time": "2021-10-13T20:01:01.233Z"
   },
   {
    "duration": 27,
    "start_time": "2021-10-13T20:01:01.266Z"
   },
   {
    "duration": 34,
    "start_time": "2021-10-13T20:01:01.296Z"
   },
   {
    "duration": 38,
    "start_time": "2021-10-13T20:01:01.333Z"
   },
   {
    "duration": 11,
    "start_time": "2021-10-13T20:01:01.374Z"
   },
   {
    "duration": 31,
    "start_time": "2021-10-13T20:01:01.389Z"
   },
   {
    "duration": 11,
    "start_time": "2021-10-13T20:01:01.423Z"
   },
   {
    "duration": 47,
    "start_time": "2021-10-13T20:01:01.436Z"
   },
   {
    "duration": 33,
    "start_time": "2021-10-13T20:01:01.486Z"
   },
   {
    "duration": 6,
    "start_time": "2021-10-13T20:01:01.521Z"
   },
   {
    "duration": 20,
    "start_time": "2021-10-13T20:01:01.529Z"
   },
   {
    "duration": 30,
    "start_time": "2021-10-13T20:01:01.551Z"
   },
   {
    "duration": 46,
    "start_time": "2021-10-13T20:01:01.584Z"
   },
   {
    "duration": 38,
    "start_time": "2021-10-13T20:01:01.632Z"
   },
   {
    "duration": 14,
    "start_time": "2021-10-13T20:01:01.672Z"
   },
   {
    "duration": 41,
    "start_time": "2021-10-13T20:01:01.689Z"
   },
   {
    "duration": 46,
    "start_time": "2021-10-13T20:01:01.732Z"
   },
   {
    "duration": 48,
    "start_time": "2021-10-13T20:01:01.780Z"
   },
   {
    "duration": 15,
    "start_time": "2021-10-13T20:01:01.831Z"
   },
   {
    "duration": 40,
    "start_time": "2021-10-13T20:01:01.852Z"
   },
   {
    "duration": 43,
    "start_time": "2021-10-13T20:01:01.896Z"
   },
   {
    "duration": 35,
    "start_time": "2021-10-13T20:01:01.942Z"
   },
   {
    "duration": 46,
    "start_time": "2021-10-13T20:01:01.980Z"
   },
   {
    "duration": 15,
    "start_time": "2021-10-13T20:01:02.028Z"
   },
   {
    "duration": 41,
    "start_time": "2021-10-13T20:01:02.045Z"
   },
   {
    "duration": 36,
    "start_time": "2021-10-13T20:01:02.089Z"
   },
   {
    "duration": 61,
    "start_time": "2021-10-13T20:01:02.129Z"
   },
   {
    "duration": 35,
    "start_time": "2021-10-13T20:01:02.193Z"
   },
   {
    "duration": 23,
    "start_time": "2021-10-13T20:01:02.231Z"
   },
   {
    "duration": 33,
    "start_time": "2021-10-13T20:01:02.257Z"
   },
   {
    "duration": 72,
    "start_time": "2021-10-13T20:01:02.293Z"
   },
   {
    "duration": 17,
    "start_time": "2021-10-13T20:01:02.368Z"
   },
   {
    "duration": 45,
    "start_time": "2021-10-13T20:01:02.388Z"
   },
   {
    "duration": 1256,
    "start_time": "2021-10-13T20:01:02.437Z"
   },
   {
    "duration": 548,
    "start_time": "2021-10-13T20:01:03.696Z"
   },
   {
    "duration": 51,
    "start_time": "2021-10-13T20:01:04.247Z"
   },
   {
    "duration": 393,
    "start_time": "2021-10-13T20:01:04.300Z"
   },
   {
    "duration": 410,
    "start_time": "2021-10-13T20:01:04.695Z"
   },
   {
    "duration": 487,
    "start_time": "2021-10-13T20:01:05.108Z"
   },
   {
    "duration": 28,
    "start_time": "2021-10-13T20:01:05.598Z"
   },
   {
    "duration": 16,
    "start_time": "2021-10-13T20:01:05.629Z"
   },
   {
    "duration": 1457,
    "start_time": "2021-10-13T20:01:48.131Z"
   },
   {
    "duration": 530,
    "start_time": "2021-10-13T20:01:49.591Z"
   },
   {
    "duration": 71,
    "start_time": "2021-10-13T20:01:50.124Z"
   },
   {
    "duration": 38,
    "start_time": "2021-10-13T20:01:50.199Z"
   },
   {
    "duration": 24,
    "start_time": "2021-10-13T20:01:50.240Z"
   },
   {
    "duration": 22,
    "start_time": "2021-10-13T20:01:50.266Z"
   },
   {
    "duration": 140,
    "start_time": "2021-10-13T20:01:50.291Z"
   },
   {
    "duration": 30,
    "start_time": "2021-10-13T20:01:50.435Z"
   },
   {
    "duration": 19,
    "start_time": "2021-10-13T20:01:50.468Z"
   },
   {
    "duration": 41,
    "start_time": "2021-10-13T20:01:50.490Z"
   },
   {
    "duration": 26,
    "start_time": "2021-10-13T20:01:50.534Z"
   },
   {
    "duration": 15,
    "start_time": "2021-10-13T20:01:50.562Z"
   },
   {
    "duration": 30,
    "start_time": "2021-10-13T20:01:50.581Z"
   },
   {
    "duration": 11,
    "start_time": "2021-10-13T20:01:50.614Z"
   },
   {
    "duration": 31,
    "start_time": "2021-10-13T20:01:50.627Z"
   },
   {
    "duration": 37,
    "start_time": "2021-10-13T20:01:50.661Z"
   },
   {
    "duration": 6,
    "start_time": "2021-10-13T20:01:50.700Z"
   },
   {
    "duration": 19,
    "start_time": "2021-10-13T20:01:50.709Z"
   },
   {
    "duration": 45,
    "start_time": "2021-10-13T20:01:50.731Z"
   },
   {
    "duration": 45,
    "start_time": "2021-10-13T20:01:50.778Z"
   },
   {
    "duration": 34,
    "start_time": "2021-10-13T20:01:50.825Z"
   },
   {
    "duration": 14,
    "start_time": "2021-10-13T20:01:50.861Z"
   },
   {
    "duration": 42,
    "start_time": "2021-10-13T20:01:50.880Z"
   },
   {
    "duration": 40,
    "start_time": "2021-10-13T20:01:50.926Z"
   },
   {
    "duration": 54,
    "start_time": "2021-10-13T20:01:50.969Z"
   },
   {
    "duration": 16,
    "start_time": "2021-10-13T20:01:51.026Z"
   },
   {
    "duration": 29,
    "start_time": "2021-10-13T20:01:51.044Z"
   },
   {
    "duration": 38,
    "start_time": "2021-10-13T20:01:51.076Z"
   },
   {
    "duration": 34,
    "start_time": "2021-10-13T20:01:51.117Z"
   },
   {
    "duration": 35,
    "start_time": "2021-10-13T20:01:51.154Z"
   },
   {
    "duration": 15,
    "start_time": "2021-10-13T20:01:51.192Z"
   },
   {
    "duration": 21,
    "start_time": "2021-10-13T20:01:51.222Z"
   },
   {
    "duration": 78,
    "start_time": "2021-10-13T20:01:51.246Z"
   },
   {
    "duration": 22,
    "start_time": "2021-10-13T20:01:51.326Z"
   },
   {
    "duration": 30,
    "start_time": "2021-10-13T20:01:51.350Z"
   },
   {
    "duration": 47,
    "start_time": "2021-10-13T20:01:51.383Z"
   },
   {
    "duration": 23,
    "start_time": "2021-10-13T20:01:51.433Z"
   },
   {
    "duration": 76,
    "start_time": "2021-10-13T20:01:51.459Z"
   },
   {
    "duration": 18,
    "start_time": "2021-10-13T20:01:51.538Z"
   },
   {
    "duration": 31,
    "start_time": "2021-10-13T20:01:51.559Z"
   },
   {
    "duration": 1158,
    "start_time": "2021-10-13T20:01:51.593Z"
   },
   {
    "duration": 568,
    "start_time": "2021-10-13T20:01:52.754Z"
   },
   {
    "duration": 66,
    "start_time": "2021-10-13T20:01:53.325Z"
   },
   {
    "duration": 387,
    "start_time": "2021-10-13T20:01:53.394Z"
   },
   {
    "duration": 411,
    "start_time": "2021-10-13T20:01:53.784Z"
   },
   {
    "duration": 390,
    "start_time": "2021-10-13T20:01:54.198Z"
   },
   {
    "duration": 32,
    "start_time": "2021-10-13T20:01:54.591Z"
   },
   {
    "duration": 20,
    "start_time": "2021-10-13T20:01:54.627Z"
   },
   {
    "duration": 19,
    "start_time": "2021-10-13T20:14:27.283Z"
   },
   {
    "duration": 1466,
    "start_time": "2021-10-13T20:19:21.323Z"
   },
   {
    "duration": 512,
    "start_time": "2021-10-13T20:19:22.791Z"
   },
   {
    "duration": 68,
    "start_time": "2021-10-13T20:19:23.306Z"
   },
   {
    "duration": 20,
    "start_time": "2021-10-13T20:19:23.377Z"
   },
   {
    "duration": 45,
    "start_time": "2021-10-13T20:19:23.400Z"
   },
   {
    "duration": 21,
    "start_time": "2021-10-13T20:19:23.448Z"
   },
   {
    "duration": 112,
    "start_time": "2021-10-13T20:19:23.471Z"
   },
   {
    "duration": 30,
    "start_time": "2021-10-13T20:19:23.585Z"
   },
   {
    "duration": 18,
    "start_time": "2021-10-13T20:19:23.623Z"
   },
   {
    "duration": 16,
    "start_time": "2021-10-13T20:19:23.644Z"
   },
   {
    "duration": 26,
    "start_time": "2021-10-13T20:19:23.663Z"
   },
   {
    "duration": 14,
    "start_time": "2021-10-13T20:19:23.691Z"
   },
   {
    "duration": 20,
    "start_time": "2021-10-13T20:19:23.708Z"
   },
   {
    "duration": 13,
    "start_time": "2021-10-13T20:19:23.730Z"
   },
   {
    "duration": 27,
    "start_time": "2021-10-13T20:19:23.746Z"
   },
   {
    "duration": 30,
    "start_time": "2021-10-13T20:19:23.775Z"
   },
   {
    "duration": 5,
    "start_time": "2021-10-13T20:19:23.807Z"
   },
   {
    "duration": 24,
    "start_time": "2021-10-13T20:19:23.814Z"
   },
   {
    "duration": 28,
    "start_time": "2021-10-13T20:19:23.840Z"
   },
   {
    "duration": 44,
    "start_time": "2021-10-13T20:19:23.870Z"
   },
   {
    "duration": 33,
    "start_time": "2021-10-13T20:19:23.916Z"
   },
   {
    "duration": 14,
    "start_time": "2021-10-13T20:19:23.951Z"
   },
   {
    "duration": 28,
    "start_time": "2021-10-13T20:19:23.968Z"
   },
   {
    "duration": 38,
    "start_time": "2021-10-13T20:19:23.998Z"
   },
   {
    "duration": 30,
    "start_time": "2021-10-13T20:19:24.038Z"
   },
   {
    "duration": 14,
    "start_time": "2021-10-13T20:19:24.070Z"
   },
   {
    "duration": 42,
    "start_time": "2021-10-13T20:19:24.089Z"
   },
   {
    "duration": 22,
    "start_time": "2021-10-13T20:19:24.134Z"
   },
   {
    "duration": 25,
    "start_time": "2021-10-13T20:19:24.158Z"
   },
   {
    "duration": 49,
    "start_time": "2021-10-13T20:19:24.186Z"
   },
   {
    "duration": 16,
    "start_time": "2021-10-13T20:19:24.238Z"
   },
   {
    "duration": 26,
    "start_time": "2021-10-13T20:19:24.257Z"
   },
   {
    "duration": 50,
    "start_time": "2021-10-13T20:19:24.285Z"
   },
   {
    "duration": 29,
    "start_time": "2021-10-13T20:19:24.337Z"
   },
   {
    "duration": 21,
    "start_time": "2021-10-13T20:19:24.369Z"
   },
   {
    "duration": 32,
    "start_time": "2021-10-13T20:19:24.392Z"
   },
   {
    "duration": 12,
    "start_time": "2021-10-13T20:19:24.426Z"
   },
   {
    "duration": 36,
    "start_time": "2021-10-13T20:19:24.440Z"
   },
   {
    "duration": 44,
    "start_time": "2021-10-13T20:19:24.478Z"
   },
   {
    "duration": 13,
    "start_time": "2021-10-13T20:19:24.524Z"
   },
   {
    "duration": 613,
    "start_time": "2021-10-13T20:19:24.539Z"
   },
   {
    "duration": 349,
    "start_time": "2021-10-13T20:19:25.154Z"
   },
   {
    "duration": 55,
    "start_time": "2021-10-13T20:19:25.505Z"
   },
   {
    "duration": 371,
    "start_time": "2021-10-13T20:19:25.562Z"
   },
   {
    "duration": 408,
    "start_time": "2021-10-13T20:19:25.935Z"
   },
   {
    "duration": 385,
    "start_time": "2021-10-13T20:19:26.345Z"
   },
   {
    "duration": 15,
    "start_time": "2021-10-13T20:19:26.733Z"
   },
   {
    "duration": 22,
    "start_time": "2021-10-13T20:19:26.751Z"
   },
   {
    "duration": 48,
    "start_time": "2021-10-13T20:19:26.775Z"
   },
   {
    "duration": 13,
    "start_time": "2021-10-13T20:19:43.116Z"
   },
   {
    "duration": 16,
    "start_time": "2021-10-13T20:19:57.750Z"
   },
   {
    "duration": 23,
    "start_time": "2021-10-13T20:20:54.008Z"
   },
   {
    "duration": 1579,
    "start_time": "2021-10-13T20:25:01.514Z"
   },
   {
    "duration": 532,
    "start_time": "2021-10-13T20:25:03.095Z"
   },
   {
    "duration": 69,
    "start_time": "2021-10-13T20:25:03.630Z"
   },
   {
    "duration": 35,
    "start_time": "2021-10-13T20:25:03.702Z"
   },
   {
    "duration": 25,
    "start_time": "2021-10-13T20:25:03.740Z"
   },
   {
    "duration": 17,
    "start_time": "2021-10-13T20:25:03.768Z"
   },
   {
    "duration": 124,
    "start_time": "2021-10-13T20:25:03.788Z"
   },
   {
    "duration": 34,
    "start_time": "2021-10-13T20:25:03.917Z"
   },
   {
    "duration": 19,
    "start_time": "2021-10-13T20:25:03.953Z"
   },
   {
    "duration": 41,
    "start_time": "2021-10-13T20:25:03.974Z"
   },
   {
    "duration": 33,
    "start_time": "2021-10-13T20:25:04.018Z"
   },
   {
    "duration": 28,
    "start_time": "2021-10-13T20:25:04.054Z"
   },
   {
    "duration": 24,
    "start_time": "2021-10-13T20:25:04.086Z"
   },
   {
    "duration": 21,
    "start_time": "2021-10-13T20:25:04.113Z"
   },
   {
    "duration": 38,
    "start_time": "2021-10-13T20:25:04.136Z"
   },
   {
    "duration": 51,
    "start_time": "2021-10-13T20:25:04.176Z"
   },
   {
    "duration": 16,
    "start_time": "2021-10-13T20:25:04.230Z"
   },
   {
    "duration": 42,
    "start_time": "2021-10-13T20:25:04.248Z"
   },
   {
    "duration": 36,
    "start_time": "2021-10-13T20:25:04.293Z"
   },
   {
    "duration": 43,
    "start_time": "2021-10-13T20:25:04.331Z"
   },
   {
    "duration": 47,
    "start_time": "2021-10-13T20:25:04.377Z"
   },
   {
    "duration": 16,
    "start_time": "2021-10-13T20:25:04.427Z"
   },
   {
    "duration": 22,
    "start_time": "2021-10-13T20:25:04.450Z"
   },
   {
    "duration": 53,
    "start_time": "2021-10-13T20:25:04.476Z"
   },
   {
    "duration": 34,
    "start_time": "2021-10-13T20:25:04.533Z"
   },
   {
    "duration": 15,
    "start_time": "2021-10-13T20:25:04.570Z"
   },
   {
    "duration": 46,
    "start_time": "2021-10-13T20:25:04.588Z"
   },
   {
    "duration": 27,
    "start_time": "2021-10-13T20:25:04.637Z"
   },
   {
    "duration": 29,
    "start_time": "2021-10-13T20:25:04.667Z"
   },
   {
    "duration": 44,
    "start_time": "2021-10-13T20:25:04.699Z"
   },
   {
    "duration": 15,
    "start_time": "2021-10-13T20:25:04.746Z"
   },
   {
    "duration": 31,
    "start_time": "2021-10-13T20:25:04.763Z"
   },
   {
    "duration": 53,
    "start_time": "2021-10-13T20:25:04.796Z"
   },
   {
    "duration": 48,
    "start_time": "2021-10-13T20:25:04.851Z"
   },
   {
    "duration": 23,
    "start_time": "2021-10-13T20:25:04.902Z"
   },
   {
    "duration": 15,
    "start_time": "2021-10-13T20:25:04.927Z"
   },
   {
    "duration": 28,
    "start_time": "2021-10-13T20:25:04.945Z"
   },
   {
    "duration": 51,
    "start_time": "2021-10-13T20:25:04.975Z"
   },
   {
    "duration": 13,
    "start_time": "2021-10-13T20:25:05.028Z"
   },
   {
    "duration": 21,
    "start_time": "2021-10-13T20:25:05.044Z"
   },
   {
    "duration": 658,
    "start_time": "2021-10-13T20:25:05.069Z"
   },
   {
    "duration": 394,
    "start_time": "2021-10-13T20:25:05.730Z"
   },
   {
    "duration": 45,
    "start_time": "2021-10-13T20:25:06.127Z"
   },
   {
    "duration": 404,
    "start_time": "2021-10-13T20:25:06.174Z"
   },
   {
    "duration": 401,
    "start_time": "2021-10-13T20:25:06.580Z"
   },
   {
    "duration": 641,
    "start_time": "2021-10-13T20:25:06.985Z"
   },
   {
    "duration": 15,
    "start_time": "2021-10-13T20:25:07.629Z"
   },
   {
    "duration": 33,
    "start_time": "2021-10-13T20:25:07.647Z"
   },
   {
    "duration": 40,
    "start_time": "2021-10-13T20:25:07.683Z"
   },
   {
    "duration": 34,
    "start_time": "2021-10-13T20:25:07.726Z"
   },
   {
    "duration": 16,
    "start_time": "2021-10-13T20:43:16.064Z"
   },
   {
    "duration": 1433,
    "start_time": "2021-10-13T20:48:27.045Z"
   },
   {
    "duration": 533,
    "start_time": "2021-10-13T20:48:28.481Z"
   },
   {
    "duration": 71,
    "start_time": "2021-10-13T20:48:29.017Z"
   },
   {
    "duration": 22,
    "start_time": "2021-10-13T20:48:29.091Z"
   },
   {
    "duration": 21,
    "start_time": "2021-10-13T20:48:29.116Z"
   },
   {
    "duration": 10,
    "start_time": "2021-10-13T20:48:29.140Z"
   },
   {
    "duration": 108,
    "start_time": "2021-10-13T20:48:29.152Z"
   },
   {
    "duration": 32,
    "start_time": "2021-10-13T20:48:29.264Z"
   },
   {
    "duration": 18,
    "start_time": "2021-10-13T20:48:29.299Z"
   },
   {
    "duration": 13,
    "start_time": "2021-10-13T20:48:29.320Z"
   },
   {
    "duration": 11,
    "start_time": "2021-10-13T20:48:29.335Z"
   },
   {
    "duration": 12,
    "start_time": "2021-10-13T20:48:29.348Z"
   },
   {
    "duration": 8,
    "start_time": "2021-10-13T20:48:29.363Z"
   },
   {
    "duration": 9,
    "start_time": "2021-10-13T20:48:29.373Z"
   },
   {
    "duration": 24,
    "start_time": "2021-10-13T20:48:29.384Z"
   },
   {
    "duration": 25,
    "start_time": "2021-10-13T20:48:29.411Z"
   },
   {
    "duration": 5,
    "start_time": "2021-10-13T20:48:29.438Z"
   },
   {
    "duration": 15,
    "start_time": "2021-10-13T20:48:29.445Z"
   },
   {
    "duration": 31,
    "start_time": "2021-10-13T20:48:29.463Z"
   },
   {
    "duration": 39,
    "start_time": "2021-10-13T20:48:29.496Z"
   },
   {
    "duration": 85,
    "start_time": "2021-10-13T20:48:29.538Z"
   },
   {
    "duration": 14,
    "start_time": "2021-10-13T20:48:29.626Z"
   },
   {
    "duration": 13,
    "start_time": "2021-10-13T20:48:29.646Z"
   },
   {
    "duration": 92,
    "start_time": "2021-10-13T20:48:29.662Z"
   },
   {
    "duration": 35,
    "start_time": "2021-10-13T20:48:29.756Z"
   },
   {
    "duration": 30,
    "start_time": "2021-10-13T20:48:29.793Z"
   },
   {
    "duration": 20,
    "start_time": "2021-10-13T20:48:29.826Z"
   },
   {
    "duration": 22,
    "start_time": "2021-10-13T20:48:29.849Z"
   },
   {
    "duration": 53,
    "start_time": "2021-10-13T20:48:29.874Z"
   },
   {
    "duration": 24,
    "start_time": "2021-10-13T20:48:29.930Z"
   },
   {
    "duration": 65,
    "start_time": "2021-10-13T20:48:29.957Z"
   },
   {
    "duration": 16,
    "start_time": "2021-10-13T20:48:30.025Z"
   },
   {
    "duration": 93,
    "start_time": "2021-10-13T20:48:30.044Z"
   },
   {
    "duration": 33,
    "start_time": "2021-10-13T20:48:30.139Z"
   },
   {
    "duration": 23,
    "start_time": "2021-10-13T20:48:30.223Z"
   },
   {
    "duration": 15,
    "start_time": "2021-10-13T20:48:30.248Z"
   },
   {
    "duration": 65,
    "start_time": "2021-10-13T20:48:30.266Z"
   },
   {
    "duration": 40,
    "start_time": "2021-10-13T20:48:30.333Z"
   },
   {
    "duration": 46,
    "start_time": "2021-10-13T20:48:30.376Z"
   },
   {
    "duration": 14,
    "start_time": "2021-10-13T20:48:30.425Z"
   },
   {
    "duration": 650,
    "start_time": "2021-10-13T20:48:30.442Z"
   },
   {
    "duration": 372,
    "start_time": "2021-10-13T20:48:31.095Z"
   },
   {
    "duration": 66,
    "start_time": "2021-10-13T20:48:31.469Z"
   },
   {
    "duration": 378,
    "start_time": "2021-10-13T20:48:31.537Z"
   },
   {
    "duration": 400,
    "start_time": "2021-10-13T20:48:31.922Z"
   },
   {
    "duration": 392,
    "start_time": "2021-10-13T20:48:32.325Z"
   },
   {
    "duration": 17,
    "start_time": "2021-10-13T20:48:32.719Z"
   },
   {
    "duration": 26,
    "start_time": "2021-10-13T20:48:32.738Z"
   },
   {
    "duration": 15,
    "start_time": "2021-10-13T20:48:32.766Z"
   },
   {
    "duration": 54,
    "start_time": "2021-10-13T20:48:32.784Z"
   },
   {
    "duration": 1423,
    "start_time": "2021-10-13T20:48:49.262Z"
   },
   {
    "duration": 534,
    "start_time": "2021-10-13T20:48:50.688Z"
   },
   {
    "duration": 69,
    "start_time": "2021-10-13T20:48:51.225Z"
   },
   {
    "duration": 27,
    "start_time": "2021-10-13T20:48:51.296Z"
   },
   {
    "duration": 18,
    "start_time": "2021-10-13T20:48:51.326Z"
   },
   {
    "duration": 19,
    "start_time": "2021-10-13T20:48:51.347Z"
   },
   {
    "duration": 127,
    "start_time": "2021-10-13T20:48:51.368Z"
   },
   {
    "duration": 32,
    "start_time": "2021-10-13T20:48:51.498Z"
   },
   {
    "duration": 18,
    "start_time": "2021-10-13T20:48:51.533Z"
   },
   {
    "duration": 13,
    "start_time": "2021-10-13T20:48:51.553Z"
   },
   {
    "duration": 10,
    "start_time": "2021-10-13T20:48:51.568Z"
   },
   {
    "duration": 11,
    "start_time": "2021-10-13T20:48:51.580Z"
   },
   {
    "duration": 4,
    "start_time": "2021-10-13T20:48:51.622Z"
   },
   {
    "duration": 8,
    "start_time": "2021-10-13T20:48:51.628Z"
   },
   {
    "duration": 11,
    "start_time": "2021-10-13T20:48:51.639Z"
   },
   {
    "duration": 22,
    "start_time": "2021-10-13T20:48:51.652Z"
   },
   {
    "duration": 5,
    "start_time": "2021-10-13T20:48:51.677Z"
   },
   {
    "duration": 41,
    "start_time": "2021-10-13T20:48:51.684Z"
   },
   {
    "duration": 20,
    "start_time": "2021-10-13T20:48:51.727Z"
   },
   {
    "duration": 33,
    "start_time": "2021-10-13T20:48:51.749Z"
   },
   {
    "duration": 56,
    "start_time": "2021-10-13T20:48:51.785Z"
   },
   {
    "duration": 13,
    "start_time": "2021-10-13T20:48:51.844Z"
   },
   {
    "duration": 14,
    "start_time": "2021-10-13T20:48:51.862Z"
   },
   {
    "duration": 57,
    "start_time": "2021-10-13T20:48:51.879Z"
   },
   {
    "duration": 31,
    "start_time": "2021-10-13T20:48:51.939Z"
   },
   {
    "duration": 14,
    "start_time": "2021-10-13T20:48:51.973Z"
   },
   {
    "duration": 44,
    "start_time": "2021-10-13T20:48:51.989Z"
   },
   {
    "duration": 23,
    "start_time": "2021-10-13T20:48:52.035Z"
   },
   {
    "duration": 26,
    "start_time": "2021-10-13T20:48:52.061Z"
   },
   {
    "duration": 46,
    "start_time": "2021-10-13T20:48:52.089Z"
   },
   {
    "duration": 15,
    "start_time": "2021-10-13T20:48:52.137Z"
   },
   {
    "duration": 18,
    "start_time": "2021-10-13T20:48:52.154Z"
   },
   {
    "duration": 64,
    "start_time": "2021-10-13T20:48:52.175Z"
   },
   {
    "duration": 27,
    "start_time": "2021-10-13T20:48:52.241Z"
   },
   {
    "duration": 51,
    "start_time": "2021-10-13T20:48:52.271Z"
   },
   {
    "duration": 15,
    "start_time": "2021-10-13T20:48:52.325Z"
   },
   {
    "duration": 13,
    "start_time": "2021-10-13T20:48:52.342Z"
   },
   {
    "duration": 39,
    "start_time": "2021-10-13T20:48:52.357Z"
   },
   {
    "duration": 11,
    "start_time": "2021-10-13T20:48:52.422Z"
   },
   {
    "duration": 22,
    "start_time": "2021-10-13T20:48:52.436Z"
   },
   {
    "duration": 599,
    "start_time": "2021-10-13T20:48:52.461Z"
   },
   {
    "duration": 361,
    "start_time": "2021-10-13T20:48:53.063Z"
   },
   {
    "duration": 47,
    "start_time": "2021-10-13T20:48:53.426Z"
   },
   {
    "duration": 384,
    "start_time": "2021-10-13T20:48:53.476Z"
   },
   {
    "duration": 423,
    "start_time": "2021-10-13T20:48:53.863Z"
   },
   {
    "duration": 376,
    "start_time": "2021-10-13T20:48:54.289Z"
   },
   {
    "duration": 17,
    "start_time": "2021-10-13T20:48:54.669Z"
   },
   {
    "duration": 46,
    "start_time": "2021-10-13T20:48:54.689Z"
   },
   {
    "duration": 17,
    "start_time": "2021-10-13T20:48:54.738Z"
   },
   {
    "duration": 32,
    "start_time": "2021-10-13T20:48:54.758Z"
   },
   {
    "duration": 1467,
    "start_time": "2021-10-13T20:52:12.836Z"
   },
   {
    "duration": 536,
    "start_time": "2021-10-13T20:52:14.305Z"
   },
   {
    "duration": 71,
    "start_time": "2021-10-13T20:52:14.844Z"
   },
   {
    "duration": 20,
    "start_time": "2021-10-13T20:52:14.918Z"
   },
   {
    "duration": 38,
    "start_time": "2021-10-13T20:52:14.940Z"
   },
   {
    "duration": 16,
    "start_time": "2021-10-13T20:52:14.981Z"
   },
   {
    "duration": 117,
    "start_time": "2021-10-13T20:52:15.000Z"
   },
   {
    "duration": 32,
    "start_time": "2021-10-13T20:52:15.120Z"
   },
   {
    "duration": 21,
    "start_time": "2021-10-13T20:52:15.156Z"
   },
   {
    "duration": 43,
    "start_time": "2021-10-13T20:52:15.180Z"
   },
   {
    "duration": 8,
    "start_time": "2021-10-13T20:52:15.226Z"
   },
   {
    "duration": 8,
    "start_time": "2021-10-13T20:52:15.236Z"
   },
   {
    "duration": 13,
    "start_time": "2021-10-13T20:52:15.248Z"
   },
   {
    "duration": 22,
    "start_time": "2021-10-13T20:52:15.263Z"
   },
   {
    "duration": 19,
    "start_time": "2021-10-13T20:52:15.287Z"
   },
   {
    "duration": 30,
    "start_time": "2021-10-13T20:52:15.308Z"
   },
   {
    "duration": 5,
    "start_time": "2021-10-13T20:52:15.341Z"
   },
   {
    "duration": 17,
    "start_time": "2021-10-13T20:52:15.348Z"
   },
   {
    "duration": 34,
    "start_time": "2021-10-13T20:52:15.368Z"
   },
   {
    "duration": 40,
    "start_time": "2021-10-13T20:52:15.404Z"
   },
   {
    "duration": 32,
    "start_time": "2021-10-13T20:52:15.447Z"
   },
   {
    "duration": 16,
    "start_time": "2021-10-13T20:52:15.482Z"
   },
   {
    "duration": 13,
    "start_time": "2021-10-13T20:52:15.526Z"
   },
   {
    "duration": 38,
    "start_time": "2021-10-13T20:52:15.542Z"
   },
   {
    "duration": 56,
    "start_time": "2021-10-13T20:52:15.583Z"
   },
   {
    "duration": 14,
    "start_time": "2021-10-13T20:52:15.642Z"
   },
   {
    "duration": 17,
    "start_time": "2021-10-13T20:52:15.658Z"
   },
   {
    "duration": 50,
    "start_time": "2021-10-13T20:52:15.677Z"
   },
   {
    "duration": 30,
    "start_time": "2021-10-13T20:52:15.729Z"
   },
   {
    "duration": 26,
    "start_time": "2021-10-13T20:52:15.761Z"
   },
   {
    "duration": 32,
    "start_time": "2021-10-13T20:52:15.790Z"
   },
   {
    "duration": 17,
    "start_time": "2021-10-13T20:52:15.824Z"
   },
   {
    "duration": 37,
    "start_time": "2021-10-13T20:52:15.843Z"
   },
   {
    "duration": 54,
    "start_time": "2021-10-13T20:52:15.884Z"
   },
   {
    "duration": 25,
    "start_time": "2021-10-13T20:52:15.940Z"
   },
   {
    "duration": 15,
    "start_time": "2021-10-13T20:52:15.968Z"
   },
   {
    "duration": 47,
    "start_time": "2021-10-13T20:52:15.985Z"
   },
   {
    "duration": 38,
    "start_time": "2021-10-13T20:52:16.035Z"
   },
   {
    "duration": 11,
    "start_time": "2021-10-13T20:52:16.076Z"
   },
   {
    "duration": 49,
    "start_time": "2021-10-13T20:52:16.089Z"
   },
   {
    "duration": 616,
    "start_time": "2021-10-13T20:52:16.141Z"
   },
   {
    "duration": 361,
    "start_time": "2021-10-13T20:52:16.760Z"
   },
   {
    "duration": 48,
    "start_time": "2021-10-13T20:52:17.124Z"
   },
   {
    "duration": 415,
    "start_time": "2021-10-13T20:52:17.174Z"
   },
   {
    "duration": 413,
    "start_time": "2021-10-13T20:52:17.592Z"
   },
   {
    "duration": 396,
    "start_time": "2021-10-13T20:52:18.007Z"
   },
   {
    "duration": 25,
    "start_time": "2021-10-13T20:52:18.406Z"
   },
   {
    "duration": 23,
    "start_time": "2021-10-13T20:52:18.434Z"
   },
   {
    "duration": 16,
    "start_time": "2021-10-13T20:52:18.459Z"
   },
   {
    "duration": 50,
    "start_time": "2021-10-13T20:52:18.477Z"
   },
   {
    "duration": 1482,
    "start_time": "2021-10-13T20:58:13.703Z"
   },
   {
    "duration": 503,
    "start_time": "2021-10-13T20:58:15.188Z"
   },
   {
    "duration": 67,
    "start_time": "2021-10-13T20:58:15.694Z"
   },
   {
    "duration": 19,
    "start_time": "2021-10-13T20:58:15.764Z"
   },
   {
    "duration": 41,
    "start_time": "2021-10-13T20:58:15.785Z"
   },
   {
    "duration": 13,
    "start_time": "2021-10-13T20:58:15.829Z"
   },
   {
    "duration": 121,
    "start_time": "2021-10-13T20:58:15.844Z"
   },
   {
    "duration": 53,
    "start_time": "2021-10-13T20:58:15.969Z"
   },
   {
    "duration": 12,
    "start_time": "2021-10-13T20:58:16.025Z"
   },
   {
    "duration": 13,
    "start_time": "2021-10-13T20:58:16.040Z"
   },
   {
    "duration": 10,
    "start_time": "2021-10-13T20:58:16.055Z"
   },
   {
    "duration": 8,
    "start_time": "2021-10-13T20:58:16.068Z"
   },
   {
    "duration": 8,
    "start_time": "2021-10-13T20:58:16.078Z"
   },
   {
    "duration": 40,
    "start_time": "2021-10-13T20:58:16.088Z"
   },
   {
    "duration": 23,
    "start_time": "2021-10-13T20:58:16.130Z"
   },
   {
    "duration": 6,
    "start_time": "2021-10-13T20:58:16.156Z"
   },
   {
    "duration": 8,
    "start_time": "2021-10-13T20:58:16.164Z"
   },
   {
    "duration": 53,
    "start_time": "2021-10-13T20:58:16.175Z"
   },
   {
    "duration": 35,
    "start_time": "2021-10-13T20:58:16.231Z"
   },
   {
    "duration": 74,
    "start_time": "2021-10-13T20:58:16.269Z"
   },
   {
    "duration": 42,
    "start_time": "2021-10-13T20:58:16.346Z"
   },
   {
    "duration": 62,
    "start_time": "2021-10-13T20:58:16.391Z"
   },
   {
    "duration": 33,
    "start_time": "2021-10-13T20:58:16.460Z"
   },
   {
    "duration": 20,
    "start_time": "2021-10-13T20:58:16.522Z"
   },
   {
    "duration": 36,
    "start_time": "2021-10-13T20:58:16.545Z"
   },
   {
    "duration": 84,
    "start_time": "2021-10-13T20:58:16.585Z"
   },
   {
    "duration": 22,
    "start_time": "2021-10-13T20:58:16.671Z"
   },
   {
    "duration": 47,
    "start_time": "2021-10-13T20:58:16.695Z"
   },
   {
    "duration": 44,
    "start_time": "2021-10-13T20:58:16.745Z"
   },
   {
    "duration": 33,
    "start_time": "2021-10-13T20:58:16.791Z"
   },
   {
    "duration": 16,
    "start_time": "2021-10-13T20:58:16.826Z"
   },
   {
    "duration": 604,
    "start_time": "2021-10-13T20:58:16.845Z"
   },
   {
    "duration": 408,
    "start_time": "2021-10-13T20:58:17.452Z"
   },
   {
    "duration": 64,
    "start_time": "2021-10-13T20:58:17.863Z"
   },
   {
    "duration": 366,
    "start_time": "2021-10-13T20:58:17.929Z"
   },
   {
    "duration": 388,
    "start_time": "2021-10-13T20:58:18.297Z"
   },
   {
    "duration": 393,
    "start_time": "2021-10-13T20:58:18.687Z"
   },
   {
    "duration": 16,
    "start_time": "2021-10-13T20:58:19.083Z"
   },
   {
    "duration": 31,
    "start_time": "2021-10-13T20:58:19.101Z"
   },
   {
    "duration": 25,
    "start_time": "2021-10-13T20:58:19.134Z"
   },
   {
    "duration": 35,
    "start_time": "2021-10-13T20:58:19.162Z"
   },
   {
    "duration": 1495,
    "start_time": "2021-10-14T13:12:18.421Z"
   },
   {
    "duration": 573,
    "start_time": "2021-10-14T13:12:19.918Z"
   },
   {
    "duration": 71,
    "start_time": "2021-10-14T13:12:20.495Z"
   },
   {
    "duration": 21,
    "start_time": "2021-10-14T13:12:20.570Z"
   },
   {
    "duration": 23,
    "start_time": "2021-10-14T13:12:20.594Z"
   },
   {
    "duration": 45,
    "start_time": "2021-10-14T13:12:20.620Z"
   },
   {
    "duration": 110,
    "start_time": "2021-10-14T13:12:20.668Z"
   },
   {
    "duration": 47,
    "start_time": "2021-10-14T13:12:20.781Z"
   },
   {
    "duration": 27,
    "start_time": "2021-10-14T13:12:20.832Z"
   },
   {
    "duration": 9,
    "start_time": "2021-10-14T13:12:20.862Z"
   },
   {
    "duration": 12,
    "start_time": "2021-10-14T13:12:20.873Z"
   },
   {
    "duration": 21,
    "start_time": "2021-10-14T13:12:20.888Z"
   },
   {
    "duration": 12,
    "start_time": "2021-10-14T13:12:20.913Z"
   },
   {
    "duration": 35,
    "start_time": "2021-10-14T13:12:20.927Z"
   },
   {
    "duration": 23,
    "start_time": "2021-10-14T13:12:20.965Z"
   },
   {
    "duration": 8,
    "start_time": "2021-10-14T13:12:20.990Z"
   },
   {
    "duration": 19,
    "start_time": "2021-10-14T13:12:21.000Z"
   },
   {
    "duration": 43,
    "start_time": "2021-10-14T13:12:21.022Z"
   },
   {
    "duration": 35,
    "start_time": "2021-10-14T13:12:21.067Z"
   },
   {
    "duration": 56,
    "start_time": "2021-10-14T13:12:21.104Z"
   },
   {
    "duration": 39,
    "start_time": "2021-10-14T13:12:21.163Z"
   },
   {
    "duration": 66,
    "start_time": "2021-10-14T13:12:21.205Z"
   },
   {
    "duration": 32,
    "start_time": "2021-10-14T13:12:21.274Z"
   },
   {
    "duration": 18,
    "start_time": "2021-10-14T13:12:21.308Z"
   },
   {
    "duration": 58,
    "start_time": "2021-10-14T13:12:21.329Z"
   },
   {
    "duration": 44,
    "start_time": "2021-10-14T13:12:21.389Z"
   },
   {
    "duration": 24,
    "start_time": "2021-10-14T13:12:21.457Z"
   },
   {
    "duration": 33,
    "start_time": "2021-10-14T13:12:21.483Z"
   },
   {
    "duration": 69,
    "start_time": "2021-10-14T13:12:21.519Z"
   },
   {
    "duration": 11,
    "start_time": "2021-10-14T13:12:21.591Z"
   },
   {
    "duration": 14,
    "start_time": "2021-10-14T13:12:21.605Z"
   },
   {
    "duration": 618,
    "start_time": "2021-10-14T13:12:21.621Z"
   },
   {
    "duration": 383,
    "start_time": "2021-10-14T13:12:22.242Z"
   },
   {
    "duration": 57,
    "start_time": "2021-10-14T13:12:22.628Z"
   },
   {
    "duration": 379,
    "start_time": "2021-10-14T13:12:22.688Z"
   },
   {
    "duration": 404,
    "start_time": "2021-10-14T13:12:23.069Z"
   },
   {
    "duration": 377,
    "start_time": "2021-10-14T13:12:23.475Z"
   },
   {
    "duration": 15,
    "start_time": "2021-10-14T13:12:23.854Z"
   },
   {
    "duration": 23,
    "start_time": "2021-10-14T13:12:23.871Z"
   },
   {
    "duration": 15,
    "start_time": "2021-10-14T13:12:23.896Z"
   },
   {
    "duration": 59,
    "start_time": "2021-10-14T13:12:23.913Z"
   },
   {
    "duration": 10,
    "start_time": "2021-10-14T13:17:00.617Z"
   },
   {
    "duration": 144,
    "start_time": "2021-10-14T13:26:24.319Z"
   },
   {
    "duration": 614,
    "start_time": "2021-10-14T13:28:31.127Z"
   },
   {
    "duration": 6,
    "start_time": "2021-10-14T13:30:16.213Z"
   },
   {
    "duration": 6,
    "start_time": "2021-10-14T13:30:20.999Z"
   },
   {
    "duration": 1061,
    "start_time": "2021-10-14T19:08:54.299Z"
   },
   {
    "duration": 380,
    "start_time": "2021-10-14T19:08:55.362Z"
   },
   {
    "duration": 48,
    "start_time": "2021-10-14T19:08:55.744Z"
   },
   {
    "duration": 12,
    "start_time": "2021-10-14T19:08:55.794Z"
   },
   {
    "duration": 10,
    "start_time": "2021-10-14T19:08:55.807Z"
   },
   {
    "duration": 29,
    "start_time": "2021-10-14T19:08:55.818Z"
   },
   {
    "duration": 65,
    "start_time": "2021-10-14T19:08:55.848Z"
   },
   {
    "duration": 36,
    "start_time": "2021-10-14T19:08:55.915Z"
   },
   {
    "duration": 7,
    "start_time": "2021-10-14T19:08:55.953Z"
   },
   {
    "duration": 8,
    "start_time": "2021-10-14T19:08:55.962Z"
   },
   {
    "duration": 3,
    "start_time": "2021-10-14T19:08:55.971Z"
   },
   {
    "duration": 5,
    "start_time": "2021-10-14T19:08:55.976Z"
   },
   {
    "duration": 5,
    "start_time": "2021-10-14T19:08:55.982Z"
   },
   {
    "duration": 10,
    "start_time": "2021-10-14T19:08:55.989Z"
   },
   {
    "duration": 14,
    "start_time": "2021-10-14T19:08:56.000Z"
   },
   {
    "duration": 29,
    "start_time": "2021-10-14T19:08:56.015Z"
   },
   {
    "duration": 5,
    "start_time": "2021-10-14T19:08:56.046Z"
   },
   {
    "duration": 17,
    "start_time": "2021-10-14T19:08:56.053Z"
   },
   {
    "duration": 22,
    "start_time": "2021-10-14T19:08:56.072Z"
   },
   {
    "duration": 28,
    "start_time": "2021-10-14T19:08:56.095Z"
   },
   {
    "duration": 24,
    "start_time": "2021-10-14T19:08:56.144Z"
   },
   {
    "duration": 28,
    "start_time": "2021-10-14T19:08:56.169Z"
   },
   {
    "duration": 18,
    "start_time": "2021-10-14T19:08:56.199Z"
   },
   {
    "duration": 37,
    "start_time": "2021-10-14T19:08:56.218Z"
   },
   {
    "duration": 22,
    "start_time": "2021-10-14T19:08:56.257Z"
   },
   {
    "duration": 24,
    "start_time": "2021-10-14T19:08:56.281Z"
   },
   {
    "duration": 40,
    "start_time": "2021-10-14T19:08:56.308Z"
   },
   {
    "duration": 22,
    "start_time": "2021-10-14T19:08:56.350Z"
   },
   {
    "duration": 26,
    "start_time": "2021-10-14T19:08:56.374Z"
   },
   {
    "duration": 7,
    "start_time": "2021-10-14T19:08:56.401Z"
   },
   {
    "duration": 9,
    "start_time": "2021-10-14T19:08:56.409Z"
   },
   {
    "duration": 343,
    "start_time": "2021-10-14T19:08:56.419Z"
   },
   {
    "duration": 83,
    "start_time": "2021-10-14T19:08:56.764Z"
   },
   {
    "duration": -88,
    "start_time": "2021-10-14T19:08:56.936Z"
   },
   {
    "duration": -90,
    "start_time": "2021-10-14T19:08:56.939Z"
   },
   {
    "duration": -91,
    "start_time": "2021-10-14T19:08:56.941Z"
   },
   {
    "duration": -92,
    "start_time": "2021-10-14T19:08:56.943Z"
   },
   {
    "duration": -94,
    "start_time": "2021-10-14T19:08:56.946Z"
   },
   {
    "duration": -101,
    "start_time": "2021-10-14T19:08:56.954Z"
   },
   {
    "duration": -103,
    "start_time": "2021-10-14T19:08:56.957Z"
   },
   {
    "duration": -104,
    "start_time": "2021-10-14T19:08:56.959Z"
   },
   {
    "duration": -106,
    "start_time": "2021-10-14T19:08:56.962Z"
   },
   {
    "duration": -107,
    "start_time": "2021-10-14T19:08:56.964Z"
   },
   {
    "duration": -109,
    "start_time": "2021-10-14T19:08:56.967Z"
   },
   {
    "duration": 1120,
    "start_time": "2021-10-14T19:36:26.677Z"
   },
   {
    "duration": 399,
    "start_time": "2021-10-14T19:36:27.799Z"
   },
   {
    "duration": 48,
    "start_time": "2021-10-14T19:36:28.200Z"
   },
   {
    "duration": 12,
    "start_time": "2021-10-14T19:36:28.250Z"
   },
   {
    "duration": 14,
    "start_time": "2021-10-14T19:36:28.264Z"
   },
   {
    "duration": 10,
    "start_time": "2021-10-14T19:36:28.279Z"
   },
   {
    "duration": 118,
    "start_time": "2021-10-14T19:36:28.290Z"
   },
   {
    "duration": 42,
    "start_time": "2021-10-14T19:36:28.412Z"
   },
   {
    "duration": 20,
    "start_time": "2021-10-14T19:36:28.457Z"
   },
   {
    "duration": 24,
    "start_time": "2021-10-14T19:36:28.480Z"
   },
   {
    "duration": 5,
    "start_time": "2021-10-14T19:36:28.517Z"
   },
   {
    "duration": 6,
    "start_time": "2021-10-14T19:36:28.524Z"
   },
   {
    "duration": 8,
    "start_time": "2021-10-14T19:36:28.532Z"
   },
   {
    "duration": 18,
    "start_time": "2021-10-14T19:36:28.542Z"
   },
   {
    "duration": 24,
    "start_time": "2021-10-14T19:36:28.562Z"
   },
   {
    "duration": 5,
    "start_time": "2021-10-14T19:36:28.588Z"
   },
   {
    "duration": 8,
    "start_time": "2021-10-14T19:36:28.595Z"
   },
   {
    "duration": 54,
    "start_time": "2021-10-14T19:36:28.605Z"
   },
   {
    "duration": 45,
    "start_time": "2021-10-14T19:36:28.668Z"
   },
   {
    "duration": 30,
    "start_time": "2021-10-14T19:36:28.715Z"
   },
   {
    "duration": 27,
    "start_time": "2021-10-14T19:36:28.746Z"
   },
   {
    "duration": 12,
    "start_time": "2021-10-14T19:36:28.774Z"
   },
   {
    "duration": 13,
    "start_time": "2021-10-14T19:36:28.789Z"
   },
   {
    "duration": 43,
    "start_time": "2021-10-14T19:36:28.804Z"
   },
   {
    "duration": 16,
    "start_time": "2021-10-14T19:36:28.848Z"
   },
   {
    "duration": 15,
    "start_time": "2021-10-14T19:36:28.865Z"
   },
   {
    "duration": 20,
    "start_time": "2021-10-14T19:36:28.882Z"
   },
   {
    "duration": 40,
    "start_time": "2021-10-14T19:36:28.904Z"
   },
   {
    "duration": 29,
    "start_time": "2021-10-14T19:36:28.946Z"
   },
   {
    "duration": 7,
    "start_time": "2021-10-14T19:36:28.976Z"
   },
   {
    "duration": 5956,
    "start_time": "2021-10-14T19:36:28.984Z"
   },
   {
    "duration": -15,
    "start_time": "2021-10-14T19:36:34.957Z"
   },
   {
    "duration": -17,
    "start_time": "2021-10-14T19:36:34.960Z"
   },
   {
    "duration": -17,
    "start_time": "2021-10-14T19:36:34.962Z"
   },
   {
    "duration": -18,
    "start_time": "2021-10-14T19:36:34.964Z"
   },
   {
    "duration": -19,
    "start_time": "2021-10-14T19:36:34.966Z"
   },
   {
    "duration": -20,
    "start_time": "2021-10-14T19:36:34.968Z"
   },
   {
    "duration": -21,
    "start_time": "2021-10-14T19:36:34.970Z"
   },
   {
    "duration": -23,
    "start_time": "2021-10-14T19:36:34.973Z"
   },
   {
    "duration": -30,
    "start_time": "2021-10-14T19:36:34.980Z"
   },
   {
    "duration": -31,
    "start_time": "2021-10-14T19:36:34.982Z"
   },
   {
    "duration": -33,
    "start_time": "2021-10-14T19:36:34.985Z"
   },
   {
    "duration": -34,
    "start_time": "2021-10-14T19:36:34.987Z"
   },
   {
    "duration": -35,
    "start_time": "2021-10-14T19:36:34.989Z"
   },
   {
    "duration": 1029,
    "start_time": "2021-10-14T19:41:24.772Z"
   },
   {
    "duration": 388,
    "start_time": "2021-10-14T19:41:25.802Z"
   },
   {
    "duration": 49,
    "start_time": "2021-10-14T19:41:26.192Z"
   },
   {
    "duration": 13,
    "start_time": "2021-10-14T19:41:26.243Z"
   },
   {
    "duration": 10,
    "start_time": "2021-10-14T19:41:26.257Z"
   },
   {
    "duration": 10,
    "start_time": "2021-10-14T19:41:26.269Z"
   },
   {
    "duration": 82,
    "start_time": "2021-10-14T19:41:26.280Z"
   },
   {
    "duration": 28,
    "start_time": "2021-10-14T19:41:26.364Z"
   },
   {
    "duration": 8,
    "start_time": "2021-10-14T19:41:26.394Z"
   },
   {
    "duration": 14,
    "start_time": "2021-10-14T19:41:26.404Z"
   },
   {
    "duration": 4,
    "start_time": "2021-10-14T19:41:26.419Z"
   },
   {
    "duration": 2,
    "start_time": "2021-10-14T19:41:26.444Z"
   },
   {
    "duration": 6,
    "start_time": "2021-10-14T19:41:26.448Z"
   },
   {
    "duration": 7,
    "start_time": "2021-10-14T19:41:26.456Z"
   },
   {
    "duration": 14,
    "start_time": "2021-10-14T19:41:26.465Z"
   },
   {
    "duration": 4,
    "start_time": "2021-10-14T19:41:26.481Z"
   },
   {
    "duration": 8,
    "start_time": "2021-10-14T19:41:26.486Z"
   },
   {
    "duration": 13,
    "start_time": "2021-10-14T19:41:26.496Z"
   },
   {
    "duration": 23,
    "start_time": "2021-10-14T19:41:26.543Z"
   },
   {
    "duration": 30,
    "start_time": "2021-10-14T19:41:26.567Z"
   },
   {
    "duration": 48,
    "start_time": "2021-10-14T19:41:26.599Z"
   },
   {
    "duration": 14,
    "start_time": "2021-10-14T19:41:26.649Z"
   },
   {
    "duration": 13,
    "start_time": "2021-10-14T19:41:26.667Z"
   },
   {
    "duration": 24,
    "start_time": "2021-10-14T19:41:26.682Z"
   },
   {
    "duration": 49,
    "start_time": "2021-10-14T19:41:26.707Z"
   },
   {
    "duration": 15,
    "start_time": "2021-10-14T19:41:26.757Z"
   },
   {
    "duration": 21,
    "start_time": "2021-10-14T19:41:26.774Z"
   },
   {
    "duration": 18,
    "start_time": "2021-10-14T19:41:26.797Z"
   },
   {
    "duration": 7158,
    "start_time": "2021-10-14T19:41:26.817Z"
   },
   {
    "duration": -155,
    "start_time": "2021-10-14T19:41:34.132Z"
   },
   {
    "duration": -157,
    "start_time": "2021-10-14T19:41:34.135Z"
   },
   {
    "duration": -160,
    "start_time": "2021-10-14T19:41:34.138Z"
   },
   {
    "duration": -161,
    "start_time": "2021-10-14T19:41:34.141Z"
   },
   {
    "duration": -166,
    "start_time": "2021-10-14T19:41:34.146Z"
   },
   {
    "duration": -168,
    "start_time": "2021-10-14T19:41:34.149Z"
   },
   {
    "duration": -168,
    "start_time": "2021-10-14T19:41:34.151Z"
   },
   {
    "duration": -172,
    "start_time": "2021-10-14T19:41:34.155Z"
   },
   {
    "duration": -173,
    "start_time": "2021-10-14T19:41:34.157Z"
   },
   {
    "duration": -174,
    "start_time": "2021-10-14T19:41:34.160Z"
   },
   {
    "duration": -175,
    "start_time": "2021-10-14T19:41:34.162Z"
   },
   {
    "duration": -176,
    "start_time": "2021-10-14T19:41:34.164Z"
   },
   {
    "duration": -178,
    "start_time": "2021-10-14T19:41:34.166Z"
   },
   {
    "duration": -179,
    "start_time": "2021-10-14T19:41:34.169Z"
   },
   {
    "duration": -181,
    "start_time": "2021-10-14T19:41:34.171Z"
   },
   {
    "duration": 257,
    "start_time": "2021-10-14T19:46:22.883Z"
   },
   {
    "duration": 434,
    "start_time": "2021-10-14T19:46:35.648Z"
   },
   {
    "duration": 253,
    "start_time": "2021-10-14T19:46:54.007Z"
   },
   {
    "duration": 1040,
    "start_time": "2021-10-14T19:47:04.090Z"
   },
   {
    "duration": 383,
    "start_time": "2021-10-14T19:47:05.132Z"
   },
   {
    "duration": 44,
    "start_time": "2021-10-14T19:47:05.517Z"
   },
   {
    "duration": 14,
    "start_time": "2021-10-14T19:47:05.563Z"
   },
   {
    "duration": 10,
    "start_time": "2021-10-14T19:47:05.579Z"
   },
   {
    "duration": 8,
    "start_time": "2021-10-14T19:47:05.591Z"
   },
   {
    "duration": 90,
    "start_time": "2021-10-14T19:47:05.601Z"
   },
   {
    "duration": 28,
    "start_time": "2021-10-14T19:47:05.694Z"
   },
   {
    "duration": 7,
    "start_time": "2021-10-14T19:47:05.725Z"
   },
   {
    "duration": 7,
    "start_time": "2021-10-14T19:47:05.744Z"
   },
   {
    "duration": 4,
    "start_time": "2021-10-14T19:47:05.753Z"
   },
   {
    "duration": 4,
    "start_time": "2021-10-14T19:47:05.758Z"
   },
   {
    "duration": 6,
    "start_time": "2021-10-14T19:47:05.764Z"
   },
   {
    "duration": 8,
    "start_time": "2021-10-14T19:47:05.771Z"
   },
   {
    "duration": 13,
    "start_time": "2021-10-14T19:47:05.780Z"
   },
   {
    "duration": 4,
    "start_time": "2021-10-14T19:47:05.794Z"
   },
   {
    "duration": 8,
    "start_time": "2021-10-14T19:47:05.799Z"
   },
   {
    "duration": 47,
    "start_time": "2021-10-14T19:47:05.808Z"
   },
   {
    "duration": 24,
    "start_time": "2021-10-14T19:47:05.856Z"
   },
   {
    "duration": 29,
    "start_time": "2021-10-14T19:47:05.882Z"
   },
   {
    "duration": 43,
    "start_time": "2021-10-14T19:47:05.912Z"
   },
   {
    "duration": 12,
    "start_time": "2021-10-14T19:47:05.956Z"
   },
   {
    "duration": 14,
    "start_time": "2021-10-14T19:47:05.971Z"
   },
   {
    "duration": 22,
    "start_time": "2021-10-14T19:47:05.986Z"
   },
   {
    "duration": 41,
    "start_time": "2021-10-14T19:47:06.010Z"
   },
   {
    "duration": 14,
    "start_time": "2021-10-14T19:47:06.053Z"
   },
   {
    "duration": 20,
    "start_time": "2021-10-14T19:47:06.069Z"
   },
   {
    "duration": 15,
    "start_time": "2021-10-14T19:47:06.090Z"
   },
   {
    "duration": 39,
    "start_time": "2021-10-14T19:47:06.106Z"
   },
   {
    "duration": 7,
    "start_time": "2021-10-14T19:47:06.146Z"
   },
   {
    "duration": 6061,
    "start_time": "2021-10-14T19:47:06.155Z"
   },
   {
    "duration": -132,
    "start_time": "2021-10-14T19:47:12.350Z"
   },
   {
    "duration": -134,
    "start_time": "2021-10-14T19:47:12.353Z"
   },
   {
    "duration": -136,
    "start_time": "2021-10-14T19:47:12.356Z"
   },
   {
    "duration": -138,
    "start_time": "2021-10-14T19:47:12.358Z"
   },
   {
    "duration": -139,
    "start_time": "2021-10-14T19:47:12.360Z"
   },
   {
    "duration": -140,
    "start_time": "2021-10-14T19:47:12.362Z"
   },
   {
    "duration": -143,
    "start_time": "2021-10-14T19:47:12.366Z"
   },
   {
    "duration": -147,
    "start_time": "2021-10-14T19:47:12.371Z"
   },
   {
    "duration": -148,
    "start_time": "2021-10-14T19:47:12.373Z"
   },
   {
    "duration": -151,
    "start_time": "2021-10-14T19:47:12.376Z"
   },
   {
    "duration": -152,
    "start_time": "2021-10-14T19:47:12.378Z"
   },
   {
    "duration": -154,
    "start_time": "2021-10-14T19:47:12.381Z"
   },
   {
    "duration": -155,
    "start_time": "2021-10-14T19:47:12.383Z"
   },
   {
    "duration": 996,
    "start_time": "2021-10-14T19:47:37.690Z"
   },
   {
    "duration": 397,
    "start_time": "2021-10-14T19:47:38.688Z"
   },
   {
    "duration": 48,
    "start_time": "2021-10-14T19:47:39.087Z"
   },
   {
    "duration": 12,
    "start_time": "2021-10-14T19:47:39.137Z"
   },
   {
    "duration": 17,
    "start_time": "2021-10-14T19:47:39.150Z"
   },
   {
    "duration": 8,
    "start_time": "2021-10-14T19:47:39.169Z"
   },
   {
    "duration": 87,
    "start_time": "2021-10-14T19:47:39.178Z"
   },
   {
    "duration": 28,
    "start_time": "2021-10-14T19:47:39.267Z"
   },
   {
    "duration": 13,
    "start_time": "2021-10-14T19:47:39.297Z"
   },
   {
    "duration": 34,
    "start_time": "2021-10-14T19:47:39.311Z"
   },
   {
    "duration": 9,
    "start_time": "2021-10-14T19:47:39.347Z"
   },
   {
    "duration": 13,
    "start_time": "2021-10-14T19:47:39.357Z"
   },
   {
    "duration": 7,
    "start_time": "2021-10-14T19:47:39.372Z"
   },
   {
    "duration": 30,
    "start_time": "2021-10-14T19:47:39.380Z"
   },
   {
    "duration": 21,
    "start_time": "2021-10-14T19:47:39.412Z"
   },
   {
    "duration": 7,
    "start_time": "2021-10-14T19:47:39.435Z"
   },
   {
    "duration": 27,
    "start_time": "2021-10-14T19:47:39.444Z"
   },
   {
    "duration": 22,
    "start_time": "2021-10-14T19:47:39.473Z"
   },
   {
    "duration": 35,
    "start_time": "2021-10-14T19:47:39.497Z"
   },
   {
    "duration": 32,
    "start_time": "2021-10-14T19:47:39.533Z"
   },
   {
    "duration": 27,
    "start_time": "2021-10-14T19:47:39.566Z"
   },
   {
    "duration": 12,
    "start_time": "2021-10-14T19:47:39.594Z"
   },
   {
    "duration": 15,
    "start_time": "2021-10-14T19:47:39.609Z"
   },
   {
    "duration": 39,
    "start_time": "2021-10-14T19:47:39.625Z"
   },
   {
    "duration": 17,
    "start_time": "2021-10-14T19:47:39.666Z"
   },
   {
    "duration": 28,
    "start_time": "2021-10-14T19:47:39.685Z"
   },
   {
    "duration": 22,
    "start_time": "2021-10-14T19:47:39.715Z"
   },
   {
    "duration": 16,
    "start_time": "2021-10-14T19:47:39.738Z"
   },
   {
    "duration": 18,
    "start_time": "2021-10-14T19:47:39.756Z"
   },
   {
    "duration": 12,
    "start_time": "2021-10-14T19:47:39.775Z"
   },
   {
    "duration": 6815,
    "start_time": "2021-10-14T19:47:39.788Z"
   },
   {
    "duration": -34,
    "start_time": "2021-10-14T19:47:46.638Z"
   },
   {
    "duration": -38,
    "start_time": "2021-10-14T19:47:46.643Z"
   },
   {
    "duration": -41,
    "start_time": "2021-10-14T19:47:46.647Z"
   },
   {
    "duration": -42,
    "start_time": "2021-10-14T19:47:46.649Z"
   },
   {
    "duration": -44,
    "start_time": "2021-10-14T19:47:46.652Z"
   },
   {
    "duration": -45,
    "start_time": "2021-10-14T19:47:46.654Z"
   },
   {
    "duration": -46,
    "start_time": "2021-10-14T19:47:46.656Z"
   },
   {
    "duration": -47,
    "start_time": "2021-10-14T19:47:46.658Z"
   },
   {
    "duration": -48,
    "start_time": "2021-10-14T19:47:46.660Z"
   },
   {
    "duration": -49,
    "start_time": "2021-10-14T19:47:46.662Z"
   },
   {
    "duration": -50,
    "start_time": "2021-10-14T19:47:46.664Z"
   },
   {
    "duration": -52,
    "start_time": "2021-10-14T19:47:46.667Z"
   },
   {
    "duration": -53,
    "start_time": "2021-10-14T19:47:46.669Z"
   },
   {
    "duration": 1070,
    "start_time": "2021-10-14T19:49:38.221Z"
   },
   {
    "duration": 465,
    "start_time": "2021-10-14T19:49:39.292Z"
   },
   {
    "duration": 48,
    "start_time": "2021-10-14T19:49:39.758Z"
   },
   {
    "duration": 12,
    "start_time": "2021-10-14T19:49:39.808Z"
   },
   {
    "duration": 14,
    "start_time": "2021-10-14T19:49:39.822Z"
   },
   {
    "duration": 10,
    "start_time": "2021-10-14T19:49:39.844Z"
   },
   {
    "duration": 66,
    "start_time": "2021-10-14T19:49:39.856Z"
   },
   {
    "duration": 33,
    "start_time": "2021-10-14T19:49:39.925Z"
   },
   {
    "duration": 7,
    "start_time": "2021-10-14T19:49:39.960Z"
   },
   {
    "duration": 8,
    "start_time": "2021-10-14T19:49:39.968Z"
   },
   {
    "duration": 4,
    "start_time": "2021-10-14T19:49:39.977Z"
   },
   {
    "duration": 4,
    "start_time": "2021-10-14T19:49:39.982Z"
   },
   {
    "duration": 7,
    "start_time": "2021-10-14T19:49:39.988Z"
   },
   {
    "duration": 9,
    "start_time": "2021-10-14T19:49:39.996Z"
   },
   {
    "duration": 48,
    "start_time": "2021-10-14T19:49:40.007Z"
   },
   {
    "duration": 4,
    "start_time": "2021-10-14T19:49:40.057Z"
   },
   {
    "duration": 8,
    "start_time": "2021-10-14T19:49:40.062Z"
   },
   {
    "duration": 12,
    "start_time": "2021-10-14T19:49:40.072Z"
   },
   {
    "duration": 24,
    "start_time": "2021-10-14T19:49:40.086Z"
   },
   {
    "duration": 52,
    "start_time": "2021-10-14T19:49:40.111Z"
   },
   {
    "duration": 27,
    "start_time": "2021-10-14T19:49:40.164Z"
   },
   {
    "duration": 12,
    "start_time": "2021-10-14T19:49:40.193Z"
   },
   {
    "duration": 14,
    "start_time": "2021-10-14T19:49:40.208Z"
   },
   {
    "duration": 42,
    "start_time": "2021-10-14T19:49:40.224Z"
   },
   {
    "duration": 17,
    "start_time": "2021-10-14T19:49:40.267Z"
   },
   {
    "duration": 17,
    "start_time": "2021-10-14T19:49:40.285Z"
   },
   {
    "duration": 45,
    "start_time": "2021-10-14T19:49:40.303Z"
   },
   {
    "duration": 16,
    "start_time": "2021-10-14T19:49:40.350Z"
   },
   {
    "duration": 27,
    "start_time": "2021-10-14T19:49:40.368Z"
   },
   {
    "duration": 7,
    "start_time": "2021-10-14T19:49:40.396Z"
   },
   {
    "duration": 6420,
    "start_time": "2021-10-14T19:49:40.404Z"
   },
   {
    "duration": -23,
    "start_time": "2021-10-14T19:49:46.849Z"
   },
   {
    "duration": -26,
    "start_time": "2021-10-14T19:49:46.853Z"
   },
   {
    "duration": -29,
    "start_time": "2021-10-14T19:49:46.857Z"
   },
   {
    "duration": -31,
    "start_time": "2021-10-14T19:49:46.860Z"
   },
   {
    "duration": -31,
    "start_time": "2021-10-14T19:49:46.862Z"
   },
   {
    "duration": -32,
    "start_time": "2021-10-14T19:49:46.864Z"
   },
   {
    "duration": -32,
    "start_time": "2021-10-14T19:49:46.866Z"
   },
   {
    "duration": -33,
    "start_time": "2021-10-14T19:49:46.868Z"
   },
   {
    "duration": -34,
    "start_time": "2021-10-14T19:49:46.870Z"
   },
   {
    "duration": -34,
    "start_time": "2021-10-14T19:49:46.872Z"
   },
   {
    "duration": -35,
    "start_time": "2021-10-14T19:49:46.874Z"
   },
   {
    "duration": -35,
    "start_time": "2021-10-14T19:49:46.876Z"
   },
   {
    "duration": -36,
    "start_time": "2021-10-14T19:49:46.878Z"
   },
   {
    "duration": 7,
    "start_time": "2021-10-14T19:55:41.657Z"
   },
   {
    "duration": 2,
    "start_time": "2021-10-14T19:56:21.358Z"
   },
   {
    "duration": 1072,
    "start_time": "2021-10-14T19:58:18.908Z"
   },
   {
    "duration": 418,
    "start_time": "2021-10-14T19:58:19.982Z"
   },
   {
    "duration": 45,
    "start_time": "2021-10-14T19:58:20.402Z"
   },
   {
    "duration": 13,
    "start_time": "2021-10-14T19:58:20.449Z"
   },
   {
    "duration": 17,
    "start_time": "2021-10-14T19:58:20.464Z"
   },
   {
    "duration": 23,
    "start_time": "2021-10-14T19:58:20.483Z"
   },
   {
    "duration": 72,
    "start_time": "2021-10-14T19:58:20.508Z"
   },
   {
    "duration": 34,
    "start_time": "2021-10-14T19:58:20.583Z"
   },
   {
    "duration": 7,
    "start_time": "2021-10-14T19:58:20.620Z"
   },
   {
    "duration": 7,
    "start_time": "2021-10-14T19:58:20.645Z"
   },
   {
    "duration": 29,
    "start_time": "2021-10-14T19:58:20.653Z"
   },
   {
    "duration": 16,
    "start_time": "2021-10-14T19:58:20.684Z"
   },
   {
    "duration": 13,
    "start_time": "2021-10-14T19:58:20.701Z"
   },
   {
    "duration": 18,
    "start_time": "2021-10-14T19:58:20.715Z"
   },
   {
    "duration": 23,
    "start_time": "2021-10-14T19:58:20.734Z"
   },
   {
    "duration": 4,
    "start_time": "2021-10-14T19:58:20.759Z"
   },
   {
    "duration": 11,
    "start_time": "2021-10-14T19:58:20.764Z"
   },
   {
    "duration": 25,
    "start_time": "2021-10-14T19:58:20.776Z"
   },
   {
    "duration": 41,
    "start_time": "2021-10-14T19:58:20.802Z"
   },
   {
    "duration": 29,
    "start_time": "2021-10-14T19:58:20.845Z"
   },
   {
    "duration": 27,
    "start_time": "2021-10-14T19:58:20.875Z"
   },
   {
    "duration": 12,
    "start_time": "2021-10-14T19:58:20.904Z"
   },
   {
    "duration": 36,
    "start_time": "2021-10-14T19:58:20.919Z"
   },
   {
    "duration": 24,
    "start_time": "2021-10-14T19:58:20.956Z"
   },
   {
    "duration": 17,
    "start_time": "2021-10-14T19:58:20.982Z"
   },
   {
    "duration": 15,
    "start_time": "2021-10-14T19:58:21.001Z"
   },
   {
    "duration": 42,
    "start_time": "2021-10-14T19:58:21.018Z"
   },
   {
    "duration": 17,
    "start_time": "2021-10-14T19:58:21.062Z"
   },
   {
    "duration": 28,
    "start_time": "2021-10-14T19:58:21.080Z"
   },
   {
    "duration": 35,
    "start_time": "2021-10-14T19:58:21.110Z"
   },
   {
    "duration": 2,
    "start_time": "2021-10-14T19:58:21.147Z"
   },
   {
    "duration": 9917,
    "start_time": "2021-10-14T19:58:21.151Z"
   },
   {
    "duration": -17,
    "start_time": "2021-10-14T19:58:31.087Z"
   },
   {
    "duration": -20,
    "start_time": "2021-10-14T19:58:31.090Z"
   },
   {
    "duration": -36,
    "start_time": "2021-10-14T19:58:31.107Z"
   },
   {
    "duration": -38,
    "start_time": "2021-10-14T19:58:31.110Z"
   },
   {
    "duration": -40,
    "start_time": "2021-10-14T19:58:31.113Z"
   },
   {
    "duration": -42,
    "start_time": "2021-10-14T19:58:31.116Z"
   },
   {
    "duration": -45,
    "start_time": "2021-10-14T19:58:31.119Z"
   },
   {
    "duration": -46,
    "start_time": "2021-10-14T19:58:31.121Z"
   },
   {
    "duration": -48,
    "start_time": "2021-10-14T19:58:31.124Z"
   },
   {
    "duration": -49,
    "start_time": "2021-10-14T19:58:31.126Z"
   },
   {
    "duration": -50,
    "start_time": "2021-10-14T19:58:31.128Z"
   },
   {
    "duration": -51,
    "start_time": "2021-10-14T19:58:31.130Z"
   },
   {
    "duration": 1077,
    "start_time": "2021-10-14T20:54:33.450Z"
   },
   {
    "duration": 401,
    "start_time": "2021-10-14T20:54:34.528Z"
   },
   {
    "duration": 45,
    "start_time": "2021-10-14T20:54:34.931Z"
   },
   {
    "duration": 14,
    "start_time": "2021-10-14T20:54:34.977Z"
   },
   {
    "duration": 11,
    "start_time": "2021-10-14T20:54:34.993Z"
   },
   {
    "duration": 5,
    "start_time": "2021-10-14T20:54:35.006Z"
   },
   {
    "duration": 73,
    "start_time": "2021-10-14T20:54:35.013Z"
   },
   {
    "duration": 24,
    "start_time": "2021-10-14T20:54:35.088Z"
   },
   {
    "duration": 7,
    "start_time": "2021-10-14T20:54:35.114Z"
   },
   {
    "duration": 12,
    "start_time": "2021-10-14T20:54:35.122Z"
   },
   {
    "duration": 5,
    "start_time": "2021-10-14T20:54:35.136Z"
   },
   {
    "duration": 7,
    "start_time": "2021-10-14T20:54:35.142Z"
   },
   {
    "duration": 7,
    "start_time": "2021-10-14T20:54:35.150Z"
   },
   {
    "duration": 10,
    "start_time": "2021-10-14T20:54:35.158Z"
   },
   {
    "duration": 19,
    "start_time": "2021-10-14T20:54:35.169Z"
   },
   {
    "duration": 3,
    "start_time": "2021-10-14T20:54:35.189Z"
   },
   {
    "duration": 7,
    "start_time": "2021-10-14T20:54:35.194Z"
   },
   {
    "duration": 13,
    "start_time": "2021-10-14T20:54:35.202Z"
   },
   {
    "duration": 28,
    "start_time": "2021-10-14T20:54:35.216Z"
   },
   {
    "duration": 29,
    "start_time": "2021-10-14T20:54:35.246Z"
   },
   {
    "duration": 27,
    "start_time": "2021-10-14T20:54:35.277Z"
   },
   {
    "duration": 12,
    "start_time": "2021-10-14T20:54:35.305Z"
   },
   {
    "duration": 12,
    "start_time": "2021-10-14T20:54:35.320Z"
   },
   {
    "duration": 27,
    "start_time": "2021-10-14T20:54:35.334Z"
   },
   {
    "duration": 16,
    "start_time": "2021-10-14T20:54:35.362Z"
   },
   {
    "duration": 16,
    "start_time": "2021-10-14T20:54:35.379Z"
   },
   {
    "duration": 21,
    "start_time": "2021-10-14T20:54:35.396Z"
   },
   {
    "duration": 25,
    "start_time": "2021-10-14T20:54:35.419Z"
   },
   {
    "duration": 27,
    "start_time": "2021-10-14T20:54:35.446Z"
   },
   {
    "duration": 7,
    "start_time": "2021-10-14T20:54:35.474Z"
   },
   {
    "duration": 14,
    "start_time": "2021-10-14T20:54:35.482Z"
   },
   {
    "duration": 7094,
    "start_time": "2021-10-14T20:54:35.497Z"
   },
   {
    "duration": -1696,
    "start_time": "2021-10-14T20:54:44.289Z"
   },
   {
    "duration": -1707,
    "start_time": "2021-10-14T20:54:44.301Z"
   },
   {
    "duration": -1708,
    "start_time": "2021-10-14T20:54:44.303Z"
   },
   {
    "duration": -1709,
    "start_time": "2021-10-14T20:54:44.304Z"
   },
   {
    "duration": -1709,
    "start_time": "2021-10-14T20:54:44.305Z"
   },
   {
    "duration": -1710,
    "start_time": "2021-10-14T20:54:44.307Z"
   },
   {
    "duration": -1710,
    "start_time": "2021-10-14T20:54:44.308Z"
   },
   {
    "duration": -1710,
    "start_time": "2021-10-14T20:54:44.309Z"
   },
   {
    "duration": -1711,
    "start_time": "2021-10-14T20:54:44.310Z"
   },
   {
    "duration": -1712,
    "start_time": "2021-10-14T20:54:44.312Z"
   },
   {
    "duration": -1712,
    "start_time": "2021-10-14T20:54:44.313Z"
   },
   {
    "duration": -1712,
    "start_time": "2021-10-14T20:54:44.314Z"
   },
   {
    "duration": 42,
    "start_time": "2021-10-14T20:55:23.466Z"
   },
   {
    "duration": 1514,
    "start_time": "2021-10-15T18:09:37.626Z"
   },
   {
    "duration": 541,
    "start_time": "2021-10-15T18:09:39.143Z"
   },
   {
    "duration": 70,
    "start_time": "2021-10-15T18:09:39.688Z"
   },
   {
    "duration": 19,
    "start_time": "2021-10-15T18:09:39.761Z"
   },
   {
    "duration": 24,
    "start_time": "2021-10-15T18:09:39.795Z"
   },
   {
    "duration": 11,
    "start_time": "2021-10-15T18:09:39.822Z"
   },
   {
    "duration": 110,
    "start_time": "2021-10-15T18:09:39.835Z"
   },
   {
    "duration": 42,
    "start_time": "2021-10-15T18:09:39.949Z"
   },
   {
    "duration": 11,
    "start_time": "2021-10-15T18:09:39.994Z"
   },
   {
    "duration": 13,
    "start_time": "2021-10-15T18:09:40.008Z"
   },
   {
    "duration": 5,
    "start_time": "2021-10-15T18:09:40.024Z"
   },
   {
    "duration": 4,
    "start_time": "2021-10-15T18:09:40.062Z"
   },
   {
    "duration": 12,
    "start_time": "2021-10-15T18:09:40.068Z"
   },
   {
    "duration": 15,
    "start_time": "2021-10-15T18:09:40.082Z"
   },
   {
    "duration": 23,
    "start_time": "2021-10-15T18:09:40.100Z"
   },
   {
    "duration": 37,
    "start_time": "2021-10-15T18:09:40.125Z"
   },
   {
    "duration": 7,
    "start_time": "2021-10-15T18:09:40.165Z"
   },
   {
    "duration": 21,
    "start_time": "2021-10-15T18:09:40.174Z"
   },
   {
    "duration": 32,
    "start_time": "2021-10-15T18:09:40.197Z"
   },
   {
    "duration": 67,
    "start_time": "2021-10-15T18:09:40.232Z"
   },
   {
    "duration": 62,
    "start_time": "2021-10-15T18:09:40.301Z"
   },
   {
    "duration": 21,
    "start_time": "2021-10-15T18:09:40.365Z"
   },
   {
    "duration": 20,
    "start_time": "2021-10-15T18:09:40.392Z"
   },
   {
    "duration": 63,
    "start_time": "2021-10-15T18:09:40.415Z"
   },
   {
    "duration": 28,
    "start_time": "2021-10-15T18:09:40.480Z"
   },
   {
    "duration": 22,
    "start_time": "2021-10-15T18:09:40.511Z"
   },
   {
    "duration": 34,
    "start_time": "2021-10-15T18:09:40.561Z"
   },
   {
    "duration": 29,
    "start_time": "2021-10-15T18:09:40.598Z"
   },
   {
    "duration": 77,
    "start_time": "2021-10-15T18:09:40.630Z"
   },
   {
    "duration": 13,
    "start_time": "2021-10-15T18:09:40.709Z"
   },
   {
    "duration": 4,
    "start_time": "2021-10-15T18:09:40.725Z"
   },
   {
    "duration": 8730,
    "start_time": "2021-10-15T18:09:40.763Z"
   },
   {
    "duration": -3,
    "start_time": "2021-10-15T18:09:49.498Z"
   },
   {
    "duration": -3,
    "start_time": "2021-10-15T18:09:49.500Z"
   },
   {
    "duration": -5,
    "start_time": "2021-10-15T18:09:49.504Z"
   },
   {
    "duration": -7,
    "start_time": "2021-10-15T18:09:49.507Z"
   },
   {
    "duration": -43,
    "start_time": "2021-10-15T18:09:49.545Z"
   },
   {
    "duration": -70,
    "start_time": "2021-10-15T18:09:49.574Z"
   },
   {
    "duration": -389,
    "start_time": "2021-10-15T18:09:49.895Z"
   },
   {
    "duration": -392,
    "start_time": "2021-10-15T18:09:49.899Z"
   },
   {
    "duration": -394,
    "start_time": "2021-10-15T18:09:49.903Z"
   },
   {
    "duration": -397,
    "start_time": "2021-10-15T18:09:49.907Z"
   },
   {
    "duration": -398,
    "start_time": "2021-10-15T18:09:49.910Z"
   },
   {
    "duration": -398,
    "start_time": "2021-10-15T18:09:49.912Z"
   },
   {
    "duration": 1443,
    "start_time": "2021-10-15T18:11:32.898Z"
   },
   {
    "duration": 572,
    "start_time": "2021-10-15T18:11:34.344Z"
   },
   {
    "duration": 71,
    "start_time": "2021-10-15T18:11:34.919Z"
   },
   {
    "duration": 22,
    "start_time": "2021-10-15T18:11:34.994Z"
   },
   {
    "duration": 44,
    "start_time": "2021-10-15T18:11:35.018Z"
   },
   {
    "duration": 17,
    "start_time": "2021-10-15T18:11:35.065Z"
   },
   {
    "duration": 122,
    "start_time": "2021-10-15T18:11:35.085Z"
   },
   {
    "duration": 48,
    "start_time": "2021-10-15T18:11:35.210Z"
   },
   {
    "duration": 12,
    "start_time": "2021-10-15T18:11:35.262Z"
   },
   {
    "duration": 19,
    "start_time": "2021-10-15T18:11:35.276Z"
   },
   {
    "duration": 5,
    "start_time": "2021-10-15T18:11:35.298Z"
   },
   {
    "duration": 9,
    "start_time": "2021-10-15T18:11:35.305Z"
   },
   {
    "duration": 11,
    "start_time": "2021-10-15T18:11:35.316Z"
   },
   {
    "duration": 39,
    "start_time": "2021-10-15T18:11:35.329Z"
   },
   {
    "duration": 23,
    "start_time": "2021-10-15T18:11:35.370Z"
   },
   {
    "duration": 5,
    "start_time": "2021-10-15T18:11:35.395Z"
   },
   {
    "duration": 12,
    "start_time": "2021-10-15T18:11:35.402Z"
   },
   {
    "duration": 53,
    "start_time": "2021-10-15T18:11:35.417Z"
   },
   {
    "duration": 43,
    "start_time": "2021-10-15T18:11:35.473Z"
   },
   {
    "duration": 53,
    "start_time": "2021-10-15T18:11:35.519Z"
   },
   {
    "duration": 44,
    "start_time": "2021-10-15T18:11:35.575Z"
   },
   {
    "duration": 41,
    "start_time": "2021-10-15T18:11:35.622Z"
   },
   {
    "duration": 21,
    "start_time": "2021-10-15T18:11:35.668Z"
   },
   {
    "duration": 35,
    "start_time": "2021-10-15T18:11:35.692Z"
   },
   {
    "duration": 53,
    "start_time": "2021-10-15T18:11:35.730Z"
   },
   {
    "duration": 23,
    "start_time": "2021-10-15T18:11:35.785Z"
   },
   {
    "duration": 57,
    "start_time": "2021-10-15T18:11:35.811Z"
   },
   {
    "duration": 28,
    "start_time": "2021-10-15T18:11:35.870Z"
   },
   {
    "duration": 70,
    "start_time": "2021-10-15T18:11:35.900Z"
   },
   {
    "duration": 12,
    "start_time": "2021-10-15T18:11:35.972Z"
   },
   {
    "duration": 8223,
    "start_time": "2021-10-15T18:11:35.987Z"
   },
   {
    "duration": -42,
    "start_time": "2021-10-15T18:11:44.255Z"
   },
   {
    "duration": -52,
    "start_time": "2021-10-15T18:11:44.266Z"
   },
   {
    "duration": -53,
    "start_time": "2021-10-15T18:11:44.269Z"
   },
   {
    "duration": -53,
    "start_time": "2021-10-15T18:11:44.271Z"
   },
   {
    "duration": -53,
    "start_time": "2021-10-15T18:11:44.273Z"
   },
   {
    "duration": -55,
    "start_time": "2021-10-15T18:11:44.276Z"
   },
   {
    "duration": -55,
    "start_time": "2021-10-15T18:11:44.278Z"
   },
   {
    "duration": -56,
    "start_time": "2021-10-15T18:11:44.280Z"
   },
   {
    "duration": -57,
    "start_time": "2021-10-15T18:11:44.282Z"
   },
   {
    "duration": -58,
    "start_time": "2021-10-15T18:11:44.285Z"
   },
   {
    "duration": -59,
    "start_time": "2021-10-15T18:11:44.287Z"
   },
   {
    "duration": -61,
    "start_time": "2021-10-15T18:11:44.290Z"
   },
   {
    "duration": -60,
    "start_time": "2021-10-15T18:11:44.291Z"
   },
   {
    "duration": 1459,
    "start_time": "2021-10-15T18:12:23.272Z"
   },
   {
    "duration": 525,
    "start_time": "2021-10-15T18:12:24.733Z"
   },
   {
    "duration": 71,
    "start_time": "2021-10-15T18:12:25.261Z"
   },
   {
    "duration": 38,
    "start_time": "2021-10-15T18:12:25.335Z"
   },
   {
    "duration": 17,
    "start_time": "2021-10-15T18:12:25.375Z"
   },
   {
    "duration": 12,
    "start_time": "2021-10-15T18:12:25.395Z"
   },
   {
    "duration": 137,
    "start_time": "2021-10-15T18:12:25.410Z"
   },
   {
    "duration": 39,
    "start_time": "2021-10-15T18:12:25.551Z"
   },
   {
    "duration": 11,
    "start_time": "2021-10-15T18:12:25.593Z"
   },
   {
    "duration": 10,
    "start_time": "2021-10-15T18:12:25.606Z"
   },
   {
    "duration": 5,
    "start_time": "2021-10-15T18:12:25.618Z"
   },
   {
    "duration": 36,
    "start_time": "2021-10-15T18:12:25.625Z"
   },
   {
    "duration": 6,
    "start_time": "2021-10-15T18:12:25.664Z"
   },
   {
    "duration": 14,
    "start_time": "2021-10-15T18:12:25.672Z"
   },
   {
    "duration": 21,
    "start_time": "2021-10-15T18:12:25.689Z"
   },
   {
    "duration": 5,
    "start_time": "2021-10-15T18:12:25.712Z"
   },
   {
    "duration": 47,
    "start_time": "2021-10-15T18:12:25.719Z"
   },
   {
    "duration": 23,
    "start_time": "2021-10-15T18:12:25.769Z"
   },
   {
    "duration": 32,
    "start_time": "2021-10-15T18:12:25.795Z"
   },
   {
    "duration": 67,
    "start_time": "2021-10-15T18:12:25.830Z"
   },
   {
    "duration": 41,
    "start_time": "2021-10-15T18:12:25.899Z"
   },
   {
    "duration": 21,
    "start_time": "2021-10-15T18:12:25.961Z"
   },
   {
    "duration": 20,
    "start_time": "2021-10-15T18:12:25.987Z"
   },
   {
    "duration": 68,
    "start_time": "2021-10-15T18:12:26.010Z"
   },
   {
    "duration": 30,
    "start_time": "2021-10-15T18:12:26.081Z"
   },
   {
    "duration": 23,
    "start_time": "2021-10-15T18:12:26.114Z"
   },
   {
    "duration": 36,
    "start_time": "2021-10-15T18:12:26.162Z"
   },
   {
    "duration": 30,
    "start_time": "2021-10-15T18:12:26.201Z"
   },
   {
    "duration": 78,
    "start_time": "2021-10-15T18:12:26.234Z"
   },
   {
    "duration": 16,
    "start_time": "2021-10-15T18:12:26.315Z"
   },
   {
    "duration": 35,
    "start_time": "2021-10-15T18:12:26.333Z"
   },
   {
    "duration": 9827,
    "start_time": "2021-10-15T18:12:26.370Z"
   },
   {
    "duration": -1,
    "start_time": "2021-10-15T18:12:36.200Z"
   },
   {
    "duration": -3,
    "start_time": "2021-10-15T18:12:36.203Z"
   },
   {
    "duration": -4,
    "start_time": "2021-10-15T18:12:36.206Z"
   },
   {
    "duration": -37,
    "start_time": "2021-10-15T18:12:36.240Z"
   },
   {
    "duration": -39,
    "start_time": "2021-10-15T18:12:36.243Z"
   },
   {
    "duration": -39,
    "start_time": "2021-10-15T18:12:36.245Z"
   },
   {
    "duration": -41,
    "start_time": "2021-10-15T18:12:36.248Z"
   },
   {
    "duration": -42,
    "start_time": "2021-10-15T18:12:36.250Z"
   },
   {
    "duration": -42,
    "start_time": "2021-10-15T18:12:36.252Z"
   },
   {
    "duration": -42,
    "start_time": "2021-10-15T18:12:36.254Z"
   },
   {
    "duration": -44,
    "start_time": "2021-10-15T18:12:36.257Z"
   },
   {
    "duration": -44,
    "start_time": "2021-10-15T18:12:36.259Z"
   },
   {
    "duration": 1549,
    "start_time": "2021-10-15T18:13:02.807Z"
   },
   {
    "duration": 559,
    "start_time": "2021-10-15T18:13:04.358Z"
   },
   {
    "duration": 70,
    "start_time": "2021-10-15T18:13:04.920Z"
   },
   {
    "duration": 20,
    "start_time": "2021-10-15T18:13:04.992Z"
   },
   {
    "duration": 21,
    "start_time": "2021-10-15T18:13:05.014Z"
   },
   {
    "duration": 12,
    "start_time": "2021-10-15T18:13:05.062Z"
   },
   {
    "duration": 118,
    "start_time": "2021-10-15T18:13:05.076Z"
   },
   {
    "duration": 42,
    "start_time": "2021-10-15T18:13:05.198Z"
   },
   {
    "duration": 21,
    "start_time": "2021-10-15T18:13:05.243Z"
   },
   {
    "duration": 10,
    "start_time": "2021-10-15T18:13:05.267Z"
   },
   {
    "duration": 5,
    "start_time": "2021-10-15T18:13:05.279Z"
   },
   {
    "duration": 11,
    "start_time": "2021-10-15T18:13:05.286Z"
   },
   {
    "duration": 8,
    "start_time": "2021-10-15T18:13:05.300Z"
   },
   {
    "duration": 15,
    "start_time": "2021-10-15T18:13:05.310Z"
   },
   {
    "duration": 55,
    "start_time": "2021-10-15T18:13:05.327Z"
   },
   {
    "duration": 5,
    "start_time": "2021-10-15T18:13:05.384Z"
   },
   {
    "duration": 9,
    "start_time": "2021-10-15T18:13:05.392Z"
   },
   {
    "duration": 21,
    "start_time": "2021-10-15T18:13:05.404Z"
   },
   {
    "duration": 31,
    "start_time": "2021-10-15T18:13:05.462Z"
   },
   {
    "duration": 67,
    "start_time": "2021-10-15T18:13:05.496Z"
   },
   {
    "duration": 45,
    "start_time": "2021-10-15T18:13:05.566Z"
   },
   {
    "duration": 49,
    "start_time": "2021-10-15T18:13:05.614Z"
   },
   {
    "duration": 20,
    "start_time": "2021-10-15T18:13:05.668Z"
   },
   {
    "duration": 35,
    "start_time": "2021-10-15T18:13:05.691Z"
   },
   {
    "duration": 54,
    "start_time": "2021-10-15T18:13:05.728Z"
   },
   {
    "duration": 23,
    "start_time": "2021-10-15T18:13:05.785Z"
   },
   {
    "duration": 69,
    "start_time": "2021-10-15T18:13:05.810Z"
   },
   {
    "duration": 42,
    "start_time": "2021-10-15T18:13:05.882Z"
   },
   {
    "duration": 100,
    "start_time": "2021-10-15T18:13:05.927Z"
   },
   {
    "duration": 32,
    "start_time": "2021-10-15T18:13:06.030Z"
   },
   {
    "duration": 13,
    "start_time": "2021-10-15T18:13:06.065Z"
   },
   {
    "duration": 815,
    "start_time": "2021-10-15T18:13:06.081Z"
   },
   {
    "duration": 147,
    "start_time": "2021-10-15T18:13:06.898Z"
   },
   {
    "duration": 29,
    "start_time": "2021-10-15T18:13:07.019Z"
   },
   {
    "duration": 28,
    "start_time": "2021-10-15T18:13:07.021Z"
   },
   {
    "duration": 28,
    "start_time": "2021-10-15T18:13:07.023Z"
   },
   {
    "duration": 27,
    "start_time": "2021-10-15T18:13:07.025Z"
   },
   {
    "duration": 26,
    "start_time": "2021-10-15T18:13:07.027Z"
   },
   {
    "duration": 26,
    "start_time": "2021-10-15T18:13:07.029Z"
   },
   {
    "duration": 24,
    "start_time": "2021-10-15T18:13:07.032Z"
   },
   {
    "duration": 24,
    "start_time": "2021-10-15T18:13:07.034Z"
   },
   {
    "duration": 22,
    "start_time": "2021-10-15T18:13:07.037Z"
   },
   {
    "duration": 20,
    "start_time": "2021-10-15T18:13:07.041Z"
   },
   {
    "duration": 18,
    "start_time": "2021-10-15T18:13:07.044Z"
   },
   {
    "duration": 1496,
    "start_time": "2021-10-15T18:14:11.535Z"
   },
   {
    "duration": 521,
    "start_time": "2021-10-15T18:14:13.034Z"
   },
   {
    "duration": 68,
    "start_time": "2021-10-15T18:14:13.558Z"
   },
   {
    "duration": 35,
    "start_time": "2021-10-15T18:14:13.629Z"
   },
   {
    "duration": 17,
    "start_time": "2021-10-15T18:14:13.667Z"
   },
   {
    "duration": 12,
    "start_time": "2021-10-15T18:14:13.686Z"
   },
   {
    "duration": 129,
    "start_time": "2021-10-15T18:14:13.701Z"
   },
   {
    "duration": 44,
    "start_time": "2021-10-15T18:14:13.832Z"
   },
   {
    "duration": 11,
    "start_time": "2021-10-15T18:14:13.879Z"
   },
   {
    "duration": 10,
    "start_time": "2021-10-15T18:14:13.894Z"
   },
   {
    "duration": 5,
    "start_time": "2021-10-15T18:14:13.906Z"
   },
   {
    "duration": 5,
    "start_time": "2021-10-15T18:14:13.914Z"
   },
   {
    "duration": 40,
    "start_time": "2021-10-15T18:14:13.922Z"
   },
   {
    "duration": 14,
    "start_time": "2021-10-15T18:14:13.965Z"
   },
   {
    "duration": 22,
    "start_time": "2021-10-15T18:14:13.981Z"
   },
   {
    "duration": 5,
    "start_time": "2021-10-15T18:14:14.005Z"
   },
   {
    "duration": 12,
    "start_time": "2021-10-15T18:14:14.012Z"
   },
   {
    "duration": 51,
    "start_time": "2021-10-15T18:14:14.026Z"
   },
   {
    "duration": 33,
    "start_time": "2021-10-15T18:14:14.079Z"
   },
   {
    "duration": 68,
    "start_time": "2021-10-15T18:14:14.114Z"
   },
   {
    "duration": 44,
    "start_time": "2021-10-15T18:14:14.185Z"
   },
   {
    "duration": 37,
    "start_time": "2021-10-15T18:14:14.232Z"
   },
   {
    "duration": 20,
    "start_time": "2021-10-15T18:14:14.272Z"
   },
   {
    "duration": 35,
    "start_time": "2021-10-15T18:14:14.294Z"
   },
   {
    "duration": 53,
    "start_time": "2021-10-15T18:14:14.332Z"
   },
   {
    "duration": 22,
    "start_time": "2021-10-15T18:14:14.388Z"
   },
   {
    "duration": 57,
    "start_time": "2021-10-15T18:14:14.415Z"
   },
   {
    "duration": 27,
    "start_time": "2021-10-15T18:14:14.475Z"
   },
   {
    "duration": 61,
    "start_time": "2021-10-15T18:14:14.505Z"
   },
   {
    "duration": 11,
    "start_time": "2021-10-15T18:14:14.569Z"
   },
   {
    "duration": 15,
    "start_time": "2021-10-15T18:14:14.582Z"
   },
   {
    "duration": 623,
    "start_time": "2021-10-15T18:14:14.599Z"
   },
   {
    "duration": 112,
    "start_time": "2021-10-15T18:14:15.224Z"
   },
   {
    "duration": 18,
    "start_time": "2021-10-15T18:14:15.321Z"
   },
   {
    "duration": 18,
    "start_time": "2021-10-15T18:14:15.323Z"
   },
   {
    "duration": 17,
    "start_time": "2021-10-15T18:14:15.326Z"
   },
   {
    "duration": 15,
    "start_time": "2021-10-15T18:14:15.330Z"
   },
   {
    "duration": 15,
    "start_time": "2021-10-15T18:14:15.332Z"
   },
   {
    "duration": 12,
    "start_time": "2021-10-15T18:14:15.337Z"
   },
   {
    "duration": 11,
    "start_time": "2021-10-15T18:14:15.340Z"
   },
   {
    "duration": 10,
    "start_time": "2021-10-15T18:14:15.343Z"
   },
   {
    "duration": 9,
    "start_time": "2021-10-15T18:14:15.345Z"
   },
   {
    "duration": 9,
    "start_time": "2021-10-15T18:14:15.347Z"
   },
   {
    "duration": 9,
    "start_time": "2021-10-15T18:14:15.349Z"
   },
   {
    "duration": 1443,
    "start_time": "2021-10-15T18:14:45.594Z"
   },
   {
    "duration": 544,
    "start_time": "2021-10-15T18:14:47.039Z"
   },
   {
    "duration": 71,
    "start_time": "2021-10-15T18:14:47.589Z"
   },
   {
    "duration": 22,
    "start_time": "2021-10-15T18:14:47.663Z"
   },
   {
    "duration": 19,
    "start_time": "2021-10-15T18:14:47.688Z"
   },
   {
    "duration": 13,
    "start_time": "2021-10-15T18:14:47.709Z"
   },
   {
    "duration": 112,
    "start_time": "2021-10-15T18:14:47.762Z"
   },
   {
    "duration": 40,
    "start_time": "2021-10-15T18:14:47.877Z"
   },
   {
    "duration": 12,
    "start_time": "2021-10-15T18:14:47.920Z"
   },
   {
    "duration": 29,
    "start_time": "2021-10-15T18:14:47.935Z"
   },
   {
    "duration": 4,
    "start_time": "2021-10-15T18:14:47.967Z"
   },
   {
    "duration": 7,
    "start_time": "2021-10-15T18:14:47.974Z"
   },
   {
    "duration": 13,
    "start_time": "2021-10-15T18:14:47.984Z"
   },
   {
    "duration": 13,
    "start_time": "2021-10-15T18:14:47.999Z"
   },
   {
    "duration": 55,
    "start_time": "2021-10-15T18:14:48.014Z"
   },
   {
    "duration": 6,
    "start_time": "2021-10-15T18:14:48.071Z"
   },
   {
    "duration": 23,
    "start_time": "2021-10-15T18:14:48.080Z"
   },
   {
    "duration": 22,
    "start_time": "2021-10-15T18:14:48.105Z"
   },
   {
    "duration": 43,
    "start_time": "2021-10-15T18:14:48.129Z"
   },
   {
    "duration": 47,
    "start_time": "2021-10-15T18:14:48.174Z"
   },
   {
    "duration": 64,
    "start_time": "2021-10-15T18:14:48.223Z"
   },
   {
    "duration": 21,
    "start_time": "2021-10-15T18:14:48.293Z"
   },
   {
    "duration": 48,
    "start_time": "2021-10-15T18:14:48.318Z"
   },
   {
    "duration": 39,
    "start_time": "2021-10-15T18:14:48.369Z"
   },
   {
    "duration": 57,
    "start_time": "2021-10-15T18:14:48.410Z"
   },
   {
    "duration": 23,
    "start_time": "2021-10-15T18:14:48.470Z"
   },
   {
    "duration": 31,
    "start_time": "2021-10-15T18:14:48.496Z"
   },
   {
    "duration": 60,
    "start_time": "2021-10-15T18:14:48.529Z"
   },
   {
    "duration": 47,
    "start_time": "2021-10-15T18:14:48.591Z"
   },
   {
    "duration": 12,
    "start_time": "2021-10-15T18:14:48.663Z"
   },
   {
    "duration": 14,
    "start_time": "2021-10-15T18:14:48.677Z"
   },
   {
    "duration": 630,
    "start_time": "2021-10-15T18:14:48.694Z"
   },
   {
    "duration": 113,
    "start_time": "2021-10-15T18:14:49.327Z"
   },
   {
    "duration": 35,
    "start_time": "2021-10-15T18:14:49.408Z"
   },
   {
    "duration": 34,
    "start_time": "2021-10-15T18:14:49.410Z"
   },
   {
    "duration": 35,
    "start_time": "2021-10-15T18:14:49.411Z"
   },
   {
    "duration": 35,
    "start_time": "2021-10-15T18:14:49.413Z"
   },
   {
    "duration": 34,
    "start_time": "2021-10-15T18:14:49.415Z"
   },
   {
    "duration": 34,
    "start_time": "2021-10-15T18:14:49.417Z"
   },
   {
    "duration": 34,
    "start_time": "2021-10-15T18:14:49.419Z"
   },
   {
    "duration": 33,
    "start_time": "2021-10-15T18:14:49.421Z"
   },
   {
    "duration": 33,
    "start_time": "2021-10-15T18:14:49.423Z"
   },
   {
    "duration": 32,
    "start_time": "2021-10-15T18:14:49.426Z"
   },
   {
    "duration": 31,
    "start_time": "2021-10-15T18:14:49.428Z"
   },
   {
    "duration": 102,
    "start_time": "2021-10-15T18:15:54.640Z"
   },
   {
    "duration": 1487,
    "start_time": "2021-10-15T18:16:41.136Z"
   },
   {
    "duration": 528,
    "start_time": "2021-10-15T18:16:42.626Z"
   },
   {
    "duration": 67,
    "start_time": "2021-10-15T18:16:43.157Z"
   },
   {
    "duration": 34,
    "start_time": "2021-10-15T18:16:43.227Z"
   },
   {
    "duration": 17,
    "start_time": "2021-10-15T18:16:43.264Z"
   },
   {
    "duration": 12,
    "start_time": "2021-10-15T18:16:43.283Z"
   },
   {
    "duration": 124,
    "start_time": "2021-10-15T18:16:43.298Z"
   },
   {
    "duration": 42,
    "start_time": "2021-10-15T18:16:43.426Z"
   },
   {
    "duration": 11,
    "start_time": "2021-10-15T18:16:43.471Z"
   },
   {
    "duration": 10,
    "start_time": "2021-10-15T18:16:43.485Z"
   },
   {
    "duration": 5,
    "start_time": "2021-10-15T18:16:43.497Z"
   },
   {
    "duration": 6,
    "start_time": "2021-10-15T18:16:43.504Z"
   },
   {
    "duration": 8,
    "start_time": "2021-10-15T18:16:43.512Z"
   },
   {
    "duration": 48,
    "start_time": "2021-10-15T18:16:43.522Z"
   },
   {
    "duration": 24,
    "start_time": "2021-10-15T18:16:43.572Z"
   },
   {
    "duration": 5,
    "start_time": "2021-10-15T18:16:43.598Z"
   },
   {
    "duration": 11,
    "start_time": "2021-10-15T18:16:43.606Z"
   },
   {
    "duration": 53,
    "start_time": "2021-10-15T18:16:43.620Z"
   },
   {
    "duration": 34,
    "start_time": "2021-10-15T18:16:43.675Z"
   },
   {
    "duration": 54,
    "start_time": "2021-10-15T18:16:43.711Z"
   },
   {
    "duration": 42,
    "start_time": "2021-10-15T18:16:43.767Z"
   },
   {
    "duration": 19,
    "start_time": "2021-10-15T18:16:43.811Z"
   },
   {
    "duration": 45,
    "start_time": "2021-10-15T18:16:43.835Z"
   },
   {
    "duration": 37,
    "start_time": "2021-10-15T18:16:43.883Z"
   },
   {
    "duration": 52,
    "start_time": "2021-10-15T18:16:43.923Z"
   },
   {
    "duration": 22,
    "start_time": "2021-10-15T18:16:43.978Z"
   },
   {
    "duration": 33,
    "start_time": "2021-10-15T18:16:44.003Z"
   },
   {
    "duration": 29,
    "start_time": "2021-10-15T18:16:44.062Z"
   },
   {
    "duration": 69,
    "start_time": "2021-10-15T18:16:44.093Z"
   },
   {
    "duration": 12,
    "start_time": "2021-10-15T18:16:44.164Z"
   },
   {
    "duration": 16,
    "start_time": "2021-10-15T18:16:44.179Z"
   },
   {
    "duration": 650,
    "start_time": "2021-10-15T18:16:44.198Z"
   },
   {
    "duration": 115,
    "start_time": "2021-10-15T18:16:44.851Z"
   },
   {
    "duration": -50,
    "start_time": "2021-10-15T18:16:45.018Z"
   },
   {
    "duration": -49,
    "start_time": "2021-10-15T18:16:45.019Z"
   },
   {
    "duration": -50,
    "start_time": "2021-10-15T18:16:45.021Z"
   },
   {
    "duration": -51,
    "start_time": "2021-10-15T18:16:45.024Z"
   },
   {
    "duration": -51,
    "start_time": "2021-10-15T18:16:45.025Z"
   },
   {
    "duration": -52,
    "start_time": "2021-10-15T18:16:45.028Z"
   },
   {
    "duration": -52,
    "start_time": "2021-10-15T18:16:45.029Z"
   },
   {
    "duration": -53,
    "start_time": "2021-10-15T18:16:45.032Z"
   },
   {
    "duration": -54,
    "start_time": "2021-10-15T18:16:45.034Z"
   },
   {
    "duration": -54,
    "start_time": "2021-10-15T18:16:45.036Z"
   },
   {
    "duration": -56,
    "start_time": "2021-10-15T18:16:45.039Z"
   },
   {
    "duration": 3,
    "start_time": "2021-10-15T18:22:16.327Z"
   },
   {
    "duration": 1489,
    "start_time": "2021-10-15T18:23:33.514Z"
   },
   {
    "duration": 595,
    "start_time": "2021-10-15T18:23:35.006Z"
   },
   {
    "duration": 68,
    "start_time": "2021-10-15T18:23:35.605Z"
   },
   {
    "duration": 22,
    "start_time": "2021-10-15T18:23:35.677Z"
   },
   {
    "duration": 27,
    "start_time": "2021-10-15T18:23:35.701Z"
   },
   {
    "duration": 37,
    "start_time": "2021-10-15T18:23:35.730Z"
   },
   {
    "duration": 119,
    "start_time": "2021-10-15T18:23:35.769Z"
   },
   {
    "duration": 43,
    "start_time": "2021-10-15T18:23:35.891Z"
   },
   {
    "duration": 24,
    "start_time": "2021-10-15T18:23:35.939Z"
   },
   {
    "duration": 8,
    "start_time": "2021-10-15T18:23:35.966Z"
   },
   {
    "duration": 5,
    "start_time": "2021-10-15T18:23:35.976Z"
   },
   {
    "duration": 6,
    "start_time": "2021-10-15T18:23:35.984Z"
   },
   {
    "duration": 8,
    "start_time": "2021-10-15T18:23:35.992Z"
   },
   {
    "duration": 14,
    "start_time": "2021-10-15T18:23:36.002Z"
   },
   {
    "duration": 65,
    "start_time": "2021-10-15T18:23:36.018Z"
   },
   {
    "duration": 5,
    "start_time": "2021-10-15T18:23:36.086Z"
   },
   {
    "duration": 10,
    "start_time": "2021-10-15T18:23:36.094Z"
   },
   {
    "duration": 56,
    "start_time": "2021-10-15T18:23:36.106Z"
   },
   {
    "duration": 39,
    "start_time": "2021-10-15T18:23:36.165Z"
   },
   {
    "duration": 63,
    "start_time": "2021-10-15T18:23:36.206Z"
   },
   {
    "duration": 45,
    "start_time": "2021-10-15T18:23:36.271Z"
   },
   {
    "duration": 52,
    "start_time": "2021-10-15T18:23:36.318Z"
   },
   {
    "duration": 20,
    "start_time": "2021-10-15T18:23:36.372Z"
   },
   {
    "duration": 36,
    "start_time": "2021-10-15T18:23:36.395Z"
   },
   {
    "duration": 52,
    "start_time": "2021-10-15T18:23:36.433Z"
   },
   {
    "duration": 28,
    "start_time": "2021-10-15T18:23:36.487Z"
   },
   {
    "duration": 53,
    "start_time": "2021-10-15T18:23:36.520Z"
   },
   {
    "duration": 28,
    "start_time": "2021-10-15T18:23:36.576Z"
   },
   {
    "duration": 86,
    "start_time": "2021-10-15T18:23:36.607Z"
   },
   {
    "duration": 17,
    "start_time": "2021-10-15T18:23:36.696Z"
   },
   {
    "duration": 21,
    "start_time": "2021-10-15T18:23:36.716Z"
   },
   {
    "duration": 723,
    "start_time": "2021-10-15T18:23:36.739Z"
   },
   {
    "duration": 10,
    "start_time": "2021-10-15T18:23:37.466Z"
   },
   {
    "duration": 533,
    "start_time": "2021-10-15T18:23:37.480Z"
   },
   {
    "duration": -38,
    "start_time": "2021-10-15T18:23:38.053Z"
   },
   {
    "duration": -77,
    "start_time": "2021-10-15T18:23:38.094Z"
   },
   {
    "duration": -79,
    "start_time": "2021-10-15T18:23:38.097Z"
   },
   {
    "duration": -80,
    "start_time": "2021-10-15T18:23:38.099Z"
   },
   {
    "duration": -80,
    "start_time": "2021-10-15T18:23:38.101Z"
   },
   {
    "duration": -81,
    "start_time": "2021-10-15T18:23:38.103Z"
   },
   {
    "duration": -81,
    "start_time": "2021-10-15T18:23:38.105Z"
   },
   {
    "duration": -82,
    "start_time": "2021-10-15T18:23:38.107Z"
   },
   {
    "duration": -83,
    "start_time": "2021-10-15T18:23:38.109Z"
   },
   {
    "duration": -86,
    "start_time": "2021-10-15T18:23:38.114Z"
   },
   {
    "duration": 1482,
    "start_time": "2021-10-15T18:24:52.252Z"
   },
   {
    "duration": 608,
    "start_time": "2021-10-15T18:24:53.736Z"
   },
   {
    "duration": 70,
    "start_time": "2021-10-15T18:24:54.347Z"
   },
   {
    "duration": 20,
    "start_time": "2021-10-15T18:24:54.419Z"
   },
   {
    "duration": 18,
    "start_time": "2021-10-15T18:24:54.462Z"
   },
   {
    "duration": 13,
    "start_time": "2021-10-15T18:24:54.482Z"
   },
   {
    "duration": 128,
    "start_time": "2021-10-15T18:24:54.498Z"
   },
   {
    "duration": 43,
    "start_time": "2021-10-15T18:24:54.630Z"
   },
   {
    "duration": 11,
    "start_time": "2021-10-15T18:24:54.676Z"
   },
   {
    "duration": 11,
    "start_time": "2021-10-15T18:24:54.689Z"
   },
   {
    "duration": 5,
    "start_time": "2021-10-15T18:24:54.703Z"
   },
   {
    "duration": 7,
    "start_time": "2021-10-15T18:24:54.711Z"
   },
   {
    "duration": 42,
    "start_time": "2021-10-15T18:24:54.720Z"
   },
   {
    "duration": 13,
    "start_time": "2021-10-15T18:24:54.764Z"
   },
   {
    "duration": 28,
    "start_time": "2021-10-15T18:24:54.779Z"
   },
   {
    "duration": 6,
    "start_time": "2021-10-15T18:24:54.810Z"
   },
   {
    "duration": 8,
    "start_time": "2021-10-15T18:24:54.818Z"
   },
   {
    "duration": 52,
    "start_time": "2021-10-15T18:24:54.828Z"
   },
   {
    "duration": 33,
    "start_time": "2021-10-15T18:24:54.883Z"
   },
   {
    "duration": 69,
    "start_time": "2021-10-15T18:24:54.918Z"
   },
   {
    "duration": 42,
    "start_time": "2021-10-15T18:24:54.989Z"
   },
   {
    "duration": 42,
    "start_time": "2021-10-15T18:24:55.033Z"
   },
   {
    "duration": 20,
    "start_time": "2021-10-15T18:24:55.080Z"
   },
   {
    "duration": 35,
    "start_time": "2021-10-15T18:24:55.102Z"
   },
   {
    "duration": 28,
    "start_time": "2021-10-15T18:24:55.162Z"
   },
   {
    "duration": 22,
    "start_time": "2021-10-15T18:24:55.193Z"
   },
   {
    "duration": 61,
    "start_time": "2021-10-15T18:24:55.218Z"
   },
   {
    "duration": 28,
    "start_time": "2021-10-15T18:24:55.282Z"
   },
   {
    "duration": 68,
    "start_time": "2021-10-15T18:24:55.313Z"
   },
   {
    "duration": 11,
    "start_time": "2021-10-15T18:24:55.384Z"
   },
   {
    "duration": 17,
    "start_time": "2021-10-15T18:24:55.397Z"
   },
   {
    "duration": 620,
    "start_time": "2021-10-15T18:24:55.416Z"
   },
   {
    "duration": 3,
    "start_time": "2021-10-15T18:24:56.038Z"
   },
   {
    "duration": 401,
    "start_time": "2021-10-15T18:24:56.043Z"
   },
   {
    "duration": 60,
    "start_time": "2021-10-15T18:24:56.446Z"
   },
   {
    "duration": 8064,
    "start_time": "2021-10-15T18:24:56.508Z"
   },
   {
    "duration": -124,
    "start_time": "2021-10-15T18:25:04.700Z"
   },
   {
    "duration": -125,
    "start_time": "2021-10-15T18:25:04.702Z"
   },
   {
    "duration": -126,
    "start_time": "2021-10-15T18:25:04.705Z"
   },
   {
    "duration": -127,
    "start_time": "2021-10-15T18:25:04.708Z"
   },
   {
    "duration": -129,
    "start_time": "2021-10-15T18:25:04.711Z"
   },
   {
    "duration": -133,
    "start_time": "2021-10-15T18:25:04.717Z"
   },
   {
    "duration": -133,
    "start_time": "2021-10-15T18:25:04.719Z"
   },
   {
    "duration": -134,
    "start_time": "2021-10-15T18:25:04.721Z"
   },
   {
    "duration": 1426,
    "start_time": "2021-10-15T18:30:39.499Z"
   },
   {
    "duration": 564,
    "start_time": "2021-10-15T18:30:40.927Z"
   },
   {
    "duration": 71,
    "start_time": "2021-10-15T18:30:41.495Z"
   },
   {
    "duration": 20,
    "start_time": "2021-10-15T18:30:41.568Z"
   },
   {
    "duration": 16,
    "start_time": "2021-10-15T18:30:41.590Z"
   },
   {
    "duration": 12,
    "start_time": "2021-10-15T18:30:41.609Z"
   },
   {
    "duration": 140,
    "start_time": "2021-10-15T18:30:41.624Z"
   },
   {
    "duration": 43,
    "start_time": "2021-10-15T18:30:41.768Z"
   },
   {
    "duration": 12,
    "start_time": "2021-10-15T18:30:41.814Z"
   },
   {
    "duration": 35,
    "start_time": "2021-10-15T18:30:41.828Z"
   },
   {
    "duration": 5,
    "start_time": "2021-10-15T18:30:41.865Z"
   },
   {
    "duration": 6,
    "start_time": "2021-10-15T18:30:41.872Z"
   },
   {
    "duration": 7,
    "start_time": "2021-10-15T18:30:41.880Z"
   },
   {
    "duration": 13,
    "start_time": "2021-10-15T18:30:41.890Z"
   },
   {
    "duration": 56,
    "start_time": "2021-10-15T18:30:41.906Z"
   },
   {
    "duration": 6,
    "start_time": "2021-10-15T18:30:41.964Z"
   },
   {
    "duration": 11,
    "start_time": "2021-10-15T18:30:41.973Z"
   },
   {
    "duration": 23,
    "start_time": "2021-10-15T18:30:41.987Z"
   },
   {
    "duration": 71,
    "start_time": "2021-10-15T18:30:42.013Z"
   },
   {
    "duration": 47,
    "start_time": "2021-10-15T18:30:42.086Z"
   },
   {
    "duration": 60,
    "start_time": "2021-10-15T18:30:42.136Z"
   },
   {
    "duration": 23,
    "start_time": "2021-10-15T18:30:42.199Z"
   },
   {
    "duration": 20,
    "start_time": "2021-10-15T18:30:42.262Z"
   },
   {
    "duration": 36,
    "start_time": "2021-10-15T18:30:42.286Z"
   },
   {
    "duration": 54,
    "start_time": "2021-10-15T18:30:42.325Z"
   },
   {
    "duration": 24,
    "start_time": "2021-10-15T18:30:42.382Z"
   },
   {
    "duration": 67,
    "start_time": "2021-10-15T18:30:42.409Z"
   },
   {
    "duration": 30,
    "start_time": "2021-10-15T18:30:42.479Z"
   },
   {
    "duration": 78,
    "start_time": "2021-10-15T18:30:42.512Z"
   },
   {
    "duration": 13,
    "start_time": "2021-10-15T18:30:42.594Z"
   },
   {
    "duration": 16,
    "start_time": "2021-10-15T18:30:42.610Z"
   },
   {
    "duration": 628,
    "start_time": "2021-10-15T18:30:42.629Z"
   },
   {
    "duration": 5,
    "start_time": "2021-10-15T18:30:43.262Z"
   },
   {
    "duration": 434,
    "start_time": "2021-10-15T18:30:43.270Z"
   },
   {
    "duration": 18,
    "start_time": "2021-10-15T18:30:43.690Z"
   },
   {
    "duration": 16,
    "start_time": "2021-10-15T18:30:43.694Z"
   },
   {
    "duration": -2,
    "start_time": "2021-10-15T18:30:43.714Z"
   },
   {
    "duration": -5,
    "start_time": "2021-10-15T18:30:43.719Z"
   },
   {
    "duration": -6,
    "start_time": "2021-10-15T18:30:43.723Z"
   },
   {
    "duration": -7,
    "start_time": "2021-10-15T18:30:43.726Z"
   },
   {
    "duration": -16,
    "start_time": "2021-10-15T18:30:43.737Z"
   },
   {
    "duration": -16,
    "start_time": "2021-10-15T18:30:43.740Z"
   },
   {
    "duration": -18,
    "start_time": "2021-10-15T18:30:43.744Z"
   },
   {
    "duration": 1501,
    "start_time": "2021-10-15T18:37:13.429Z"
   },
   {
    "duration": 546,
    "start_time": "2021-10-15T18:37:14.933Z"
   },
   {
    "duration": 69,
    "start_time": "2021-10-15T18:37:15.482Z"
   },
   {
    "duration": 23,
    "start_time": "2021-10-15T18:37:15.553Z"
   },
   {
    "duration": 17,
    "start_time": "2021-10-15T18:37:15.578Z"
   },
   {
    "duration": 12,
    "start_time": "2021-10-15T18:37:15.598Z"
   },
   {
    "duration": 140,
    "start_time": "2021-10-15T18:37:15.614Z"
   },
   {
    "duration": 40,
    "start_time": "2021-10-15T18:37:15.757Z"
   },
   {
    "duration": 11,
    "start_time": "2021-10-15T18:37:15.799Z"
   },
   {
    "duration": 15,
    "start_time": "2021-10-15T18:37:15.812Z"
   },
   {
    "duration": 4,
    "start_time": "2021-10-15T18:37:15.830Z"
   },
   {
    "duration": 30,
    "start_time": "2021-10-15T18:37:15.836Z"
   },
   {
    "duration": 9,
    "start_time": "2021-10-15T18:37:15.868Z"
   },
   {
    "duration": 14,
    "start_time": "2021-10-15T18:37:15.880Z"
   },
   {
    "duration": 40,
    "start_time": "2021-10-15T18:37:15.897Z"
   },
   {
    "duration": 6,
    "start_time": "2021-10-15T18:37:15.961Z"
   },
   {
    "duration": 13,
    "start_time": "2021-10-15T18:37:15.969Z"
   },
   {
    "duration": 23,
    "start_time": "2021-10-15T18:37:15.985Z"
   },
   {
    "duration": 59,
    "start_time": "2021-10-15T18:37:16.011Z"
   },
   {
    "duration": 55,
    "start_time": "2021-10-15T18:37:16.073Z"
   },
   {
    "duration": 90,
    "start_time": "2021-10-15T18:37:16.131Z"
   },
   {
    "duration": 22,
    "start_time": "2021-10-15T18:37:16.225Z"
   },
   {
    "duration": 25,
    "start_time": "2021-10-15T18:37:16.263Z"
   },
   {
    "duration": 38,
    "start_time": "2021-10-15T18:37:16.290Z"
   },
   {
    "duration": 57,
    "start_time": "2021-10-15T18:37:16.330Z"
   },
   {
    "duration": 36,
    "start_time": "2021-10-15T18:37:16.390Z"
   },
   {
    "duration": 74,
    "start_time": "2021-10-15T18:37:16.429Z"
   },
   {
    "duration": 58,
    "start_time": "2021-10-15T18:37:16.506Z"
   },
   {
    "duration": 50,
    "start_time": "2021-10-15T18:37:16.566Z"
   },
   {
    "duration": 13,
    "start_time": "2021-10-15T18:37:16.619Z"
   },
   {
    "duration": 16,
    "start_time": "2021-10-15T18:37:16.663Z"
   },
   {
    "duration": 629,
    "start_time": "2021-10-15T18:37:16.682Z"
   },
   {
    "duration": 3,
    "start_time": "2021-10-15T18:37:17.313Z"
   },
   {
    "duration": 69,
    "start_time": "2021-10-15T18:37:17.319Z"
   },
   {
    "duration": 115,
    "start_time": "2021-10-15T18:37:17.390Z"
   },
   {
    "duration": 400,
    "start_time": "2021-10-15T18:37:17.507Z"
   },
   {
    "duration": -324,
    "start_time": "2021-10-15T18:37:18.234Z"
   },
   {
    "duration": -389,
    "start_time": "2021-10-15T18:37:18.300Z"
   },
   {
    "duration": -400,
    "start_time": "2021-10-15T18:37:18.313Z"
   },
   {
    "duration": -402,
    "start_time": "2021-10-15T18:37:18.316Z"
   },
   {
    "duration": -403,
    "start_time": "2021-10-15T18:37:18.319Z"
   },
   {
    "duration": -405,
    "start_time": "2021-10-15T18:37:18.322Z"
   },
   {
    "duration": -469,
    "start_time": "2021-10-15T18:37:18.388Z"
   },
   {
    "duration": 523,
    "start_time": "2021-10-15T18:40:02.924Z"
   },
   {
    "duration": 1511,
    "start_time": "2021-10-15T18:40:13.038Z"
   },
   {
    "duration": 619,
    "start_time": "2021-10-15T18:40:14.552Z"
   },
   {
    "duration": 71,
    "start_time": "2021-10-15T18:40:15.174Z"
   },
   {
    "duration": 28,
    "start_time": "2021-10-15T18:40:15.248Z"
   },
   {
    "duration": 18,
    "start_time": "2021-10-15T18:40:15.279Z"
   },
   {
    "duration": 12,
    "start_time": "2021-10-15T18:40:15.300Z"
   },
   {
    "duration": 136,
    "start_time": "2021-10-15T18:40:15.315Z"
   },
   {
    "duration": 46,
    "start_time": "2021-10-15T18:40:15.455Z"
   },
   {
    "duration": 11,
    "start_time": "2021-10-15T18:40:15.504Z"
   },
   {
    "duration": 11,
    "start_time": "2021-10-15T18:40:15.517Z"
   },
   {
    "duration": 4,
    "start_time": "2021-10-15T18:40:15.531Z"
   },
   {
    "duration": 6,
    "start_time": "2021-10-15T18:40:15.563Z"
   },
   {
    "duration": 8,
    "start_time": "2021-10-15T18:40:15.571Z"
   },
   {
    "duration": 23,
    "start_time": "2021-10-15T18:40:15.581Z"
   },
   {
    "duration": 27,
    "start_time": "2021-10-15T18:40:15.607Z"
   },
   {
    "duration": 28,
    "start_time": "2021-10-15T18:40:15.636Z"
   },
   {
    "duration": 8,
    "start_time": "2021-10-15T18:40:15.667Z"
   },
   {
    "duration": 29,
    "start_time": "2021-10-15T18:40:15.677Z"
   },
   {
    "duration": 57,
    "start_time": "2021-10-15T18:40:15.708Z"
   },
   {
    "duration": 46,
    "start_time": "2021-10-15T18:40:15.767Z"
   },
   {
    "duration": 58,
    "start_time": "2021-10-15T18:40:15.816Z"
   },
   {
    "duration": 21,
    "start_time": "2021-10-15T18:40:15.877Z"
   },
   {
    "duration": 20,
    "start_time": "2021-10-15T18:40:15.903Z"
   },
   {
    "duration": 68,
    "start_time": "2021-10-15T18:40:15.926Z"
   },
   {
    "duration": 28,
    "start_time": "2021-10-15T18:40:15.997Z"
   },
   {
    "duration": 48,
    "start_time": "2021-10-15T18:40:16.028Z"
   },
   {
    "duration": 34,
    "start_time": "2021-10-15T18:40:16.078Z"
   },
   {
    "duration": 49,
    "start_time": "2021-10-15T18:40:16.114Z"
   },
   {
    "duration": 51,
    "start_time": "2021-10-15T18:40:16.166Z"
   },
   {
    "duration": 12,
    "start_time": "2021-10-15T18:40:16.219Z"
   },
   {
    "duration": 39,
    "start_time": "2021-10-15T18:40:16.234Z"
   },
   {
    "duration": 645,
    "start_time": "2021-10-15T18:40:16.276Z"
   },
   {
    "duration": 3,
    "start_time": "2021-10-15T18:40:16.924Z"
   },
   {
    "duration": 71,
    "start_time": "2021-10-15T18:40:16.929Z"
   },
   {
    "duration": 112,
    "start_time": "2021-10-15T18:40:17.003Z"
   },
   {
    "duration": 610,
    "start_time": "2021-10-15T18:40:17.117Z"
   },
   {
    "duration": 461,
    "start_time": "2021-10-15T18:40:17.730Z"
   },
   {
    "duration": -60,
    "start_time": "2021-10-15T18:40:18.254Z"
   },
   {
    "duration": -63,
    "start_time": "2021-10-15T18:40:18.258Z"
   },
   {
    "duration": -65,
    "start_time": "2021-10-15T18:40:18.261Z"
   },
   {
    "duration": -66,
    "start_time": "2021-10-15T18:40:18.264Z"
   },
   {
    "duration": -67,
    "start_time": "2021-10-15T18:40:18.266Z"
   },
   {
    "duration": -90,
    "start_time": "2021-10-15T18:40:18.291Z"
   },
   {
    "duration": 1421,
    "start_time": "2021-10-15T18:41:31.603Z"
   },
   {
    "duration": 539,
    "start_time": "2021-10-15T18:41:33.027Z"
   },
   {
    "duration": 67,
    "start_time": "2021-10-15T18:41:33.569Z"
   },
   {
    "duration": 36,
    "start_time": "2021-10-15T18:41:33.639Z"
   },
   {
    "duration": 27,
    "start_time": "2021-10-15T18:41:33.677Z"
   },
   {
    "duration": 12,
    "start_time": "2021-10-15T18:41:33.707Z"
   },
   {
    "duration": 128,
    "start_time": "2021-10-15T18:41:33.721Z"
   },
   {
    "duration": 43,
    "start_time": "2021-10-15T18:41:33.852Z"
   },
   {
    "duration": 12,
    "start_time": "2021-10-15T18:41:33.898Z"
   },
   {
    "duration": 10,
    "start_time": "2021-10-15T18:41:33.913Z"
   },
   {
    "duration": 39,
    "start_time": "2021-10-15T18:41:33.925Z"
   },
   {
    "duration": 8,
    "start_time": "2021-10-15T18:41:33.967Z"
   },
   {
    "duration": 6,
    "start_time": "2021-10-15T18:41:33.978Z"
   },
   {
    "duration": 17,
    "start_time": "2021-10-15T18:41:33.987Z"
   },
   {
    "duration": 21,
    "start_time": "2021-10-15T18:41:34.007Z"
   },
   {
    "duration": 34,
    "start_time": "2021-10-15T18:41:34.031Z"
   },
   {
    "duration": 7,
    "start_time": "2021-10-15T18:41:34.068Z"
   },
   {
    "duration": 26,
    "start_time": "2021-10-15T18:41:34.077Z"
   },
   {
    "duration": 71,
    "start_time": "2021-10-15T18:41:34.106Z"
   },
   {
    "duration": 45,
    "start_time": "2021-10-15T18:41:34.179Z"
   },
   {
    "duration": 67,
    "start_time": "2021-10-15T18:41:34.226Z"
   },
   {
    "duration": 21,
    "start_time": "2021-10-15T18:41:34.295Z"
   },
   {
    "duration": 53,
    "start_time": "2021-10-15T18:41:34.318Z"
   },
   {
    "duration": 35,
    "start_time": "2021-10-15T18:41:34.374Z"
   },
   {
    "duration": 26,
    "start_time": "2021-10-15T18:41:34.412Z"
   },
   {
    "duration": 23,
    "start_time": "2021-10-15T18:41:34.462Z"
   },
   {
    "duration": 32,
    "start_time": "2021-10-15T18:41:34.490Z"
   },
   {
    "duration": 53,
    "start_time": "2021-10-15T18:41:34.525Z"
   },
   {
    "duration": 49,
    "start_time": "2021-10-15T18:41:34.580Z"
   },
   {
    "duration": 37,
    "start_time": "2021-10-15T18:41:34.631Z"
   },
   {
    "duration": 13,
    "start_time": "2021-10-15T18:41:34.671Z"
   },
   {
    "duration": 618,
    "start_time": "2021-10-15T18:41:34.687Z"
   },
   {
    "duration": 3,
    "start_time": "2021-10-15T18:41:35.307Z"
   },
   {
    "duration": 69,
    "start_time": "2021-10-15T18:41:35.312Z"
   },
   {
    "duration": 119,
    "start_time": "2021-10-15T18:41:35.383Z"
   },
   {
    "duration": 521,
    "start_time": "2021-10-15T18:41:35.504Z"
   },
   {
    "duration": 616,
    "start_time": "2021-10-15T18:41:36.027Z"
   },
   {
    "duration": 501,
    "start_time": "2021-10-15T18:41:36.645Z"
   },
   {
    "duration": 417,
    "start_time": "2021-10-15T18:41:37.148Z"
   },
   {
    "duration": 17,
    "start_time": "2021-10-15T18:41:37.568Z"
   },
   {
    "duration": 391,
    "start_time": "2021-10-15T18:41:37.588Z"
   },
   {
    "duration": -49,
    "start_time": "2021-10-15T18:41:38.031Z"
   },
   {
    "duration": -50,
    "start_time": "2021-10-15T18:41:38.034Z"
   },
   {
    "duration": 1493,
    "start_time": "2021-10-15T18:42:49.227Z"
   },
   {
    "duration": 547,
    "start_time": "2021-10-15T18:42:50.723Z"
   },
   {
    "duration": 70,
    "start_time": "2021-10-15T18:42:51.273Z"
   },
   {
    "duration": 28,
    "start_time": "2021-10-15T18:42:51.346Z"
   },
   {
    "duration": 24,
    "start_time": "2021-10-15T18:42:51.376Z"
   },
   {
    "duration": 12,
    "start_time": "2021-10-15T18:42:51.403Z"
   },
   {
    "duration": 132,
    "start_time": "2021-10-15T18:42:51.418Z"
   },
   {
    "duration": 50,
    "start_time": "2021-10-15T18:42:51.554Z"
   },
   {
    "duration": 12,
    "start_time": "2021-10-15T18:42:51.607Z"
   },
   {
    "duration": 8,
    "start_time": "2021-10-15T18:42:51.622Z"
   },
   {
    "duration": 31,
    "start_time": "2021-10-15T18:42:51.633Z"
   },
   {
    "duration": 22,
    "start_time": "2021-10-15T18:42:51.667Z"
   },
   {
    "duration": 10,
    "start_time": "2021-10-15T18:42:51.691Z"
   },
   {
    "duration": 15,
    "start_time": "2021-10-15T18:42:51.704Z"
   },
   {
    "duration": 22,
    "start_time": "2021-10-15T18:42:51.721Z"
   },
   {
    "duration": 5,
    "start_time": "2021-10-15T18:42:51.762Z"
   },
   {
    "duration": 12,
    "start_time": "2021-10-15T18:42:51.770Z"
   },
   {
    "duration": 26,
    "start_time": "2021-10-15T18:42:51.785Z"
   },
   {
    "duration": 51,
    "start_time": "2021-10-15T18:42:51.814Z"
   },
   {
    "duration": 44,
    "start_time": "2021-10-15T18:42:51.867Z"
   },
   {
    "duration": 58,
    "start_time": "2021-10-15T18:42:51.913Z"
   },
   {
    "duration": 20,
    "start_time": "2021-10-15T18:42:51.973Z"
   },
   {
    "duration": 19,
    "start_time": "2021-10-15T18:42:51.998Z"
   },
   {
    "duration": 75,
    "start_time": "2021-10-15T18:42:52.019Z"
   },
   {
    "duration": 29,
    "start_time": "2021-10-15T18:42:52.097Z"
   },
   {
    "duration": 47,
    "start_time": "2021-10-15T18:42:52.128Z"
   },
   {
    "duration": 33,
    "start_time": "2021-10-15T18:42:52.177Z"
   },
   {
    "duration": 52,
    "start_time": "2021-10-15T18:42:52.213Z"
   },
   {
    "duration": 48,
    "start_time": "2021-10-15T18:42:52.267Z"
   },
   {
    "duration": 12,
    "start_time": "2021-10-15T18:42:52.318Z"
   },
   {
    "duration": 39,
    "start_time": "2021-10-15T18:42:52.333Z"
   },
   {
    "duration": 741,
    "start_time": "2021-10-15T18:42:52.375Z"
   },
   {
    "duration": 3,
    "start_time": "2021-10-15T18:42:53.118Z"
   },
   {
    "duration": 73,
    "start_time": "2021-10-15T18:42:53.124Z"
   },
   {
    "duration": 124,
    "start_time": "2021-10-15T18:42:53.199Z"
   },
   {
    "duration": 508,
    "start_time": "2021-10-15T18:42:53.325Z"
   },
   {
    "duration": 630,
    "start_time": "2021-10-15T18:42:53.835Z"
   },
   {
    "duration": 498,
    "start_time": "2021-10-15T18:42:54.467Z"
   },
   {
    "duration": 424,
    "start_time": "2021-10-15T18:42:54.967Z"
   },
   {
    "duration": 15,
    "start_time": "2021-10-15T18:42:55.393Z"
   },
   {
    "duration": 21,
    "start_time": "2021-10-15T18:42:55.411Z"
   },
   {
    "duration": 38,
    "start_time": "2021-10-15T18:42:55.434Z"
   },
   {
    "duration": 26,
    "start_time": "2021-10-15T18:42:55.474Z"
   },
   {
    "duration": 1473,
    "start_time": "2021-10-15T18:58:38.467Z"
   },
   {
    "duration": 546,
    "start_time": "2021-10-15T18:58:39.943Z"
   },
   {
    "duration": 83,
    "start_time": "2021-10-15T18:58:40.492Z"
   },
   {
    "duration": 20,
    "start_time": "2021-10-15T18:58:40.578Z"
   },
   {
    "duration": 19,
    "start_time": "2021-10-15T18:58:40.601Z"
   },
   {
    "duration": 47,
    "start_time": "2021-10-15T18:58:40.622Z"
   },
   {
    "duration": 136,
    "start_time": "2021-10-15T18:58:40.672Z"
   },
   {
    "duration": 51,
    "start_time": "2021-10-15T18:58:40.812Z"
   },
   {
    "duration": 14,
    "start_time": "2021-10-15T18:58:40.866Z"
   },
   {
    "duration": 12,
    "start_time": "2021-10-15T18:58:40.883Z"
   },
   {
    "duration": 7,
    "start_time": "2021-10-15T18:58:40.898Z"
   },
   {
    "duration": 7,
    "start_time": "2021-10-15T18:58:40.908Z"
   },
   {
    "duration": 44,
    "start_time": "2021-10-15T18:58:40.918Z"
   },
   {
    "duration": 16,
    "start_time": "2021-10-15T18:58:40.965Z"
   },
   {
    "duration": 26,
    "start_time": "2021-10-15T18:58:40.984Z"
   },
   {
    "duration": 6,
    "start_time": "2021-10-15T18:58:41.013Z"
   },
   {
    "duration": 43,
    "start_time": "2021-10-15T18:58:41.022Z"
   },
   {
    "duration": 23,
    "start_time": "2021-10-15T18:58:41.068Z"
   },
   {
    "duration": 35,
    "start_time": "2021-10-15T18:58:41.094Z"
   },
   {
    "duration": 71,
    "start_time": "2021-10-15T18:58:41.131Z"
   },
   {
    "duration": 78,
    "start_time": "2021-10-15T18:58:41.205Z"
   },
   {
    "duration": 20,
    "start_time": "2021-10-15T18:58:41.286Z"
   },
   {
    "duration": 20,
    "start_time": "2021-10-15T18:58:41.311Z"
   },
   {
    "duration": 61,
    "start_time": "2021-10-15T18:58:41.334Z"
   },
   {
    "duration": 30,
    "start_time": "2021-10-15T18:58:41.398Z"
   },
   {
    "duration": 52,
    "start_time": "2021-10-15T18:58:41.430Z"
   },
   {
    "duration": 34,
    "start_time": "2021-10-15T18:58:41.484Z"
   },
   {
    "duration": 50,
    "start_time": "2021-10-15T18:58:41.520Z"
   },
   {
    "duration": 49,
    "start_time": "2021-10-15T18:58:41.572Z"
   },
   {
    "duration": 11,
    "start_time": "2021-10-15T18:58:41.623Z"
   },
   {
    "duration": 35,
    "start_time": "2021-10-15T18:58:41.637Z"
   },
   {
    "duration": 613,
    "start_time": "2021-10-15T18:58:41.675Z"
   },
   {
    "duration": 4,
    "start_time": "2021-10-15T18:58:42.291Z"
   },
   {
    "duration": 72,
    "start_time": "2021-10-15T18:58:42.297Z"
   },
   {
    "duration": 111,
    "start_time": "2021-10-15T18:58:42.372Z"
   },
   {
    "duration": 521,
    "start_time": "2021-10-15T18:58:42.486Z"
   },
   {
    "duration": 635,
    "start_time": "2021-10-15T18:58:43.009Z"
   },
   {
    "duration": 569,
    "start_time": "2021-10-15T18:58:43.647Z"
   },
   {
    "duration": 415,
    "start_time": "2021-10-15T18:58:44.219Z"
   },
   {
    "duration": 27,
    "start_time": "2021-10-15T18:58:44.637Z"
   },
   {
    "duration": 18,
    "start_time": "2021-10-15T18:58:44.666Z"
   },
   {
    "duration": 14,
    "start_time": "2021-10-15T18:58:44.687Z"
   },
   {
    "duration": 63,
    "start_time": "2021-10-15T18:58:44.703Z"
   },
   {
    "duration": 1423,
    "start_time": "2021-10-15T19:00:44.516Z"
   },
   {
    "duration": 656,
    "start_time": "2021-10-15T19:00:45.941Z"
   },
   {
    "duration": 73,
    "start_time": "2021-10-15T19:00:46.600Z"
   },
   {
    "duration": 20,
    "start_time": "2021-10-15T19:00:46.676Z"
   },
   {
    "duration": 21,
    "start_time": "2021-10-15T19:00:46.699Z"
   },
   {
    "duration": 45,
    "start_time": "2021-10-15T19:00:46.724Z"
   },
   {
    "duration": 121,
    "start_time": "2021-10-15T19:00:46.772Z"
   },
   {
    "duration": 43,
    "start_time": "2021-10-15T19:00:46.896Z"
   },
   {
    "duration": 21,
    "start_time": "2021-10-15T19:00:46.942Z"
   },
   {
    "duration": 13,
    "start_time": "2021-10-15T19:00:46.965Z"
   },
   {
    "duration": 6,
    "start_time": "2021-10-15T19:00:46.980Z"
   },
   {
    "duration": 6,
    "start_time": "2021-10-15T19:00:46.989Z"
   },
   {
    "duration": 10,
    "start_time": "2021-10-15T19:00:46.997Z"
   },
   {
    "duration": 19,
    "start_time": "2021-10-15T19:00:47.009Z"
   },
   {
    "duration": 49,
    "start_time": "2021-10-15T19:00:47.030Z"
   },
   {
    "duration": 12,
    "start_time": "2021-10-15T19:00:47.082Z"
   },
   {
    "duration": 10,
    "start_time": "2021-10-15T19:00:47.097Z"
   },
   {
    "duration": 22,
    "start_time": "2021-10-15T19:00:47.109Z"
   },
   {
    "duration": 58,
    "start_time": "2021-10-15T19:00:47.133Z"
   },
   {
    "duration": 45,
    "start_time": "2021-10-15T19:00:47.194Z"
   },
   {
    "duration": 48,
    "start_time": "2021-10-15T19:00:47.261Z"
   },
   {
    "duration": 22,
    "start_time": "2021-10-15T19:00:47.311Z"
   },
   {
    "duration": 45,
    "start_time": "2021-10-15T19:00:47.338Z"
   },
   {
    "duration": 37,
    "start_time": "2021-10-15T19:00:47.387Z"
   },
   {
    "duration": 67,
    "start_time": "2021-10-15T19:00:47.427Z"
   },
   {
    "duration": 33,
    "start_time": "2021-10-15T19:00:47.497Z"
   },
   {
    "duration": 56,
    "start_time": "2021-10-15T19:00:47.533Z"
   },
   {
    "duration": 27,
    "start_time": "2021-10-15T19:00:47.591Z"
   },
   {
    "duration": 78,
    "start_time": "2021-10-15T19:00:47.621Z"
   },
   {
    "duration": 12,
    "start_time": "2021-10-15T19:00:47.701Z"
   },
   {
    "duration": 15,
    "start_time": "2021-10-15T19:00:47.716Z"
   },
   {
    "duration": 647,
    "start_time": "2021-10-15T19:00:47.734Z"
   },
   {
    "duration": 3,
    "start_time": "2021-10-15T19:00:48.383Z"
   },
   {
    "duration": 74,
    "start_time": "2021-10-15T19:00:48.388Z"
   },
   {
    "duration": 118,
    "start_time": "2021-10-15T19:00:48.465Z"
   },
   {
    "duration": 519,
    "start_time": "2021-10-15T19:00:48.586Z"
   },
   {
    "duration": 630,
    "start_time": "2021-10-15T19:00:49.107Z"
   },
   {
    "duration": 512,
    "start_time": "2021-10-15T19:00:49.739Z"
   },
   {
    "duration": 425,
    "start_time": "2021-10-15T19:00:50.254Z"
   },
   {
    "duration": 15,
    "start_time": "2021-10-15T19:00:50.682Z"
   },
   {
    "duration": 21,
    "start_time": "2021-10-15T19:00:50.700Z"
   },
   {
    "duration": 39,
    "start_time": "2021-10-15T19:00:50.724Z"
   },
   {
    "duration": 23,
    "start_time": "2021-10-15T19:00:50.766Z"
   },
   {
    "duration": 1824,
    "start_time": "2021-10-15T20:50:06.371Z"
   },
   {
    "duration": 958,
    "start_time": "2021-10-15T20:50:08.198Z"
   },
   {
    "duration": 68,
    "start_time": "2021-10-15T20:50:09.159Z"
   },
   {
    "duration": 20,
    "start_time": "2021-10-15T20:50:09.229Z"
   },
   {
    "duration": 18,
    "start_time": "2021-10-15T20:50:09.262Z"
   },
   {
    "duration": 12,
    "start_time": "2021-10-15T20:50:09.282Z"
   },
   {
    "duration": 125,
    "start_time": "2021-10-15T20:50:09.297Z"
   },
   {
    "duration": 44,
    "start_time": "2021-10-15T20:50:09.425Z"
   },
   {
    "duration": 11,
    "start_time": "2021-10-15T20:50:09.473Z"
   },
   {
    "duration": 10,
    "start_time": "2021-10-15T20:50:09.487Z"
   },
   {
    "duration": 5,
    "start_time": "2021-10-15T20:50:09.499Z"
   },
   {
    "duration": 7,
    "start_time": "2021-10-15T20:50:09.506Z"
   },
   {
    "duration": 7,
    "start_time": "2021-10-15T20:50:09.515Z"
   },
   {
    "duration": 49,
    "start_time": "2021-10-15T20:50:09.524Z"
   },
   {
    "duration": 21,
    "start_time": "2021-10-15T20:50:09.575Z"
   },
   {
    "duration": 4,
    "start_time": "2021-10-15T20:50:09.599Z"
   },
   {
    "duration": 11,
    "start_time": "2021-10-15T20:50:09.606Z"
   },
   {
    "duration": 53,
    "start_time": "2021-10-15T20:50:09.620Z"
   },
   {
    "duration": 31,
    "start_time": "2021-10-15T20:50:09.676Z"
   },
   {
    "duration": 65,
    "start_time": "2021-10-15T20:50:09.709Z"
   },
   {
    "duration": 41,
    "start_time": "2021-10-15T20:50:09.777Z"
   },
   {
    "duration": 45,
    "start_time": "2021-10-15T20:50:09.820Z"
   },
   {
    "duration": 20,
    "start_time": "2021-10-15T20:50:09.867Z"
   },
   {
    "duration": 35,
    "start_time": "2021-10-15T20:50:09.890Z"
   },
   {
    "duration": 54,
    "start_time": "2021-10-15T20:50:09.928Z"
   },
   {
    "duration": 25,
    "start_time": "2021-10-15T20:50:09.985Z"
   },
   {
    "duration": 64,
    "start_time": "2021-10-15T20:50:10.017Z"
   },
   {
    "duration": 29,
    "start_time": "2021-10-15T20:50:10.085Z"
   },
   {
    "duration": 76,
    "start_time": "2021-10-15T20:50:10.116Z"
   },
   {
    "duration": 11,
    "start_time": "2021-10-15T20:50:10.194Z"
   },
   {
    "duration": 15,
    "start_time": "2021-10-15T20:50:10.207Z"
   },
   {
    "duration": 639,
    "start_time": "2021-10-15T20:50:10.224Z"
   },
   {
    "duration": 4,
    "start_time": "2021-10-15T20:50:10.865Z"
   },
   {
    "duration": 60,
    "start_time": "2021-10-15T20:50:10.871Z"
   },
   {
    "duration": 128,
    "start_time": "2021-10-15T20:50:10.934Z"
   },
   {
    "duration": 502,
    "start_time": "2021-10-15T20:50:11.064Z"
   },
   {
    "duration": 612,
    "start_time": "2021-10-15T20:50:11.569Z"
   },
   {
    "duration": 497,
    "start_time": "2021-10-15T20:50:12.183Z"
   },
   {
    "duration": 429,
    "start_time": "2021-10-15T20:50:12.683Z"
   },
   {
    "duration": 17,
    "start_time": "2021-10-15T20:50:13.115Z"
   },
   {
    "duration": 41,
    "start_time": "2021-10-15T20:50:13.135Z"
   },
   {
    "duration": 16,
    "start_time": "2021-10-15T20:50:13.179Z"
   },
   {
    "duration": 21,
    "start_time": "2021-10-15T20:50:13.198Z"
   },
   {
    "duration": 51,
    "start_time": "2021-10-15T20:50:17.481Z"
   },
   {
    "duration": 43,
    "start_time": "2021-10-15T20:51:32.818Z"
   },
   {
    "duration": 375,
    "start_time": "2021-10-15T20:57:53.556Z"
   },
   {
    "duration": 265,
    "start_time": "2021-10-15T20:57:59.801Z"
   },
   {
    "duration": 5,
    "start_time": "2021-10-15T20:59:30.278Z"
   },
   {
    "duration": 562,
    "start_time": "2021-10-15T20:59:30.285Z"
   },
   {
    "duration": 68,
    "start_time": "2021-10-15T20:59:30.850Z"
   },
   {
    "duration": 16,
    "start_time": "2021-10-15T20:59:30.920Z"
   },
   {
    "duration": 37,
    "start_time": "2021-10-15T20:59:30.938Z"
   },
   {
    "duration": 17,
    "start_time": "2021-10-15T20:59:30.978Z"
   },
   {
    "duration": 114,
    "start_time": "2021-10-15T20:59:30.997Z"
   },
   {
    "duration": 33,
    "start_time": "2021-10-15T20:59:31.114Z"
   },
   {
    "duration": 22,
    "start_time": "2021-10-15T20:59:31.149Z"
   },
   {
    "duration": 18,
    "start_time": "2021-10-15T20:59:31.174Z"
   },
   {
    "duration": 12,
    "start_time": "2021-10-15T20:59:31.195Z"
   },
   {
    "duration": 15,
    "start_time": "2021-10-15T20:59:31.210Z"
   },
   {
    "duration": 48,
    "start_time": "2021-10-15T20:59:31.227Z"
   },
   {
    "duration": 77,
    "start_time": "2021-10-15T20:59:31.278Z"
   },
   {
    "duration": 29,
    "start_time": "2021-10-15T20:59:31.358Z"
   },
   {
    "duration": 6,
    "start_time": "2021-10-15T20:59:31.389Z"
   },
   {
    "duration": 16,
    "start_time": "2021-10-15T20:59:31.397Z"
   },
   {
    "duration": 26,
    "start_time": "2021-10-15T20:59:31.415Z"
   },
   {
    "duration": 18,
    "start_time": "2021-10-15T20:59:38.639Z"
   },
   {
    "duration": 29,
    "start_time": "2021-10-15T20:59:44.160Z"
   },
   {
    "duration": 21,
    "start_time": "2021-10-15T20:59:46.851Z"
   },
   {
    "duration": 275,
    "start_time": "2021-10-15T21:00:40.648Z"
   },
   {
    "duration": 257,
    "start_time": "2021-10-15T21:00:59.488Z"
   },
   {
    "duration": 263,
    "start_time": "2021-10-15T21:01:13.041Z"
   },
   {
    "duration": 285,
    "start_time": "2021-10-15T21:01:30.921Z"
   },
   {
    "duration": 4,
    "start_time": "2021-10-15T21:02:56.403Z"
   },
   {
    "duration": 538,
    "start_time": "2021-10-15T21:02:56.414Z"
   },
   {
    "duration": 70,
    "start_time": "2021-10-15T21:02:56.954Z"
   },
   {
    "duration": 16,
    "start_time": "2021-10-15T21:02:57.027Z"
   },
   {
    "duration": 29,
    "start_time": "2021-10-15T21:02:57.046Z"
   },
   {
    "duration": 11,
    "start_time": "2021-10-15T21:02:57.078Z"
   },
   {
    "duration": 122,
    "start_time": "2021-10-15T21:02:57.091Z"
   },
   {
    "duration": 48,
    "start_time": "2021-10-15T21:02:57.215Z"
   },
   {
    "duration": 12,
    "start_time": "2021-10-15T21:02:57.266Z"
   },
   {
    "duration": 11,
    "start_time": "2021-10-15T21:02:57.282Z"
   },
   {
    "duration": 4,
    "start_time": "2021-10-15T21:02:57.296Z"
   },
   {
    "duration": 14,
    "start_time": "2021-10-15T21:02:57.302Z"
   },
   {
    "duration": 14,
    "start_time": "2021-10-15T21:02:57.319Z"
   },
   {
    "duration": 36,
    "start_time": "2021-10-15T21:02:57.335Z"
   },
   {
    "duration": 25,
    "start_time": "2021-10-15T21:02:57.374Z"
   },
   {
    "duration": 5,
    "start_time": "2021-10-15T21:02:57.401Z"
   },
   {
    "duration": 15,
    "start_time": "2021-10-15T21:02:57.408Z"
   },
   {
    "duration": 49,
    "start_time": "2021-10-15T21:02:57.425Z"
   },
   {
    "duration": 16,
    "start_time": "2021-10-15T21:02:57.477Z"
   },
   {
    "duration": 29,
    "start_time": "2021-10-15T21:02:57.496Z"
   },
   {
    "duration": 74,
    "start_time": "2021-10-15T21:02:57.527Z"
   },
   {
    "duration": 59,
    "start_time": "2021-10-15T21:02:57.603Z"
   },
   {
    "duration": 22,
    "start_time": "2021-10-15T21:02:57.664Z"
   },
   {
    "duration": 20,
    "start_time": "2021-10-15T21:02:57.689Z"
   },
   {
    "duration": 68,
    "start_time": "2021-10-15T21:02:57.712Z"
   },
   {
    "duration": 29,
    "start_time": "2021-10-15T21:02:57.782Z"
   },
   {
    "duration": 22,
    "start_time": "2021-10-15T21:02:57.814Z"
   },
   {
    "duration": 25,
    "start_time": "2021-10-15T21:03:02.490Z"
   },
   {
    "duration": 1642,
    "start_time": "2021-10-16T09:45:19.620Z"
   },
   {
    "duration": 579,
    "start_time": "2021-10-16T09:45:21.265Z"
   },
   {
    "duration": 93,
    "start_time": "2021-10-16T09:45:21.847Z"
   },
   {
    "duration": 41,
    "start_time": "2021-10-16T09:45:21.944Z"
   },
   {
    "duration": 18,
    "start_time": "2021-10-16T09:45:21.988Z"
   },
   {
    "duration": 16,
    "start_time": "2021-10-16T09:45:22.009Z"
   },
   {
    "duration": 144,
    "start_time": "2021-10-16T09:45:22.028Z"
   },
   {
    "duration": 25,
    "start_time": "2021-10-16T09:45:22.176Z"
   },
   {
    "duration": 12,
    "start_time": "2021-10-16T09:45:22.204Z"
   },
   {
    "duration": 13,
    "start_time": "2021-10-16T09:45:22.219Z"
   },
   {
    "duration": 11,
    "start_time": "2021-10-16T09:45:22.235Z"
   },
   {
    "duration": 34,
    "start_time": "2021-10-16T09:45:22.249Z"
   },
   {
    "duration": 10,
    "start_time": "2021-10-16T09:45:22.285Z"
   },
   {
    "duration": 14,
    "start_time": "2021-10-16T09:45:22.298Z"
   },
   {
    "duration": 26,
    "start_time": "2021-10-16T09:45:22.316Z"
   },
   {
    "duration": 38,
    "start_time": "2021-10-16T09:45:22.346Z"
   },
   {
    "duration": 13,
    "start_time": "2021-10-16T09:45:22.387Z"
   },
   {
    "duration": 22,
    "start_time": "2021-10-16T09:45:22.403Z"
   },
   {
    "duration": 18,
    "start_time": "2021-10-16T09:45:22.427Z"
   },
   {
    "duration": 60,
    "start_time": "2021-10-16T09:45:22.447Z"
   },
   {
    "duration": 46,
    "start_time": "2021-10-16T09:45:22.509Z"
   },
   {
    "duration": 63,
    "start_time": "2021-10-16T09:45:22.558Z"
   },
   {
    "duration": 22,
    "start_time": "2021-10-16T09:45:22.626Z"
   },
   {
    "duration": 50,
    "start_time": "2021-10-16T09:45:22.651Z"
   },
   {
    "duration": 38,
    "start_time": "2021-10-16T09:45:22.703Z"
   },
   {
    "duration": 61,
    "start_time": "2021-10-16T09:45:22.743Z"
   },
   {
    "duration": 34,
    "start_time": "2021-10-16T09:45:22.807Z"
   },
   {
    "duration": 71,
    "start_time": "2021-10-16T09:45:22.844Z"
   },
   {
    "duration": 37,
    "start_time": "2021-10-16T09:45:22.918Z"
   },
   {
    "duration": 87,
    "start_time": "2021-10-16T09:45:22.957Z"
   },
   {
    "duration": 16,
    "start_time": "2021-10-16T09:45:23.048Z"
   },
   {
    "duration": 19,
    "start_time": "2021-10-16T09:45:23.084Z"
   },
   {
    "duration": 671,
    "start_time": "2021-10-16T09:45:23.106Z"
   },
   {
    "duration": 3,
    "start_time": "2021-10-16T09:45:23.783Z"
   },
   {
    "duration": 62,
    "start_time": "2021-10-16T09:45:23.789Z"
   },
   {
    "duration": 120,
    "start_time": "2021-10-16T09:45:23.853Z"
   },
   {
    "duration": 520,
    "start_time": "2021-10-16T09:45:23.983Z"
   },
   {
    "duration": 630,
    "start_time": "2021-10-16T09:45:24.506Z"
   },
   {
    "duration": 7536,
    "start_time": "2021-10-16T09:45:25.139Z"
   },
   {
    "duration": -907,
    "start_time": "2021-10-16T09:45:33.585Z"
   },
   {
    "duration": -910,
    "start_time": "2021-10-16T09:45:33.589Z"
   },
   {
    "duration": -911,
    "start_time": "2021-10-16T09:45:33.592Z"
   },
   {
    "duration": -914,
    "start_time": "2021-10-16T09:45:33.596Z"
   },
   {
    "duration": -915,
    "start_time": "2021-10-16T09:45:33.599Z"
   },
   {
    "duration": -917,
    "start_time": "2021-10-16T09:45:33.603Z"
   },
   {
    "duration": -920,
    "start_time": "2021-10-16T09:45:33.607Z"
   },
   {
    "duration": 1410,
    "start_time": "2021-10-16T09:46:15.338Z"
   },
   {
    "duration": 551,
    "start_time": "2021-10-16T09:46:16.751Z"
   },
   {
    "duration": 72,
    "start_time": "2021-10-16T09:46:17.306Z"
   },
   {
    "duration": 31,
    "start_time": "2021-10-16T09:46:17.381Z"
   },
   {
    "duration": 19,
    "start_time": "2021-10-16T09:46:17.415Z"
   },
   {
    "duration": 15,
    "start_time": "2021-10-16T09:46:17.436Z"
   },
   {
    "duration": 145,
    "start_time": "2021-10-16T09:46:17.481Z"
   },
   {
    "duration": 22,
    "start_time": "2021-10-16T09:46:17.629Z"
   },
   {
    "duration": 29,
    "start_time": "2021-10-16T09:46:17.656Z"
   },
   {
    "duration": 11,
    "start_time": "2021-10-16T09:46:17.690Z"
   },
   {
    "duration": 6,
    "start_time": "2021-10-16T09:46:17.704Z"
   },
   {
    "duration": 13,
    "start_time": "2021-10-16T09:46:17.712Z"
   },
   {
    "duration": 7,
    "start_time": "2021-10-16T09:46:17.728Z"
   },
   {
    "duration": 53,
    "start_time": "2021-10-16T09:46:17.738Z"
   },
   {
    "duration": 25,
    "start_time": "2021-10-16T09:46:17.795Z"
   },
   {
    "duration": 7,
    "start_time": "2021-10-16T09:46:17.824Z"
   },
   {
    "duration": 10,
    "start_time": "2021-10-16T09:46:17.834Z"
   },
   {
    "duration": 24,
    "start_time": "2021-10-16T09:46:17.886Z"
   },
   {
    "duration": 18,
    "start_time": "2021-10-16T09:46:17.913Z"
   },
   {
    "duration": 54,
    "start_time": "2021-10-16T09:46:17.934Z"
   },
   {
    "duration": 50,
    "start_time": "2021-10-16T09:46:17.991Z"
   },
   {
    "duration": 65,
    "start_time": "2021-10-16T09:46:18.043Z"
   },
   {
    "duration": 22,
    "start_time": "2021-10-16T09:46:18.111Z"
   },
   {
    "duration": 49,
    "start_time": "2021-10-16T09:46:18.136Z"
   },
   {
    "duration": 43,
    "start_time": "2021-10-16T09:46:18.188Z"
   },
   {
    "duration": 50,
    "start_time": "2021-10-16T09:46:18.234Z"
   },
   {
    "duration": 25,
    "start_time": "2021-10-16T09:46:18.292Z"
   },
   {
    "duration": 31,
    "start_time": "2021-10-16T09:46:18.320Z"
   },
   {
    "duration": 59,
    "start_time": "2021-10-16T09:46:18.354Z"
   },
   {
    "duration": 71,
    "start_time": "2021-10-16T09:46:18.416Z"
   },
   {
    "duration": 16,
    "start_time": "2021-10-16T09:46:18.490Z"
   },
   {
    "duration": 16,
    "start_time": "2021-10-16T09:46:18.508Z"
   },
   {
    "duration": 709,
    "start_time": "2021-10-16T09:46:18.526Z"
   },
   {
    "duration": 3,
    "start_time": "2021-10-16T09:46:19.238Z"
   },
   {
    "duration": 96,
    "start_time": "2021-10-16T09:46:19.244Z"
   },
   {
    "duration": 128,
    "start_time": "2021-10-16T09:46:19.343Z"
   },
   {
    "duration": 573,
    "start_time": "2021-10-16T09:46:19.473Z"
   },
   {
    "duration": 668,
    "start_time": "2021-10-16T09:46:20.048Z"
   },
   {
    "duration": 537,
    "start_time": "2021-10-16T09:46:20.719Z"
   },
   {
    "duration": 468,
    "start_time": "2021-10-16T09:46:21.259Z"
   },
   {
    "duration": 16,
    "start_time": "2021-10-16T09:46:21.730Z"
   },
   {
    "duration": 43,
    "start_time": "2021-10-16T09:46:21.748Z"
   },
   {
    "duration": 49,
    "start_time": "2021-10-16T09:46:21.795Z"
   },
   {
    "duration": 365,
    "start_time": "2021-10-16T09:46:21.846Z"
   },
   {
    "duration": 16,
    "start_time": "2021-10-16T09:46:22.214Z"
   },
   {
    "duration": 50,
    "start_time": "2021-10-16T09:46:22.232Z"
   },
   {
    "duration": 1441,
    "start_time": "2021-10-16T09:56:30.419Z"
   },
   {
    "duration": 546,
    "start_time": "2021-10-16T09:56:31.863Z"
   },
   {
    "duration": 69,
    "start_time": "2021-10-16T09:56:32.413Z"
   },
   {
    "duration": 25,
    "start_time": "2021-10-16T09:56:32.487Z"
   },
   {
    "duration": 27,
    "start_time": "2021-10-16T09:56:32.514Z"
   },
   {
    "duration": 16,
    "start_time": "2021-10-16T09:56:32.544Z"
   },
   {
    "duration": 114,
    "start_time": "2021-10-16T09:56:32.562Z"
   },
   {
    "duration": 27,
    "start_time": "2021-10-16T09:56:32.679Z"
   },
   {
    "duration": 9,
    "start_time": "2021-10-16T09:56:32.711Z"
   },
   {
    "duration": 7,
    "start_time": "2021-10-16T09:56:32.724Z"
   },
   {
    "duration": 16,
    "start_time": "2021-10-16T09:56:32.734Z"
   },
   {
    "duration": 36,
    "start_time": "2021-10-16T09:56:32.753Z"
   },
   {
    "duration": 19,
    "start_time": "2021-10-16T09:56:32.793Z"
   },
   {
    "duration": 21,
    "start_time": "2021-10-16T09:56:32.815Z"
   },
   {
    "duration": 5,
    "start_time": "2021-10-16T09:56:32.838Z"
   },
   {
    "duration": 15,
    "start_time": "2021-10-16T09:56:32.845Z"
   },
   {
    "duration": 41,
    "start_time": "2021-10-16T09:56:32.863Z"
   },
   {
    "duration": 16,
    "start_time": "2021-10-16T09:56:32.906Z"
   },
   {
    "duration": 57,
    "start_time": "2021-10-16T09:56:32.925Z"
   },
   {
    "duration": 53,
    "start_time": "2021-10-16T09:56:32.985Z"
   },
   {
    "duration": 57,
    "start_time": "2021-10-16T09:56:33.041Z"
   },
   {
    "duration": 20,
    "start_time": "2021-10-16T09:56:33.100Z"
   },
   {
    "duration": 19,
    "start_time": "2021-10-16T09:56:33.123Z"
   },
   {
    "duration": 62,
    "start_time": "2021-10-16T09:56:33.144Z"
   },
   {
    "duration": 27,
    "start_time": "2021-10-16T09:56:33.208Z"
   },
   {
    "duration": 56,
    "start_time": "2021-10-16T09:56:33.237Z"
   },
   {
    "duration": 32,
    "start_time": "2021-10-16T09:56:33.299Z"
   },
   {
    "duration": 25,
    "start_time": "2021-10-16T09:56:33.334Z"
   },
   {
    "duration": 73,
    "start_time": "2021-10-16T09:56:33.362Z"
   },
   {
    "duration": 15,
    "start_time": "2021-10-16T09:56:33.438Z"
   },
   {
    "duration": 50,
    "start_time": "2021-10-16T09:56:33.456Z"
   },
   {
    "duration": 647,
    "start_time": "2021-10-16T09:56:33.509Z"
   },
   {
    "duration": 3,
    "start_time": "2021-10-16T09:56:34.158Z"
   },
   {
    "duration": 74,
    "start_time": "2021-10-16T09:56:34.164Z"
   },
   {
    "duration": 109,
    "start_time": "2021-10-16T09:56:34.241Z"
   },
   {
    "duration": 503,
    "start_time": "2021-10-16T09:56:34.353Z"
   },
   {
    "duration": 612,
    "start_time": "2021-10-16T09:56:34.858Z"
   },
   {
    "duration": 488,
    "start_time": "2021-10-16T09:56:35.472Z"
   },
   {
    "duration": 436,
    "start_time": "2021-10-16T09:56:35.962Z"
   },
   {
    "duration": 15,
    "start_time": "2021-10-16T09:56:36.401Z"
   },
   {
    "duration": 19,
    "start_time": "2021-10-16T09:56:36.418Z"
   },
   {
    "duration": 70,
    "start_time": "2021-10-16T09:56:36.440Z"
   },
   {
    "duration": 332,
    "start_time": "2021-10-16T09:56:36.513Z"
   },
   {
    "duration": 15,
    "start_time": "2021-10-16T09:56:36.847Z"
   },
   {
    "duration": 45,
    "start_time": "2021-10-16T09:56:36.864Z"
   },
   {
    "duration": 1451,
    "start_time": "2021-10-16T09:57:46.703Z"
   },
   {
    "duration": 567,
    "start_time": "2021-10-16T09:57:48.156Z"
   },
   {
    "duration": 72,
    "start_time": "2021-10-16T09:57:48.726Z"
   },
   {
    "duration": 23,
    "start_time": "2021-10-16T09:57:48.801Z"
   },
   {
    "duration": 37,
    "start_time": "2021-10-16T09:57:48.826Z"
   },
   {
    "duration": 38,
    "start_time": "2021-10-16T09:57:48.866Z"
   },
   {
    "duration": 120,
    "start_time": "2021-10-16T09:57:48.907Z"
   },
   {
    "duration": 20,
    "start_time": "2021-10-16T09:57:49.029Z"
   },
   {
    "duration": 11,
    "start_time": "2021-10-16T09:57:49.053Z"
   },
   {
    "duration": 22,
    "start_time": "2021-10-16T09:57:49.068Z"
   },
   {
    "duration": 10,
    "start_time": "2021-10-16T09:57:49.092Z"
   },
   {
    "duration": 12,
    "start_time": "2021-10-16T09:57:49.105Z"
   },
   {
    "duration": 14,
    "start_time": "2021-10-16T09:57:49.120Z"
   },
   {
    "duration": 53,
    "start_time": "2021-10-16T09:57:49.136Z"
   },
   {
    "duration": 9,
    "start_time": "2021-10-16T09:57:49.191Z"
   },
   {
    "duration": 6,
    "start_time": "2021-10-16T09:57:49.202Z"
   },
   {
    "duration": 25,
    "start_time": "2021-10-16T09:57:49.211Z"
   },
   {
    "duration": 19,
    "start_time": "2021-10-16T09:57:49.239Z"
   },
   {
    "duration": 43,
    "start_time": "2021-10-16T09:57:49.284Z"
   },
   {
    "duration": 42,
    "start_time": "2021-10-16T09:57:49.330Z"
   },
   {
    "duration": 48,
    "start_time": "2021-10-16T09:57:49.374Z"
   },
   {
    "duration": 20,
    "start_time": "2021-10-16T09:57:49.425Z"
   },
   {
    "duration": 48,
    "start_time": "2021-10-16T09:57:49.447Z"
   },
   {
    "duration": 35,
    "start_time": "2021-10-16T09:57:49.497Z"
   },
   {
    "duration": 62,
    "start_time": "2021-10-16T09:57:49.534Z"
   },
   {
    "duration": 23,
    "start_time": "2021-10-16T09:57:49.598Z"
   },
   {
    "duration": 32,
    "start_time": "2021-10-16T09:57:49.627Z"
   },
   {
    "duration": 49,
    "start_time": "2021-10-16T09:57:49.662Z"
   },
   {
    "duration": 46,
    "start_time": "2021-10-16T09:57:49.714Z"
   },
   {
    "duration": 30,
    "start_time": "2021-10-16T09:57:49.762Z"
   },
   {
    "duration": 16,
    "start_time": "2021-10-16T09:57:49.795Z"
   },
   {
    "duration": 683,
    "start_time": "2021-10-16T09:57:49.813Z"
   },
   {
    "duration": 4,
    "start_time": "2021-10-16T09:57:50.498Z"
   },
   {
    "duration": 60,
    "start_time": "2021-10-16T09:57:50.504Z"
   },
   {
    "duration": 133,
    "start_time": "2021-10-16T09:57:50.566Z"
   },
   {
    "duration": 503,
    "start_time": "2021-10-16T09:57:50.702Z"
   },
   {
    "duration": 632,
    "start_time": "2021-10-16T09:57:51.208Z"
   },
   {
    "duration": 504,
    "start_time": "2021-10-16T09:57:51.843Z"
   },
   {
    "duration": 429,
    "start_time": "2021-10-16T09:57:52.350Z"
   },
   {
    "duration": 21,
    "start_time": "2021-10-16T09:57:52.782Z"
   },
   {
    "duration": 29,
    "start_time": "2021-10-16T09:57:52.805Z"
   },
   {
    "duration": 62,
    "start_time": "2021-10-16T09:57:52.837Z"
   },
   {
    "duration": 340,
    "start_time": "2021-10-16T09:57:52.901Z"
   },
   {
    "duration": 16,
    "start_time": "2021-10-16T09:57:53.244Z"
   },
   {
    "duration": 43,
    "start_time": "2021-10-16T09:57:53.262Z"
   },
   {
    "duration": 1168,
    "start_time": "2021-10-16T15:26:09.965Z"
   },
   {
    "duration": 595,
    "start_time": "2021-10-16T15:26:11.135Z"
   },
   {
    "duration": 51,
    "start_time": "2021-10-16T15:26:11.732Z"
   },
   {
    "duration": 12,
    "start_time": "2021-10-16T15:26:11.785Z"
   },
   {
    "duration": 9,
    "start_time": "2021-10-16T15:26:11.799Z"
   },
   {
    "duration": 7,
    "start_time": "2021-10-16T15:26:11.810Z"
   },
   {
    "duration": 166,
    "start_time": "2021-10-16T15:26:11.819Z"
   },
   {
    "duration": 14,
    "start_time": "2021-10-16T15:26:11.986Z"
   },
   {
    "duration": 5,
    "start_time": "2021-10-16T15:26:12.003Z"
   },
   {
    "duration": 4,
    "start_time": "2021-10-16T15:26:12.010Z"
   },
   {
    "duration": 5,
    "start_time": "2021-10-16T15:26:12.015Z"
   },
   {
    "duration": 5,
    "start_time": "2021-10-16T15:26:12.076Z"
   },
   {
    "duration": 8,
    "start_time": "2021-10-16T15:26:12.083Z"
   },
   {
    "duration": 18,
    "start_time": "2021-10-16T15:26:12.093Z"
   },
   {
    "duration": 5,
    "start_time": "2021-10-16T15:26:12.112Z"
   },
   {
    "duration": 6,
    "start_time": "2021-10-16T15:26:12.118Z"
   },
   {
    "duration": 59,
    "start_time": "2021-10-16T15:26:12.126Z"
   },
   {
    "duration": 14,
    "start_time": "2021-10-16T15:26:12.186Z"
   },
   {
    "duration": 20,
    "start_time": "2021-10-16T15:26:12.202Z"
   },
   {
    "duration": 81,
    "start_time": "2021-10-16T15:26:12.224Z"
   },
   {
    "duration": 28,
    "start_time": "2021-10-16T15:26:12.307Z"
   },
   {
    "duration": 13,
    "start_time": "2021-10-16T15:26:12.337Z"
   },
   {
    "duration": 34,
    "start_time": "2021-10-16T15:26:12.352Z"
   },
   {
    "duration": 26,
    "start_time": "2021-10-16T15:26:12.387Z"
   },
   {
    "duration": 18,
    "start_time": "2021-10-16T15:26:12.415Z"
   },
   {
    "duration": 41,
    "start_time": "2021-10-16T15:26:12.435Z"
   },
   {
    "duration": 23,
    "start_time": "2021-10-16T15:26:12.480Z"
   },
   {
    "duration": 18,
    "start_time": "2021-10-16T15:26:12.506Z"
   },
   {
    "duration": 55,
    "start_time": "2021-10-16T15:26:12.526Z"
   },
   {
    "duration": 8,
    "start_time": "2021-10-16T15:26:12.583Z"
   },
   {
    "duration": 10,
    "start_time": "2021-10-16T15:26:12.592Z"
   },
   {
    "duration": 346,
    "start_time": "2021-10-16T15:26:12.604Z"
   },
   {
    "duration": 118,
    "start_time": "2021-10-16T15:26:12.951Z"
   },
   {
    "duration": -1088,
    "start_time": "2021-10-16T15:26:14.159Z"
   },
   {
    "duration": -1088,
    "start_time": "2021-10-16T15:26:14.160Z"
   },
   {
    "duration": -1088,
    "start_time": "2021-10-16T15:26:14.161Z"
   },
   {
    "duration": -1088,
    "start_time": "2021-10-16T15:26:14.163Z"
   },
   {
    "duration": -1089,
    "start_time": "2021-10-16T15:26:14.165Z"
   },
   {
    "duration": -1090,
    "start_time": "2021-10-16T15:26:14.167Z"
   },
   {
    "duration": -1090,
    "start_time": "2021-10-16T15:26:14.168Z"
   },
   {
    "duration": -1090,
    "start_time": "2021-10-16T15:26:14.169Z"
   },
   {
    "duration": -1091,
    "start_time": "2021-10-16T15:26:14.171Z"
   },
   {
    "duration": -1092,
    "start_time": "2021-10-16T15:26:14.173Z"
   },
   {
    "duration": -1092,
    "start_time": "2021-10-16T15:26:14.174Z"
   },
   {
    "duration": -1093,
    "start_time": "2021-10-16T15:26:14.176Z"
   },
   {
    "duration": 134,
    "start_time": "2021-10-16T15:26:32.407Z"
   },
   {
    "duration": 5,
    "start_time": "2021-10-16T15:26:47.975Z"
   },
   {
    "duration": 3,
    "start_time": "2021-10-16T15:27:17.481Z"
   },
   {
    "duration": 404,
    "start_time": "2021-10-16T15:27:17.486Z"
   },
   {
    "duration": 50,
    "start_time": "2021-10-16T15:27:17.892Z"
   },
   {
    "duration": 10,
    "start_time": "2021-10-16T15:27:17.944Z"
   },
   {
    "duration": 14,
    "start_time": "2021-10-16T15:27:17.955Z"
   },
   {
    "duration": 6,
    "start_time": "2021-10-16T15:27:17.977Z"
   },
   {
    "duration": 61,
    "start_time": "2021-10-16T15:27:17.985Z"
   },
   {
    "duration": 29,
    "start_time": "2021-10-16T15:27:18.048Z"
   },
   {
    "duration": 6,
    "start_time": "2021-10-16T15:27:18.080Z"
   },
   {
    "duration": 6,
    "start_time": "2021-10-16T15:27:18.087Z"
   },
   {
    "duration": 8,
    "start_time": "2021-10-16T15:27:18.094Z"
   },
   {
    "duration": 6,
    "start_time": "2021-10-16T15:27:18.104Z"
   },
   {
    "duration": 10,
    "start_time": "2021-10-16T15:27:18.111Z"
   },
   {
    "duration": 17,
    "start_time": "2021-10-16T15:27:18.123Z"
   },
   {
    "duration": 3,
    "start_time": "2021-10-16T15:27:18.142Z"
   },
   {
    "duration": 5,
    "start_time": "2021-10-16T15:27:18.147Z"
   },
   {
    "duration": 33,
    "start_time": "2021-10-16T15:27:18.154Z"
   },
   {
    "duration": 13,
    "start_time": "2021-10-16T15:27:18.189Z"
   },
   {
    "duration": 22,
    "start_time": "2021-10-16T15:27:18.204Z"
   },
   {
    "duration": 48,
    "start_time": "2021-10-16T15:27:18.228Z"
   },
   {
    "duration": 30,
    "start_time": "2021-10-16T15:27:18.278Z"
   },
   {
    "duration": 12,
    "start_time": "2021-10-16T15:27:18.310Z"
   },
   {
    "duration": 53,
    "start_time": "2021-10-16T15:27:18.324Z"
   },
   {
    "duration": 24,
    "start_time": "2021-10-16T15:27:18.378Z"
   },
   {
    "duration": 16,
    "start_time": "2021-10-16T15:27:18.403Z"
   },
   {
    "duration": 17,
    "start_time": "2021-10-16T15:27:18.476Z"
   },
   {
    "duration": 22,
    "start_time": "2021-10-16T15:27:18.497Z"
   },
   {
    "duration": 70,
    "start_time": "2021-10-16T15:27:18.521Z"
   },
   {
    "duration": 27,
    "start_time": "2021-10-16T15:27:18.592Z"
   },
   {
    "duration": 61,
    "start_time": "2021-10-16T15:27:18.620Z"
   },
   {
    "duration": 11,
    "start_time": "2021-10-16T15:27:18.682Z"
   },
   {
    "duration": 608,
    "start_time": "2021-10-16T15:27:18.694Z"
   },
   {
    "duration": 5,
    "start_time": "2021-10-16T15:27:19.304Z"
   },
   {
    "duration": 33,
    "start_time": "2021-10-16T15:27:19.310Z"
   },
   {
    "duration": 76,
    "start_time": "2021-10-16T15:27:19.344Z"
   },
   {
    "duration": 276,
    "start_time": "2021-10-16T15:27:19.422Z"
   },
   {
    "duration": 330,
    "start_time": "2021-10-16T15:27:19.699Z"
   },
   {
    "duration": 283,
    "start_time": "2021-10-16T15:27:20.031Z"
   },
   {
    "duration": 301,
    "start_time": "2021-10-16T15:27:20.315Z"
   },
   {
    "duration": 9,
    "start_time": "2021-10-16T15:27:20.618Z"
   },
   {
    "duration": 10,
    "start_time": "2021-10-16T15:27:20.629Z"
   },
   {
    "duration": 43,
    "start_time": "2021-10-16T15:27:20.641Z"
   },
   {
    "duration": 182,
    "start_time": "2021-10-16T15:27:20.686Z"
   },
   {
    "duration": 15,
    "start_time": "2021-10-16T15:27:20.870Z"
   },
   {
    "duration": 17,
    "start_time": "2021-10-16T15:27:20.886Z"
   },
   {
    "duration": 382,
    "start_time": "2021-10-16T17:43:16.560Z"
   },
   {
    "duration": 307,
    "start_time": "2021-10-16T17:43:40.737Z"
   },
   {
    "duration": 1520,
    "start_time": "2021-10-16T17:43:55.768Z"
   },
   {
    "duration": 551,
    "start_time": "2021-10-16T17:43:57.291Z"
   },
   {
    "duration": 71,
    "start_time": "2021-10-16T17:43:57.846Z"
   },
   {
    "duration": 19,
    "start_time": "2021-10-16T17:43:57.919Z"
   },
   {
    "duration": 16,
    "start_time": "2021-10-16T17:43:57.941Z"
   },
   {
    "duration": 43,
    "start_time": "2021-10-16T17:43:57.960Z"
   },
   {
    "duration": 123,
    "start_time": "2021-10-16T17:43:58.006Z"
   },
   {
    "duration": 20,
    "start_time": "2021-10-16T17:43:58.134Z"
   },
   {
    "duration": 10,
    "start_time": "2021-10-16T17:43:58.158Z"
   },
   {
    "duration": 6,
    "start_time": "2021-10-16T17:43:58.201Z"
   },
   {
    "duration": 7,
    "start_time": "2021-10-16T17:43:58.209Z"
   },
   {
    "duration": 13,
    "start_time": "2021-10-16T17:43:58.219Z"
   },
   {
    "duration": 12,
    "start_time": "2021-10-16T17:43:58.235Z"
   },
   {
    "duration": 51,
    "start_time": "2021-10-16T17:43:58.249Z"
   },
   {
    "duration": 6,
    "start_time": "2021-10-16T17:43:58.303Z"
   },
   {
    "duration": 16,
    "start_time": "2021-10-16T17:43:58.311Z"
   },
   {
    "duration": 21,
    "start_time": "2021-10-16T17:43:58.329Z"
   },
   {
    "duration": 18,
    "start_time": "2021-10-16T17:43:58.353Z"
   },
   {
    "duration": 56,
    "start_time": "2021-10-16T17:43:58.373Z"
   },
   {
    "duration": 70,
    "start_time": "2021-10-16T17:43:58.432Z"
   },
   {
    "duration": 50,
    "start_time": "2021-10-16T17:43:58.505Z"
   },
   {
    "duration": 47,
    "start_time": "2021-10-16T17:43:58.558Z"
   },
   {
    "duration": 22,
    "start_time": "2021-10-16T17:43:58.610Z"
   },
   {
    "duration": 35,
    "start_time": "2021-10-16T17:43:58.635Z"
   },
   {
    "duration": 52,
    "start_time": "2021-10-16T17:43:58.673Z"
   },
   {
    "duration": 24,
    "start_time": "2021-10-16T17:43:58.728Z"
   },
   {
    "duration": 62,
    "start_time": "2021-10-16T17:43:58.755Z"
   },
   {
    "duration": 27,
    "start_time": "2021-10-16T17:43:58.819Z"
   },
   {
    "duration": 65,
    "start_time": "2021-10-16T17:43:58.848Z"
   },
   {
    "duration": 11,
    "start_time": "2021-10-16T17:43:58.915Z"
   },
   {
    "duration": 18,
    "start_time": "2021-10-16T17:43:58.928Z"
   },
   {
    "duration": 679,
    "start_time": "2021-10-16T17:43:58.948Z"
   },
   {
    "duration": 637,
    "start_time": "2021-10-16T17:43:59.629Z"
   },
   {
    "duration": 72,
    "start_time": "2021-10-16T17:44:00.196Z"
   },
   {
    "duration": 69,
    "start_time": "2021-10-16T17:44:00.201Z"
   },
   {
    "duration": 38,
    "start_time": "2021-10-16T17:44:00.233Z"
   },
   {
    "duration": 36,
    "start_time": "2021-10-16T17:44:00.236Z"
   },
   {
    "duration": 31,
    "start_time": "2021-10-16T17:44:00.243Z"
   },
   {
    "duration": 29,
    "start_time": "2021-10-16T17:44:00.246Z"
   },
   {
    "duration": 26,
    "start_time": "2021-10-16T17:44:00.250Z"
   },
   {
    "duration": 26,
    "start_time": "2021-10-16T17:44:00.252Z"
   },
   {
    "duration": 23,
    "start_time": "2021-10-16T17:44:00.256Z"
   },
   {
    "duration": 21,
    "start_time": "2021-10-16T17:44:00.259Z"
   },
   {
    "duration": 18,
    "start_time": "2021-10-16T17:44:00.263Z"
   },
   {
    "duration": 18,
    "start_time": "2021-10-16T17:44:00.265Z"
   },
   {
    "duration": 16,
    "start_time": "2021-10-16T17:44:00.268Z"
   },
   {
    "duration": 338,
    "start_time": "2021-10-16T17:44:26.128Z"
   },
   {
    "duration": 1433,
    "start_time": "2021-10-16T17:45:03.542Z"
   },
   {
    "duration": 549,
    "start_time": "2021-10-16T17:45:04.978Z"
   },
   {
    "duration": 72,
    "start_time": "2021-10-16T17:45:05.530Z"
   },
   {
    "duration": 20,
    "start_time": "2021-10-16T17:45:05.605Z"
   },
   {
    "duration": 18,
    "start_time": "2021-10-16T17:45:05.628Z"
   },
   {
    "duration": 19,
    "start_time": "2021-10-16T17:45:05.648Z"
   },
   {
    "duration": 127,
    "start_time": "2021-10-16T17:45:05.670Z"
   },
   {
    "duration": 19,
    "start_time": "2021-10-16T17:45:05.801Z"
   },
   {
    "duration": 8,
    "start_time": "2021-10-16T17:45:05.823Z"
   },
   {
    "duration": 7,
    "start_time": "2021-10-16T17:45:05.834Z"
   },
   {
    "duration": 14,
    "start_time": "2021-10-16T17:45:05.844Z"
   },
   {
    "duration": 19,
    "start_time": "2021-10-16T17:45:05.860Z"
   },
   {
    "duration": 28,
    "start_time": "2021-10-16T17:45:05.881Z"
   },
   {
    "duration": 22,
    "start_time": "2021-10-16T17:45:05.912Z"
   },
   {
    "duration": 6,
    "start_time": "2021-10-16T17:45:05.936Z"
   },
   {
    "duration": 14,
    "start_time": "2021-10-16T17:45:05.944Z"
   },
   {
    "duration": 53,
    "start_time": "2021-10-16T17:45:05.960Z"
   },
   {
    "duration": 18,
    "start_time": "2021-10-16T17:45:06.015Z"
   },
   {
    "duration": 36,
    "start_time": "2021-10-16T17:45:06.036Z"
   },
   {
    "duration": 66,
    "start_time": "2021-10-16T17:45:06.075Z"
   },
   {
    "duration": 65,
    "start_time": "2021-10-16T17:45:06.143Z"
   },
   {
    "duration": 21,
    "start_time": "2021-10-16T17:45:06.211Z"
   },
   {
    "duration": 20,
    "start_time": "2021-10-16T17:45:06.236Z"
   },
   {
    "duration": 63,
    "start_time": "2021-10-16T17:45:06.259Z"
   },
   {
    "duration": 28,
    "start_time": "2021-10-16T17:45:06.325Z"
   },
   {
    "duration": 46,
    "start_time": "2021-10-16T17:45:06.356Z"
   },
   {
    "duration": 33,
    "start_time": "2021-10-16T17:45:06.404Z"
   },
   {
    "duration": 28,
    "start_time": "2021-10-16T17:45:06.439Z"
   },
   {
    "duration": 75,
    "start_time": "2021-10-16T17:45:06.469Z"
   },
   {
    "duration": 12,
    "start_time": "2021-10-16T17:45:06.546Z"
   },
   {
    "duration": 22,
    "start_time": "2021-10-16T17:45:06.560Z"
   },
   {
    "duration": 689,
    "start_time": "2021-10-16T17:45:06.601Z"
   },
   {
    "duration": 516,
    "start_time": "2021-10-16T17:45:07.292Z"
   },
   {
    "duration": 62,
    "start_time": "2021-10-16T17:45:07.748Z"
   },
   {
    "duration": 60,
    "start_time": "2021-10-16T17:45:07.752Z"
   },
   {
    "duration": 59,
    "start_time": "2021-10-16T17:45:07.755Z"
   },
   {
    "duration": 53,
    "start_time": "2021-10-16T17:45:07.763Z"
   },
   {
    "duration": 33,
    "start_time": "2021-10-16T17:45:07.786Z"
   },
   {
    "duration": 32,
    "start_time": "2021-10-16T17:45:07.789Z"
   },
   {
    "duration": 31,
    "start_time": "2021-10-16T17:45:07.792Z"
   },
   {
    "duration": 30,
    "start_time": "2021-10-16T17:45:07.795Z"
   },
   {
    "duration": 28,
    "start_time": "2021-10-16T17:45:07.799Z"
   },
   {
    "duration": 25,
    "start_time": "2021-10-16T17:45:07.804Z"
   },
   {
    "duration": 14,
    "start_time": "2021-10-16T17:45:07.817Z"
   },
   {
    "duration": 13,
    "start_time": "2021-10-16T17:45:07.821Z"
   },
   {
    "duration": 13,
    "start_time": "2021-10-16T17:45:07.823Z"
   },
   {
    "duration": 312,
    "start_time": "2021-10-16T17:49:40.361Z"
   },
   {
    "duration": 1649,
    "start_time": "2021-10-16T17:54:27.664Z"
   },
   {
    "duration": 549,
    "start_time": "2021-10-16T17:54:29.316Z"
   },
   {
    "duration": 72,
    "start_time": "2021-10-16T17:54:29.869Z"
   },
   {
    "duration": 22,
    "start_time": "2021-10-16T17:54:29.944Z"
   },
   {
    "duration": 44,
    "start_time": "2021-10-16T17:54:29.969Z"
   },
   {
    "duration": 12,
    "start_time": "2021-10-16T17:54:30.016Z"
   },
   {
    "duration": 126,
    "start_time": "2021-10-16T17:54:30.031Z"
   },
   {
    "duration": 19,
    "start_time": "2021-10-16T17:54:30.161Z"
   },
   {
    "duration": 23,
    "start_time": "2021-10-16T17:54:30.183Z"
   },
   {
    "duration": 5,
    "start_time": "2021-10-16T17:54:30.208Z"
   },
   {
    "duration": 9,
    "start_time": "2021-10-16T17:54:30.215Z"
   },
   {
    "duration": 12,
    "start_time": "2021-10-16T17:54:30.226Z"
   },
   {
    "duration": 14,
    "start_time": "2021-10-16T17:54:30.240Z"
   },
   {
    "duration": 53,
    "start_time": "2021-10-16T17:54:30.256Z"
   },
   {
    "duration": 6,
    "start_time": "2021-10-16T17:54:30.312Z"
   },
   {
    "duration": 14,
    "start_time": "2021-10-16T17:54:30.320Z"
   },
   {
    "duration": 28,
    "start_time": "2021-10-16T17:54:30.337Z"
   },
   {
    "duration": 40,
    "start_time": "2021-10-16T17:54:30.367Z"
   },
   {
    "duration": 50,
    "start_time": "2021-10-16T17:54:30.409Z"
   },
   {
    "duration": 86,
    "start_time": "2021-10-16T17:54:30.462Z"
   },
   {
    "duration": 55,
    "start_time": "2021-10-16T17:54:30.551Z"
   },
   {
    "duration": 22,
    "start_time": "2021-10-16T17:54:30.609Z"
   },
   {
    "duration": 21,
    "start_time": "2021-10-16T17:54:30.636Z"
   },
   {
    "duration": 66,
    "start_time": "2021-10-16T17:54:30.660Z"
   },
   {
    "duration": 28,
    "start_time": "2021-10-16T17:54:30.728Z"
   },
   {
    "duration": 44,
    "start_time": "2021-10-16T17:54:30.759Z"
   },
   {
    "duration": 35,
    "start_time": "2021-10-16T17:54:30.805Z"
   },
   {
    "duration": 28,
    "start_time": "2021-10-16T17:54:30.843Z"
   },
   {
    "duration": 73,
    "start_time": "2021-10-16T17:54:30.873Z"
   },
   {
    "duration": 11,
    "start_time": "2021-10-16T17:54:30.949Z"
   },
   {
    "duration": 39,
    "start_time": "2021-10-16T17:54:30.962Z"
   },
   {
    "duration": 701,
    "start_time": "2021-10-16T17:54:31.004Z"
   },
   {
    "duration": 8,
    "start_time": "2021-10-16T17:54:31.707Z"
   },
   {
    "duration": 62,
    "start_time": "2021-10-16T17:54:31.717Z"
   },
   {
    "duration": 119,
    "start_time": "2021-10-16T17:54:31.782Z"
   },
   {
    "duration": 511,
    "start_time": "2021-10-16T17:54:31.904Z"
   },
   {
    "duration": 654,
    "start_time": "2021-10-16T17:54:32.417Z"
   },
   {
    "duration": 516,
    "start_time": "2021-10-16T17:54:33.073Z"
   },
   {
    "duration": 436,
    "start_time": "2021-10-16T17:54:33.591Z"
   },
   {
    "duration": 15,
    "start_time": "2021-10-16T17:54:34.030Z"
   },
   {
    "duration": 18,
    "start_time": "2021-10-16T17:54:34.048Z"
   },
   {
    "duration": 70,
    "start_time": "2021-10-16T17:54:34.068Z"
   },
   {
    "duration": 353,
    "start_time": "2021-10-16T17:54:34.141Z"
   },
   {
    "duration": 15,
    "start_time": "2021-10-16T17:54:34.497Z"
   },
   {
    "duration": 20,
    "start_time": "2021-10-16T17:54:34.515Z"
   },
   {
    "duration": 1430,
    "start_time": "2021-10-16T17:57:38.443Z"
   },
   {
    "duration": 691,
    "start_time": "2021-10-16T17:57:39.877Z"
   },
   {
    "duration": 71,
    "start_time": "2021-10-16T17:57:40.571Z"
   },
   {
    "duration": 20,
    "start_time": "2021-10-16T17:57:40.645Z"
   },
   {
    "duration": 35,
    "start_time": "2021-10-16T17:57:40.667Z"
   },
   {
    "duration": 12,
    "start_time": "2021-10-16T17:57:40.704Z"
   },
   {
    "duration": 126,
    "start_time": "2021-10-16T17:57:40.718Z"
   },
   {
    "duration": 20,
    "start_time": "2021-10-16T17:57:40.847Z"
   },
   {
    "duration": 8,
    "start_time": "2021-10-16T17:57:40.870Z"
   },
   {
    "duration": 5,
    "start_time": "2021-10-16T17:57:40.901Z"
   },
   {
    "duration": 8,
    "start_time": "2021-10-16T17:57:40.908Z"
   },
   {
    "duration": 7,
    "start_time": "2021-10-16T17:57:40.918Z"
   },
   {
    "duration": 12,
    "start_time": "2021-10-16T17:57:40.928Z"
   },
   {
    "duration": 21,
    "start_time": "2021-10-16T17:57:40.942Z"
   },
   {
    "duration": 6,
    "start_time": "2021-10-16T17:57:41.001Z"
   },
   {
    "duration": 9,
    "start_time": "2021-10-16T17:57:41.009Z"
   },
   {
    "duration": 19,
    "start_time": "2021-10-16T17:57:41.020Z"
   },
   {
    "duration": 18,
    "start_time": "2021-10-16T17:57:41.041Z"
   },
   {
    "duration": 59,
    "start_time": "2021-10-16T17:57:41.061Z"
   },
   {
    "duration": 44,
    "start_time": "2021-10-16T17:57:41.122Z"
   },
   {
    "duration": 69,
    "start_time": "2021-10-16T17:57:41.169Z"
   },
   {
    "duration": 21,
    "start_time": "2021-10-16T17:57:41.240Z"
   },
   {
    "duration": 48,
    "start_time": "2021-10-16T17:57:41.266Z"
   },
   {
    "duration": 36,
    "start_time": "2021-10-16T17:57:41.317Z"
   },
   {
    "duration": 47,
    "start_time": "2021-10-16T17:57:41.355Z"
   },
   {
    "duration": 23,
    "start_time": "2021-10-16T17:57:41.404Z"
   },
   {
    "duration": 32,
    "start_time": "2021-10-16T17:57:41.429Z"
   },
   {
    "duration": 54,
    "start_time": "2021-10-16T17:57:41.464Z"
   },
   {
    "duration": 48,
    "start_time": "2021-10-16T17:57:41.521Z"
   },
   {
    "duration": 38,
    "start_time": "2021-10-16T17:57:41.573Z"
   },
   {
    "duration": 14,
    "start_time": "2021-10-16T17:57:41.614Z"
   },
   {
    "duration": 682,
    "start_time": "2021-10-16T17:57:41.631Z"
   },
   {
    "duration": 7,
    "start_time": "2021-10-16T17:57:42.315Z"
   },
   {
    "duration": 57,
    "start_time": "2021-10-16T17:57:42.325Z"
   },
   {
    "duration": 131,
    "start_time": "2021-10-16T17:57:42.385Z"
   },
   {
    "duration": 609,
    "start_time": "2021-10-16T17:57:42.519Z"
   },
   {
    "duration": 620,
    "start_time": "2021-10-16T17:57:43.130Z"
   },
   {
    "duration": 506,
    "start_time": "2021-10-16T17:57:43.753Z"
   },
   {
    "duration": 413,
    "start_time": "2021-10-16T17:57:44.261Z"
   },
   {
    "duration": 27,
    "start_time": "2021-10-16T17:57:44.677Z"
   },
   {
    "duration": 18,
    "start_time": "2021-10-16T17:57:44.706Z"
   },
   {
    "duration": 43,
    "start_time": "2021-10-16T17:57:44.726Z"
   },
   {
    "duration": 345,
    "start_time": "2021-10-16T17:57:44.800Z"
   },
   {
    "duration": 14,
    "start_time": "2021-10-16T17:57:45.148Z"
   },
   {
    "duration": 42,
    "start_time": "2021-10-16T17:57:45.164Z"
   }
  ],
  "kernelspec": {
   "display_name": "Python 3 (ipykernel)",
   "language": "python",
   "name": "python3"
  },
  "language_info": {
   "codemirror_mode": {
    "name": "ipython",
    "version": 3
   },
   "file_extension": ".py",
   "mimetype": "text/x-python",
   "name": "python",
   "nbconvert_exporter": "python",
   "pygments_lexer": "ipython3",
   "version": "3.8.13"
  },
  "toc": {
   "base_numbering": 1,
   "nav_menu": {},
   "number_sections": true,
   "sideBar": true,
   "skip_h1_title": true,
   "title_cell": "Table of Contents",
   "title_sidebar": "Contents",
   "toc_cell": false,
   "toc_position": {
    "height": "calc(100% - 180px)",
    "left": "10px",
    "top": "150px",
    "width": "226px"
   },
   "toc_section_display": true,
   "toc_window_display": true
  }
 },
 "nbformat": 4,
 "nbformat_minor": 2
}
